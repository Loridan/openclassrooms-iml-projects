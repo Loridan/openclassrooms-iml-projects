{
 "cells": [
  {
   "cell_type": "markdown",
   "metadata": {},
   "source": [
    "# 1 - analyse exploratoire des données (non cleané)\n",
    "---"
   ]
  },
  {
   "cell_type": "markdown",
   "metadata": {},
   "source": [
    "**Schéma de la base de données Olist**"
   ]
  },
  {
   "cell_type": "markdown",
   "metadata": {},
   "source": [
    "![Data schema](https://i.imgur.com/HRhd2Y0.png)"
   ]
  },
  {
   "cell_type": "markdown",
   "metadata": {},
   "source": [
    "**Imports des données**"
   ]
  },
  {
   "cell_type": "code",
   "execution_count": 1,
   "metadata": {},
   "outputs": [],
   "source": [
    "import datetime as dt\n",
    "import numpy as np\n",
    "import json\n",
    "import pprint\n",
    "import pandas as pd\n",
    "import matplotlib.pyplot as plt\n",
    "import seaborn as sns\n",
    "from scipy import stats\n",
    "\n",
    "df_customers = pd.read_csv(\"data/olist_customers_dataset.csv\")\n",
    "df_geolocalisation = pd.read_csv(\"data/olist_geolocation_dataset.csv\")\n",
    "df_order_items = pd.read_csv(\"data/olist_order_items_dataset.csv\")\n",
    "df_order_payments = pd.read_csv(\"data/olist_order_payments_dataset.csv\")\n",
    "df_order_reviews = pd.read_csv(\"data/olist_order_reviews_dataset.csv\")\n",
    "df_orders = pd.read_csv(\"data/olist_orders_dataset.csv\")\n",
    "df_products = pd.read_csv(\"data/olist_products_dataset.csv\")\n",
    "df_sellers = pd.read_csv(\"data/olist_sellers_dataset.csv\")\n",
    "df_translation = pd.read_csv(\"data/product_category_name_translation.csv\")"
   ]
  },
  {
   "cell_type": "markdown",
   "metadata": {},
   "source": [
    "**import fonctions pour exploration**"
   ]
  },
  {
   "cell_type": "code",
   "execution_count": 2,
   "metadata": {},
   "outputs": [],
   "source": [
    "from math import ceil, sqrt, floor, pow\n",
    "\n",
    "\n",
    "# Retourne un nombre x  de couleurs avec un espacement homogene contenus dans une colormap\n",
    "def get_colors_from_listedcolormap(colormap, x):\n",
    "    colors = []\n",
    "    for i in range(0, x):\n",
    "        if x < 2:\n",
    "            y = 1\n",
    "        else:\n",
    "            y = i / (x - 1)\n",
    "        colors.append(COLORMAP.colors[floor((COLORMAP.N - 1) * y)])\n",
    "    return colors\n",
    "\n",
    "\n",
    "# Retourne l'ensemble des labels du dataframe pour un certain dtype\n",
    "def get_set_of_labels(dataframe, dtype):\n",
    "    return {index for index, value in dataframe.dtypes.items() if value == dtype}\n",
    "\n",
    "\n",
    "# Genere une grille carrée d'histogramme pour chaque variables de type dtype\n",
    "def plot_sghisto(dataframe, dtype, color=\"\", max_items=100, labels=[], title=\"\"):\n",
    "    if not labels:\n",
    "        if dtype == \"all\":\n",
    "            labels = dataframe.columns.values\n",
    "        elif dtype == \"numbers\":\n",
    "            labels = get_set_of_labels(dataframe, \"float64\")\n",
    "            labels = labels.union(get_set_of_labels(dataframe, \"int64\"))\n",
    "        else:\n",
    "            labels = get_set_of_labels(dataframe, dtype)\n",
    "\n",
    "    labels_length = len(labels)\n",
    "    dimension = ceil(sqrt(labels_length))\n",
    "    dimension2 = int(pow(dimension, 2))\n",
    "    fig, axs = plt.subplots(dimension, dimension, figsize=(30, 30))\n",
    "    fig.suptitle(title, fontsize=32, x=0.5, y=0.95)\n",
    "\n",
    "    for i, value in enumerate(labels, start=0):\n",
    "        x = floor(i / dimension)\n",
    "        y = i - x * dimension\n",
    "        if dataframe[value].dtype == \"object\":\n",
    "            df_index = dataframe[value].value_counts().index[:max_items]\n",
    "            df_temp = dataframe[dataframe[value].isin(df_index.values)]\n",
    "            sns.histplot(\n",
    "                data=df_temp, x=value, color=color, discrete=True, ax=axs[x, y]\n",
    "            )\n",
    "            ax = axs[x, y]\n",
    "            ax.set_xticklabels([])\n",
    "        if dataframe[value].dtype == \"float64\" or dataframe[value].dtype == \"int64\":\n",
    "            sns.histplot(data=dataframe, x=value, color=color, ax=axs[x, y])\n",
    "        ax = axs[x, y]\n",
    "        ax.set_xlabel(f\"{value[0:15]}\", fontdict={\"fontsize\": 18})\n",
    "        ax.set_ylabel(\"\")\n",
    "\n",
    "    if dimension2 > labels_length:\n",
    "        for i in range(labels_length, dimension2):\n",
    "            x = floor(i / dimension)\n",
    "            y = i - x * dimension\n",
    "            axs[x, y].remove()\n",
    "\n",
    "\n",
    "# Mes couleurs\n",
    "COLORMAP = sns.color_palette(\"plasma\", as_cmap=True)\n",
    "COLORS = get_colors_from_listedcolormap(COLORMAP, 5)\n",
    "COLOR_PRIMARY = COLORS[0]\n",
    "COLOR_SECONDARY = COLORS[1]\n",
    "COLOR_TERTIARY = COLORS[4]\n",
    "COLOR_QUATERNARY = COLORS[2]\n",
    "COLOR_QUINARY = COLORS[3]"
   ]
  },
  {
   "cell_type": "markdown",
   "metadata": {},
   "source": [
    "**Parametres divers**"
   ]
  },
  {
   "cell_type": "code",
   "execution_count": 3,
   "metadata": {},
   "outputs": [],
   "source": [
    "pd.set_option(\"display.max_columns\", 50)\n",
    "pd.set_option(\"display.max_rows\", 50)\n",
    "pd.set_option(\"display.max_colwidth\", 100)\n",
    "pd.set_option(\"precision\", 3)"
   ]
  },
  {
   "cell_type": "markdown",
   "metadata": {},
   "source": [
    "**Observer les données**"
   ]
  },
  {
   "cell_type": "code",
   "execution_count": 4,
   "metadata": {},
   "outputs": [
    {
     "data": {
      "text/html": [
       "<div>\n",
       "<style scoped>\n",
       "    .dataframe tbody tr th:only-of-type {\n",
       "        vertical-align: middle;\n",
       "    }\n",
       "\n",
       "    .dataframe tbody tr th {\n",
       "        vertical-align: top;\n",
       "    }\n",
       "\n",
       "    .dataframe thead th {\n",
       "        text-align: right;\n",
       "    }\n",
       "</style>\n",
       "<table border=\"1\" class=\"dataframe\">\n",
       "  <thead>\n",
       "    <tr style=\"text-align: right;\">\n",
       "      <th></th>\n",
       "      <th>customer_id</th>\n",
       "      <th>customer_unique_id</th>\n",
       "      <th>customer_zip_code_prefix</th>\n",
       "      <th>customer_city</th>\n",
       "      <th>customer_state</th>\n",
       "    </tr>\n",
       "  </thead>\n",
       "  <tbody>\n",
       "    <tr>\n",
       "      <th>46673</th>\n",
       "      <td>3a0ecfe52b994b2589fb52ced98d8166</td>\n",
       "      <td>94c2f59eee91ed7c2ad08b0766c49b87</td>\n",
       "      <td>95080</td>\n",
       "      <td>caxias do sul</td>\n",
       "      <td>RS</td>\n",
       "    </tr>\n",
       "    <tr>\n",
       "      <th>18193</th>\n",
       "      <td>618b8a8069f55d05ad5f1ccc488afa5e</td>\n",
       "      <td>689769aefadcc56d72a8b76866387dad</td>\n",
       "      <td>71917</td>\n",
       "      <td>brasilia</td>\n",
       "      <td>DF</td>\n",
       "    </tr>\n",
       "    <tr>\n",
       "      <th>7153</th>\n",
       "      <td>7b9cd81f72142c9bb51ad110f4fb3b08</td>\n",
       "      <td>8725487bfe51837080dd0887c7249db2</td>\n",
       "      <td>95555</td>\n",
       "      <td>capao da canoa</td>\n",
       "      <td>RS</td>\n",
       "    </tr>\n",
       "    <tr>\n",
       "      <th>2452</th>\n",
       "      <td>67372e0bce729cebb559886b6c4d9e2e</td>\n",
       "      <td>c9fff85f2617b8e1a78142aa11ee962f</td>\n",
       "      <td>16057</td>\n",
       "      <td>aracatuba</td>\n",
       "      <td>SP</td>\n",
       "    </tr>\n",
       "    <tr>\n",
       "      <th>76145</th>\n",
       "      <td>80fce2f155c56d38186ae276a2280006</td>\n",
       "      <td>a854d3a1f68d104777314631772349f4</td>\n",
       "      <td>35164</td>\n",
       "      <td>ipatinga</td>\n",
       "      <td>MG</td>\n",
       "    </tr>\n",
       "  </tbody>\n",
       "</table>\n",
       "</div>"
      ],
      "text/plain": [
       "                            customer_id                customer_unique_id  \\\n",
       "46673  3a0ecfe52b994b2589fb52ced98d8166  94c2f59eee91ed7c2ad08b0766c49b87   \n",
       "18193  618b8a8069f55d05ad5f1ccc488afa5e  689769aefadcc56d72a8b76866387dad   \n",
       "7153   7b9cd81f72142c9bb51ad110f4fb3b08  8725487bfe51837080dd0887c7249db2   \n",
       "2452   67372e0bce729cebb559886b6c4d9e2e  c9fff85f2617b8e1a78142aa11ee962f   \n",
       "76145  80fce2f155c56d38186ae276a2280006  a854d3a1f68d104777314631772349f4   \n",
       "\n",
       "       customer_zip_code_prefix   customer_city customer_state  \n",
       "46673                     95080   caxias do sul             RS  \n",
       "18193                     71917        brasilia             DF  \n",
       "7153                      95555  capao da canoa             RS  \n",
       "2452                      16057       aracatuba             SP  \n",
       "76145                     35164        ipatinga             MG  "
      ]
     },
     "execution_count": 4,
     "metadata": {},
     "output_type": "execute_result"
    }
   ],
   "source": [
    "df_customers.sample(5)"
   ]
  },
  {
   "cell_type": "code",
   "execution_count": 5,
   "metadata": {},
   "outputs": [
    {
     "data": {
      "text/html": [
       "<div>\n",
       "<style scoped>\n",
       "    .dataframe tbody tr th:only-of-type {\n",
       "        vertical-align: middle;\n",
       "    }\n",
       "\n",
       "    .dataframe tbody tr th {\n",
       "        vertical-align: top;\n",
       "    }\n",
       "\n",
       "    .dataframe thead th {\n",
       "        text-align: right;\n",
       "    }\n",
       "</style>\n",
       "<table border=\"1\" class=\"dataframe\">\n",
       "  <thead>\n",
       "    <tr style=\"text-align: right;\">\n",
       "      <th></th>\n",
       "      <th>geolocation_zip_code_prefix</th>\n",
       "      <th>geolocation_lat</th>\n",
       "      <th>geolocation_lng</th>\n",
       "      <th>geolocation_city</th>\n",
       "      <th>geolocation_state</th>\n",
       "    </tr>\n",
       "  </thead>\n",
       "  <tbody>\n",
       "    <tr>\n",
       "      <th>735038</th>\n",
       "      <td>59075</td>\n",
       "      <td>-5.825</td>\n",
       "      <td>-35.211</td>\n",
       "      <td>natal</td>\n",
       "      <td>RN</td>\n",
       "    </tr>\n",
       "    <tr>\n",
       "      <th>161083</th>\n",
       "      <td>6440</td>\n",
       "      <td>-23.513</td>\n",
       "      <td>-46.860</td>\n",
       "      <td>barueri</td>\n",
       "      <td>SP</td>\n",
       "    </tr>\n",
       "    <tr>\n",
       "      <th>418496</th>\n",
       "      <td>20745</td>\n",
       "      <td>-22.904</td>\n",
       "      <td>-43.307</td>\n",
       "      <td>rio de janeiro</td>\n",
       "      <td>RJ</td>\n",
       "    </tr>\n",
       "    <tr>\n",
       "      <th>286875</th>\n",
       "      <td>13092</td>\n",
       "      <td>-22.889</td>\n",
       "      <td>-47.022</td>\n",
       "      <td>campinas</td>\n",
       "      <td>SP</td>\n",
       "    </tr>\n",
       "    <tr>\n",
       "      <th>287331</th>\n",
       "      <td>13070</td>\n",
       "      <td>-22.902</td>\n",
       "      <td>-47.078</td>\n",
       "      <td>campinas</td>\n",
       "      <td>SP</td>\n",
       "    </tr>\n",
       "  </tbody>\n",
       "</table>\n",
       "</div>"
      ],
      "text/plain": [
       "        geolocation_zip_code_prefix  geolocation_lat  geolocation_lng  \\\n",
       "735038                        59075           -5.825          -35.211   \n",
       "161083                         6440          -23.513          -46.860   \n",
       "418496                        20745          -22.904          -43.307   \n",
       "286875                        13092          -22.889          -47.022   \n",
       "287331                        13070          -22.902          -47.078   \n",
       "\n",
       "       geolocation_city geolocation_state  \n",
       "735038            natal                RN  \n",
       "161083          barueri                SP  \n",
       "418496   rio de janeiro                RJ  \n",
       "286875         campinas                SP  \n",
       "287331         campinas                SP  "
      ]
     },
     "execution_count": 5,
     "metadata": {},
     "output_type": "execute_result"
    }
   ],
   "source": [
    "df_geolocalisation.sample(5)"
   ]
  },
  {
   "cell_type": "code",
   "execution_count": 6,
   "metadata": {},
   "outputs": [
    {
     "data": {
      "text/html": [
       "<div>\n",
       "<style scoped>\n",
       "    .dataframe tbody tr th:only-of-type {\n",
       "        vertical-align: middle;\n",
       "    }\n",
       "\n",
       "    .dataframe tbody tr th {\n",
       "        vertical-align: top;\n",
       "    }\n",
       "\n",
       "    .dataframe thead th {\n",
       "        text-align: right;\n",
       "    }\n",
       "</style>\n",
       "<table border=\"1\" class=\"dataframe\">\n",
       "  <thead>\n",
       "    <tr style=\"text-align: right;\">\n",
       "      <th></th>\n",
       "      <th>order_id</th>\n",
       "      <th>order_item_id</th>\n",
       "      <th>product_id</th>\n",
       "      <th>seller_id</th>\n",
       "      <th>shipping_limit_date</th>\n",
       "      <th>price</th>\n",
       "      <th>freight_value</th>\n",
       "    </tr>\n",
       "  </thead>\n",
       "  <tbody>\n",
       "    <tr>\n",
       "      <th>52806</th>\n",
       "      <td>782c3666584e68ee1fe25859e30cfbe8</td>\n",
       "      <td>2</td>\n",
       "      <td>6d33559681ad82d2e835b1cb587d2ce3</td>\n",
       "      <td>0bae85eb84b9fb3bd773911e89288d54</td>\n",
       "      <td>2017-08-01 16:15:21</td>\n",
       "      <td>35.12</td>\n",
       "      <td>16.11</td>\n",
       "    </tr>\n",
       "    <tr>\n",
       "      <th>55658</th>\n",
       "      <td>7e8a488126f108bf5841a1bc1dd2c762</td>\n",
       "      <td>1</td>\n",
       "      <td>cb3837fe99e4b92c4082faf8fb6f75ba</td>\n",
       "      <td>4e922959ae960d389249c378d1c939f5</td>\n",
       "      <td>2017-11-30 20:53:42</td>\n",
       "      <td>69.00</td>\n",
       "      <td>15.23</td>\n",
       "    </tr>\n",
       "    <tr>\n",
       "      <th>44873</th>\n",
       "      <td>660cb47a0b4b671c86901a47f7dbc91c</td>\n",
       "      <td>1</td>\n",
       "      <td>052413504e5295cd66ec4ced0b310062</td>\n",
       "      <td>4869f7a5dfa277a7dca6462dcf3b52b2</td>\n",
       "      <td>2018-03-16 14:15:40</td>\n",
       "      <td>179.00</td>\n",
       "      <td>19.13</td>\n",
       "    </tr>\n",
       "    <tr>\n",
       "      <th>76265</th>\n",
       "      <td>ada8c993c9ef5f3e6705c9ea4af1a1d9</td>\n",
       "      <td>1</td>\n",
       "      <td>530989bc6eff4420c49a84214ab1eb51</td>\n",
       "      <td>eebb3372362aa9a46975164bed19a7e7</td>\n",
       "      <td>2017-04-28 13:50:22</td>\n",
       "      <td>73.99</td>\n",
       "      <td>8.89</td>\n",
       "    </tr>\n",
       "    <tr>\n",
       "      <th>72468</th>\n",
       "      <td>a5477627582780f6c347026e9c8ae0eb</td>\n",
       "      <td>1</td>\n",
       "      <td>bce474cc95b6e77657e10939b0b4248c</td>\n",
       "      <td>7d13fca15225358621be4086e1eb0964</td>\n",
       "      <td>2018-08-21 15:04:53</td>\n",
       "      <td>146.00</td>\n",
       "      <td>12.08</td>\n",
       "    </tr>\n",
       "  </tbody>\n",
       "</table>\n",
       "</div>"
      ],
      "text/plain": [
       "                               order_id  order_item_id  \\\n",
       "52806  782c3666584e68ee1fe25859e30cfbe8              2   \n",
       "55658  7e8a488126f108bf5841a1bc1dd2c762              1   \n",
       "44873  660cb47a0b4b671c86901a47f7dbc91c              1   \n",
       "76265  ada8c993c9ef5f3e6705c9ea4af1a1d9              1   \n",
       "72468  a5477627582780f6c347026e9c8ae0eb              1   \n",
       "\n",
       "                             product_id                         seller_id  \\\n",
       "52806  6d33559681ad82d2e835b1cb587d2ce3  0bae85eb84b9fb3bd773911e89288d54   \n",
       "55658  cb3837fe99e4b92c4082faf8fb6f75ba  4e922959ae960d389249c378d1c939f5   \n",
       "44873  052413504e5295cd66ec4ced0b310062  4869f7a5dfa277a7dca6462dcf3b52b2   \n",
       "76265  530989bc6eff4420c49a84214ab1eb51  eebb3372362aa9a46975164bed19a7e7   \n",
       "72468  bce474cc95b6e77657e10939b0b4248c  7d13fca15225358621be4086e1eb0964   \n",
       "\n",
       "       shipping_limit_date   price  freight_value  \n",
       "52806  2017-08-01 16:15:21   35.12          16.11  \n",
       "55658  2017-11-30 20:53:42   69.00          15.23  \n",
       "44873  2018-03-16 14:15:40  179.00          19.13  \n",
       "76265  2017-04-28 13:50:22   73.99           8.89  \n",
       "72468  2018-08-21 15:04:53  146.00          12.08  "
      ]
     },
     "execution_count": 6,
     "metadata": {},
     "output_type": "execute_result"
    }
   ],
   "source": [
    "df_order_items.sample(5)"
   ]
  },
  {
   "cell_type": "code",
   "execution_count": 7,
   "metadata": {},
   "outputs": [
    {
     "data": {
      "text/html": [
       "<div>\n",
       "<style scoped>\n",
       "    .dataframe tbody tr th:only-of-type {\n",
       "        vertical-align: middle;\n",
       "    }\n",
       "\n",
       "    .dataframe tbody tr th {\n",
       "        vertical-align: top;\n",
       "    }\n",
       "\n",
       "    .dataframe thead th {\n",
       "        text-align: right;\n",
       "    }\n",
       "</style>\n",
       "<table border=\"1\" class=\"dataframe\">\n",
       "  <thead>\n",
       "    <tr style=\"text-align: right;\">\n",
       "      <th></th>\n",
       "      <th>order_id</th>\n",
       "      <th>payment_sequential</th>\n",
       "      <th>payment_type</th>\n",
       "      <th>payment_installments</th>\n",
       "      <th>payment_value</th>\n",
       "    </tr>\n",
       "  </thead>\n",
       "  <tbody>\n",
       "    <tr>\n",
       "      <th>9788</th>\n",
       "      <td>b1629139e38e77931c032720fff0c091</td>\n",
       "      <td>1</td>\n",
       "      <td>boleto</td>\n",
       "      <td>1</td>\n",
       "      <td>27.68</td>\n",
       "    </tr>\n",
       "    <tr>\n",
       "      <th>59801</th>\n",
       "      <td>dde5f036dff77c8687173aee04967268</td>\n",
       "      <td>1</td>\n",
       "      <td>credit_card</td>\n",
       "      <td>1</td>\n",
       "      <td>35.42</td>\n",
       "    </tr>\n",
       "    <tr>\n",
       "      <th>37201</th>\n",
       "      <td>77f786b616f184da30df78a7eb228d92</td>\n",
       "      <td>1</td>\n",
       "      <td>credit_card</td>\n",
       "      <td>1</td>\n",
       "      <td>27.30</td>\n",
       "    </tr>\n",
       "    <tr>\n",
       "      <th>99315</th>\n",
       "      <td>65a6146689b83878d498e1a7d03782c7</td>\n",
       "      <td>1</td>\n",
       "      <td>credit_card</td>\n",
       "      <td>4</td>\n",
       "      <td>86.73</td>\n",
       "    </tr>\n",
       "    <tr>\n",
       "      <th>49003</th>\n",
       "      <td>4e78772384a49c0cb9ec6c49530a98de</td>\n",
       "      <td>1</td>\n",
       "      <td>credit_card</td>\n",
       "      <td>1</td>\n",
       "      <td>76.87</td>\n",
       "    </tr>\n",
       "  </tbody>\n",
       "</table>\n",
       "</div>"
      ],
      "text/plain": [
       "                               order_id  payment_sequential payment_type  \\\n",
       "9788   b1629139e38e77931c032720fff0c091                   1       boleto   \n",
       "59801  dde5f036dff77c8687173aee04967268                   1  credit_card   \n",
       "37201  77f786b616f184da30df78a7eb228d92                   1  credit_card   \n",
       "99315  65a6146689b83878d498e1a7d03782c7                   1  credit_card   \n",
       "49003  4e78772384a49c0cb9ec6c49530a98de                   1  credit_card   \n",
       "\n",
       "       payment_installments  payment_value  \n",
       "9788                      1          27.68  \n",
       "59801                     1          35.42  \n",
       "37201                     1          27.30  \n",
       "99315                     4          86.73  \n",
       "49003                     1          76.87  "
      ]
     },
     "execution_count": 7,
     "metadata": {},
     "output_type": "execute_result"
    }
   ],
   "source": [
    "df_order_payments.sample(5)"
   ]
  },
  {
   "cell_type": "code",
   "execution_count": 8,
   "metadata": {},
   "outputs": [
    {
     "data": {
      "text/html": [
       "<div>\n",
       "<style scoped>\n",
       "    .dataframe tbody tr th:only-of-type {\n",
       "        vertical-align: middle;\n",
       "    }\n",
       "\n",
       "    .dataframe tbody tr th {\n",
       "        vertical-align: top;\n",
       "    }\n",
       "\n",
       "    .dataframe thead th {\n",
       "        text-align: right;\n",
       "    }\n",
       "</style>\n",
       "<table border=\"1\" class=\"dataframe\">\n",
       "  <thead>\n",
       "    <tr style=\"text-align: right;\">\n",
       "      <th></th>\n",
       "      <th>review_id</th>\n",
       "      <th>order_id</th>\n",
       "      <th>review_score</th>\n",
       "      <th>review_comment_title</th>\n",
       "      <th>review_comment_message</th>\n",
       "      <th>review_creation_date</th>\n",
       "      <th>review_answer_timestamp</th>\n",
       "    </tr>\n",
       "  </thead>\n",
       "  <tbody>\n",
       "    <tr>\n",
       "      <th>38201</th>\n",
       "      <td>73b02ff4a93202520d38e5e20cb5859b</td>\n",
       "      <td>1f4c55439dfb0750759521284d322815</td>\n",
       "      <td>2</td>\n",
       "      <td>NaN</td>\n",
       "      <td>Tanque de água não tem uma trava quando é posto sobre a base do umidificador, fica solto, vem co...</td>\n",
       "      <td>2017-10-14 00:00:00</td>\n",
       "      <td>2017-10-15 02:25:44</td>\n",
       "    </tr>\n",
       "    <tr>\n",
       "      <th>87911</th>\n",
       "      <td>fbfa6533e7d2680ba2c2e049b7ef8c0d</td>\n",
       "      <td>179b63fcfafb80e064370a2ce74c81f7</td>\n",
       "      <td>1</td>\n",
       "      <td>NaN</td>\n",
       "      <td>NaN</td>\n",
       "      <td>2018-05-23 00:00:00</td>\n",
       "      <td>2018-05-23 04:47:31</td>\n",
       "    </tr>\n",
       "    <tr>\n",
       "      <th>48202</th>\n",
       "      <td>b3d3d88e3cecc9a365dfbff200af0e9f</td>\n",
       "      <td>1a07bcd88f815b8098a7e112b3995323</td>\n",
       "      <td>3</td>\n",
       "      <td>NaN</td>\n",
       "      <td>NaN</td>\n",
       "      <td>2018-04-24 00:00:00</td>\n",
       "      <td>2018-04-25 17:41:38</td>\n",
       "    </tr>\n",
       "    <tr>\n",
       "      <th>99773</th>\n",
       "      <td>11fcd0e723918cabcf2c2cbe4a8600d7</td>\n",
       "      <td>c1a5798b5aeecb07fef65a224caab385</td>\n",
       "      <td>5</td>\n",
       "      <td>NaN</td>\n",
       "      <td>NaN</td>\n",
       "      <td>2018-02-07 00:00:00</td>\n",
       "      <td>2018-02-09 10:47:42</td>\n",
       "    </tr>\n",
       "    <tr>\n",
       "      <th>92279</th>\n",
       "      <td>7b29166bc121bff6d9ea06c44f6d7387</td>\n",
       "      <td>155220928b39545388340a30c2055907</td>\n",
       "      <td>5</td>\n",
       "      <td>NaN</td>\n",
       "      <td>NaN</td>\n",
       "      <td>2018-03-29 00:00:00</td>\n",
       "      <td>2018-03-29 15:51:53</td>\n",
       "    </tr>\n",
       "  </tbody>\n",
       "</table>\n",
       "</div>"
      ],
      "text/plain": [
       "                              review_id                          order_id  \\\n",
       "38201  73b02ff4a93202520d38e5e20cb5859b  1f4c55439dfb0750759521284d322815   \n",
       "87911  fbfa6533e7d2680ba2c2e049b7ef8c0d  179b63fcfafb80e064370a2ce74c81f7   \n",
       "48202  b3d3d88e3cecc9a365dfbff200af0e9f  1a07bcd88f815b8098a7e112b3995323   \n",
       "99773  11fcd0e723918cabcf2c2cbe4a8600d7  c1a5798b5aeecb07fef65a224caab385   \n",
       "92279  7b29166bc121bff6d9ea06c44f6d7387  155220928b39545388340a30c2055907   \n",
       "\n",
       "       review_score review_comment_title  \\\n",
       "38201             2                  NaN   \n",
       "87911             1                  NaN   \n",
       "48202             3                  NaN   \n",
       "99773             5                  NaN   \n",
       "92279             5                  NaN   \n",
       "\n",
       "                                                                                    review_comment_message  \\\n",
       "38201  Tanque de água não tem uma trava quando é posto sobre a base do umidificador, fica solto, vem co...   \n",
       "87911                                                                                                  NaN   \n",
       "48202                                                                                                  NaN   \n",
       "99773                                                                                                  NaN   \n",
       "92279                                                                                                  NaN   \n",
       "\n",
       "      review_creation_date review_answer_timestamp  \n",
       "38201  2017-10-14 00:00:00     2017-10-15 02:25:44  \n",
       "87911  2018-05-23 00:00:00     2018-05-23 04:47:31  \n",
       "48202  2018-04-24 00:00:00     2018-04-25 17:41:38  \n",
       "99773  2018-02-07 00:00:00     2018-02-09 10:47:42  \n",
       "92279  2018-03-29 00:00:00     2018-03-29 15:51:53  "
      ]
     },
     "execution_count": 8,
     "metadata": {},
     "output_type": "execute_result"
    }
   ],
   "source": [
    "df_order_reviews.sample(5)"
   ]
  },
  {
   "cell_type": "code",
   "execution_count": 9,
   "metadata": {},
   "outputs": [
    {
     "data": {
      "text/html": [
       "<div>\n",
       "<style scoped>\n",
       "    .dataframe tbody tr th:only-of-type {\n",
       "        vertical-align: middle;\n",
       "    }\n",
       "\n",
       "    .dataframe tbody tr th {\n",
       "        vertical-align: top;\n",
       "    }\n",
       "\n",
       "    .dataframe thead th {\n",
       "        text-align: right;\n",
       "    }\n",
       "</style>\n",
       "<table border=\"1\" class=\"dataframe\">\n",
       "  <thead>\n",
       "    <tr style=\"text-align: right;\">\n",
       "      <th></th>\n",
       "      <th>review_id</th>\n",
       "      <th>order_id</th>\n",
       "      <th>review_score</th>\n",
       "      <th>review_comment_title</th>\n",
       "      <th>review_comment_message</th>\n",
       "      <th>review_creation_date</th>\n",
       "      <th>review_answer_timestamp</th>\n",
       "    </tr>\n",
       "  </thead>\n",
       "  <tbody>\n",
       "    <tr>\n",
       "      <th>8329</th>\n",
       "      <td>b04ed893318da5b863e878cd3d0511df</td>\n",
       "      <td>03c939fd7fd3b38f8485a0f95798f1f6</td>\n",
       "      <td>3</td>\n",
       "      <td>NaN</td>\n",
       "      <td>Um ponto negativo que achei foi a cobrança de 3 taxas de entregas, sendo que comprei os 3 produt...</td>\n",
       "      <td>2018-03-20 00:00:00</td>\n",
       "      <td>2018-03-21 02:28:23</td>\n",
       "    </tr>\n",
       "    <tr>\n",
       "      <th>51931</th>\n",
       "      <td>f4bb9d6dd4fb6dcc2298f0e7b17b8e1e</td>\n",
       "      <td>03c939fd7fd3b38f8485a0f95798f1f6</td>\n",
       "      <td>4</td>\n",
       "      <td>NaN</td>\n",
       "      <td>NaN</td>\n",
       "      <td>2018-03-29 00:00:00</td>\n",
       "      <td>2018-03-30 00:29:09</td>\n",
       "    </tr>\n",
       "    <tr>\n",
       "      <th>70005</th>\n",
       "      <td>405eb2ea45e1dbe2662541ae5b47e2aa</td>\n",
       "      <td>03c939fd7fd3b38f8485a0f95798f1f6</td>\n",
       "      <td>3</td>\n",
       "      <td>NaN</td>\n",
       "      <td>Seria ótimo se tivesem entregue os 3 (três) pedidos de uma única vez.</td>\n",
       "      <td>2018-03-06 00:00:00</td>\n",
       "      <td>2018-03-06 19:50:32</td>\n",
       "    </tr>\n",
       "  </tbody>\n",
       "</table>\n",
       "</div>"
      ],
      "text/plain": [
       "                              review_id                          order_id  \\\n",
       "8329   b04ed893318da5b863e878cd3d0511df  03c939fd7fd3b38f8485a0f95798f1f6   \n",
       "51931  f4bb9d6dd4fb6dcc2298f0e7b17b8e1e  03c939fd7fd3b38f8485a0f95798f1f6   \n",
       "70005  405eb2ea45e1dbe2662541ae5b47e2aa  03c939fd7fd3b38f8485a0f95798f1f6   \n",
       "\n",
       "       review_score review_comment_title  \\\n",
       "8329              3                  NaN   \n",
       "51931             4                  NaN   \n",
       "70005             3                  NaN   \n",
       "\n",
       "                                                                                    review_comment_message  \\\n",
       "8329   Um ponto negativo que achei foi a cobrança de 3 taxas de entregas, sendo que comprei os 3 produt...   \n",
       "51931                                                                                                  NaN   \n",
       "70005                                Seria ótimo se tivesem entregue os 3 (três) pedidos de uma única vez.   \n",
       "\n",
       "      review_creation_date review_answer_timestamp  \n",
       "8329   2018-03-20 00:00:00     2018-03-21 02:28:23  \n",
       "51931  2018-03-29 00:00:00     2018-03-30 00:29:09  \n",
       "70005  2018-03-06 00:00:00     2018-03-06 19:50:32  "
      ]
     },
     "execution_count": 9,
     "metadata": {},
     "output_type": "execute_result"
    }
   ],
   "source": [
    "# Plusieurs notes pour la même commande\n",
    "df_order_reviews[df_order_reviews[\"order_id\"] == \"03c939fd7fd3b38f8485a0f95798f1f6\"]"
   ]
  },
  {
   "cell_type": "code",
   "execution_count": 10,
   "metadata": {},
   "outputs": [
    {
     "data": {
      "text/html": [
       "<div>\n",
       "<style scoped>\n",
       "    .dataframe tbody tr th:only-of-type {\n",
       "        vertical-align: middle;\n",
       "    }\n",
       "\n",
       "    .dataframe tbody tr th {\n",
       "        vertical-align: top;\n",
       "    }\n",
       "\n",
       "    .dataframe thead th {\n",
       "        text-align: right;\n",
       "    }\n",
       "</style>\n",
       "<table border=\"1\" class=\"dataframe\">\n",
       "  <thead>\n",
       "    <tr style=\"text-align: right;\">\n",
       "      <th></th>\n",
       "      <th>order_id</th>\n",
       "      <th>customer_id</th>\n",
       "      <th>order_status</th>\n",
       "      <th>order_purchase_timestamp</th>\n",
       "      <th>order_approved_at</th>\n",
       "      <th>order_delivered_carrier_date</th>\n",
       "      <th>order_delivered_customer_date</th>\n",
       "      <th>order_estimated_delivery_date</th>\n",
       "    </tr>\n",
       "  </thead>\n",
       "  <tbody>\n",
       "    <tr>\n",
       "      <th>46863</th>\n",
       "      <td>91e1117f4e261dce48c8dbc09d8f2d2e</td>\n",
       "      <td>8835b132f4072ae00a43842d4259f4bf</td>\n",
       "      <td>delivered</td>\n",
       "      <td>2017-10-03 13:02:29</td>\n",
       "      <td>2017-10-03 13:14:15</td>\n",
       "      <td>2017-10-11 16:57:42</td>\n",
       "      <td>2017-10-30 21:12:53</td>\n",
       "      <td>2017-11-01 00:00:00</td>\n",
       "    </tr>\n",
       "    <tr>\n",
       "      <th>44258</th>\n",
       "      <td>5a39aece773a0e78a17451bff3221669</td>\n",
       "      <td>cfbab1d1ea176ef344000d4a6dddf436</td>\n",
       "      <td>delivered</td>\n",
       "      <td>2018-04-04 09:43:44</td>\n",
       "      <td>2018-04-04 09:55:18</td>\n",
       "      <td>2018-04-05 00:14:41</td>\n",
       "      <td>2018-04-09 22:06:55</td>\n",
       "      <td>2018-04-16 00:00:00</td>\n",
       "    </tr>\n",
       "    <tr>\n",
       "      <th>1475</th>\n",
       "      <td>710770cfb61b2c43a091ab2c7b89a921</td>\n",
       "      <td>f3df91219ffe2fb3e399377acfd0e527</td>\n",
       "      <td>delivered</td>\n",
       "      <td>2018-01-06 14:25:01</td>\n",
       "      <td>2018-01-06 14:34:11</td>\n",
       "      <td>2018-01-08 21:49:48</td>\n",
       "      <td>2018-01-16 17:51:36</td>\n",
       "      <td>2018-02-02 00:00:00</td>\n",
       "    </tr>\n",
       "    <tr>\n",
       "      <th>86946</th>\n",
       "      <td>4a0b592d4d6082de8155698ca49c6345</td>\n",
       "      <td>e1b1416cc9565ebdb336ddaf12fd9229</td>\n",
       "      <td>delivered</td>\n",
       "      <td>2018-07-23 16:39:54</td>\n",
       "      <td>2018-07-24 08:31:39</td>\n",
       "      <td>2018-07-24 10:21:00</td>\n",
       "      <td>2018-07-26 17:11:42</td>\n",
       "      <td>2018-07-31 00:00:00</td>\n",
       "    </tr>\n",
       "    <tr>\n",
       "      <th>26056</th>\n",
       "      <td>505bb60c12a248aa8c995503ec264554</td>\n",
       "      <td>8b718fe1aa1275c0f776af5b39001309</td>\n",
       "      <td>delivered</td>\n",
       "      <td>2018-08-07 20:16:13</td>\n",
       "      <td>2018-08-08 20:10:21</td>\n",
       "      <td>2018-08-09 13:21:00</td>\n",
       "      <td>2018-08-20 17:42:39</td>\n",
       "      <td>2018-09-11 00:00:00</td>\n",
       "    </tr>\n",
       "  </tbody>\n",
       "</table>\n",
       "</div>"
      ],
      "text/plain": [
       "                               order_id                       customer_id  \\\n",
       "46863  91e1117f4e261dce48c8dbc09d8f2d2e  8835b132f4072ae00a43842d4259f4bf   \n",
       "44258  5a39aece773a0e78a17451bff3221669  cfbab1d1ea176ef344000d4a6dddf436   \n",
       "1475   710770cfb61b2c43a091ab2c7b89a921  f3df91219ffe2fb3e399377acfd0e527   \n",
       "86946  4a0b592d4d6082de8155698ca49c6345  e1b1416cc9565ebdb336ddaf12fd9229   \n",
       "26056  505bb60c12a248aa8c995503ec264554  8b718fe1aa1275c0f776af5b39001309   \n",
       "\n",
       "      order_status order_purchase_timestamp    order_approved_at  \\\n",
       "46863    delivered      2017-10-03 13:02:29  2017-10-03 13:14:15   \n",
       "44258    delivered      2018-04-04 09:43:44  2018-04-04 09:55:18   \n",
       "1475     delivered      2018-01-06 14:25:01  2018-01-06 14:34:11   \n",
       "86946    delivered      2018-07-23 16:39:54  2018-07-24 08:31:39   \n",
       "26056    delivered      2018-08-07 20:16:13  2018-08-08 20:10:21   \n",
       "\n",
       "      order_delivered_carrier_date order_delivered_customer_date  \\\n",
       "46863          2017-10-11 16:57:42           2017-10-30 21:12:53   \n",
       "44258          2018-04-05 00:14:41           2018-04-09 22:06:55   \n",
       "1475           2018-01-08 21:49:48           2018-01-16 17:51:36   \n",
       "86946          2018-07-24 10:21:00           2018-07-26 17:11:42   \n",
       "26056          2018-08-09 13:21:00           2018-08-20 17:42:39   \n",
       "\n",
       "      order_estimated_delivery_date  \n",
       "46863           2017-11-01 00:00:00  \n",
       "44258           2018-04-16 00:00:00  \n",
       "1475            2018-02-02 00:00:00  \n",
       "86946           2018-07-31 00:00:00  \n",
       "26056           2018-09-11 00:00:00  "
      ]
     },
     "execution_count": 10,
     "metadata": {},
     "output_type": "execute_result"
    }
   ],
   "source": [
    "df_orders.sample(5)"
   ]
  },
  {
   "cell_type": "code",
   "execution_count": 11,
   "metadata": {},
   "outputs": [
    {
     "data": {
      "text/html": [
       "<div>\n",
       "<style scoped>\n",
       "    .dataframe tbody tr th:only-of-type {\n",
       "        vertical-align: middle;\n",
       "    }\n",
       "\n",
       "    .dataframe tbody tr th {\n",
       "        vertical-align: top;\n",
       "    }\n",
       "\n",
       "    .dataframe thead th {\n",
       "        text-align: right;\n",
       "    }\n",
       "</style>\n",
       "<table border=\"1\" class=\"dataframe\">\n",
       "  <thead>\n",
       "    <tr style=\"text-align: right;\">\n",
       "      <th></th>\n",
       "      <th>product_id</th>\n",
       "      <th>product_category_name</th>\n",
       "      <th>product_name_lenght</th>\n",
       "      <th>product_description_lenght</th>\n",
       "      <th>product_photos_qty</th>\n",
       "      <th>product_weight_g</th>\n",
       "      <th>product_length_cm</th>\n",
       "      <th>product_height_cm</th>\n",
       "      <th>product_width_cm</th>\n",
       "    </tr>\n",
       "  </thead>\n",
       "  <tbody>\n",
       "    <tr>\n",
       "      <th>11013</th>\n",
       "      <td>cfd2499557fab719688fc5260eb18dad</td>\n",
       "      <td>telefonia</td>\n",
       "      <td>60.0</td>\n",
       "      <td>791.0</td>\n",
       "      <td>4.0</td>\n",
       "      <td>250.0</td>\n",
       "      <td>17.0</td>\n",
       "      <td>4.0</td>\n",
       "      <td>12.0</td>\n",
       "    </tr>\n",
       "    <tr>\n",
       "      <th>9221</th>\n",
       "      <td>505005df95180728667b709c27783732</td>\n",
       "      <td>moveis_escritorio</td>\n",
       "      <td>38.0</td>\n",
       "      <td>2264.0</td>\n",
       "      <td>1.0</td>\n",
       "      <td>11400.0</td>\n",
       "      <td>58.0</td>\n",
       "      <td>35.0</td>\n",
       "      <td>58.0</td>\n",
       "    </tr>\n",
       "    <tr>\n",
       "      <th>2082</th>\n",
       "      <td>5afcae10f25795d55b858f6a2b95233b</td>\n",
       "      <td>brinquedos</td>\n",
       "      <td>36.0</td>\n",
       "      <td>509.0</td>\n",
       "      <td>1.0</td>\n",
       "      <td>800.0</td>\n",
       "      <td>40.0</td>\n",
       "      <td>10.0</td>\n",
       "      <td>40.0</td>\n",
       "    </tr>\n",
       "    <tr>\n",
       "      <th>26117</th>\n",
       "      <td>569962b1062cbaf02b768a3fe810fdd3</td>\n",
       "      <td>esporte_lazer</td>\n",
       "      <td>25.0</td>\n",
       "      <td>211.0</td>\n",
       "      <td>1.0</td>\n",
       "      <td>850.0</td>\n",
       "      <td>51.0</td>\n",
       "      <td>18.0</td>\n",
       "      <td>11.0</td>\n",
       "    </tr>\n",
       "    <tr>\n",
       "      <th>3695</th>\n",
       "      <td>2a1dc7b4d777085804b1a6389639870c</td>\n",
       "      <td>eletrodomesticos</td>\n",
       "      <td>59.0</td>\n",
       "      <td>302.0</td>\n",
       "      <td>1.0</td>\n",
       "      <td>500.0</td>\n",
       "      <td>20.0</td>\n",
       "      <td>13.0</td>\n",
       "      <td>15.0</td>\n",
       "    </tr>\n",
       "  </tbody>\n",
       "</table>\n",
       "</div>"
      ],
      "text/plain": [
       "                             product_id product_category_name  \\\n",
       "11013  cfd2499557fab719688fc5260eb18dad             telefonia   \n",
       "9221   505005df95180728667b709c27783732     moveis_escritorio   \n",
       "2082   5afcae10f25795d55b858f6a2b95233b            brinquedos   \n",
       "26117  569962b1062cbaf02b768a3fe810fdd3         esporte_lazer   \n",
       "3695   2a1dc7b4d777085804b1a6389639870c      eletrodomesticos   \n",
       "\n",
       "       product_name_lenght  product_description_lenght  product_photos_qty  \\\n",
       "11013                 60.0                       791.0                 4.0   \n",
       "9221                  38.0                      2264.0                 1.0   \n",
       "2082                  36.0                       509.0                 1.0   \n",
       "26117                 25.0                       211.0                 1.0   \n",
       "3695                  59.0                       302.0                 1.0   \n",
       "\n",
       "       product_weight_g  product_length_cm  product_height_cm  \\\n",
       "11013             250.0               17.0                4.0   \n",
       "9221            11400.0               58.0               35.0   \n",
       "2082              800.0               40.0               10.0   \n",
       "26117             850.0               51.0               18.0   \n",
       "3695              500.0               20.0               13.0   \n",
       "\n",
       "       product_width_cm  \n",
       "11013              12.0  \n",
       "9221               58.0  \n",
       "2082               40.0  \n",
       "26117              11.0  \n",
       "3695               15.0  "
      ]
     },
     "execution_count": 11,
     "metadata": {},
     "output_type": "execute_result"
    }
   ],
   "source": [
    "df_products.sample(5)"
   ]
  },
  {
   "cell_type": "code",
   "execution_count": 12,
   "metadata": {},
   "outputs": [
    {
     "data": {
      "text/html": [
       "<div>\n",
       "<style scoped>\n",
       "    .dataframe tbody tr th:only-of-type {\n",
       "        vertical-align: middle;\n",
       "    }\n",
       "\n",
       "    .dataframe tbody tr th {\n",
       "        vertical-align: top;\n",
       "    }\n",
       "\n",
       "    .dataframe thead th {\n",
       "        text-align: right;\n",
       "    }\n",
       "</style>\n",
       "<table border=\"1\" class=\"dataframe\">\n",
       "  <thead>\n",
       "    <tr style=\"text-align: right;\">\n",
       "      <th></th>\n",
       "      <th>seller_id</th>\n",
       "      <th>seller_zip_code_prefix</th>\n",
       "      <th>seller_city</th>\n",
       "      <th>seller_state</th>\n",
       "    </tr>\n",
       "  </thead>\n",
       "  <tbody>\n",
       "    <tr>\n",
       "      <th>135</th>\n",
       "      <td>82e0a475a88cc9595229d8029273f045</td>\n",
       "      <td>3417</td>\n",
       "      <td>sao paulo</td>\n",
       "      <td>SP</td>\n",
       "    </tr>\n",
       "    <tr>\n",
       "      <th>2497</th>\n",
       "      <td>c394e193cda3b4225ff2094d32184849</td>\n",
       "      <td>4104</td>\n",
       "      <td>sao paulo</td>\n",
       "      <td>SP</td>\n",
       "    </tr>\n",
       "    <tr>\n",
       "      <th>840</th>\n",
       "      <td>3606774ec64634822d78dc2db6d37045</td>\n",
       "      <td>9510</td>\n",
       "      <td>sao caetano do sul</td>\n",
       "      <td>SP</td>\n",
       "    </tr>\n",
       "    <tr>\n",
       "      <th>2444</th>\n",
       "      <td>96804ea39d96eb908e7c3afdb671bb9e</td>\n",
       "      <td>38950</td>\n",
       "      <td>ibia</td>\n",
       "      <td>MG</td>\n",
       "    </tr>\n",
       "    <tr>\n",
       "      <th>2087</th>\n",
       "      <td>6c6cc59a5c00cacc5054ca06d65cc282</td>\n",
       "      <td>97110</td>\n",
       "      <td>santa maria</td>\n",
       "      <td>RS</td>\n",
       "    </tr>\n",
       "  </tbody>\n",
       "</table>\n",
       "</div>"
      ],
      "text/plain": [
       "                             seller_id  seller_zip_code_prefix  \\\n",
       "135   82e0a475a88cc9595229d8029273f045                    3417   \n",
       "2497  c394e193cda3b4225ff2094d32184849                    4104   \n",
       "840   3606774ec64634822d78dc2db6d37045                    9510   \n",
       "2444  96804ea39d96eb908e7c3afdb671bb9e                   38950   \n",
       "2087  6c6cc59a5c00cacc5054ca06d65cc282                   97110   \n",
       "\n",
       "             seller_city seller_state  \n",
       "135            sao paulo           SP  \n",
       "2497           sao paulo           SP  \n",
       "840   sao caetano do sul           SP  \n",
       "2444                ibia           MG  \n",
       "2087         santa maria           RS  "
      ]
     },
     "execution_count": 12,
     "metadata": {},
     "output_type": "execute_result"
    }
   ],
   "source": [
    "df_sellers.sample(5)"
   ]
  },
  {
   "cell_type": "code",
   "execution_count": 13,
   "metadata": {},
   "outputs": [
    {
     "data": {
      "text/html": [
       "<div>\n",
       "<style scoped>\n",
       "    .dataframe tbody tr th:only-of-type {\n",
       "        vertical-align: middle;\n",
       "    }\n",
       "\n",
       "    .dataframe tbody tr th {\n",
       "        vertical-align: top;\n",
       "    }\n",
       "\n",
       "    .dataframe thead th {\n",
       "        text-align: right;\n",
       "    }\n",
       "</style>\n",
       "<table border=\"1\" class=\"dataframe\">\n",
       "  <thead>\n",
       "    <tr style=\"text-align: right;\">\n",
       "      <th></th>\n",
       "      <th>product_category_name</th>\n",
       "      <th>product_category_name_english</th>\n",
       "    </tr>\n",
       "  </thead>\n",
       "  <tbody>\n",
       "    <tr>\n",
       "      <th>48</th>\n",
       "      <td>livros_interesse_geral</td>\n",
       "      <td>books_general_interest</td>\n",
       "    </tr>\n",
       "    <tr>\n",
       "      <th>34</th>\n",
       "      <td>artigos_de_festas</td>\n",
       "      <td>party_supplies</td>\n",
       "    </tr>\n",
       "    <tr>\n",
       "      <th>60</th>\n",
       "      <td>la_cuisine</td>\n",
       "      <td>la_cuisine</td>\n",
       "    </tr>\n",
       "    <tr>\n",
       "      <th>8</th>\n",
       "      <td>telefonia</td>\n",
       "      <td>telephony</td>\n",
       "    </tr>\n",
       "    <tr>\n",
       "      <th>14</th>\n",
       "      <td>brinquedos</td>\n",
       "      <td>toys</td>\n",
       "    </tr>\n",
       "  </tbody>\n",
       "</table>\n",
       "</div>"
      ],
      "text/plain": [
       "     product_category_name product_category_name_english\n",
       "48  livros_interesse_geral        books_general_interest\n",
       "34       artigos_de_festas                party_supplies\n",
       "60              la_cuisine                    la_cuisine\n",
       "8                telefonia                     telephony\n",
       "14              brinquedos                          toys"
      ]
     },
     "execution_count": 13,
     "metadata": {},
     "output_type": "execute_result"
    }
   ],
   "source": [
    "df_translation.sample(5)"
   ]
  },
  {
   "cell_type": "markdown",
   "metadata": {},
   "source": [
    "**Création d'un dictionnaire contenant les dataframes**"
   ]
  },
  {
   "cell_type": "code",
   "execution_count": 14,
   "metadata": {},
   "outputs": [],
   "source": [
    "names_dataframes = [\n",
    "    \"df_customers\",\n",
    "    \"df_geolocalisation\",\n",
    "    \"df_order_items\",\n",
    "    \"df_order_payments\",\n",
    "    \"df_order_reviews\",\n",
    "    \"df_orders\",\n",
    "    \"df_products\",\n",
    "    \"df_sellers\",\n",
    "    \"df_translation\",\n",
    "]\n",
    "\n",
    "dict_dataframes = {name: eval(name) for name in names_dataframes}"
   ]
  },
  {
   "cell_type": "markdown",
   "metadata": {},
   "source": [
    "**Informations sur l'ensemble des dataframes**"
   ]
  },
  {
   "cell_type": "code",
   "execution_count": 15,
   "metadata": {},
   "outputs": [],
   "source": [
    "def info(dict_dataframes):\n",
    "    df_info = pd.DataFrame({})\n",
    "    df_info[\"dataframe\"] = [k for k in dict_dataframes.keys()]\n",
    "    df_info[\"n_rows\"] = [v.shape[0] for v in dict_dataframes.values()]\n",
    "    df_info[\"n_cols\"] = [v.shape[1] for v in dict_dataframes.values()]\n",
    "    df_info[\"null_amount\"] = [v.isnull().sum().sum() for v in dict_dataframes.values()]\n",
    "    df_info[\"qty_null_columns\"] = [\n",
    "        len([col for col, null in v.isnull().sum().items() if null > 0])\n",
    "        for v in dict_dataframes.values()\n",
    "    ]\n",
    "    df_info[\"null_columns\"] = [\n",
    "        \", \".join([col for col, null in v.isnull().sum().items() if null > 0])\n",
    "        for v in dict_dataframes.values()\n",
    "    ]\n",
    "\n",
    "    return df_info"
   ]
  },
  {
   "cell_type": "code",
   "execution_count": 16,
   "metadata": {},
   "outputs": [
    {
     "data": {
      "text/html": [
       "<div>\n",
       "<style scoped>\n",
       "    .dataframe tbody tr th:only-of-type {\n",
       "        vertical-align: middle;\n",
       "    }\n",
       "\n",
       "    .dataframe tbody tr th {\n",
       "        vertical-align: top;\n",
       "    }\n",
       "\n",
       "    .dataframe thead th {\n",
       "        text-align: right;\n",
       "    }\n",
       "</style>\n",
       "<table border=\"1\" class=\"dataframe\">\n",
       "  <thead>\n",
       "    <tr style=\"text-align: right;\">\n",
       "      <th></th>\n",
       "      <th>dataframe</th>\n",
       "      <th>n_rows</th>\n",
       "      <th>n_cols</th>\n",
       "      <th>null_amount</th>\n",
       "      <th>qty_null_columns</th>\n",
       "      <th>null_columns</th>\n",
       "    </tr>\n",
       "  </thead>\n",
       "  <tbody>\n",
       "    <tr>\n",
       "      <th>0</th>\n",
       "      <td>df_customers</td>\n",
       "      <td>99441</td>\n",
       "      <td>5</td>\n",
       "      <td>0</td>\n",
       "      <td>0</td>\n",
       "      <td></td>\n",
       "    </tr>\n",
       "    <tr>\n",
       "      <th>1</th>\n",
       "      <td>df_geolocalisation</td>\n",
       "      <td>1000163</td>\n",
       "      <td>5</td>\n",
       "      <td>0</td>\n",
       "      <td>0</td>\n",
       "      <td></td>\n",
       "    </tr>\n",
       "    <tr>\n",
       "      <th>2</th>\n",
       "      <td>df_order_items</td>\n",
       "      <td>112650</td>\n",
       "      <td>7</td>\n",
       "      <td>0</td>\n",
       "      <td>0</td>\n",
       "      <td></td>\n",
       "    </tr>\n",
       "    <tr>\n",
       "      <th>3</th>\n",
       "      <td>df_order_payments</td>\n",
       "      <td>103886</td>\n",
       "      <td>5</td>\n",
       "      <td>0</td>\n",
       "      <td>0</td>\n",
       "      <td></td>\n",
       "    </tr>\n",
       "    <tr>\n",
       "      <th>4</th>\n",
       "      <td>df_order_reviews</td>\n",
       "      <td>100000</td>\n",
       "      <td>7</td>\n",
       "      <td>146532</td>\n",
       "      <td>2</td>\n",
       "      <td>review_comment_title, review_comment_message</td>\n",
       "    </tr>\n",
       "    <tr>\n",
       "      <th>5</th>\n",
       "      <td>df_orders</td>\n",
       "      <td>99441</td>\n",
       "      <td>8</td>\n",
       "      <td>4908</td>\n",
       "      <td>3</td>\n",
       "      <td>order_approved_at, order_delivered_carrier_date, order_delivered_customer_date</td>\n",
       "    </tr>\n",
       "    <tr>\n",
       "      <th>6</th>\n",
       "      <td>df_products</td>\n",
       "      <td>32951</td>\n",
       "      <td>9</td>\n",
       "      <td>2448</td>\n",
       "      <td>8</td>\n",
       "      <td>product_category_name, product_name_lenght, product_description_lenght, product_photos_qty, prod...</td>\n",
       "    </tr>\n",
       "    <tr>\n",
       "      <th>7</th>\n",
       "      <td>df_sellers</td>\n",
       "      <td>3095</td>\n",
       "      <td>4</td>\n",
       "      <td>0</td>\n",
       "      <td>0</td>\n",
       "      <td></td>\n",
       "    </tr>\n",
       "    <tr>\n",
       "      <th>8</th>\n",
       "      <td>df_translation</td>\n",
       "      <td>71</td>\n",
       "      <td>2</td>\n",
       "      <td>0</td>\n",
       "      <td>0</td>\n",
       "      <td></td>\n",
       "    </tr>\n",
       "  </tbody>\n",
       "</table>\n",
       "</div>"
      ],
      "text/plain": [
       "            dataframe   n_rows  n_cols  null_amount  qty_null_columns  \\\n",
       "0        df_customers    99441       5            0                 0   \n",
       "1  df_geolocalisation  1000163       5            0                 0   \n",
       "2      df_order_items   112650       7            0                 0   \n",
       "3   df_order_payments   103886       5            0                 0   \n",
       "4    df_order_reviews   100000       7       146532                 2   \n",
       "5           df_orders    99441       8         4908                 3   \n",
       "6         df_products    32951       9         2448                 8   \n",
       "7          df_sellers     3095       4            0                 0   \n",
       "8      df_translation       71       2            0                 0   \n",
       "\n",
       "                                                                                          null_columns  \n",
       "0                                                                                                       \n",
       "1                                                                                                       \n",
       "2                                                                                                       \n",
       "3                                                                                                       \n",
       "4                                                         review_comment_title, review_comment_message  \n",
       "5                       order_approved_at, order_delivered_carrier_date, order_delivered_customer_date  \n",
       "6  product_category_name, product_name_lenght, product_description_lenght, product_photos_qty, prod...  \n",
       "7                                                                                                       \n",
       "8                                                                                                       "
      ]
     },
     "execution_count": 16,
     "metadata": {},
     "output_type": "execute_result"
    }
   ],
   "source": [
    "info(dict_dataframes)"
   ]
  },
  {
   "cell_type": "markdown",
   "metadata": {},
   "source": [
    "**Identifier les valeurs manquantes pour chaques dataframes**"
   ]
  },
  {
   "cell_type": "code",
   "execution_count": 17,
   "metadata": {},
   "outputs": [
    {
     "data": {
      "image/png": "[encoded data removed]",
      "text/plain": [
       "<Figure size 720x360 with 1 Axes>"
      ]
     },
     "metadata": {
      "needs_background": "light"
     },
     "output_type": "display_data"
    }
   ],
   "source": [
    "plt.figure(figsize=(10, 5))\n",
    "sns.heatmap(df_order_reviews.isna(), cbar=False)\n",
    "plt.show()"
   ]
  },
  {
   "cell_type": "code",
   "execution_count": 18,
   "metadata": {},
   "outputs": [
    {
     "data": {
      "image/png": "[encoded data removed]",
      "text/plain": [
       "<Figure size 720x360 with 1 Axes>"
      ]
     },
     "metadata": {
      "needs_background": "light"
     },
     "output_type": "display_data"
    }
   ],
   "source": [
    "plt.figure(figsize=(10, 5))\n",
    "sns.heatmap(df_orders.isna(), cbar=False)\n",
    "plt.show()"
   ]
  },
  {
   "cell_type": "code",
   "execution_count": 19,
   "metadata": {},
   "outputs": [
    {
     "data": {
      "image/png": "[encoded data removed]",
      "text/plain": [
       "<Figure size 720x360 with 1 Axes>"
      ]
     },
     "metadata": {
      "needs_background": "light"
     },
     "output_type": "display_data"
    }
   ],
   "source": [
    "plt.figure(figsize=(10, 5))\n",
    "sns.heatmap(df_products.isna(), cbar=False)\n",
    "plt.show()"
   ]
  },
  {
   "cell_type": "markdown",
   "metadata": {},
   "source": [
    "**Informations sur toutes les colonnes des dataframes**"
   ]
  },
  {
   "cell_type": "code",
   "execution_count": 20,
   "metadata": {},
   "outputs": [],
   "source": [
    "def overview(name, dataframe):\n",
    "    df_overview = pd.DataFrame({})\n",
    "\n",
    "    df_overview[\"dataframe\"] = [name for col in dataframe.columns]\n",
    "    df_overview[\"column\"] = [col for col in dataframe.columns]\n",
    "    df_overview[\"qty_null_column\"] = [\n",
    "        dataframe[col].isna().sum() for col in dataframe.columns\n",
    "    ]\n",
    "    df_overview[\"percent_null\"] = (\n",
    "        df_overview[\"qty_null_column\"] / dataframe.shape[0] * 100.00\n",
    "    )\n",
    "    df_overview[\"dtype\"] = [dtype for dtype in dataframe.dtypes]\n",
    "    df_overview[\"qty_category_unique\"] = [\n",
    "        len(dataframe[col].value_counts()) for col in dataframe.columns\n",
    "    ]\n",
    "\n",
    "    return df_overview"
   ]
  },
  {
   "cell_type": "code",
   "execution_count": 21,
   "metadata": {},
   "outputs": [],
   "source": [
    "def overview_dict(dict_dataframes):\n",
    "    df_overview_agg = pd.DataFrame({})\n",
    "\n",
    "    for name, df in dict_dataframes.items():\n",
    "        df_overview_agg = df_overview_agg.append(overview(name, df), ignore_index=True)\n",
    "\n",
    "    return df_overview_agg"
   ]
  },
  {
   "cell_type": "code",
   "execution_count": 22,
   "metadata": {},
   "outputs": [
    {
     "data": {
      "text/html": [
       "<div>\n",
       "<style scoped>\n",
       "    .dataframe tbody tr th:only-of-type {\n",
       "        vertical-align: middle;\n",
       "    }\n",
       "\n",
       "    .dataframe tbody tr th {\n",
       "        vertical-align: top;\n",
       "    }\n",
       "\n",
       "    .dataframe thead th {\n",
       "        text-align: right;\n",
       "    }\n",
       "</style>\n",
       "<table border=\"1\" class=\"dataframe\">\n",
       "  <thead>\n",
       "    <tr style=\"text-align: right;\">\n",
       "      <th></th>\n",
       "      <th>dataframe</th>\n",
       "      <th>column</th>\n",
       "      <th>qty_null_column</th>\n",
       "      <th>percent_null</th>\n",
       "      <th>dtype</th>\n",
       "      <th>qty_category_unique</th>\n",
       "    </tr>\n",
       "  </thead>\n",
       "  <tbody>\n",
       "    <tr>\n",
       "      <th>0</th>\n",
       "      <td>df_customers</td>\n",
       "      <td>customer_id</td>\n",
       "      <td>0</td>\n",
       "      <td>0.0</td>\n",
       "      <td>object</td>\n",
       "      <td>99441</td>\n",
       "    </tr>\n",
       "    <tr>\n",
       "      <th>1</th>\n",
       "      <td>df_customers</td>\n",
       "      <td>customer_unique_id</td>\n",
       "      <td>0</td>\n",
       "      <td>0.0</td>\n",
       "      <td>object</td>\n",
       "      <td>96096</td>\n",
       "    </tr>\n",
       "    <tr>\n",
       "      <th>2</th>\n",
       "      <td>df_customers</td>\n",
       "      <td>customer_zip_code_prefix</td>\n",
       "      <td>0</td>\n",
       "      <td>0.0</td>\n",
       "      <td>int64</td>\n",
       "      <td>14994</td>\n",
       "    </tr>\n",
       "    <tr>\n",
       "      <th>3</th>\n",
       "      <td>df_customers</td>\n",
       "      <td>customer_city</td>\n",
       "      <td>0</td>\n",
       "      <td>0.0</td>\n",
       "      <td>object</td>\n",
       "      <td>4119</td>\n",
       "    </tr>\n",
       "    <tr>\n",
       "      <th>4</th>\n",
       "      <td>df_customers</td>\n",
       "      <td>customer_state</td>\n",
       "      <td>0</td>\n",
       "      <td>0.0</td>\n",
       "      <td>object</td>\n",
       "      <td>27</td>\n",
       "    </tr>\n",
       "    <tr>\n",
       "      <th>...</th>\n",
       "      <td>...</td>\n",
       "      <td>...</td>\n",
       "      <td>...</td>\n",
       "      <td>...</td>\n",
       "      <td>...</td>\n",
       "      <td>...</td>\n",
       "    </tr>\n",
       "    <tr>\n",
       "      <th>47</th>\n",
       "      <td>df_sellers</td>\n",
       "      <td>seller_zip_code_prefix</td>\n",
       "      <td>0</td>\n",
       "      <td>0.0</td>\n",
       "      <td>int64</td>\n",
       "      <td>2246</td>\n",
       "    </tr>\n",
       "    <tr>\n",
       "      <th>48</th>\n",
       "      <td>df_sellers</td>\n",
       "      <td>seller_city</td>\n",
       "      <td>0</td>\n",
       "      <td>0.0</td>\n",
       "      <td>object</td>\n",
       "      <td>611</td>\n",
       "    </tr>\n",
       "    <tr>\n",
       "      <th>49</th>\n",
       "      <td>df_sellers</td>\n",
       "      <td>seller_state</td>\n",
       "      <td>0</td>\n",
       "      <td>0.0</td>\n",
       "      <td>object</td>\n",
       "      <td>23</td>\n",
       "    </tr>\n",
       "    <tr>\n",
       "      <th>50</th>\n",
       "      <td>df_translation</td>\n",
       "      <td>product_category_name</td>\n",
       "      <td>0</td>\n",
       "      <td>0.0</td>\n",
       "      <td>object</td>\n",
       "      <td>71</td>\n",
       "    </tr>\n",
       "    <tr>\n",
       "      <th>51</th>\n",
       "      <td>df_translation</td>\n",
       "      <td>product_category_name_english</td>\n",
       "      <td>0</td>\n",
       "      <td>0.0</td>\n",
       "      <td>object</td>\n",
       "      <td>71</td>\n",
       "    </tr>\n",
       "  </tbody>\n",
       "</table>\n",
       "<p>52 rows × 6 columns</p>\n",
       "</div>"
      ],
      "text/plain": [
       "         dataframe                         column  qty_null_column  \\\n",
       "0     df_customers                    customer_id                0   \n",
       "1     df_customers             customer_unique_id                0   \n",
       "2     df_customers       customer_zip_code_prefix                0   \n",
       "3     df_customers                  customer_city                0   \n",
       "4     df_customers                 customer_state                0   \n",
       "..             ...                            ...              ...   \n",
       "47      df_sellers         seller_zip_code_prefix                0   \n",
       "48      df_sellers                    seller_city                0   \n",
       "49      df_sellers                   seller_state                0   \n",
       "50  df_translation          product_category_name                0   \n",
       "51  df_translation  product_category_name_english                0   \n",
       "\n",
       "    percent_null   dtype  qty_category_unique  \n",
       "0            0.0  object                99441  \n",
       "1            0.0  object                96096  \n",
       "2            0.0   int64                14994  \n",
       "3            0.0  object                 4119  \n",
       "4            0.0  object                   27  \n",
       "..           ...     ...                  ...  \n",
       "47           0.0   int64                 2246  \n",
       "48           0.0  object                  611  \n",
       "49           0.0  object                   23  \n",
       "50           0.0  object                   71  \n",
       "51           0.0  object                   71  \n",
       "\n",
       "[52 rows x 6 columns]"
      ]
     },
     "execution_count": 22,
     "metadata": {},
     "output_type": "execute_result"
    }
   ],
   "source": [
    "overview_dict(dict_dataframes)"
   ]
  },
  {
   "cell_type": "markdown",
   "metadata": {},
   "source": [
    "**Gestion des doublons**"
   ]
  },
  {
   "cell_type": "code",
   "execution_count": 23,
   "metadata": {},
   "outputs": [
    {
     "name": "stdout",
     "output_type": "stream",
     "text": [
      "df_customers  :  0\n",
      "df_geolocalisation  :  261831\n",
      "df_order_items  :  0\n",
      "df_order_payments  :  0\n",
      "df_order_reviews  :  0\n",
      "df_orders  :  0\n",
      "df_products  :  0\n",
      "df_sellers  :  0\n",
      "df_translation  :  0\n"
     ]
    }
   ],
   "source": [
    "for name, df in dict_dataframes.items():\n",
    "    print(name, \" : \", df.duplicated().sum())"
   ]
  },
  {
   "cell_type": "code",
   "execution_count": 24,
   "metadata": {},
   "outputs": [],
   "source": [
    "df_geolocalisation.drop_duplicates(inplace=True)"
   ]
  },
  {
   "cell_type": "markdown",
   "metadata": {},
   "source": [
    "**Gestion des valeurs manquantes**"
   ]
  },
  {
   "cell_type": "code",
   "execution_count": 25,
   "metadata": {},
   "outputs": [],
   "source": [
    "df_order_reviews[\"review_comment_title\"].fillna(\" \", inplace=True)\n",
    "df_order_reviews[\"review_comment_message\"].fillna(\" \", inplace=True)\n",
    "\n",
    "df_orders[\"order_approved_at\"].fillna(0, inplace=True)\n",
    "df_orders[\"order_delivered_carrier_date\"].fillna(0, inplace=True)\n",
    "df_orders[\"order_delivered_customer_date\"].fillna(0, inplace=True)\n",
    "\n",
    "df_products[\"product_category_name\"].fillna(\"desconhecido\", inplace=True)\n",
    "df_products[\"product_name_lenght\"].fillna(0, inplace=True)\n",
    "df_products[\"product_description_lenght\"].fillna(0, inplace=True)\n",
    "df_products[\"product_photos_qty\"].fillna(0, inplace=True)\n",
    "df_products[\"product_weight_g\"].fillna(0, inplace=True)\n",
    "df_products[\"product_length_cm\"].fillna(0, inplace=True)\n",
    "df_products[\"product_height_cm\"].fillna(0, inplace=True)\n",
    "df_products[\"product_width_cm\"].fillna(0, inplace=True)"
   ]
  },
  {
   "cell_type": "markdown",
   "metadata": {},
   "source": [
    "**Ajout de valeur pour translation de catégories**"
   ]
  },
  {
   "cell_type": "code",
   "execution_count": 26,
   "metadata": {},
   "outputs": [],
   "source": [
    "row_1 = dict(\n",
    "    product_category_name=\"desconhecido\", product_category_name_english=\"unknown\"\n",
    ")\n",
    "row_2 = dict(\n",
    "    product_category_name=\"portateis_cozinha_e_preparadores_de_alimentos\",\n",
    "    product_category_name_english=\"small_appliances\",\n",
    ")\n",
    "row_3 = dict(product_category_name=\"pc_gamer\", product_category_name_english=\"pc_gamer\")\n",
    "df_translation = df_translation.append([row_1, row_2, row_3], ignore_index=True)"
   ]
  },
  {
   "cell_type": "markdown",
   "metadata": {},
   "source": [
    "**Gestion des types / Convertir les timestamps**"
   ]
  },
  {
   "cell_type": "code",
   "execution_count": 27,
   "metadata": {},
   "outputs": [],
   "source": [
    "columns_orders_ts = [\n",
    "    \"order_purchase_timestamp\",\n",
    "    \"order_delivered_customer_date\",\n",
    "    \"order_approved_at\",\n",
    "    \"order_delivered_carrier_date\",\n",
    "    \"order_estimated_delivery_date\",\n",
    "]\n",
    "for col in columns_orders_ts:\n",
    "    df_orders[col] = pd.to_datetime(df_orders[col], errors=\"coerce\")"
   ]
  },
  {
   "cell_type": "code",
   "execution_count": 28,
   "metadata": {},
   "outputs": [
    {
     "data": {
      "text/html": [
       "<div>\n",
       "<style scoped>\n",
       "    .dataframe tbody tr th:only-of-type {\n",
       "        vertical-align: middle;\n",
       "    }\n",
       "\n",
       "    .dataframe tbody tr th {\n",
       "        vertical-align: top;\n",
       "    }\n",
       "\n",
       "    .dataframe thead th {\n",
       "        text-align: right;\n",
       "    }\n",
       "</style>\n",
       "<table border=\"1\" class=\"dataframe\">\n",
       "  <thead>\n",
       "    <tr style=\"text-align: right;\">\n",
       "      <th></th>\n",
       "      <th>order_id</th>\n",
       "      <th>customer_id</th>\n",
       "      <th>order_status</th>\n",
       "      <th>order_purchase_timestamp</th>\n",
       "      <th>order_approved_at</th>\n",
       "      <th>order_delivered_carrier_date</th>\n",
       "      <th>order_delivered_customer_date</th>\n",
       "      <th>order_estimated_delivery_date</th>\n",
       "    </tr>\n",
       "  </thead>\n",
       "  <tbody>\n",
       "    <tr>\n",
       "      <th>47455</th>\n",
       "      <td>a9fa8567c21a5f8e4450af02a87f26cb</td>\n",
       "      <td>a1af950930516005763b142d147b079b</td>\n",
       "      <td>delivered</td>\n",
       "      <td>2017-07-29 20:27:08</td>\n",
       "      <td>2017-07-29 20:43:35</td>\n",
       "      <td>2017-07-31 17:43:36</td>\n",
       "      <td>2017-08-17 15:48:16</td>\n",
       "      <td>2017-08-23</td>\n",
       "    </tr>\n",
       "    <tr>\n",
       "      <th>20635</th>\n",
       "      <td>b0247f256d2486d4cb5f3bf93dd84eb4</td>\n",
       "      <td>30c6c7a5f5570eea755284d1775568b8</td>\n",
       "      <td>delivered</td>\n",
       "      <td>2018-05-27 16:42:04</td>\n",
       "      <td>2018-05-29 03:14:46</td>\n",
       "      <td>2018-06-08 10:24:00</td>\n",
       "      <td>2018-06-20 13:28:42</td>\n",
       "      <td>2018-07-26</td>\n",
       "    </tr>\n",
       "    <tr>\n",
       "      <th>49330</th>\n",
       "      <td>de0118eda0bf4900eee8cb706027f55a</td>\n",
       "      <td>296a45f462a9595ea86c29dcc3e23e1c</td>\n",
       "      <td>delivered</td>\n",
       "      <td>2018-04-25 15:35:15</td>\n",
       "      <td>2018-04-25 16:33:49</td>\n",
       "      <td>2018-04-30 07:18:00</td>\n",
       "      <td>2018-05-02 17:26:44</td>\n",
       "      <td>2018-05-10</td>\n",
       "    </tr>\n",
       "    <tr>\n",
       "      <th>30472</th>\n",
       "      <td>2cedb157302d27f18d5648e77f92d56d</td>\n",
       "      <td>6efd038b1c60be0ab8d554e9b488a40d</td>\n",
       "      <td>delivered</td>\n",
       "      <td>2018-06-18 20:56:17</td>\n",
       "      <td>2018-06-18 21:17:51</td>\n",
       "      <td>2018-06-19 14:04:00</td>\n",
       "      <td>2018-06-28 19:08:41</td>\n",
       "      <td>2018-08-01</td>\n",
       "    </tr>\n",
       "    <tr>\n",
       "      <th>36580</th>\n",
       "      <td>65b8cbd6d0ad97befea844cc40817ccb</td>\n",
       "      <td>220a1f1adf2be499250db06cd27d0a1e</td>\n",
       "      <td>delivered</td>\n",
       "      <td>2017-05-10 16:48:50</td>\n",
       "      <td>2017-05-10 17:02:49</td>\n",
       "      <td>2017-05-16 08:54:14</td>\n",
       "      <td>2017-05-22 20:26:17</td>\n",
       "      <td>2017-06-02</td>\n",
       "    </tr>\n",
       "  </tbody>\n",
       "</table>\n",
       "</div>"
      ],
      "text/plain": [
       "                               order_id                       customer_id  \\\n",
       "47455  a9fa8567c21a5f8e4450af02a87f26cb  a1af950930516005763b142d147b079b   \n",
       "20635  b0247f256d2486d4cb5f3bf93dd84eb4  30c6c7a5f5570eea755284d1775568b8   \n",
       "49330  de0118eda0bf4900eee8cb706027f55a  296a45f462a9595ea86c29dcc3e23e1c   \n",
       "30472  2cedb157302d27f18d5648e77f92d56d  6efd038b1c60be0ab8d554e9b488a40d   \n",
       "36580  65b8cbd6d0ad97befea844cc40817ccb  220a1f1adf2be499250db06cd27d0a1e   \n",
       "\n",
       "      order_status order_purchase_timestamp   order_approved_at  \\\n",
       "47455    delivered      2017-07-29 20:27:08 2017-07-29 20:43:35   \n",
       "20635    delivered      2018-05-27 16:42:04 2018-05-29 03:14:46   \n",
       "49330    delivered      2018-04-25 15:35:15 2018-04-25 16:33:49   \n",
       "30472    delivered      2018-06-18 20:56:17 2018-06-18 21:17:51   \n",
       "36580    delivered      2017-05-10 16:48:50 2017-05-10 17:02:49   \n",
       "\n",
       "      order_delivered_carrier_date order_delivered_customer_date  \\\n",
       "47455          2017-07-31 17:43:36           2017-08-17 15:48:16   \n",
       "20635          2018-06-08 10:24:00           2018-06-20 13:28:42   \n",
       "49330          2018-04-30 07:18:00           2018-05-02 17:26:44   \n",
       "30472          2018-06-19 14:04:00           2018-06-28 19:08:41   \n",
       "36580          2017-05-16 08:54:14           2017-05-22 20:26:17   \n",
       "\n",
       "      order_estimated_delivery_date  \n",
       "47455                    2017-08-23  \n",
       "20635                    2018-07-26  \n",
       "49330                    2018-05-10  \n",
       "30472                    2018-08-01  \n",
       "36580                    2017-06-02  "
      ]
     },
     "execution_count": 28,
     "metadata": {},
     "output_type": "execute_result"
    }
   ],
   "source": [
    "df_orders.sample(5)"
   ]
  },
  {
   "cell_type": "markdown",
   "metadata": {},
   "source": [
    "**Verification valeurs manquantes et types**"
   ]
  },
  {
   "cell_type": "code",
   "execution_count": 29,
   "metadata": {
    "scrolled": true
   },
   "outputs": [
    {
     "data": {
      "text/html": [
       "<div>\n",
       "<style scoped>\n",
       "    .dataframe tbody tr th:only-of-type {\n",
       "        vertical-align: middle;\n",
       "    }\n",
       "\n",
       "    .dataframe tbody tr th {\n",
       "        vertical-align: top;\n",
       "    }\n",
       "\n",
       "    .dataframe thead th {\n",
       "        text-align: right;\n",
       "    }\n",
       "</style>\n",
       "<table border=\"1\" class=\"dataframe\">\n",
       "  <thead>\n",
       "    <tr style=\"text-align: right;\">\n",
       "      <th></th>\n",
       "      <th>dataframe</th>\n",
       "      <th>column</th>\n",
       "      <th>qty_null_column</th>\n",
       "      <th>percent_null</th>\n",
       "      <th>dtype</th>\n",
       "      <th>qty_category_unique</th>\n",
       "    </tr>\n",
       "  </thead>\n",
       "  <tbody>\n",
       "    <tr>\n",
       "      <th>0</th>\n",
       "      <td>df_customers</td>\n",
       "      <td>customer_id</td>\n",
       "      <td>0</td>\n",
       "      <td>0.0</td>\n",
       "      <td>object</td>\n",
       "      <td>99441</td>\n",
       "    </tr>\n",
       "    <tr>\n",
       "      <th>1</th>\n",
       "      <td>df_customers</td>\n",
       "      <td>customer_unique_id</td>\n",
       "      <td>0</td>\n",
       "      <td>0.0</td>\n",
       "      <td>object</td>\n",
       "      <td>96096</td>\n",
       "    </tr>\n",
       "    <tr>\n",
       "      <th>2</th>\n",
       "      <td>df_customers</td>\n",
       "      <td>customer_zip_code_prefix</td>\n",
       "      <td>0</td>\n",
       "      <td>0.0</td>\n",
       "      <td>int64</td>\n",
       "      <td>14994</td>\n",
       "    </tr>\n",
       "    <tr>\n",
       "      <th>3</th>\n",
       "      <td>df_customers</td>\n",
       "      <td>customer_city</td>\n",
       "      <td>0</td>\n",
       "      <td>0.0</td>\n",
       "      <td>object</td>\n",
       "      <td>4119</td>\n",
       "    </tr>\n",
       "    <tr>\n",
       "      <th>4</th>\n",
       "      <td>df_customers</td>\n",
       "      <td>customer_state</td>\n",
       "      <td>0</td>\n",
       "      <td>0.0</td>\n",
       "      <td>object</td>\n",
       "      <td>27</td>\n",
       "    </tr>\n",
       "    <tr>\n",
       "      <th>...</th>\n",
       "      <td>...</td>\n",
       "      <td>...</td>\n",
       "      <td>...</td>\n",
       "      <td>...</td>\n",
       "      <td>...</td>\n",
       "      <td>...</td>\n",
       "    </tr>\n",
       "    <tr>\n",
       "      <th>47</th>\n",
       "      <td>df_sellers</td>\n",
       "      <td>seller_zip_code_prefix</td>\n",
       "      <td>0</td>\n",
       "      <td>0.0</td>\n",
       "      <td>int64</td>\n",
       "      <td>2246</td>\n",
       "    </tr>\n",
       "    <tr>\n",
       "      <th>48</th>\n",
       "      <td>df_sellers</td>\n",
       "      <td>seller_city</td>\n",
       "      <td>0</td>\n",
       "      <td>0.0</td>\n",
       "      <td>object</td>\n",
       "      <td>611</td>\n",
       "    </tr>\n",
       "    <tr>\n",
       "      <th>49</th>\n",
       "      <td>df_sellers</td>\n",
       "      <td>seller_state</td>\n",
       "      <td>0</td>\n",
       "      <td>0.0</td>\n",
       "      <td>object</td>\n",
       "      <td>23</td>\n",
       "    </tr>\n",
       "    <tr>\n",
       "      <th>50</th>\n",
       "      <td>df_translation</td>\n",
       "      <td>product_category_name</td>\n",
       "      <td>0</td>\n",
       "      <td>0.0</td>\n",
       "      <td>object</td>\n",
       "      <td>71</td>\n",
       "    </tr>\n",
       "    <tr>\n",
       "      <th>51</th>\n",
       "      <td>df_translation</td>\n",
       "      <td>product_category_name_english</td>\n",
       "      <td>0</td>\n",
       "      <td>0.0</td>\n",
       "      <td>object</td>\n",
       "      <td>71</td>\n",
       "    </tr>\n",
       "  </tbody>\n",
       "</table>\n",
       "<p>52 rows × 6 columns</p>\n",
       "</div>"
      ],
      "text/plain": [
       "         dataframe                         column  qty_null_column  \\\n",
       "0     df_customers                    customer_id                0   \n",
       "1     df_customers             customer_unique_id                0   \n",
       "2     df_customers       customer_zip_code_prefix                0   \n",
       "3     df_customers                  customer_city                0   \n",
       "4     df_customers                 customer_state                0   \n",
       "..             ...                            ...              ...   \n",
       "47      df_sellers         seller_zip_code_prefix                0   \n",
       "48      df_sellers                    seller_city                0   \n",
       "49      df_sellers                   seller_state                0   \n",
       "50  df_translation          product_category_name                0   \n",
       "51  df_translation  product_category_name_english                0   \n",
       "\n",
       "    percent_null   dtype  qty_category_unique  \n",
       "0            0.0  object                99441  \n",
       "1            0.0  object                96096  \n",
       "2            0.0   int64                14994  \n",
       "3            0.0  object                 4119  \n",
       "4            0.0  object                   27  \n",
       "..           ...     ...                  ...  \n",
       "47           0.0   int64                 2246  \n",
       "48           0.0  object                  611  \n",
       "49           0.0  object                   23  \n",
       "50           0.0  object                   71  \n",
       "51           0.0  object                   71  \n",
       "\n",
       "[52 rows x 6 columns]"
      ]
     },
     "execution_count": 29,
     "metadata": {},
     "output_type": "execute_result"
    }
   ],
   "source": [
    "overview_dict(dict_dataframes)"
   ]
  },
  {
   "cell_type": "markdown",
   "metadata": {},
   "source": [
    "### 1) traitement et assemblage pour segmentation RFM - 3 dimensions  "
   ]
  },
  {
   "cell_type": "markdown",
   "metadata": {},
   "source": [
    "RFM signifie Récence, Fréquence et Monétaire. Il s'agit d'une technique de segmentation des clients qui utilise le comportement d'achat passé pour diviser les clients en groupes.\n",
    "On va donc s'interesser a :\n",
    "\n",
    "-df_orders   \n",
    "-df_order_payments   \n",
    "-df_customers pour obtenir les id de clients uniques"
   ]
  },
  {
   "cell_type": "markdown",
   "metadata": {},
   "source": [
    "**copie**"
   ]
  },
  {
   "cell_type": "code",
   "execution_count": null,
   "metadata": {},
   "outputs": [],
   "source": [
    "df_customers_c = df_customers.copy()\n",
    "df_orders_c = df_orders.copy()\n",
    "df_order_payments_c = df_order_payments.copy()"
   ]
  },
  {
   "cell_type": "markdown",
   "metadata": {},
   "source": [
    "**merge df_orders / df_customers**"
   ]
  },
  {
   "cell_type": "code",
   "execution_count": null,
   "metadata": {},
   "outputs": [],
   "source": [
    "df_orders_c = df_orders_c.merge(\n",
    "    df_customers_c, how=\"left\", left_on=\"customer_id\", right_on=\"customer_id\"\n",
    ")"
   ]
  },
  {
   "cell_type": "code",
   "execution_count": null,
   "metadata": {},
   "outputs": [],
   "source": [
    "df_orders_c = df_orders_c.drop(\n",
    "    [\"customer_zip_code_prefix\", \"customer_city\", \"customer_state\"], axis=1\n",
    ")"
   ]
  },
  {
   "cell_type": "markdown",
   "metadata": {},
   "source": [
    "**visualisation des distributions**"
   ]
  },
  {
   "cell_type": "code",
   "execution_count": null,
   "metadata": {
    "scrolled": true
   },
   "outputs": [],
   "source": [
    "plot_sghisto(\n",
    "    df_orders_c,\n",
    "    dtype=\"all\",\n",
    "    title=\"df_orders : distribution des valeurs quantitatives et qualitatives\",\n",
    "    color=COLOR_SECONDARY,\n",
    ")"
   ]
  },
  {
   "cell_type": "code",
   "execution_count": null,
   "metadata": {},
   "outputs": [],
   "source": [
    "plot_sghisto(\n",
    "    df_order_payments_c,\n",
    "    dtype=\"all\",\n",
    "    title=\"df_order_payments : distribution des valeurs quantitatives et qualitatives\",\n",
    "    color=COLOR_PRIMARY,\n",
    ")"
   ]
  },
  {
   "cell_type": "markdown",
   "metadata": {},
   "source": [
    "**merge df_orders / df_order_payments**"
   ]
  },
  {
   "cell_type": "code",
   "execution_count": null,
   "metadata": {},
   "outputs": [],
   "source": [
    "df_rfm = df_orders_c.merge(\n",
    "    df_order_payments_c, how=\"left\", left_on=\"order_id\", right_on=\"order_id\"\n",
    ")"
   ]
  },
  {
   "cell_type": "code",
   "execution_count": null,
   "metadata": {},
   "outputs": [],
   "source": [
    "df_rfm[\"order_status\"].value_counts()"
   ]
  },
  {
   "cell_type": "code",
   "execution_count": null,
   "metadata": {},
   "outputs": [],
   "source": [
    "df_rfm[\"order_id\"].value_counts()"
   ]
  },
  {
   "cell_type": "code",
   "execution_count": null,
   "metadata": {},
   "outputs": [],
   "source": [
    "df_rfm.sample(10)"
   ]
  },
  {
   "cell_type": "markdown",
   "metadata": {},
   "source": [
    "**Traitement des ordres sans paiements**"
   ]
  },
  {
   "cell_type": "code",
   "execution_count": null,
   "metadata": {},
   "outputs": [],
   "source": [
    "df_rfm.isna().sum()"
   ]
  },
  {
   "cell_type": "code",
   "execution_count": null,
   "metadata": {},
   "outputs": [],
   "source": [
    "df_rfm.dropna(inplace=True)"
   ]
  },
  {
   "cell_type": "markdown",
   "metadata": {},
   "source": [
    "**Suppression des ordres non livrés**"
   ]
  },
  {
   "cell_type": "code",
   "execution_count": null,
   "metadata": {},
   "outputs": [],
   "source": [
    "df_rfm = df_rfm.loc[df_rfm[\"order_status\"] == \"delivered\"]"
   ]
  },
  {
   "cell_type": "code",
   "execution_count": null,
   "metadata": {},
   "outputs": [],
   "source": [
    "df_rfm[\"order_status\"].value_counts()"
   ]
  },
  {
   "cell_type": "code",
   "execution_count": null,
   "metadata": {},
   "outputs": [],
   "source": [
    "df_rfm.shape"
   ]
  },
  {
   "cell_type": "markdown",
   "metadata": {},
   "source": [
    "**Agrégation des données RFM**"
   ]
  },
  {
   "cell_type": "code",
   "execution_count": null,
   "metadata": {},
   "outputs": [],
   "source": [
    "# now = last date achat client\n",
    "NOW = dt.datetime(2018, 10, 25)\n",
    "\n",
    "df_rfm = df_rfm.groupby(\"customer_unique_id\").agg(\n",
    "    Recency=(\"order_purchase_timestamp\", lambda x: (NOW - x.max()).days),\n",
    "    Frequency=(\"order_id\", lambda x: len(x)),\n",
    "    MonetaryValue=(\"payment_value\", \"sum\"),\n",
    ")"
   ]
  },
  {
   "cell_type": "code",
   "execution_count": null,
   "metadata": {},
   "outputs": [],
   "source": [
    "df_rfm.sample(10)"
   ]
  },
  {
   "cell_type": "code",
   "execution_count": null,
   "metadata": {},
   "outputs": [],
   "source": [
    "# 94% des clients ne passent qu'un seul ordre\n",
    "df_rfm.describe(percentiles=[0.94])"
   ]
  },
  {
   "cell_type": "markdown",
   "metadata": {},
   "source": [
    "**Filtre outliers zscore 3std**"
   ]
  },
  {
   "cell_type": "code",
   "execution_count": null,
   "metadata": {},
   "outputs": [],
   "source": [
    "df_rfm.shape"
   ]
  },
  {
   "cell_type": "code",
   "execution_count": null,
   "metadata": {},
   "outputs": [],
   "source": [
    "# Kmeans sensible outliers, meilleure visualisation en 3d\n",
    "zscore = stats.zscore(df_rfm[\"MonetaryValue\"])\n",
    "df_rfm = df_rfm.loc[zscore < 3]"
   ]
  },
  {
   "cell_type": "code",
   "execution_count": null,
   "metadata": {},
   "outputs": [],
   "source": [
    "# Vérification du nombre de lignes supprimées\n",
    "df_rfm.shape"
   ]
  },
  {
   "cell_type": "markdown",
   "metadata": {},
   "source": [
    "**Visualisation avant export**"
   ]
  },
  {
   "cell_type": "markdown",
   "metadata": {},
   "source": [
    "Manifestement il n'y a presque que des clients avec une seule commande, le jeu de données parait anormal ou biaisé"
   ]
  },
  {
   "cell_type": "code",
   "execution_count": null,
   "metadata": {},
   "outputs": [],
   "source": [
    "plot_sghisto(\n",
    "    df_rfm,\n",
    "    dtype=\"all\",\n",
    "    title=\"df_rfm : distribution des valeurs quantitatives et qualitatives\",\n",
    "    color=COLOR_TERTIARY,\n",
    ")"
   ]
  },
  {
   "cell_type": "code",
   "execution_count": null,
   "metadata": {},
   "outputs": [],
   "source": [
    "ax = sns.boxplot(x=df_rfm[\"Frequency\"], data=df_rfm)"
   ]
  },
  {
   "cell_type": "markdown",
   "metadata": {},
   "source": [
    "**Export des données pour segmentation RFM**"
   ]
  },
  {
   "cell_type": "code",
   "execution_count": null,
   "metadata": {},
   "outputs": [],
   "source": [
    "df_rfm.to_csv(\"data/df_rfm.csv\")"
   ]
  },
  {
   "cell_type": "markdown",
   "metadata": {},
   "source": [
    "### 2) traitement et assemblage pour segmentation avançée - N dimensions"
   ]
  },
  {
   "cell_type": "markdown",
   "metadata": {},
   "source": [
    "**copie**"
   ]
  },
  {
   "cell_type": "code",
   "execution_count": null,
   "metadata": {},
   "outputs": [],
   "source": [
    "df_customers_c = df_customers.copy()\n",
    "df_geolocalisation_c = df_geolocalisation.copy()\n",
    "df_order_items_c = df_order_items.copy()\n",
    "df_order_payments_c = df_order_payments.copy()\n",
    "df_order_reviews_c = df_order_reviews.copy()\n",
    "df_orders_c = df_orders.copy()\n",
    "df_products_c = df_products.copy()\n",
    "df_sellers_c = df_sellers.copy()\n",
    "df_translation_c = df_translation.copy()"
   ]
  },
  {
   "cell_type": "markdown",
   "metadata": {},
   "source": [
    "**augmentation sur translation par ajout des 4 types de produits**"
   ]
  },
  {
   "cell_type": "code",
   "execution_count": null,
   "metadata": {},
   "outputs": [],
   "source": [
    "mapper_categories_to_four_types = {\n",
    "    \"health_beauty\": \"convenience\",\n",
    "    \"computers_accessories\": \"shopping\",\n",
    "    \"auto\": \"shopping\",\n",
    "    \"bed_bath_table\": \"shopping\",\n",
    "    \"furniture_decor\": \"shopping\",\n",
    "    \"sports_leisure\": \"shopping\",\n",
    "    \"perfumery\": \"convenience\",\n",
    "    \"housewares\": \"shopping\",\n",
    "    \"telephony\": \"shopping\",\n",
    "    \"watches_gifts\": \"shopping\",\n",
    "    \"food_drink\": \"convenience\",\n",
    "    \"baby\": \"convenience\",\n",
    "    \"stationery\": \"shopping\",\n",
    "    \"tablets_printing_image\": \"shopping\",\n",
    "    \"toys\": \"shopping\",\n",
    "    \"fixed_telephony\": \"shopping\",\n",
    "    \"garden_tools\": \"shopping\",\n",
    "    \"fashion_bags_accessories\": \"shopping\",\n",
    "    \"small_appliances\": \"shopping\",\n",
    "    \"consoles_games\": \"shopping\",\n",
    "    \"audio\": \"shopping\",\n",
    "    \"fashion_shoes\": \"shopping\",\n",
    "    \"cool_stuff\": \"other\",\n",
    "    \"luggage_accessories\": \"shopping\",\n",
    "    \"air_conditioning\": \"shopping\",\n",
    "    \"construction_tools_construction\": \"shopping\",\n",
    "    \"kitchen_dining_laundry_garden_furniture\": \"shopping\",\n",
    "    \"costruction_tools_garden\": \"shopping\",\n",
    "    \"fashion_male_clothing\": \"shopping\",\n",
    "    \"pet_shop\": \"convenience\",\n",
    "    \"office_furniture\": \"shopping\",\n",
    "    \"market_place\": \"specialty\",\n",
    "    \"electronics\": \"shopping\",\n",
    "    \"home_appliances\": \"shopping\",\n",
    "    \"party_supplies\": \"shopping\",\n",
    "    \"home_confort\": \"shopping\",\n",
    "    \"costruction_tools_tools\": \"shopping\",\n",
    "    \"agro_industry_and_commerce\": \"specialty\",\n",
    "    \"furniture_mattress_and_upholstery\": \"shopping\",\n",
    "    \"books_technical\": \"specialty\",\n",
    "    \"home_construction\": \"shopping\",\n",
    "    \"musical_instruments\": \"specialty\",\n",
    "    \"furniture_living_room\": \"shopping\",\n",
    "    \"construction_tools_lights\": \"shopping\",\n",
    "    \"industry_commerce_and_business\": \"specialty\",\n",
    "    \"food\": \"convenience\",\n",
    "    \"art\": \"shopping\",\n",
    "    \"furniture_bedroom\": \"shopping\",\n",
    "    \"books_general_interest\": \"shopping\",\n",
    "    \"construction_tools_safety\": \"shopping\",\n",
    "    \"fashion_underwear_beach\": \"shopping\",\n",
    "    \"fashion_sport\": \"shopping\",\n",
    "    \"signaling_and_security\": \"specialty\",\n",
    "    \"computers\": \"shopping\",\n",
    "    \"christmas_supplies\": \"shopping\",\n",
    "    \"fashio_female_clothing\": \"shopping\",\n",
    "    \"home_appliances_2\": \"shopping\",\n",
    "    \"books_imported\": \"shopping\",\n",
    "    \"drinks\": \"convenience\",\n",
    "    \"cine_photo\": \"shopping\",\n",
    "    \"la_cuisine\": \"shopping\",\n",
    "    \"music\": \"shopping\",\n",
    "    \"home_comfort_2\": \"shopping\",\n",
    "    \"small_appliances_home_oven_and_coffee\": \"shopping\",\n",
    "    \"cds_dvds_musicals\": \"shopping\",\n",
    "    \"dvds_blu_ray\": \"shopping\",\n",
    "    \"flowers\": \"convenience\",\n",
    "    \"arts_and_craftmanship\": \"shopping\",\n",
    "    \"diapers_and_hygiene\": \"convenience\",\n",
    "    \"fashion_childrens_clothes\": \"shopping\",\n",
    "    \"security_and_services\": \"specialty\",\n",
    "    \"unknown\": \"other\",\n",
    "    \"pc_gamer\": \"shopping\",\n",
    "}"
   ]
  },
  {
   "cell_type": "code",
   "execution_count": null,
   "metadata": {},
   "outputs": [],
   "source": [
    "for key, value in mapper_categories_to_four_types.items():\n",
    "    index = df_translation_c[\n",
    "        df_translation_c[\"product_category_name_english\"] == key\n",
    "    ].index\n",
    "    df_translation_c.loc[index, \"product_type\"] = value"
   ]
  },
  {
   "cell_type": "code",
   "execution_count": null,
   "metadata": {},
   "outputs": [],
   "source": [
    "df_translation_c.head(2)"
   ]
  },
  {
   "cell_type": "markdown",
   "metadata": {},
   "source": [
    "**augmentation sur order par ajout temps de livraison**"
   ]
  },
  {
   "cell_type": "code",
   "execution_count": null,
   "metadata": {},
   "outputs": [],
   "source": [
    "df_orders_c[\"delivery_time\"] = (\n",
    "    df_orders_c[\"order_delivered_customer_date\"]\n",
    "    - df_orders_c[\"order_purchase_timestamp\"]\n",
    ")"
   ]
  },
  {
   "cell_type": "code",
   "execution_count": null,
   "metadata": {},
   "outputs": [],
   "source": [
    "delivery_time_mean = df_orders_c[\n",
    "    df_orders_c[\"order_delivered_customer_date\"]\n",
    "    > df_orders_c[\"order_purchase_timestamp\"]\n",
    "][\"delivery_time\"].mean()"
   ]
  },
  {
   "cell_type": "code",
   "execution_count": null,
   "metadata": {},
   "outputs": [],
   "source": [
    "def check_valeurs(x):\n",
    "    if x.total_seconds() < 0:\n",
    "        x = delivery_time_mean\n",
    "    return x"
   ]
  },
  {
   "cell_type": "code",
   "execution_count": null,
   "metadata": {},
   "outputs": [],
   "source": [
    "# correction des valeurs aberrantes, replace par la moyenne\n",
    "df_orders_c[\"delivery_time\"] = df_orders_c.loc[:, \"delivery_time\"].map(check_valeurs)"
   ]
  },
  {
   "cell_type": "code",
   "execution_count": null,
   "metadata": {},
   "outputs": [],
   "source": [
    "df_orders_c[\"delivery_time\"].describe()"
   ]
  },
  {
   "cell_type": "code",
   "execution_count": null,
   "metadata": {},
   "outputs": [],
   "source": [
    "def conversion_timedelta(x):\n",
    "    return x.total_seconds()"
   ]
  },
  {
   "cell_type": "code",
   "execution_count": null,
   "metadata": {},
   "outputs": [],
   "source": [
    "# conversion en seconde\n",
    "df_orders_c[\"delivery_time_s\"] = df_orders_c.loc[:, \"delivery_time\"].map(\n",
    "    conversion_timedelta\n",
    ")"
   ]
  },
  {
   "cell_type": "code",
   "execution_count": null,
   "metadata": {},
   "outputs": [],
   "source": [
    "df_orders_c[\"delivery_time_s\"].describe()"
   ]
  },
  {
   "cell_type": "markdown",
   "metadata": {},
   "source": [
    "**merge et observer**"
   ]
  },
  {
   "cell_type": "code",
   "execution_count": null,
   "metadata": {},
   "outputs": [],
   "source": [
    "ordres_par_client = pd.merge(\n",
    "    df_orders_c,\n",
    "    df_customers_c,\n",
    "    how=\"left\",\n",
    "    left_on=\"customer_id\",\n",
    "    right_on=\"customer_id\",\n",
    ")\n",
    "ordres_par_client.head(2)"
   ]
  },
  {
   "cell_type": "code",
   "execution_count": null,
   "metadata": {},
   "outputs": [],
   "source": [
    "paiements_ordres_par_client = pd.merge(\n",
    "    df_order_payments_c,\n",
    "    ordres_par_client,\n",
    "    how=\"left\",\n",
    "    left_on=\"order_id\",\n",
    "    right_on=\"order_id\",\n",
    ")\n",
    "paiements_ordres_par_client.head(2)"
   ]
  },
  {
   "cell_type": "code",
   "execution_count": null,
   "metadata": {},
   "outputs": [],
   "source": [
    "df_order_items_c = pd.merge(\n",
    "    df_order_items_c,\n",
    "    df_products_c,\n",
    "    how=\"left\",\n",
    "    left_on=\"product_id\",\n",
    "    right_on=\"product_id\",\n",
    ")\n",
    "df_order_items_c = pd.merge(\n",
    "    df_order_items_c,\n",
    "    df_translation_c,\n",
    "    how=\"left\",\n",
    "    left_on=\"product_category_name\",\n",
    "    right_on=\"product_category_name\",\n",
    ")\n",
    "df_order_items_c.head(2)"
   ]
  },
  {
   "cell_type": "code",
   "execution_count": null,
   "metadata": {},
   "outputs": [],
   "source": [
    "produits_par_ordre = pd.merge(\n",
    "    df_orders_c, df_order_items_c, how=\"left\", left_on=\"order_id\", right_on=\"order_id\"\n",
    ")\n",
    "produits_par_ordre.head(2)\n",
    "produits_par_ordre"
   ]
  },
  {
   "cell_type": "code",
   "execution_count": null,
   "metadata": {},
   "outputs": [],
   "source": [
    "produits_par_client = pd.merge(\n",
    "    produits_par_ordre,\n",
    "    df_customers_c,\n",
    "    how=\"left\",\n",
    "    left_on=\"customer_id\",\n",
    "    right_on=\"customer_id\",\n",
    ")\n",
    "produits_par_client.head(2)"
   ]
  },
  {
   "cell_type": "code",
   "execution_count": null,
   "metadata": {},
   "outputs": [],
   "source": [
    "reviews_par_client = pd.merge(\n",
    "    df_order_reviews_c,\n",
    "    ordres_par_client,\n",
    "    how=\"left\",\n",
    "    left_on=\"order_id\",\n",
    "    right_on=\"order_id\",\n",
    "    validate=\"many_to_one\",\n",
    ")\n",
    "reviews_par_client.head(2)"
   ]
  },
  {
   "cell_type": "markdown",
   "metadata": {},
   "source": [
    "**feature engineering**"
   ]
  },
  {
   "cell_type": "code",
   "execution_count": null,
   "metadata": {},
   "outputs": [],
   "source": [
    "# Nombre d'ordres par client\n",
    "nb_ordres = ordres_par_client.groupby(\"customer_unique_id\").agg(\n",
    "    nb_ordres=(\"order_id\", \"count\")\n",
    ")\n",
    "nb_ordres"
   ]
  },
  {
   "cell_type": "code",
   "execution_count": null,
   "metadata": {},
   "outputs": [],
   "source": [
    "# stats sur paiements par client\n",
    "paiements = paiements_ordres_par_client.groupby([\"customer_unique_id\"]).agg(\n",
    "    mean_paiements=(\"payment_value\", \"mean\"),\n",
    "    sum_paiements=(\"payment_value\", \"sum\"),\n",
    ")\n",
    "paiements"
   ]
  },
  {
   "cell_type": "code",
   "execution_count": null,
   "metadata": {
    "scrolled": true
   },
   "outputs": [],
   "source": [
    "# Nombre de paiements pour differents moyens de paiement par client (boleto\tcredit_card\tdebit_card\tnot_defined\tvoucher)\n",
    "nb_paiements_pour_differents_moyens_de_paiement = pd.crosstab(\n",
    "    paiements_ordres_par_client[\"customer_unique_id\"],\n",
    "    paiements_ordres_par_client[\"payment_type\"],\n",
    ")\n",
    "nb_paiements_pour_differents_moyens_de_paiement"
   ]
  },
  {
   "cell_type": "code",
   "execution_count": null,
   "metadata": {},
   "outputs": [],
   "source": [
    "# Nombre de paiements\n",
    "nb_paiements = nb_paiements_pour_differents_moyens_de_paiement.sum(axis=1)"
   ]
  },
  {
   "cell_type": "code",
   "execution_count": null,
   "metadata": {},
   "outputs": [],
   "source": [
    "# Ratio des differents moyens de paiement par client\n",
    "ratio_differents_moyens_de_paiement = nb_paiements_pour_differents_moyens_de_paiement.divide(\n",
    "    nb_paiements, axis=0\n",
    ")"
   ]
  },
  {
   "cell_type": "code",
   "execution_count": null,
   "metadata": {},
   "outputs": [],
   "source": [
    "# verification du ratio\n",
    "ratio_differents_moyens_de_paiement.sum(axis=1).describe()"
   ]
  },
  {
   "cell_type": "code",
   "execution_count": null,
   "metadata": {},
   "outputs": [],
   "source": [
    "# Nombre de produits achetés par client\n",
    "nb_produits_achetes = produits_par_client.groupby(\"customer_unique_id\").agg(\n",
    "    nb_produits_achetes=(\"order_item_id\", \"count\")\n",
    ")\n",
    "nb_produits_achetes"
   ]
  },
  {
   "cell_type": "code",
   "execution_count": null,
   "metadata": {},
   "outputs": [],
   "source": [
    "# Certains clients ont un ordre mais pas de produits achetés car l'ordre a été annulé ou indisponible\n",
    "ordres_par_client[\n",
    "    ordres_par_client[\"customer_unique_id\"] == \"009b0127b727ab0ba422f6d9604487c7\"\n",
    "]"
   ]
  },
  {
   "cell_type": "code",
   "execution_count": null,
   "metadata": {},
   "outputs": [],
   "source": [
    "# Nombre moyen de produits achetés par ordre et par client\n",
    "nb_moyen_produits_achetes_par_ordre = (\n",
    "    nb_produits_achetes[\"nb_produits_achetes\"] / nb_ordres[\"nb_ordres\"]\n",
    ").to_frame(name=\"nb_moyen_produits_achetes_par_ordre\")"
   ]
  },
  {
   "cell_type": "code",
   "execution_count": null,
   "metadata": {},
   "outputs": [],
   "source": [
    "# Nombre de comptes clients par client\n",
    "nb_comptes = df_customers_c.groupby(\"customer_unique_id\").agg(\n",
    "    nb_comptes=(\"customer_id\", \"count\")\n",
    ")\n",
    "nb_comptes"
   ]
  },
  {
   "cell_type": "code",
   "execution_count": null,
   "metadata": {},
   "outputs": [],
   "source": [
    "# stats notes du client\n",
    "notes = reviews_par_client.groupby(\"customer_unique_id\").agg(\n",
    "    mean_note=(\"review_score\", \"mean\"),\n",
    ")\n",
    "notes"
   ]
  },
  {
   "cell_type": "code",
   "execution_count": null,
   "metadata": {},
   "outputs": [],
   "source": [
    "# Nombre d'ordres pour chaque categories\n",
    "nb_ordres_categories = pd.crosstab(\n",
    "    produits_par_client[\"customer_unique_id\"],\n",
    "    produits_par_client[\"product_category_name_english\"],\n",
    ")\n",
    "nb_ordres_categories"
   ]
  },
  {
   "cell_type": "code",
   "execution_count": null,
   "metadata": {},
   "outputs": [],
   "source": [
    "# Nombre d'ordres des clients ayants commandés\n",
    "nb_ordres_not_na = nb_ordres_categories.sum(axis=1)"
   ]
  },
  {
   "cell_type": "code",
   "execution_count": null,
   "metadata": {},
   "outputs": [],
   "source": [
    "nb_ordres_categories.describe()"
   ]
  },
  {
   "cell_type": "code",
   "execution_count": null,
   "metadata": {},
   "outputs": [],
   "source": [
    "# Ratio des differents moyens de paiement par client\n",
    "ratio_ordres_categories = nb_ordres_categories.divide(nb_ordres_not_na, axis=0)"
   ]
  },
  {
   "cell_type": "code",
   "execution_count": null,
   "metadata": {},
   "outputs": [],
   "source": [
    "# verification du ratio\n",
    "ratio_ordres_categories.sum(axis=1).sum()"
   ]
  },
  {
   "cell_type": "code",
   "execution_count": null,
   "metadata": {},
   "outputs": [],
   "source": [
    "# Nombre d'ordres pour differents types de produits ( 1-4)\n",
    "nb_ordres_types = pd.crosstab(\n",
    "    produits_par_client[\"customer_unique_id\"], produits_par_client[\"product_type\"]\n",
    ")\n",
    "nb_ordres_types"
   ]
  },
  {
   "cell_type": "code",
   "execution_count": null,
   "metadata": {},
   "outputs": [],
   "source": [
    "# Ratio des differents types de produits\n",
    "ratio_ordres_types = nb_ordres_types.divide(nb_ordres_types.sum(axis=1), axis=0)"
   ]
  },
  {
   "cell_type": "code",
   "execution_count": null,
   "metadata": {},
   "outputs": [],
   "source": [
    "# verification du ratio\n",
    "ratio_ordres_types.sum(axis=1).sum()"
   ]
  },
  {
   "cell_type": "code",
   "execution_count": null,
   "metadata": {},
   "outputs": [],
   "source": [
    "# Montant total depensé par client pour differents types de produits ( 1-4) hors frais\n",
    "\n",
    "montant_total_types = produits_par_client.groupby(\n",
    "    [\"customer_unique_id\", \"product_type\"]\n",
    ").agg(montant_total_types=(\"price\", \"sum\"))\n",
    "montant_total_types = montant_total_types.unstack().fillna(0)\n",
    "montant_total_types = montant_total_types[\"montant_total_types\"]\n",
    "montant_total_types = montant_total_types.add_prefix(\"montant_total_\")\n",
    "montant_total_types"
   ]
  },
  {
   "cell_type": "code",
   "execution_count": null,
   "metadata": {},
   "outputs": [],
   "source": [
    "# stats sur delais de livraison par client\n",
    "delais_livraison = ordres_par_client.groupby([\"customer_unique_id\"]).agg(\n",
    "    mean_delivery_time=(\"delivery_time_s\", \"mean\"),\n",
    ")\n",
    "delais_livraison"
   ]
  },
  {
   "cell_type": "code",
   "execution_count": null,
   "metadata": {},
   "outputs": [],
   "source": [
    "# buckets sur delais de livraison par client\n",
    "max_delais_livraison = delais_livraison[\"max_delivery_time\"].max()\n",
    "# 0-3j-7j-14j-60j\n",
    "bins = pd.IntervalIndex.from_tuples(\n",
    "    [(0, 259200), (259200, 604800), (604800, 1209600), (1209600, max_delais_livraison)]\n",
    ")\n",
    "\n",
    "delais_livraisons_buckets = (\n",
    "    ordres_par_client.groupby(\n",
    "        [\"customer_unique_id\", pd.cut(ordres_par_client.delivery_time_s, bins=bins)]\n",
    "    )\n",
    "    .size()\n",
    "    .unstack()\n",
    ")"
   ]
  },
  {
   "cell_type": "code",
   "execution_count": null,
   "metadata": {},
   "outputs": [],
   "source": [
    "# rename columns\n",
    "columns = pd.CategoricalIndex(\n",
    "    [\n",
    "        \"delais_livraisons_0_3j\",\n",
    "        \"delais_livraisons_3_7j\",\n",
    "        \"delais_livraisons_7_14j\",\n",
    "        \"delais_livraisons_14_maxj\",\n",
    "    ]\n",
    ")\n",
    "delais_livraisons_buckets.columns = columns"
   ]
  },
  {
   "cell_type": "code",
   "execution_count": null,
   "metadata": {},
   "outputs": [],
   "source": [
    "# Ratio delais_livraisons_buckets\n",
    "ratio_delais_livraisons_buckets = delais_livraisons_buckets.divide(\n",
    "    delais_livraisons_buckets.sum(axis=1), axis=0\n",
    ")"
   ]
  },
  {
   "cell_type": "code",
   "execution_count": null,
   "metadata": {},
   "outputs": [],
   "source": [
    "ratio_delais_livraisons_buckets.describe()"
   ]
  },
  {
   "cell_type": "code",
   "execution_count": null,
   "metadata": {},
   "outputs": [],
   "source": [
    "# verification du ratio\n",
    "ratio_delais_livraisons_buckets.sum(axis=1).sum()"
   ]
  },
  {
   "cell_type": "code",
   "execution_count": null,
   "metadata": {},
   "outputs": [],
   "source": [
    "# recency\n",
    "NOW = dt.datetime(2018, 10, 25)\n",
    "\n",
    "recency = ordres_par_client.groupby(\"customer_unique_id\").agg(\n",
    "    recency=(\"order_purchase_timestamp\", lambda x: (NOW - x.max()).days)\n",
    ")"
   ]
  },
  {
   "cell_type": "code",
   "execution_count": null,
   "metadata": {},
   "outputs": [],
   "source": [
    "recency"
   ]
  },
  {
   "cell_type": "markdown",
   "metadata": {},
   "source": [
    "**Création du dataframe de features**"
   ]
  },
  {
   "cell_type": "code",
   "execution_count": null,
   "metadata": {},
   "outputs": [],
   "source": [
    "list_df_features = [\n",
    "    paiements,\n",
    "    #ratio_differents_moyens_de_paiement,\n",
    "    nb_moyen_produits_achetes_par_ordre,\n",
    "    nb_ordres,\n",
    "    nb_comptes,\n",
    "    notes,\n",
    "    #ratio_ordres_categories,\n",
    "    #ratio_ordres_types,\n",
    "    #montant_total_types,\n",
    "    delais_livraison,\n",
    "    #ratio_delais_livraisons_buckets,\n",
    "    recency,\n",
    "]\n",
    "df_customers = pd.DataFrame({})\n",
    "for df in list_df_features:\n",
    "    df_customers = pd.merge(\n",
    "        df_customers, df, how=\"outer\", left_index=True, right_index=True\n",
    "    )"
   ]
  },
  {
   "cell_type": "code",
   "execution_count": null,
   "metadata": {},
   "outputs": [],
   "source": [
    "df_customers.sample(5)"
   ]
  },
  {
   "cell_type": "code",
   "execution_count": null,
   "metadata": {},
   "outputs": [],
   "source": [
    "pd.set_option(\"display.max_rows\", 100)\n",
    "df_customers.isna().sum()"
   ]
  },
  {
   "cell_type": "code",
   "execution_count": null,
   "metadata": {},
   "outputs": [],
   "source": [
    "# Suppression des valeurs ayant un probleme d'intégrité sur orderid (hard delete sur bdd)\n",
    "# Personne ayant commandé et payé puis annulé\n",
    "df_customers = df_customers.dropna()"
   ]
  },
  {
   "cell_type": "markdown",
   "metadata": {},
   "source": [
    "**Export des données pour segmentation a posteriori**"
   ]
  },
  {
   "cell_type": "code",
   "execution_count": null,
   "metadata": {},
   "outputs": [],
   "source": [
    "df_customers.to_csv(\"data/df_customers_red.csv\")"
   ]
  },
  {
   "cell_type": "markdown",
   "metadata": {},
   "source": [
    "### 3) Exploration"
   ]
  },
  {
   "cell_type": "code",
   "execution_count": null,
   "metadata": {},
   "outputs": [],
   "source": [
    "# Affiche en plusieurs bloc carré de taille size_squared la distribution de chaque colonnes dans dataframe\n",
    "def plot_sghisto_blocks(dataframe, size_squared, title=\"\", color=COLOR_PRIMARY):\n",
    "    for i, j in zip(\n",
    "        range(0, dataframe.shape[1], size_squared),\n",
    "        range(size_squared, dataframe.shape[1] + size_squared, size_squared),\n",
    "    ):\n",
    "        if j > dataframe.shape[1]:\n",
    "            j = dataframe.shape[1]\n",
    "        title_ij = f\"{title} {i} : {j}\"\n",
    "        plot_sghisto(dataframe.iloc[:, i:j], dtype=\"all\", title=title_ij, color=color)\n",
    "\n",
    "\n",
    "plot_sghisto_blocks(df_customers, 3 * 3, title=\"df_customers\", color=COLOR_PRIMARY)"
   ]
  },
  {
   "cell_type": "code",
   "execution_count": null,
   "metadata": {},
   "outputs": [],
   "source": [
    "df_corr = df_customers.corr()"
   ]
  },
  {
   "cell_type": "code",
   "execution_count": null,
   "metadata": {},
   "outputs": [],
   "source": [
    "plt.figure(figsize=(30, 28))\n",
    "plt.title(\"Matrice de corrélation\")\n",
    "sns.heatmap(df_corr)"
   ]
  },
  {
   "cell_type": "code",
   "execution_count": null,
   "metadata": {},
   "outputs": [],
   "source": [
    "# Masque permettant de ne garder que les variables ayant des hautes corrélations (sauf identité)\n",
    "mask = df_corr[~((df_corr <= 0.7) & (df_corr >= -0.7)) & (df_corr != 1)].notna().any()"
   ]
  },
  {
   "cell_type": "code",
   "execution_count": null,
   "metadata": {},
   "outputs": [],
   "source": [
    "plt.figure(figsize=(12, 12))\n",
    "plt.title(\"Matrice de corrélation - réduite\")\n",
    "sns.heatmap(df_corr.loc[mask, mask])"
   ]
  },
  {
   "cell_type": "markdown",
   "metadata": {},
   "source": [
    "### 4) Traitement pour segmentation avançée - Frequence de mise a jour"
   ]
  },
  {
   "cell_type": "markdown",
   "metadata": {},
   "source": [
    "On va générer pour tous les mois l'état de nos clients depuis 2 ans pour observer si les clusters sont différents."
   ]
  },
  {
   "cell_type": "code",
   "execution_count": 40,
   "metadata": {},
   "outputs": [],
   "source": [
    "import dateutil.relativedelta\n",
    "\n",
    "# On genere les dates\n",
    "times = [ dt.datetime(2018, 10, 25) - dateutil.relativedelta.relativedelta(months=i) for i in range(0,15)]"
   ]
  },
  {
   "cell_type": "code",
   "execution_count": 39,
   "metadata": {},
   "outputs": [],
   "source": [
    "for i, time_to_get_back in enumerate(times):\n",
    "    \n",
    "    df_customers_c = df_customers.copy()\n",
    "    df_geolocalisation_c = df_geolocalisation.copy()\n",
    "    df_order_items_c = df_order_items.copy()\n",
    "    df_order_payments_c = df_order_payments.copy()\n",
    "    df_order_reviews_c = df_order_reviews.copy()\n",
    "    df_orders_c = df_orders.copy()\n",
    "    df_products_c = df_products.copy()\n",
    "    df_sellers_c = df_sellers.copy()\n",
    "    df_translation_c = df_translation.copy()\n",
    "\n",
    "    # On retire les ordres de plus de 6 mois\n",
    "    df_orders_c= df_orders_c[df_orders_c['order_purchase_timestamp'] < time_to_get_back ]\n",
    "\n",
    "    # On retire les clients sans ordres\n",
    "    client_par_ordres = pd.merge(\n",
    "        df_customers_c,\n",
    "        df_orders_c,\n",
    "        how=\"left\",\n",
    "        left_on=\"customer_id\",\n",
    "        right_on=\"customer_id\",\n",
    "    )\n",
    "    client_par_ordres= client_par_ordres[~client_par_ordres['order_id'].isna()]\n",
    "    df_customers_c = df_customers_c.iloc[client_par_ordres.index]\n",
    "\n",
    "    # On execute le même traitement\n",
    "    mapper_categories_to_four_types = {\n",
    "        \"health_beauty\": \"convenience\",\n",
    "        \"computers_accessories\": \"shopping\",\n",
    "        \"auto\": \"shopping\",\n",
    "        \"bed_bath_table\": \"shopping\",\n",
    "        \"furniture_decor\": \"shopping\",\n",
    "        \"sports_leisure\": \"shopping\",\n",
    "        \"perfumery\": \"convenience\",\n",
    "        \"housewares\": \"shopping\",\n",
    "        \"telephony\": \"shopping\",\n",
    "        \"watches_gifts\": \"shopping\",\n",
    "        \"food_drink\": \"convenience\",\n",
    "        \"baby\": \"convenience\",\n",
    "        \"stationery\": \"shopping\",\n",
    "        \"tablets_printing_image\": \"shopping\",\n",
    "        \"toys\": \"shopping\",\n",
    "        \"fixed_telephony\": \"shopping\",\n",
    "        \"garden_tools\": \"shopping\",\n",
    "        \"fashion_bags_accessories\": \"shopping\",\n",
    "        \"small_appliances\": \"shopping\",\n",
    "        \"consoles_games\": \"shopping\",\n",
    "        \"audio\": \"shopping\",\n",
    "        \"fashion_shoes\": \"shopping\",\n",
    "        \"cool_stuff\": \"other\",\n",
    "        \"luggage_accessories\": \"shopping\",\n",
    "        \"air_conditioning\": \"shopping\",\n",
    "        \"construction_tools_construction\": \"shopping\",\n",
    "        \"kitchen_dining_laundry_garden_furniture\": \"shopping\",\n",
    "        \"costruction_tools_garden\": \"shopping\",\n",
    "        \"fashion_male_clothing\": \"shopping\",\n",
    "        \"pet_shop\": \"convenience\",\n",
    "        \"office_furniture\": \"shopping\",\n",
    "        \"market_place\": \"specialty\",\n",
    "        \"electronics\": \"shopping\",\n",
    "        \"home_appliances\": \"shopping\",\n",
    "        \"party_supplies\": \"shopping\",\n",
    "        \"home_confort\": \"shopping\",\n",
    "        \"costruction_tools_tools\": \"shopping\",\n",
    "        \"agro_industry_and_commerce\": \"specialty\",\n",
    "        \"furniture_mattress_and_upholstery\": \"shopping\",\n",
    "        \"books_technical\": \"specialty\",\n",
    "        \"home_construction\": \"shopping\",\n",
    "        \"musical_instruments\": \"specialty\",\n",
    "        \"furniture_living_room\": \"shopping\",\n",
    "        \"construction_tools_lights\": \"shopping\",\n",
    "        \"industry_commerce_and_business\": \"specialty\",\n",
    "        \"food\": \"convenience\",\n",
    "        \"art\": \"shopping\",\n",
    "        \"furniture_bedroom\": \"shopping\",\n",
    "        \"books_general_interest\": \"shopping\",\n",
    "        \"construction_tools_safety\": \"shopping\",\n",
    "        \"fashion_underwear_beach\": \"shopping\",\n",
    "        \"fashion_sport\": \"shopping\",\n",
    "        \"signaling_and_security\": \"specialty\",\n",
    "        \"computers\": \"shopping\",\n",
    "        \"christmas_supplies\": \"shopping\",\n",
    "        \"fashio_female_clothing\": \"shopping\",\n",
    "        \"home_appliances_2\": \"shopping\",\n",
    "        \"books_imported\": \"shopping\",\n",
    "        \"drinks\": \"convenience\",\n",
    "        \"cine_photo\": \"shopping\",\n",
    "        \"la_cuisine\": \"shopping\",\n",
    "        \"music\": \"shopping\",\n",
    "        \"home_comfort_2\": \"shopping\",\n",
    "        \"small_appliances_home_oven_and_coffee\": \"shopping\",\n",
    "        \"cds_dvds_musicals\": \"shopping\",\n",
    "        \"dvds_blu_ray\": \"shopping\",\n",
    "        \"flowers\": \"convenience\",\n",
    "        \"arts_and_craftmanship\": \"shopping\",\n",
    "        \"diapers_and_hygiene\": \"convenience\",\n",
    "        \"fashion_childrens_clothes\": \"shopping\",\n",
    "        \"security_and_services\": \"specialty\",\n",
    "        \"unknown\": \"other\",\n",
    "        \"pc_gamer\": \"shopping\",\n",
    "    }\n",
    "\n",
    "    for key, value in mapper_categories_to_four_types.items():\n",
    "        index = df_translation_c[\n",
    "            df_translation_c[\"product_category_name_english\"] == key\n",
    "        ].index\n",
    "        df_translation_c.loc[index, \"product_type\"] = value\n",
    "\n",
    "\n",
    "    df_orders_c[\"delivery_time\"] = (\n",
    "        df_orders_c[\"order_delivered_customer_date\"]\n",
    "        - df_orders_c[\"order_purchase_timestamp\"]\n",
    "    )\n",
    "\n",
    "    delivery_time_mean = df_orders_c[\n",
    "        df_orders_c[\"order_delivered_customer_date\"]\n",
    "        > df_orders_c[\"order_purchase_timestamp\"]\n",
    "    ][\"delivery_time\"].mean()\n",
    "\n",
    "    def check_valeurs(x):\n",
    "        if x.total_seconds() < 0:\n",
    "            x = delivery_time_mean\n",
    "        return x\n",
    "\n",
    "    # correction des valeurs aberrantes, replace par la moyenne\n",
    "    df_orders_c[\"delivery_time\"] = df_orders_c.loc[:, \"delivery_time\"].map(check_valeurs)\n",
    "\n",
    "    def conversion_timedelta(x):\n",
    "        return x.total_seconds()\n",
    "\n",
    "    # conversion en seconde\n",
    "    df_orders_c[\"delivery_time_s\"] = df_orders_c.loc[:, \"delivery_time\"].map(\n",
    "        conversion_timedelta\n",
    "    )\n",
    "\n",
    "    ordres_par_client = pd.merge(\n",
    "        df_orders_c,\n",
    "        df_customers_c,\n",
    "        how=\"left\",\n",
    "        left_on=\"customer_id\",\n",
    "        right_on=\"customer_id\",\n",
    "    )\n",
    "\n",
    "    paiements_ordres_par_client = pd.merge(\n",
    "        df_order_payments_c,\n",
    "        ordres_par_client,\n",
    "        how=\"left\",\n",
    "        left_on=\"order_id\",\n",
    "        right_on=\"order_id\",\n",
    "    )\n",
    "\n",
    "    df_order_items_c = pd.merge(\n",
    "        df_order_items_c,\n",
    "        df_products_c,\n",
    "        how=\"left\",\n",
    "        left_on=\"product_id\",\n",
    "        right_on=\"product_id\",\n",
    "    )\n",
    "    df_order_items_c = pd.merge(\n",
    "        df_order_items_c,\n",
    "        df_translation_c,\n",
    "        how=\"left\",\n",
    "        left_on=\"product_category_name\",\n",
    "        right_on=\"product_category_name\",\n",
    "    )\n",
    "\n",
    "    produits_par_ordre = pd.merge(\n",
    "        df_orders_c, df_order_items_c, how=\"left\", left_on=\"order_id\", right_on=\"order_id\"\n",
    "    )\n",
    "\n",
    "\n",
    "    produits_par_client = pd.merge(\n",
    "        produits_par_ordre,\n",
    "        df_customers_c,\n",
    "        how=\"left\",\n",
    "        left_on=\"customer_id\",\n",
    "        right_on=\"customer_id\",\n",
    "    )\n",
    "\n",
    "\n",
    "    reviews_par_client = pd.merge(\n",
    "        df_order_reviews_c,\n",
    "        ordres_par_client,\n",
    "        how=\"left\",\n",
    "        left_on=\"order_id\",\n",
    "        right_on=\"order_id\",\n",
    "        validate=\"many_to_one\",\n",
    "    )\n",
    "\n",
    "\n",
    "    # Nombre d'ordres par client\n",
    "    nb_ordres = ordres_par_client.groupby(\"customer_unique_id\").agg(\n",
    "        nb_ordres=(\"order_id\", \"count\")\n",
    "    )\n",
    "\n",
    "\n",
    "    # stats sur paiements par client\n",
    "    paiements = paiements_ordres_par_client.groupby([\"customer_unique_id\"]).agg(\n",
    "        mean_paiements=(\"payment_value\", \"mean\"),\n",
    "        sum_paiements=(\"payment_value\", \"sum\"),\n",
    "    )\n",
    "\n",
    "\n",
    "    # Nombre de paiements pour differents moyens de paiement par client (boleto\tcredit_card\tdebit_card\tnot_defined\tvoucher)\n",
    "    nb_paiements_pour_differents_moyens_de_paiement = pd.crosstab(\n",
    "        paiements_ordres_par_client[\"customer_unique_id\"],\n",
    "        paiements_ordres_par_client[\"payment_type\"],\n",
    "    )\n",
    "\n",
    "\n",
    "    # Nombre de paiements\n",
    "    nb_paiements = nb_paiements_pour_differents_moyens_de_paiement.sum(axis=1)\n",
    "\n",
    "    # Ratio des differents moyens de paiement par client\n",
    "    ratio_differents_moyens_de_paiement = nb_paiements_pour_differents_moyens_de_paiement.divide(\n",
    "        nb_paiements, axis=0\n",
    "    )\n",
    "\n",
    "    # verification du ratio\n",
    "    ratio_differents_moyens_de_paiement.sum(axis=1).describe()\n",
    "\n",
    "    # Nombre de produits achetés par client\n",
    "    nb_produits_achetes = produits_par_client.groupby(\"customer_unique_id\").agg(\n",
    "        nb_produits_achetes=(\"order_item_id\", \"count\")\n",
    "    )\n",
    "\n",
    "\n",
    "    # Certains clients ont un ordre mais pas de produits achetés car l'ordre a été annulé ou indisponible\n",
    "    ordres_par_client[\n",
    "        ordres_par_client[\"customer_unique_id\"] == \"009b0127b727ab0ba422f6d9604487c7\"\n",
    "    ]\n",
    "\n",
    "    # Nombre moyen de produits achetés par ordre et par client\n",
    "    nb_moyen_produits_achetes_par_ordre = (\n",
    "        nb_produits_achetes[\"nb_produits_achetes\"] / nb_ordres[\"nb_ordres\"]\n",
    "    ).to_frame(name=\"nb_moyen_produits_achetes_par_ordre\")\n",
    "\n",
    "    # Nombre de comptes clients par client\n",
    "    nb_comptes = df_customers_c.groupby(\"customer_unique_id\").agg(\n",
    "        nb_comptes=(\"customer_id\", \"count\")\n",
    "    )\n",
    "\n",
    "\n",
    "    # stats notes du client\n",
    "    notes = reviews_par_client.groupby(\"customer_unique_id\").agg(\n",
    "        mean_note=(\"review_score\", \"mean\"),\n",
    "    )\n",
    "\n",
    "\n",
    "    # Nombre d'ordres pour chaque categories\n",
    "    nb_ordres_categories = pd.crosstab(\n",
    "        produits_par_client[\"customer_unique_id\"],\n",
    "        produits_par_client[\"product_category_name_english\"],\n",
    "    )\n",
    "\n",
    "\n",
    "    # Nombre d'ordres des clients ayants commandés\n",
    "    nb_ordres_not_na = nb_ordres_categories.sum(axis=1)\n",
    "\n",
    "    # Ratio des differents moyens de paiement par client\n",
    "    ratio_ordres_categories = nb_ordres_categories.divide(nb_ordres_not_na, axis=0)\n",
    "\n",
    "    # verification du ratio\n",
    "    ratio_ordres_categories.sum(axis=1).sum()\n",
    "\n",
    "    # Nombre d'ordres pour differents types de produits ( 1-4)\n",
    "    nb_ordres_types = pd.crosstab(\n",
    "        produits_par_client[\"customer_unique_id\"], produits_par_client[\"product_type\"]\n",
    "    )\n",
    "\n",
    "    # Ratio des differents types de produits\n",
    "    ratio_ordres_types = nb_ordres_types.divide(nb_ordres_types.sum(axis=1), axis=0)\n",
    "\n",
    "    # verification du ratio\n",
    "    ratio_ordres_types.sum(axis=1).sum()\n",
    "\n",
    "    # Montant total depensé par client pour differents types de produits ( 1-4) hors frais\n",
    "\n",
    "    montant_total_types = produits_par_client.groupby(\n",
    "        [\"customer_unique_id\", \"product_type\"]\n",
    "    ).agg(montant_total_types=(\"price\", \"sum\"))\n",
    "    montant_total_types = montant_total_types.unstack().fillna(0)\n",
    "    montant_total_types = montant_total_types[\"montant_total_types\"]\n",
    "    montant_total_types = montant_total_types.add_prefix(\"montant_total_\")\n",
    "\n",
    "\n",
    "    # stats sur delais de livraison par client\n",
    "    delais_livraison = ordres_par_client.groupby([\"customer_unique_id\"]).agg(\n",
    "        mean_delivery_time=(\"delivery_time_s\", \"mean\"),\n",
    "    )\n",
    "\n",
    "\n",
    "    \"\"\"# buckets sur delais de livraison par client\n",
    "    max_delais_livraison = delais_livraison[\"max_delivery_time\"].max()\n",
    "    # 0-3j-7j-14j-60j\n",
    "    bins = pd.IntervalIndex.from_tuples(\n",
    "        [(0, 259200), (259200, 604800), (604800, 1209600), (1209600, max_delais_livraison)]\n",
    "    )\n",
    "\n",
    "    delais_livraisons_buckets = (\n",
    "        ordres_par_client.groupby(\n",
    "            [\"customer_unique_id\", pd.cut(ordres_par_client.delivery_time_s, bins=bins)]\n",
    "        )\n",
    "        .size()\n",
    "        .unstack()\n",
    "    )\n",
    "\n",
    "    # rename columns\n",
    "    columns = pd.CategoricalIndex(\n",
    "        [\n",
    "            \"delais_livraisons_0_3j\",\n",
    "            \"delais_livraisons_3_7j\",\n",
    "            \"delais_livraisons_7_14j\",\n",
    "            \"delais_livraisons_14_maxj\",\n",
    "        ]\n",
    "    )\n",
    "    delais_livraisons_buckets.columns = columns\n",
    "\n",
    "    # Ratio delais_livraisons_buckets\n",
    "    ratio_delais_livraisons_buckets = delais_livraisons_buckets.divide(\n",
    "        delais_livraisons_buckets.sum(axis=1), axis=0\n",
    "    )\n",
    "\n",
    "    ratio_delais_livraisons_buckets.describe()\n",
    "\n",
    "    # verification du ratio\n",
    "    ratio_delais_livraisons_buckets.sum(axis=1).sum()\"\"\"\n",
    "\n",
    "    # recency\n",
    "    NOW = time_to_get_back\n",
    "\n",
    "    recency = ordres_par_client.groupby(\"customer_unique_id\").agg(\n",
    "        recency=(\"order_purchase_timestamp\", lambda x: (NOW - x.max()).days)\n",
    "    )\n",
    "\n",
    "\n",
    "    list_df_features = [\n",
    "        paiements,\n",
    "        #ratio_differents_moyens_de_paiement,\n",
    "        nb_moyen_produits_achetes_par_ordre,\n",
    "        nb_ordres,\n",
    "        nb_comptes,\n",
    "        notes,\n",
    "        #ratio_ordres_categories,\n",
    "        #ratio_ordres_types,\n",
    "        #montant_total_types,\n",
    "        delais_livraison,\n",
    "        #ratio_delais_livraisons_buckets,\n",
    "        recency,\n",
    "    ]\n",
    "    \n",
    "    df_customers_red = pd.DataFrame({})\n",
    "    for df in list_df_features:\n",
    "        df_customers_red = pd.merge(\n",
    "            df_customers_red, df, how=\"outer\", left_index=True, right_index=True\n",
    "        )\n",
    "\n",
    "    df_customers_red.isna().sum()\n",
    "\n",
    "    # Suppression des valeurs ayant un probleme d'intégrité sur orderid (hard delete sur bdd)\n",
    "    # Personne ayant commandé et payé puis annulé\n",
    "    df_customers_red = df_customers_red.dropna()\n",
    "    \n",
    "    #export\n",
    "    df_customers_red.to_csv(f\"data/df_customers_red_{i}.csv\")"
   ]
  },
  {
   "cell_type": "code",
   "execution_count": null,
   "metadata": {},
   "outputs": [],
   "source": []
  }
 ],
 "metadata": {
  "kernelspec": {
   "display_name": "Python 3",
   "language": "python",
   "name": "python3"
  },
  "language_info": {
   "codemirror_mode": {
    "name": "ipython",
    "version": 3
   },
   "file_extension": ".py",
   "mimetype": "text/x-python",
   "name": "python",
   "nbconvert_exporter": "python",
   "pygments_lexer": "ipython3",
   "version": "3.8.3"
  }
 },
 "nbformat": 4,
 "nbformat_minor": 4
}
