{
 "cells": [
  {
   "cell_type": "markdown",
   "id": "246a988f",
   "metadata": {},
   "source": [
    "**import des librairies**"
   ]
  },
  {
   "cell_type": "code",
   "execution_count": null,
   "id": "f833fb18",
   "metadata": {},
   "outputs": [],
   "source": [
    "import os\n",
    "import cv2\n",
    "import numpy as np\n",
    "import pandas as pd\n",
    "from tqdm import tqdm\n",
    "\n",
    "import wandb"
   ]
  },
  {
   "cell_type": "markdown",
   "id": "65a92e93",
   "metadata": {},
   "source": [
    "**paramètres de configuration**"
   ]
  },
  {
   "cell_type": "code",
   "execution_count": null,
   "id": "a5472336",
   "metadata": {},
   "outputs": [],
   "source": [
    "DATA_DIR = './data/'\n",
    "KAGGLE_DATASET_NAME = 'xhlulu/siim-covid19-resized-to-512px-jpg'\n",
    "TRAIN_PATH = DATA_DIR + 'train/'\n",
    "TEST_PATH = DATA_DIR + 'test/'\n",
    "IMG_SIZE = 512\n",
    "NB_IMAGES_VISUALISATION = 42"
   ]
  },
  {
   "cell_type": "markdown",
   "id": "0274df04",
   "metadata": {},
   "source": [
    "**téléchargement automatique des données**"
   ]
  },
  {
   "cell_type": "code",
   "execution_count": null,
   "id": "59b57508",
   "metadata": {},
   "outputs": [],
   "source": [
    "if not os.path.isdir(DATA_DIR):\n",
    "    !kaggle datasets download {KAGGLE_DATASET_NAME} --path {DATA_DIR} --unzip --quiet\n",
    "    !kaggle competitions download -c \"siim-covid19-detection\" --file \"sample_submission.csv\" --path {DATA_DIR} --quiet\n",
    "    !kaggle competitions download -c \"siim-covid19-detection\" --file \"train_image_level.csv\" --path {DATA_DIR} --quiet\n",
    "    !kaggle competitions download -c \"siim-covid19-detection\" --file \"train_study_level.csv\" --path {DATA_DIR} --quiet\n",
    "    \n",
    "    file_to_extract = DATA_DIR+\"/train_image_level.csv.zip\"\n",
    "    with zipfile.ZipFile(file_to_extract) as file:\n",
    "        file.extract(\"train_image_level.csv\", DATA_DIR)\n",
    "    os.remove(file_to_extract)"
   ]
  },
  {
   "cell_type": "markdown",
   "id": "cd16d293",
   "metadata": {},
   "source": [
    "**import des méta données**"
   ]
  },
  {
   "cell_type": "code",
   "execution_count": null,
   "id": "6ce15b6b",
   "metadata": {},
   "outputs": [],
   "source": []
  }
 ],
 "metadata": {
  "kernelspec": {
   "display_name": "Python 3",
   "language": "python",
   "name": "python3"
  },
  "language_info": {
   "codemirror_mode": {
    "name": "ipython",
    "version": 3
   },
   "file_extension": ".py",
   "mimetype": "text/x-python",
   "name": "python",
   "nbconvert_exporter": "python",
   "pygments_lexer": "ipython3",
   "version": "3.8.3"
  }
 },
 "nbformat": 4,
 "nbformat_minor": 5
}
