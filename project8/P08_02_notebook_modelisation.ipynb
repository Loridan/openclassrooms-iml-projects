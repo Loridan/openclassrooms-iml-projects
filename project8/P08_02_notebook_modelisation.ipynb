{
 "cells": [
  {
   "cell_type": "markdown",
   "id": "85b3177d",
   "metadata": {},
   "source": [
    "**import des librairies**"
   ]
  },
  {
   "cell_type": "code",
   "execution_count": 1,
   "id": "f52cc577",
   "metadata": {},
   "outputs": [],
   "source": [
    "import os\n",
    "import shutil\n",
    "import cv2\n",
    "import numpy as np\n",
    "import pandas as pd\n",
    "from sklearn.model_selection import train_test_split\n",
    "from tqdm import tqdm\n",
    "import yaml\n",
    "\n",
    "import wandb"
   ]
  },
  {
   "cell_type": "markdown",
   "id": "df364be7",
   "metadata": {},
   "source": [
    "**paramètres de configuration**"
   ]
  },
  {
   "cell_type": "code",
   "execution_count": 2,
   "id": "403eea69",
   "metadata": {},
   "outputs": [],
   "source": [
    "DATA_DIR = './data/'\n",
    "TRAIN_PATH = DATA_DIR + 'train/'\n",
    "TEST_PATH = DATA_DIR + 'test/'\n",
    "YOLOV5_DIR = './yolov5/'\n",
    "TEMP_DIR = './temp/'\n",
    "KAGGLE_RESIZED_DATASET_NAME = 'xhlulu/siim-covid19-resized-to-512px-jpg'\n",
    "IMG_SIZE = 512\n",
    "\n",
    "WANDB_PROJECT_NAME = 'project8-kaggle-covid19'\n",
    "WANDB_ENTITY_NAME = ''"
   ]
  },
  {
   "cell_type": "code",
   "execution_count": 3,
   "id": "9a5ea55d",
   "metadata": {},
   "outputs": [],
   "source": [
    "BATCH_SIZE = 16\n",
    "EPOCHS = 10"
   ]
  },
  {
   "cell_type": "markdown",
   "id": "bfc900a6",
   "metadata": {},
   "source": [
    "**téléchargement automatique des données**"
   ]
  },
  {
   "cell_type": "code",
   "execution_count": 4,
   "id": "521f61a2",
   "metadata": {},
   "outputs": [],
   "source": [
    "if not os.path.isdir(DATA_DIR):\n",
    "    !kaggle datasets download {KAGGLE_RESIZED_DATASET_NAME} --path {DATA_DIR} --unzip --quiet\n",
    "    !kaggle competitions download -c \"siim-covid19-detection\" --file \"sample_submission.csv\" --path {DATA_DIR} --quiet\n",
    "    !kaggle competitions download -c \"siim-covid19-detection\" --file \"train_image_level.csv\" --path {DATA_DIR} --quiet\n",
    "    !kaggle competitions download -c \"siim-covid19-detection\" --file \"train_study_level.csv\" --path {DATA_DIR} --quiet\n",
    "    \n",
    "    file_to_extract = DATA_DIR+\"/train_image_level.csv.zip\"\n",
    "    with zipfile.ZipFile(file_to_extract) as file:\n",
    "        file.extract(\"train_image_level.csv\", DATA_DIR)\n",
    "    os.remove(file_to_extract)"
   ]
  },
  {
   "cell_type": "markdown",
   "id": "b0a71f00",
   "metadata": {},
   "source": [
    "**téléchargement du modèle YoloV5**"
   ]
  },
  {
   "cell_type": "code",
   "execution_count": 5,
   "id": "4ee29635",
   "metadata": {},
   "outputs": [],
   "source": [
    "if not os.path.isdir(YOLOV5_DIR):\n",
    "    !git clone https://github.com/ultralytics/yolov5\n",
    "    %cd {YOLOV5_DIR}\n",
    "    !pip install -qr requirements.txt\n",
    "    %cd ../"
   ]
  },
  {
   "cell_type": "markdown",
   "id": "a5a7dbf3",
   "metadata": {},
   "source": [
    "**authentification wandb**"
   ]
  },
  {
   "cell_type": "code",
   "execution_count": 6,
   "id": "50572c3e",
   "metadata": {},
   "outputs": [
    {
     "name": "stderr",
     "output_type": "stream",
     "text": [
      "\u001b[34m\u001b[1mwandb\u001b[0m: Currently logged in as: \u001b[33madrien-loridan\u001b[0m (use `wandb login --relogin` to force relogin)\n"
     ]
    },
    {
     "data": {
      "text/plain": [
       "True"
      ]
     },
     "execution_count": 6,
     "metadata": {},
     "output_type": "execute_result"
    }
   ],
   "source": [
    "wandb.login()"
   ]
  },
  {
   "cell_type": "markdown",
   "id": "66d439ad",
   "metadata": {},
   "source": [
    "**import des méta données**"
   ]
  },
  {
   "cell_type": "code",
   "execution_count": 7,
   "id": "355957d4",
   "metadata": {},
   "outputs": [],
   "source": [
    "df = pd.read_csv(DATA_DIR+'/train_image_level.csv')\n",
    "label_df = pd.read_csv(DATA_DIR+'/train_study_level.csv')\n",
    "meta_df = pd.read_csv(DATA_DIR+'/meta.csv')"
   ]
  },
  {
   "cell_type": "markdown",
   "id": "031d0a38",
   "metadata": {},
   "source": [
    "**merge des annotations**"
   ]
  },
  {
   "cell_type": "code",
   "execution_count": 8,
   "id": "3cdd4dae",
   "metadata": {},
   "outputs": [
    {
     "data": {
      "text/html": [
       "<div>\n",
       "<style scoped>\n",
       "    .dataframe tbody tr th:only-of-type {\n",
       "        vertical-align: middle;\n",
       "    }\n",
       "\n",
       "    .dataframe tbody tr th {\n",
       "        vertical-align: top;\n",
       "    }\n",
       "\n",
       "    .dataframe thead th {\n",
       "        text-align: right;\n",
       "    }\n",
       "</style>\n",
       "<table border=\"1\" class=\"dataframe\">\n",
       "  <thead>\n",
       "    <tr style=\"text-align: right;\">\n",
       "      <th></th>\n",
       "      <th>id</th>\n",
       "      <th>boxes</th>\n",
       "      <th>label</th>\n",
       "      <th>StudyInstanceUID</th>\n",
       "      <th>path</th>\n",
       "      <th>image_level</th>\n",
       "      <th>dim0</th>\n",
       "      <th>dim1</th>\n",
       "      <th>split</th>\n",
       "    </tr>\n",
       "  </thead>\n",
       "  <tbody>\n",
       "    <tr>\n",
       "      <th>6034</th>\n",
       "      <td>f42957f488ef</td>\n",
       "      <td>[{'x': 1817.65592, 'y': 1347.56175, 'width': 7...</td>\n",
       "      <td>opacity 1 1817.65592 1347.56175 2605.39808 197...</td>\n",
       "      <td>3ca7c79b3eac</td>\n",
       "      <td>./data/train/f42957f488ef.jpg</td>\n",
       "      <td>opacity</td>\n",
       "      <td>2436</td>\n",
       "      <td>3032</td>\n",
       "      <td>train</td>\n",
       "    </tr>\n",
       "    <tr>\n",
       "      <th>3683</th>\n",
       "      <td>94dfaa1ebe4d</td>\n",
       "      <td>[{'x': 691.93567, 'y': 142.77639, 'width': 683...</td>\n",
       "      <td>opacity 1 691.93567 142.77639 1375.02257999999...</td>\n",
       "      <td>b9aa4efa289f</td>\n",
       "      <td>./data/train/94dfaa1ebe4d.jpg</td>\n",
       "      <td>opacity</td>\n",
       "      <td>2416</td>\n",
       "      <td>2872</td>\n",
       "      <td>train</td>\n",
       "    </tr>\n",
       "    <tr>\n",
       "      <th>902</th>\n",
       "      <td>246ecfa577ee</td>\n",
       "      <td>NaN</td>\n",
       "      <td>none 1 0 0 1 1</td>\n",
       "      <td>ded38a5051da</td>\n",
       "      <td>./data/train/246ecfa577ee.jpg</td>\n",
       "      <td>none</td>\n",
       "      <td>2457</td>\n",
       "      <td>2840</td>\n",
       "      <td>train</td>\n",
       "    </tr>\n",
       "    <tr>\n",
       "      <th>3176</th>\n",
       "      <td>807656417522</td>\n",
       "      <td>[{'x': 2805.46667, 'y': 2077.4333, 'width': 40...</td>\n",
       "      <td>opacity 1 2805.46667 2077.4333 3211.80017 2533...</td>\n",
       "      <td>ae70fa66b983</td>\n",
       "      <td>./data/train/807656417522.jpg</td>\n",
       "      <td>opacity</td>\n",
       "      <td>3480</td>\n",
       "      <td>4240</td>\n",
       "      <td>train</td>\n",
       "    </tr>\n",
       "  </tbody>\n",
       "</table>\n",
       "</div>"
      ],
      "text/plain": [
       "                id                                              boxes  \\\n",
       "6034  f42957f488ef  [{'x': 1817.65592, 'y': 1347.56175, 'width': 7...   \n",
       "3683  94dfaa1ebe4d  [{'x': 691.93567, 'y': 142.77639, 'width': 683...   \n",
       "902   246ecfa577ee                                                NaN   \n",
       "3176  807656417522  [{'x': 2805.46667, 'y': 2077.4333, 'width': 40...   \n",
       "\n",
       "                                                  label StudyInstanceUID  \\\n",
       "6034  opacity 1 1817.65592 1347.56175 2605.39808 197...     3ca7c79b3eac   \n",
       "3683  opacity 1 691.93567 142.77639 1375.02257999999...     b9aa4efa289f   \n",
       "902                                      none 1 0 0 1 1     ded38a5051da   \n",
       "3176  opacity 1 2805.46667 2077.4333 3211.80017 2533...     ae70fa66b983   \n",
       "\n",
       "                               path image_level  dim0  dim1  split  \n",
       "6034  ./data/train/f42957f488ef.jpg     opacity  2436  3032  train  \n",
       "3683  ./data/train/94dfaa1ebe4d.jpg     opacity  2416  2872  train  \n",
       "902   ./data/train/246ecfa577ee.jpg        none  2457  2840  train  \n",
       "3176  ./data/train/807656417522.jpg     opacity  3480  4240  train  "
      ]
     },
     "execution_count": 8,
     "metadata": {},
     "output_type": "execute_result"
    }
   ],
   "source": [
    "df['id'] = df.apply(lambda row: row.id.split('_')[0], axis=1)\n",
    "df['path'] = df.apply(lambda row: TRAIN_PATH+row.id+'.jpg', axis=1)\n",
    "df['image_level'] = df.apply(lambda row: row.label.split(' ')[0], axis=1)\n",
    "\n",
    "label_df['id'] = label_df.apply(lambda row: row.id.split('_')[0], axis=1)\n",
    "label_df.columns = ['StudyInstanceUID', 'Negative for Pneumonia', 'Typical Appearance', 'Indeterminate Appearance', 'Atypical Appearance']\n",
    "\n",
    "train_meta_df = meta_df.loc[meta_df.split == 'train']\n",
    "train_meta_df.columns = ['id', 'dim0', 'dim1', 'split']\n",
    "\n",
    "df = df.merge(train_meta_df, on='id',how=\"left\")\n",
    "df.sample(4)"
   ]
  },
  {
   "cell_type": "code",
   "execution_count": 9,
   "id": "1b378849",
   "metadata": {},
   "outputs": [],
   "source": [
    "#df = df.dropna(subset = [\"boxes\"], inplace=False)\n",
    "#df = df.reset_index(drop=True)"
   ]
  },
  {
   "cell_type": "code",
   "execution_count": 10,
   "id": "8df82d38",
   "metadata": {},
   "outputs": [
    {
     "data": {
      "text/plain": [
       "(6334, 9)"
      ]
     },
     "execution_count": 10,
     "metadata": {},
     "output_type": "execute_result"
    }
   ],
   "source": [
    "df.shape"
   ]
  },
  {
   "cell_type": "code",
   "execution_count": 11,
   "id": "53878ce0",
   "metadata": {},
   "outputs": [],
   "source": [
    "df = df[~df.duplicated(subset=['id'], keep='first')]"
   ]
  },
  {
   "cell_type": "code",
   "execution_count": 12,
   "id": "111cb9f0",
   "metadata": {},
   "outputs": [
    {
     "data": {
      "text/plain": [
       "(6334, 9)"
      ]
     },
     "execution_count": 12,
     "metadata": {},
     "output_type": "execute_result"
    }
   ],
   "source": [
    "df.shape"
   ]
  },
  {
   "cell_type": "markdown",
   "id": "996e0b53",
   "metadata": {},
   "source": [
    "**échantillon**"
   ]
  },
  {
   "cell_type": "code",
   "execution_count": 13,
   "id": "60674d28",
   "metadata": {},
   "outputs": [],
   "source": [
    "df = df.sample(128)"
   ]
  },
  {
   "cell_type": "markdown",
   "id": "77d70827",
   "metadata": {},
   "source": [
    "**train test split**"
   ]
  },
  {
   "cell_type": "code",
   "execution_count": 14,
   "id": "d76daa89",
   "metadata": {},
   "outputs": [],
   "source": [
    "train_df, valid_df = train_test_split(df, test_size=0.2, random_state=42)"
   ]
  },
  {
   "cell_type": "code",
   "execution_count": 15,
   "id": "5075f7e2",
   "metadata": {},
   "outputs": [],
   "source": [
    "train_df = train_df.copy()\n",
    "valid_df = valid_df.copy()"
   ]
  },
  {
   "cell_type": "code",
   "execution_count": 16,
   "id": "d27c36ce",
   "metadata": {},
   "outputs": [
    {
     "data": {
      "text/html": [
       "<div>\n",
       "<style scoped>\n",
       "    .dataframe tbody tr th:only-of-type {\n",
       "        vertical-align: middle;\n",
       "    }\n",
       "\n",
       "    .dataframe tbody tr th {\n",
       "        vertical-align: top;\n",
       "    }\n",
       "\n",
       "    .dataframe thead th {\n",
       "        text-align: right;\n",
       "    }\n",
       "</style>\n",
       "<table border=\"1\" class=\"dataframe\">\n",
       "  <thead>\n",
       "    <tr style=\"text-align: right;\">\n",
       "      <th></th>\n",
       "      <th>id</th>\n",
       "      <th>boxes</th>\n",
       "      <th>label</th>\n",
       "      <th>StudyInstanceUID</th>\n",
       "      <th>path</th>\n",
       "      <th>image_level</th>\n",
       "      <th>dim0</th>\n",
       "      <th>dim1</th>\n",
       "      <th>split</th>\n",
       "    </tr>\n",
       "  </thead>\n",
       "  <tbody>\n",
       "    <tr>\n",
       "      <th>41</th>\n",
       "      <td>6f08b0295244</td>\n",
       "      <td>NaN</td>\n",
       "      <td>none 1 0 0 1 1</td>\n",
       "      <td>2edd69dd0934</td>\n",
       "      <td>./data/train/6f08b0295244.jpg</td>\n",
       "      <td>none</td>\n",
       "      <td>3006</td>\n",
       "      <td>3006</td>\n",
       "      <td>train</td>\n",
       "    </tr>\n",
       "    <tr>\n",
       "      <th>14</th>\n",
       "      <td>1567909b87d1</td>\n",
       "      <td>[{'x': 252.3774, 'y': 1680.38239, 'width': 754...</td>\n",
       "      <td>opacity 1 252.3774 1680.38239 1007.01391 2886....</td>\n",
       "      <td>c7c53a0fcccc</td>\n",
       "      <td>./data/train/1567909b87d1.jpg</td>\n",
       "      <td>opacity</td>\n",
       "      <td>3488</td>\n",
       "      <td>4256</td>\n",
       "      <td>train</td>\n",
       "    </tr>\n",
       "    <tr>\n",
       "      <th>29</th>\n",
       "      <td>861e6b07c9d8</td>\n",
       "      <td>[{'x': 1884.95248, 'y': 1217.28, 'width': 883....</td>\n",
       "      <td>opacity 1 1884.95248 1217.28 2768.32581 2257.0...</td>\n",
       "      <td>366c5acac35b</td>\n",
       "      <td>./data/train/861e6b07c9d8.jpg</td>\n",
       "      <td>opacity</td>\n",
       "      <td>2536</td>\n",
       "      <td>3048</td>\n",
       "      <td>train</td>\n",
       "    </tr>\n",
       "    <tr>\n",
       "      <th>68</th>\n",
       "      <td>f37d85d13cdd</td>\n",
       "      <td>[{'x': 1862.83636, 'y': 1039.7215, 'width': 49...</td>\n",
       "      <td>opacity 1 1862.83636 1039.7215 2361.2268599999...</td>\n",
       "      <td>30c274c783a2</td>\n",
       "      <td>./data/train/f37d85d13cdd.jpg</td>\n",
       "      <td>opacity</td>\n",
       "      <td>2330</td>\n",
       "      <td>2846</td>\n",
       "      <td>train</td>\n",
       "    </tr>\n",
       "  </tbody>\n",
       "</table>\n",
       "</div>"
      ],
      "text/plain": [
       "              id                                              boxes  \\\n",
       "41  6f08b0295244                                                NaN   \n",
       "14  1567909b87d1  [{'x': 252.3774, 'y': 1680.38239, 'width': 754...   \n",
       "29  861e6b07c9d8  [{'x': 1884.95248, 'y': 1217.28, 'width': 883....   \n",
       "68  f37d85d13cdd  [{'x': 1862.83636, 'y': 1039.7215, 'width': 49...   \n",
       "\n",
       "                                                label StudyInstanceUID  \\\n",
       "41                                     none 1 0 0 1 1     2edd69dd0934   \n",
       "14  opacity 1 252.3774 1680.38239 1007.01391 2886....     c7c53a0fcccc   \n",
       "29  opacity 1 1884.95248 1217.28 2768.32581 2257.0...     366c5acac35b   \n",
       "68  opacity 1 1862.83636 1039.7215 2361.2268599999...     30c274c783a2   \n",
       "\n",
       "                             path image_level  dim0  dim1  split  \n",
       "41  ./data/train/6f08b0295244.jpg        none  3006  3006  train  \n",
       "14  ./data/train/1567909b87d1.jpg     opacity  3488  4256  train  \n",
       "29  ./data/train/861e6b07c9d8.jpg     opacity  2536  3048  train  \n",
       "68  ./data/train/f37d85d13cdd.jpg     opacity  2330  2846  train  "
      ]
     },
     "execution_count": 16,
     "metadata": {},
     "output_type": "execute_result"
    }
   ],
   "source": [
    "train_df.loc[:, 'split'] = 'train'\n",
    "valid_df.loc[:, 'split'] = 'valid'\n",
    "\n",
    "df = pd.concat([train_df, valid_df]).reset_index(drop=True)\n",
    "df.sample(4)"
   ]
  },
  {
   "cell_type": "markdown",
   "id": "ea4ce901",
   "metadata": {},
   "source": [
    "**création des dossiers temporaires d'entrainement**"
   ]
  },
  {
   "cell_type": "code",
   "execution_count": 17,
   "id": "e306e3ec",
   "metadata": {},
   "outputs": [],
   "source": [
    "#assert(os.path.isdir(TEMP_DIR)==False)"
   ]
  },
  {
   "cell_type": "code",
   "execution_count": 18,
   "id": "439cd11f",
   "metadata": {},
   "outputs": [
    {
     "name": "stderr",
     "output_type": "stream",
     "text": [
      "100%|███████████████████████████████████████████████████████████████████████████████| 128/128 [00:00<00:00, 131.52it/s]\n"
     ]
    }
   ],
   "source": [
    "if not os.path.isdir(TEMP_DIR):\n",
    "    [os.makedirs(dir, exist_ok=True) for dir in [TEMP_DIR+'images/train',\n",
    "                                                 TEMP_DIR+'images/valid',\n",
    "                                                 TEMP_DIR+'labels/train',\n",
    "                                                 TEMP_DIR+'labels/valid']]\n",
    "    for i in tqdm(range(len(df))):\n",
    "        row = df.loc[i]\n",
    "        if row.split == 'train':\n",
    "            shutil.copy(row.path, f'{TEMP_DIR}images/train/{row.id}.jpg')\n",
    "        else:\n",
    "            shutil.copy(row.path, f'{TEMP_DIR}images/valid/{row.id}.jpg')"
   ]
  },
  {
   "cell_type": "markdown",
   "id": "bf8a43a4",
   "metadata": {},
   "source": [
    "**création fichier configuration yaml pour yolov5**"
   ]
  },
  {
   "cell_type": "code",
   "execution_count": 19,
   "id": "881199e8",
   "metadata": {},
   "outputs": [],
   "source": [
    "if not os.path.isfile(YOLOV5_DIR+'data/data.yaml'):\n",
    "    data_yaml = dict(\n",
    "        train = f'../{TEMP_DIR[2:]}images/train',\n",
    "        val = f'../{TEMP_DIR[2:]}images/valid',\n",
    "        nc = 2,\n",
    "        names = ['none','opacity']\n",
    "    )\n",
    "\n",
    "    with open(YOLOV5_DIR+'data/data.yaml', 'w') as outfile:\n",
    "        yaml.dump(data_yaml, outfile, default_flow_style=True)"
   ]
  },
  {
   "cell_type": "markdown",
   "id": "c4adda7e",
   "metadata": {},
   "source": [
    "**diverses fonctions pour formatages boxes**"
   ]
  },
  {
   "cell_type": "code",
   "execution_count": 20,
   "id": "62182dd3",
   "metadata": {},
   "outputs": [],
   "source": [
    "def get_bbox(row):\n",
    "    bboxes = []\n",
    "    bbox = []\n",
    "    for i, l in enumerate(row.label.split(' ')):\n",
    "        if (i % 6 == 0) | (i % 6 == 1):\n",
    "            continue\n",
    "        bbox.append(float(l))\n",
    "        if i % 6 == 5:\n",
    "            bboxes.append(bbox)\n",
    "            bbox = []  \n",
    "            \n",
    "    return bboxes\n",
    "\n",
    "# Scale the bounding boxes according to the size of the resized image. \n",
    "def scale_bbox(row, bboxes):\n",
    "    # Get scaling factor\n",
    "    scale_x = IMG_SIZE/row.dim1\n",
    "    scale_y = IMG_SIZE/row.dim0\n",
    "    \n",
    "    scaled_bboxes = []\n",
    "    for bbox in bboxes:\n",
    "        x = int(np.round(bbox[0]*scale_x, 4))\n",
    "        y = int(np.round(bbox[1]*scale_y, 4))\n",
    "        x1 = int(np.round(bbox[2]*(scale_x), 4))\n",
    "        y1= int(np.round(bbox[3]*scale_y, 4))\n",
    "\n",
    "        scaled_bboxes.append([x, y, x1, y1]) # xmin, ymin, xmax, ymax\n",
    "        \n",
    "    return scaled_bboxes\n",
    "\n",
    "# Convert the bounding boxes in YOLO format.\n",
    "def get_yolo_format_bbox(img_w, img_h, bboxes):\n",
    "    yolo_boxes = []\n",
    "    for bbox in bboxes:\n",
    "        w = bbox[2] - bbox[0] # xmax - xmin\n",
    "        h = bbox[3] - bbox[1] # ymax - ymin\n",
    "        xc = bbox[0] + int(np.round(w/2)) # xmin + width/2\n",
    "        yc = bbox[1] + int(np.round(h/2)) # ymin + height/2\n",
    "        \n",
    "        yolo_boxes.append([f'{xc/img_w:.6f}',f'{yc/img_h:.6f}' ,f'{w/img_w:.6f}' ,f'{h/img_h:.6f}']) # x_center y_center width height\n",
    "    \n",
    "    return yolo_boxes"
   ]
  },
  {
   "cell_type": "markdown",
   "id": "a3a1068a",
   "metadata": {},
   "source": [
    "**création des labels, txt files**"
   ]
  },
  {
   "cell_type": "code",
   "execution_count": 21,
   "id": "7b4ceefa",
   "metadata": {},
   "outputs": [
    {
     "name": "stderr",
     "output_type": "stream",
     "text": [
      "100%|██████████████████████████████████████████████████████████████████████████████| 128/128 [00:00<00:00, 2063.81it/s]\n"
     ]
    }
   ],
   "source": [
    "if not os.listdir(f'{TEMP_DIR}labels/train'):\n",
    "    for i in tqdm(range(len(df))):\n",
    "        row = df.loc[i]\n",
    "        img_id = row.id\n",
    "        split = row.split\n",
    "        label = row.image_level\n",
    "\n",
    "        if row.split=='train':\n",
    "            file_name = f'{TEMP_DIR}labels/train/{row.id}.txt'\n",
    "        else:\n",
    "            file_name = f'{TEMP_DIR}labels/valid/{row.id}.txt'\n",
    "\n",
    "\n",
    "        if label=='opacity':\n",
    "            bboxes = get_bbox(row)\n",
    "            scale_bboxes = scale_bbox(row, bboxes)\n",
    "            yolo_bboxes = get_yolo_format_bbox(IMG_SIZE, IMG_SIZE, scale_bboxes)\n",
    "\n",
    "            with open(file_name, 'w') as f:\n",
    "                for bbox in yolo_bboxes:\n",
    "                    bbox = [1]+bbox\n",
    "                    bbox = [str(i) for i in bbox]\n",
    "                    bbox = ' '.join(bbox)\n",
    "                    f.write(bbox)\n",
    "                    f.write('\\n')"
   ]
  },
  {
   "cell_type": "code",
   "execution_count": 22,
   "id": "8b6d51c7",
   "metadata": {},
   "outputs": [
    {
     "name": "stdout",
     "output_type": "stream",
     "text": [
      "C:\\Users\\adrie\\Workspace\\openclassrooms-iml-projects\\project8\\yolov5\n"
     ]
    }
   ],
   "source": [
    "%cd {YOLOV5_DIR}"
   ]
  },
  {
   "cell_type": "code",
   "execution_count": 23,
   "id": "016d9e34",
   "metadata": {},
   "outputs": [
    {
     "data": {
      "text/plain": [
       "'\"!python train.py --img {IMG_SIZE}                  --batch-size {BATCH_SIZE}                  --epochs {EPOCHS}                  --data data/data.yaml                  --weights yolov5s.pt                  --save_period 1                 --project {WANDB_PROJECT_NAME}'"
      ]
     },
     "execution_count": 23,
     "metadata": {},
     "output_type": "execute_result"
    }
   ],
   "source": [
    "\"\"\"\"!python train.py --img {IMG_SIZE} \\\n",
    "                 --batch-size {BATCH_SIZE} \\\n",
    "                 --epochs {EPOCHS} \\\n",
    "                 --data data/data.yaml \\\n",
    "                 --weights yolov5s.pt \\\n",
    "                 --save_period 1\\\n",
    "                 --project {WANDB_PROJECT_NAME}\"\"\""
   ]
  },
  {
   "cell_type": "markdown",
   "id": "9c3cecd2",
   "metadata": {},
   "source": [
    "python train.py --img-size 512 --batch-size 16 --epochs 10 --data data.yaml --weights yolov5x.pt --save_period 1 --project project8-kaggle-covid19\n"
   ]
  }
 ],
 "metadata": {
  "kernelspec": {
   "display_name": "Python 3",
   "language": "python",
   "name": "python3"
  },
  "language_info": {
   "codemirror_mode": {
    "name": "ipython",
    "version": 3
   },
   "file_extension": ".py",
   "mimetype": "text/x-python",
   "name": "python",
   "nbconvert_exporter": "python",
   "pygments_lexer": "ipython3",
   "version": "3.8.3"
  }
 },
 "nbformat": 4,
 "nbformat_minor": 5
}
