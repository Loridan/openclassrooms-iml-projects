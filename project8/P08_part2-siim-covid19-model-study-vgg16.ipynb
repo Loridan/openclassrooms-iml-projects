{
 "cells": [
  {
   "cell_type": "markdown",
   "id": "severe-cuisine",
   "metadata": {
    "papermill": {
     "duration": 0.012348,
     "end_time": "2021-06-16T20:20:48.194809",
     "exception": false,
     "start_time": "2021-06-16T20:20:48.182461",
     "status": "completed"
    },
    "tags": []
   },
   "source": [
    "### **import dependencies**"
   ]
  },
  {
   "cell_type": "code",
   "execution_count": 1,
   "id": "composed-botswana",
   "metadata": {
    "execution": {
     "iopub.execute_input": "2021-06-16T20:20:48.229750Z",
     "iopub.status.busy": "2021-06-16T20:20:48.229136Z",
     "iopub.status.idle": "2021-06-16T20:20:55.064258Z",
     "shell.execute_reply": "2021-06-16T20:20:55.063251Z",
     "shell.execute_reply.started": "2021-06-16T20:15:39.469385Z"
    },
    "papermill": {
     "duration": 6.857736,
     "end_time": "2021-06-16T20:20:55.064431",
     "exception": false,
     "start_time": "2021-06-16T20:20:48.206695",
     "status": "completed"
    },
    "tags": []
   },
   "outputs": [],
   "source": [
    "import os\n",
    "import shutil\n",
    "import cv2\n",
    "import numpy as np\n",
    "import pandas as pd\n",
    "import matplotlib.pyplot as plt\n",
    "import tensorflow as tf\n",
    "from tensorflow.keras.applications.vgg16 import preprocess_input, VGG16\n",
    "from sklearn.preprocessing import OneHotEncoder\n",
    "from sklearn.metrics import confusion_matrix, ConfusionMatrixDisplay\n",
    "from sklearn.model_selection import train_test_split\n",
    "import yaml\n",
    "\n",
    "from kaggle_secrets import UserSecretsClient\n",
    "import wandb\n",
    "from wandb.keras import WandbCallback\n",
    "\n",
    "import cv2\n",
    "import pydicom\n",
    "\n",
    "from pathlib import Path\n",
    "from tqdm.auto import tqdm"
   ]
  },
  {
   "cell_type": "markdown",
   "id": "subject-shanghai",
   "metadata": {
    "papermill": {
     "duration": 0.011141,
     "end_time": "2021-06-16T20:20:55.087270",
     "exception": false,
     "start_time": "2021-06-16T20:20:55.076129",
     "status": "completed"
    },
    "tags": []
   },
   "source": [
    "### **configuration and initialization**"
   ]
  },
  {
   "cell_type": "code",
   "execution_count": 2,
   "id": "absent-pontiac",
   "metadata": {
    "execution": {
     "iopub.execute_input": "2021-06-16T20:20:55.116320Z",
     "iopub.status.busy": "2021-06-16T20:20:55.115611Z",
     "iopub.status.idle": "2021-06-16T20:20:55.117940Z",
     "shell.execute_reply": "2021-06-16T20:20:55.118378Z",
     "shell.execute_reply.started": "2021-06-16T20:15:47.537296Z"
    },
    "papermill": {
     "duration": 0.019954,
     "end_time": "2021-06-16T20:20:55.118500",
     "exception": false,
     "start_time": "2021-06-16T20:20:55.098546",
     "status": "completed"
    },
    "tags": []
   },
   "outputs": [],
   "source": [
    "SIIM_COVID19_DETECTION_DIR = '/kaggle/input/siim-covid19-detection/'\n",
    "PART0_RESIZED_DIR = '/kaggle/input/part0-siim-covid19-first-look-resized-512px/'\n",
    "\n",
    "\n",
    "TEMP_DIR = '/kaggle/temp/'\n",
    "\n",
    "INPUT_DIR = PART0_RESIZED_DIR+'data/'\n",
    "\n",
    "OUTPUT_DIR = DATASET_DIR = TEMP_DIR+'data/'\n",
    "TRAIN_DIR = DATASET_DIR + 'train/'\n",
    "TA_DIR = TRAIN_DIR+'ta/'\n",
    "IA_DIR = TRAIN_DIR+'ia/'\n",
    "AA_DIR = TRAIN_DIR+'aa/'\n",
    "NP_DIR = TRAIN_DIR+'np/'\n",
    "\n",
    "WORKING_DIR = '/kaggle/working/'\n",
    "\n",
    "WANDB_PROJECT_NAME = 'project8-kaggle-covid19'\n",
    "WANDB_ENTITY_NAME = ''\n",
    "\n",
    "TRAIN_IMAGE_LEVEL_PATH = SIIM_COVID19_DETECTION_DIR+'train_image_level.csv'\n",
    "TRAIN_STUDY_LEVEL_PATH = SIIM_COVID19_DETECTION_DIR+'train_study_level.csv'\n",
    "META_PATH = PART0_RESIZED_DIR+'meta.csv'\n",
    "\n",
    "BATCH_SIZE = 32\n",
    "EPOCHS = 25\n",
    "IMG_SIZE = WIDTH = HEIGHT = 224\n",
    "LEARNING_RATE = 0.00008\n",
    "\n",
    "INTERPOLATION = cv2.INTER_LANCZOS4"
   ]
  },
  {
   "cell_type": "code",
   "execution_count": 3,
   "id": "wanted-pennsylvania",
   "metadata": {
    "execution": {
     "iopub.execute_input": "2021-06-16T20:20:55.147632Z",
     "iopub.status.busy": "2021-06-16T20:20:55.146872Z",
     "iopub.status.idle": "2021-06-16T20:20:56.150900Z",
     "shell.execute_reply": "2021-06-16T20:20:56.150403Z",
     "shell.execute_reply.started": "2021-06-16T20:15:47.547721Z"
    },
    "papermill": {
     "duration": 1.021399,
     "end_time": "2021-06-16T20:20:56.151019",
     "exception": false,
     "start_time": "2021-06-16T20:20:55.129620",
     "status": "completed"
    },
    "tags": []
   },
   "outputs": [
    {
     "name": "stdout",
     "output_type": "stream",
     "text": [
      "/\n",
      "\u001b[0m\u001b[01;34mbin\u001b[0m/   \u001b[01;32mentrypoint.sh\u001b[0m*  \u001b[01;34mkaggle\u001b[0m/  \u001b[01;34mmedia\u001b[0m/  \u001b[01;34mproc\u001b[0m/  \u001b[01;32mrun_jupyter.sh\u001b[0m*  \u001b[01;34msrv\u001b[0m/  \u001b[01;34musr\u001b[0m/\r\n",
      "\u001b[01;34mboot\u001b[0m/  \u001b[01;34metc\u001b[0m/            \u001b[01;34mlib\u001b[0m/     \u001b[01;34mmnt\u001b[0m/    \u001b[01;34mroot\u001b[0m/  \u001b[01;34msbin\u001b[0m/            \u001b[01;34msys\u001b[0m/  \u001b[01;34mvar\u001b[0m/\r\n",
      "\u001b[01;34mdev\u001b[0m/   \u001b[01;34mhome\u001b[0m/           \u001b[01;34mlib64\u001b[0m/   \u001b[01;34mopt\u001b[0m/    \u001b[01;34mrun\u001b[0m/   \u001b[01;34msrc\u001b[0m/             \u001b[30;42mtmp\u001b[0m/\r\n"
     ]
    }
   ],
   "source": [
    "user_secrets = UserSecretsClient()\n",
    "secret_value_0 = user_secrets.get_secret(\"WANDB_API_KEY2\")\n",
    "os.environ['WANDB_API_KEY'] = secret_value_0\n",
    "\n",
    "os.makedirs(TRAIN_DIR, exist_ok=True)\n",
    "\n",
    "%cd ../../\n",
    "%ls"
   ]
  },
  {
   "cell_type": "code",
   "execution_count": 4,
   "id": "marked-mouse",
   "metadata": {
    "execution": {
     "iopub.execute_input": "2021-06-16T20:20:56.182456Z",
     "iopub.status.busy": "2021-06-16T20:20:56.180873Z",
     "iopub.status.idle": "2021-06-16T20:20:56.792703Z",
     "shell.execute_reply": "2021-06-16T20:20:56.791965Z",
     "shell.execute_reply.started": "2021-06-16T20:15:48.665261Z"
    },
    "papermill": {
     "duration": 0.628962,
     "end_time": "2021-06-16T20:20:56.792850",
     "exception": false,
     "start_time": "2021-06-16T20:20:56.163888",
     "status": "completed"
    },
    "tags": []
   },
   "outputs": [
    {
     "name": "stderr",
     "output_type": "stream",
     "text": [
      "\u001b[34m\u001b[1mwandb\u001b[0m: Currently logged in as: \u001b[33madrien-loridan\u001b[0m (use `wandb login --relogin` to force relogin)\n"
     ]
    },
    {
     "data": {
      "text/plain": [
       "True"
      ]
     },
     "execution_count": 4,
     "metadata": {},
     "output_type": "execute_result"
    }
   ],
   "source": [
    "wandb.login()"
   ]
  },
  {
   "cell_type": "markdown",
   "id": "unusual-richards",
   "metadata": {
    "papermill": {
     "duration": 0.012225,
     "end_time": "2021-06-16T20:20:56.817789",
     "exception": false,
     "start_time": "2021-06-16T20:20:56.805564",
     "status": "completed"
    },
    "tags": []
   },
   "source": [
    "### **load train/study csv file and merge**"
   ]
  },
  {
   "cell_type": "code",
   "execution_count": 5,
   "id": "rapid-columbus",
   "metadata": {
    "execution": {
     "iopub.execute_input": "2021-06-16T20:20:56.850817Z",
     "iopub.status.busy": "2021-06-16T20:20:56.850274Z",
     "iopub.status.idle": "2021-06-16T20:20:57.276405Z",
     "shell.execute_reply": "2021-06-16T20:20:57.275935Z",
     "shell.execute_reply.started": "2021-06-16T20:15:48.919280Z"
    },
    "papermill": {
     "duration": 0.44618,
     "end_time": "2021-06-16T20:20:57.276537",
     "exception": false,
     "start_time": "2021-06-16T20:20:56.830357",
     "status": "completed"
    },
    "tags": []
   },
   "outputs": [],
   "source": [
    "df_train_image_level = pd.read_csv(TRAIN_IMAGE_LEVEL_PATH)\n",
    "df_train_study_level = pd.read_csv(TRAIN_STUDY_LEVEL_PATH)\n",
    "\n",
    "df_train_image_level['id'] = df_train_image_level.apply(lambda row: row.id.split('_')[0], axis=1)\n",
    "df_train_image_level['path'] = df_train_image_level.apply(lambda row: INPUT_DIR+row.id+'.jpg', axis=1)\n",
    "df_train_image_level['image_level'] = df_train_image_level.apply(lambda row: row.label.split(' ')[0], axis=1)\n",
    "\n",
    "df_train_study_level['id'] = df_train_study_level.apply(lambda row: row.id.split('_')[0], axis=1)\n",
    "df_train_study_level.columns = ['StudyInstanceUID', 'Negative for Pneumonia', 'Typical Appearance', 'Indeterminate Appearance', 'Atypical Appearance']"
   ]
  },
  {
   "cell_type": "code",
   "execution_count": 6,
   "id": "packed-brick",
   "metadata": {
    "execution": {
     "iopub.execute_input": "2021-06-16T20:20:57.314000Z",
     "iopub.status.busy": "2021-06-16T20:20:57.313459Z",
     "iopub.status.idle": "2021-06-16T20:20:57.343296Z",
     "shell.execute_reply": "2021-06-16T20:20:57.342832Z",
     "shell.execute_reply.started": "2021-06-16T20:15:49.308097Z"
    },
    "papermill": {
     "duration": 0.053819,
     "end_time": "2021-06-16T20:20:57.343427",
     "exception": false,
     "start_time": "2021-06-16T20:20:57.289608",
     "status": "completed"
    },
    "tags": []
   },
   "outputs": [],
   "source": [
    "df_train_image_level = df_train_image_level.merge(df_train_study_level, on='StudyInstanceUID',how=\"left\")\n",
    "df_train_image_level = df_train_image_level[['id','StudyInstanceUID','path','Negative for Pneumonia','Typical Appearance','Indeterminate Appearance','Atypical Appearance']]\n",
    "df_train_image_level = df_train_image_level.dropna()\n",
    "df_train_image_level = df_train_image_level[~df_train_image_level.duplicated(subset=['StudyInstanceUID'], keep='first')]\n",
    "df_train_image_level = df_train_image_level.reset_index(drop=True)"
   ]
  },
  {
   "cell_type": "markdown",
   "id": "alone-pakistan",
   "metadata": {
    "papermill": {
     "duration": 0.012123,
     "end_time": "2021-06-16T20:20:57.367947",
     "exception": false,
     "start_time": "2021-06-16T20:20:57.355824",
     "status": "completed"
    },
    "tags": []
   },
   "source": [
    "### **classification study with VGG16**"
   ]
  },
  {
   "cell_type": "markdown",
   "id": "nuclear-turkish",
   "metadata": {
    "papermill": {
     "duration": 0.011997,
     "end_time": "2021-06-16T20:20:57.392474",
     "exception": false,
     "start_time": "2021-06-16T20:20:57.380477",
     "status": "completed"
    },
    "tags": []
   },
   "source": [
    "**create dir and copy train images in 4 dir classes**"
   ]
  },
  {
   "cell_type": "code",
   "execution_count": 7,
   "id": "forward-repository",
   "metadata": {
    "execution": {
     "iopub.execute_input": "2021-06-16T20:20:57.423467Z",
     "iopub.status.busy": "2021-06-16T20:20:57.422647Z",
     "iopub.status.idle": "2021-06-16T20:21:37.348015Z",
     "shell.execute_reply": "2021-06-16T20:21:37.347029Z",
     "shell.execute_reply.started": "2021-06-16T20:19:46.728252Z"
    },
    "papermill": {
     "duration": 39.943511,
     "end_time": "2021-06-16T20:21:37.348205",
     "exception": false,
     "start_time": "2021-06-16T20:20:57.404694",
     "status": "completed"
    },
    "tags": []
   },
   "outputs": [
    {
     "data": {
      "application/vnd.jupyter.widget-view+json": {
       "model_id": "7d387b1997e9457f8a96b344f84a99cd",
       "version_major": 2,
       "version_minor": 0
      },
      "text/plain": [
       "  0%|          | 0/6054 [00:00<?, ?it/s]"
      ]
     },
     "metadata": {},
     "output_type": "display_data"
    }
   ],
   "source": [
    "[os.makedirs(dir, exist_ok=True) for dir in [TA_DIR,IA_DIR,AA_DIR,NP_DIR]]\n",
    "for i in tqdm(range(len(df_train_image_level))):\n",
    "    row = df_train_image_level.loc[i]\n",
    "    if row['Typical Appearance']:\n",
    "        shutil.copy(row.path, f'{TA_DIR}{row.id}.jpg')\n",
    "    elif row['Indeterminate Appearance']:\n",
    "        shutil.copy(row.path, f'{IA_DIR}{row.id}.jpg')\n",
    "    elif row['Atypical Appearance']:\n",
    "        shutil.copy(row.path, f'{AA_DIR}{row.id}.jpg')\n",
    "    elif row['Negative for Pneumonia']:\n",
    "        shutil.copy(row.path, f'{NP_DIR}{row.id}.jpg')\n",
    "    else:\n",
    "        print('Error: check df_train_image_level')"
   ]
  },
  {
   "cell_type": "markdown",
   "id": "desperate-danger",
   "metadata": {
    "papermill": {
     "duration": 0.012753,
     "end_time": "2021-06-16T20:21:37.373790",
     "exception": false,
     "start_time": "2021-06-16T20:21:37.361037",
     "status": "completed"
    },
    "tags": []
   },
   "source": [
    "**datagen / data augmentation**"
   ]
  },
  {
   "cell_type": "code",
   "execution_count": 8,
   "id": "still-physics",
   "metadata": {
    "execution": {
     "iopub.execute_input": "2021-06-16T20:21:37.406878Z",
     "iopub.status.busy": "2021-06-16T20:21:37.406353Z",
     "iopub.status.idle": "2021-06-16T20:21:37.724914Z",
     "shell.execute_reply": "2021-06-16T20:21:37.725309Z"
    },
    "papermill": {
     "duration": 0.339057,
     "end_time": "2021-06-16T20:21:37.725460",
     "exception": false,
     "start_time": "2021-06-16T20:21:37.386403",
     "status": "completed"
    },
    "tags": []
   },
   "outputs": [
    {
     "name": "stdout",
     "output_type": "stream",
     "text": [
      "Found 1209 images belonging to 4 classes.\n",
      "Found 4845 images belonging to 4 classes.\n",
      "classes : {'aa': 0, 'ia': 1, 'np': 2, 'ta': 3}\n"
     ]
    }
   ],
   "source": [
    "datagen_kwargs = dict(validation_split=.20,\n",
    "                      preprocessing_function=preprocess_input\n",
    "                     )\n",
    "dataflow_kwargs = dict(target_size=(IMG_SIZE, IMG_SIZE),\n",
    "                       batch_size=BATCH_SIZE,\n",
    "                       interpolation=\"lanczos\"\n",
    "                      )\n",
    "\n",
    "valid_datagen = tf.keras.preprocessing.image.ImageDataGenerator(**datagen_kwargs)\n",
    "valid_generator = valid_datagen.flow_from_directory(TRAIN_DIR,\n",
    "                                                    subset=\"validation\",\n",
    "                                                    shuffle=False,\n",
    "                                                    **dataflow_kwargs)\n",
    "\n",
    "train_datagen = tf.keras.preprocessing.image.ImageDataGenerator(\n",
    "    rotation_range=40,\n",
    "    horizontal_flip=True,\n",
    "    width_shift_range=0.2,\n",
    "    height_shift_range=0.2,\n",
    "    shear_range=0.2,\n",
    "    zoom_range=0.2,\n",
    "    **datagen_kwargs)\n",
    "train_generator = train_datagen.flow_from_directory(TRAIN_DIR,\n",
    "                                                    subset=\"training\",\n",
    "                                                    shuffle=True,\n",
    "                                                    **dataflow_kwargs)\n",
    "\n",
    "print('classes :', train_generator.class_indices)"
   ]
  },
  {
   "cell_type": "markdown",
   "id": "based-length",
   "metadata": {
    "papermill": {
     "duration": 0.013322,
     "end_time": "2021-06-16T20:21:37.752205",
     "exception": false,
     "start_time": "2021-06-16T20:21:37.738883",
     "status": "completed"
    },
    "tags": []
   },
   "source": [
    "**training model vgg16**"
   ]
  },
  {
   "cell_type": "code",
   "execution_count": 9,
   "id": "protective-criticism",
   "metadata": {
    "execution": {
     "iopub.execute_input": "2021-06-16T20:21:37.789087Z",
     "iopub.status.busy": "2021-06-16T20:21:37.788570Z",
     "iopub.status.idle": "2021-06-16T22:31:51.389590Z",
     "shell.execute_reply": "2021-06-16T22:31:51.390103Z"
    },
    "papermill": {
     "duration": 7813.624756,
     "end_time": "2021-06-16T22:31:51.390313",
     "exception": false,
     "start_time": "2021-06-16T20:21:37.765557",
     "status": "completed"
    },
    "tags": []
   },
   "outputs": [
    {
     "name": "stderr",
     "output_type": "stream",
     "text": [
      "\u001b[34m\u001b[1mwandb\u001b[0m: wandb version 0.10.32 is available!  To upgrade, please run:\n",
      "\u001b[34m\u001b[1mwandb\u001b[0m:  $ pip install wandb --upgrade\n"
     ]
    },
    {
     "data": {
      "text/html": [
       "\n",
       "                Tracking run with wandb version 0.10.26<br/>\n",
       "                Syncing run <strong style=\"color:#cdcd00\">rare-flower-93</strong> to <a href=\"https://wandb.ai\" target=\"_blank\">Weights & Biases</a> <a href=\"https://docs.wandb.com/integrations/jupyter.html\" target=\"_blank\">(Documentation)</a>.<br/>\n",
       "                Project page: <a href=\"https://wandb.ai/adrien-loridan/project8-kaggle-covid19\" target=\"_blank\">https://wandb.ai/adrien-loridan/project8-kaggle-covid19</a><br/>\n",
       "                Run page: <a href=\"https://wandb.ai/adrien-loridan/project8-kaggle-covid19/runs/16hgsi8x\" target=\"_blank\">https://wandb.ai/adrien-loridan/project8-kaggle-covid19/runs/16hgsi8x</a><br/>\n",
       "                Run data is saved locally in <code>/wandb/run-20210616_202137-16hgsi8x</code><br/><br/>\n",
       "            "
      ],
      "text/plain": [
       "<IPython.core.display.HTML object>"
      ]
     },
     "metadata": {},
     "output_type": "display_data"
    },
    {
     "name": "stdout",
     "output_type": "stream",
     "text": [
      "Downloading data from https://storage.googleapis.com/tensorflow/keras-applications/vgg16/vgg16_weights_tf_dim_ordering_tf_kernels_notop.h5\n",
      "58892288/58889256 [==============================] - 1s 0us/step\n",
      "0 input_1 False\n",
      "1 block1_conv1 False\n",
      "2 block1_conv2 False\n",
      "3 block1_pool False\n",
      "4 block2_conv1 False\n",
      "5 block2_conv2 False\n",
      "6 block2_pool False\n",
      "7 block3_conv1 False\n",
      "8 block3_conv2 False\n",
      "9 block3_conv3 False\n",
      "10 block3_pool False\n",
      "11 block4_conv1 False\n",
      "12 block4_conv2 False\n",
      "13 block4_conv3 False\n",
      "14 block4_pool False\n",
      "15 block5_conv1 True\n",
      "16 block5_conv2 True\n",
      "17 block5_conv3 True\n",
      "18 block5_pool True\n",
      "Model: \"model\"\n",
      "_________________________________________________________________\n",
      "Layer (type)                 Output Shape              Param #   \n",
      "=================================================================\n",
      "input_1 (InputLayer)         [(None, 224, 224, 3)]     0         \n",
      "_________________________________________________________________\n",
      "block1_conv1 (Conv2D)        (None, 224, 224, 64)      1792      \n",
      "_________________________________________________________________\n",
      "block1_conv2 (Conv2D)        (None, 224, 224, 64)      36928     \n",
      "_________________________________________________________________\n",
      "block1_pool (MaxPooling2D)   (None, 112, 112, 64)      0         \n",
      "_________________________________________________________________\n",
      "block2_conv1 (Conv2D)        (None, 112, 112, 128)     73856     \n",
      "_________________________________________________________________\n",
      "block2_conv2 (Conv2D)        (None, 112, 112, 128)     147584    \n",
      "_________________________________________________________________\n",
      "block2_pool (MaxPooling2D)   (None, 56, 56, 128)       0         \n",
      "_________________________________________________________________\n",
      "block3_conv1 (Conv2D)        (None, 56, 56, 256)       295168    \n",
      "_________________________________________________________________\n",
      "block3_conv2 (Conv2D)        (None, 56, 56, 256)       590080    \n",
      "_________________________________________________________________\n",
      "block3_conv3 (Conv2D)        (None, 56, 56, 256)       590080    \n",
      "_________________________________________________________________\n",
      "block3_pool (MaxPooling2D)   (None, 28, 28, 256)       0         \n",
      "_________________________________________________________________\n",
      "block4_conv1 (Conv2D)        (None, 28, 28, 512)       1180160   \n",
      "_________________________________________________________________\n",
      "block4_conv2 (Conv2D)        (None, 28, 28, 512)       2359808   \n",
      "_________________________________________________________________\n",
      "block4_conv3 (Conv2D)        (None, 28, 28, 512)       2359808   \n",
      "_________________________________________________________________\n",
      "block4_pool (MaxPooling2D)   (None, 14, 14, 512)       0         \n",
      "_________________________________________________________________\n",
      "block5_conv1 (Conv2D)        (None, 14, 14, 512)       2359808   \n",
      "_________________________________________________________________\n",
      "block5_conv2 (Conv2D)        (None, 14, 14, 512)       2359808   \n",
      "_________________________________________________________________\n",
      "block5_conv3 (Conv2D)        (None, 14, 14, 512)       2359808   \n",
      "_________________________________________________________________\n",
      "block5_pool (MaxPooling2D)   (None, 7, 7, 512)         0         \n",
      "_________________________________________________________________\n",
      "flatten (Flatten)            (None, 25088)             0         \n",
      "_________________________________________________________________\n",
      "dense (Dense)                (None, 32)                802848    \n",
      "_________________________________________________________________\n",
      "dense_1 (Dense)              (None, 16)                528       \n",
      "_________________________________________________________________\n",
      "dense_2 (Dense)              (None, 4)                 68        \n",
      "=================================================================\n",
      "Total params: 15,518,132\n",
      "Trainable params: 7,882,868\n",
      "Non-trainable params: 7,635,264\n",
      "_________________________________________________________________\n",
      "Epoch 1/25\n",
      "151/151 [==============================] - 677s 4s/step - loss: 1.6800 - accuracy: 0.3897 - val_loss: 1.1285 - val_accuracy: 0.5431\n",
      "Epoch 2/25\n",
      "151/151 [==============================] - 648s 4s/step - loss: 1.1140 - accuracy: 0.5769 - val_loss: 1.0620 - val_accuracy: 0.5777\n",
      "Epoch 3/25\n",
      "151/151 [==============================] - 648s 4s/step - loss: 1.0597 - accuracy: 0.5930 - val_loss: 1.0816 - val_accuracy: 0.5929\n",
      "Epoch 4/25\n",
      "151/151 [==============================] - 648s 4s/step - loss: 1.0009 - accuracy: 0.6173 - val_loss: 1.0037 - val_accuracy: 0.6182\n",
      "Epoch 5/25\n",
      "151/151 [==============================] - 648s 4s/step - loss: 0.9992 - accuracy: 0.6202 - val_loss: 1.0082 - val_accuracy: 0.6098\n",
      "Epoch 6/25\n",
      "151/151 [==============================] - 648s 4s/step - loss: 0.9694 - accuracy: 0.6351 - val_loss: 0.9923 - val_accuracy: 0.6073\n",
      "Epoch 7/25\n",
      "151/151 [==============================] - 648s 4s/step - loss: 0.9707 - accuracy: 0.6254 - val_loss: 0.9819 - val_accuracy: 0.6132\n",
      "Epoch 8/25\n",
      "151/151 [==============================] - 648s 4s/step - loss: 0.9400 - accuracy: 0.6359 - val_loss: 1.0000 - val_accuracy: 0.6174\n",
      "Epoch 9/25\n",
      "151/151 [==============================] - 648s 4s/step - loss: 0.9337 - accuracy: 0.6345 - val_loss: 1.0678 - val_accuracy: 0.6056\n",
      "Epoch 10/25\n",
      "151/151 [==============================] - 648s 4s/step - loss: 0.9161 - accuracy: 0.6438 - val_loss: 0.9955 - val_accuracy: 0.6090\n",
      "Epoch 11/25\n",
      "151/151 [==============================] - 648s 4s/step - loss: 0.9047 - accuracy: 0.6392 - val_loss: 1.0301 - val_accuracy: 0.6115\n",
      "Epoch 12/25\n",
      "151/151 [==============================] - 648s 4s/step - loss: 0.8948 - accuracy: 0.6638 - val_loss: 0.9968 - val_accuracy: 0.6047\n"
     ]
    }
   ],
   "source": [
    "tf.keras.backend.clear_session()\n",
    "\n",
    "wandb.init(project=\"project8-kaggle-covid19\")\n",
    "config = wandb.config \n",
    "config.learning_rate = LEARNING_RATE\n",
    "config.batch_size = BATCH_SIZE\n",
    "\n",
    "vgg_model = VGG16(weights='imagenet', include_top=False, input_shape=(224, 224, 3))\n",
    "\n",
    "for layer in vgg_model.layers[:15]:\n",
    "    layer.trainable = False\n",
    "\n",
    "for i, layer in enumerate(vgg_model.layers):\n",
    "    print(i, layer.name, layer.trainable)\n",
    "\n",
    "x = vgg_model.output\n",
    "x = tf.keras.layers.Flatten()(x)\n",
    "x = tf.keras.layers.Dense(32, activation='relu')(x)\n",
    "x = tf.keras.layers.Dense(16, activation='relu')(x)\n",
    "x = tf.keras.layers.Dense(train_generator.num_classes, activation='softmax')(x) \n",
    "\n",
    "model = tf.keras.Model(inputs=vgg_model.input, outputs=x)\n",
    "\n",
    "model.build((None, IMG_SIZE, IMG_SIZE, 3))\n",
    "\n",
    "model.summary()\n",
    "\n",
    "model.compile(\n",
    "    optimizer=tf.keras.optimizers.Adam(learning_rate=LEARNING_RATE),\n",
    "    loss=tf.keras.losses.CategoricalCrossentropy(),\n",
    "    metrics=['accuracy'])\n",
    "\n",
    "steps_per_epoch = train_generator.samples // train_generator.batch_size\n",
    "validation_steps = valid_generator.samples // valid_generator.batch_size\n",
    "\n",
    "hist = model.fit(\n",
    "    train_generator,\n",
    "    epochs=EPOCHS,\n",
    "    steps_per_epoch=steps_per_epoch,\n",
    "    validation_data=valid_generator,\n",
    "    validation_steps=validation_steps,\n",
    "    callbacks=[WandbCallback(),\n",
    "              tf.keras.callbacks.EarlyStopping(patience=5, restore_best_weights=True)\n",
    "              ]).history"
   ]
  },
  {
   "cell_type": "code",
   "execution_count": 10,
   "id": "neither-recommendation",
   "metadata": {
    "execution": {
     "iopub.execute_input": "2021-06-16T22:31:52.529810Z",
     "iopub.status.busy": "2021-06-16T22:31:52.528770Z",
     "iopub.status.idle": "2021-06-16T22:31:52.530832Z",
     "shell.execute_reply": "2021-06-16T22:31:52.531531Z"
    },
    "papermill": {
     "duration": 0.577234,
     "end_time": "2021-06-16T22:31:52.531729",
     "exception": false,
     "start_time": "2021-06-16T22:31:51.954495",
     "status": "completed"
    },
    "tags": []
   },
   "outputs": [],
   "source": [
    "def plot_confusion_matrix(generator, model, figsize=(15,15)):\n",
    "    n_steps = len(generator)\n",
    "    y_true = None\n",
    "    y_pred = None\n",
    "\n",
    "    # evaluation\n",
    "    for step in range(n_steps):\n",
    "        imgs, labels = next(generator)\n",
    "        preds = model.predict(imgs)\n",
    "        preds = np.argmax(preds, axis=1)\n",
    "        if y_true is None:\n",
    "            y_true = labels\n",
    "        if y_pred is None:\n",
    "            y_pred = preds\n",
    "        else:\n",
    "            y_true = np.concatenate((y_true, labels))\n",
    "            y_pred = np.concatenate((y_pred, preds))\n",
    "\n",
    "    y_pred = y_pred.astype(np.float64)\n",
    "    y_true = y_true.astype(np.float64)\n",
    "\n",
    "    # conversion inverse pour multiclass\n",
    "    categories = list(generator.class_indices.keys())\n",
    "    categories_idx = [[element] for element in list(generator.class_indices.values())]\n",
    "    onehot_encoder = OneHotEncoder(sparse=False)\n",
    "    onehot_encoder.fit(categories_idx)\n",
    "    y_true = onehot_encoder.inverse_transform(y_true)\n",
    "    y_true = [element[0] for element in y_true]\n",
    "\n",
    "    fig, ax = plt.subplots(figsize=figsize)\n",
    "    cm = ConfusionMatrixDisplay(confusion_matrix(y_true, y_pred),\n",
    "                           display_labels=categories\n",
    "                          ).plot(ax=ax,\n",
    "                                 colorbar=None,\n",
    "                                 cmap=plt.cm.Blues)\n",
    "    \n",
    "    # ameliore l'affichage des labels en pivotants\n",
    "    for label in ax.get_xticklabels():\n",
    "        label.set_ha(\"right\")\n",
    "        label.set_rotation(45)"
   ]
  },
  {
   "cell_type": "code",
   "execution_count": 11,
   "id": "broadband-afternoon",
   "metadata": {
    "execution": {
     "iopub.execute_input": "2021-06-16T22:31:53.679944Z",
     "iopub.status.busy": "2021-06-16T22:31:53.678608Z",
     "iopub.status.idle": "2021-06-16T22:34:30.413567Z",
     "shell.execute_reply": "2021-06-16T22:34:30.414072Z"
    },
    "papermill": {
     "duration": 157.314471,
     "end_time": "2021-06-16T22:34:30.414273",
     "exception": false,
     "start_time": "2021-06-16T22:31:53.099802",
     "status": "completed"
    },
    "tags": []
   },
   "outputs": [
    {
     "data": {
      "image/png": "[encoded data removed]",
      "text/plain": [
       "<Figure size 1080x1080 with 1 Axes>"
      ]
     },
     "metadata": {
      "needs_background": "light"
     },
     "output_type": "display_data"
    }
   ],
   "source": [
    "plot_confusion_matrix(valid_generator, model, figsize=(15,15))"
   ]
  },
  {
   "cell_type": "markdown",
   "id": "pressed-concentration",
   "metadata": {
    "papermill": {
     "duration": 0.561434,
     "end_time": "2021-06-16T22:34:31.541193",
     "exception": false,
     "start_time": "2021-06-16T22:34:30.979759",
     "status": "completed"
    },
    "tags": []
   },
   "source": [
    "### **export**"
   ]
  },
  {
   "cell_type": "code",
   "execution_count": 12,
   "id": "future-aquarium",
   "metadata": {
    "execution": {
     "iopub.execute_input": "2021-06-16T22:34:32.672503Z",
     "iopub.status.busy": "2021-06-16T22:34:32.671632Z",
     "iopub.status.idle": "2021-06-16T22:34:35.771821Z",
     "shell.execute_reply": "2021-06-16T22:34:35.772302Z"
    },
    "papermill": {
     "duration": 3.668745,
     "end_time": "2021-06-16T22:34:35.772480",
     "exception": false,
     "start_time": "2021-06-16T22:34:32.103735",
     "status": "completed"
    },
    "tags": []
   },
   "outputs": [
    {
     "name": "stdout",
     "output_type": "stream",
     "text": [
      "/kaggle/working\n",
      "/\n"
     ]
    }
   ],
   "source": [
    "%cd {WORKING_DIR}\n",
    "model.save('vgg16')\n",
    "%cd ../../"
   ]
  }
 ],
 "metadata": {
  "kernelspec": {
   "display_name": "Python 3",
   "language": "python",
   "name": "python3"
  },
  "language_info": {
   "codemirror_mode": {
    "name": "ipython",
    "version": 3
   },
   "file_extension": ".py",
   "mimetype": "text/x-python",
   "name": "python",
   "nbconvert_exporter": "python",
   "pygments_lexer": "ipython3",
   "version": "3.7.10"
  },
  "papermill": {
   "default_parameters": {},
   "duration": 8037.55073,
   "end_time": "2021-06-16T22:34:39.047853",
   "environment_variables": {},
   "exception": null,
   "input_path": "__notebook__.ipynb",
   "output_path": "__notebook__.ipynb",
   "parameters": {},
   "start_time": "2021-06-16T20:20:41.497123",
   "version": "2.3.3"
  },
  "widgets": {
   "application/vnd.jupyter.widget-state+json": {
    "state": {
     "06149995f2a4461e8d90a2a70722dc6f": {
      "model_module": "@jupyter-widgets/base",
      "model_module_version": "1.2.0",
      "model_name": "LayoutModel",
      "state": {
       "_model_module": "@jupyter-widgets/base",
       "_model_module_version": "1.2.0",
       "_model_name": "LayoutModel",
       "_view_count": null,
       "_view_module": "@jupyter-widgets/base",
       "_view_module_version": "1.2.0",
       "_view_name": "LayoutView",
       "align_content": null,
       "align_items": null,
       "align_self": null,
       "border": null,
       "bottom": null,
       "display": null,
       "flex": null,
       "flex_flow": null,
       "grid_area": null,
       "grid_auto_columns": null,
       "grid_auto_flow": null,
       "grid_auto_rows": null,
       "grid_column": null,
       "grid_gap": null,
       "grid_row": null,
       "grid_template_areas": null,
       "grid_template_columns": null,
       "grid_template_rows": null,
       "height": null,
       "justify_content": null,
       "justify_items": null,
       "left": null,
       "margin": null,
       "max_height": null,
       "max_width": null,
       "min_height": null,
       "min_width": null,
       "object_fit": null,
       "object_position": null,
       "order": null,
       "overflow": null,
       "overflow_x": null,
       "overflow_y": null,
       "padding": null,
       "right": null,
       "top": null,
       "visibility": null,
       "width": null
      }
     },
     "2b983127b5e74f4985081ea2cfd751fe": {
      "model_module": "@jupyter-widgets/controls",
      "model_module_version": "1.5.0",
      "model_name": "HTMLModel",
      "state": {
       "_dom_classes": [],
       "_model_module": "@jupyter-widgets/controls",
       "_model_module_version": "1.5.0",
       "_model_name": "HTMLModel",
       "_view_count": null,
       "_view_module": "@jupyter-widgets/controls",
       "_view_module_version": "1.5.0",
       "_view_name": "HTMLView",
       "description": "",
       "description_tooltip": null,
       "layout": "IPY_MODEL_cc9b3d0c44154811963de2c1e2a3aee5",
       "placeholder": "​",
       "style": "IPY_MODEL_e5454a7782cf4374b9e71051eba41bc7",
       "value": "100%"
      }
     },
     "3694b50e19bd4f969a463edaa3ab94c0": {
      "model_module": "@jupyter-widgets/base",
      "model_module_version": "1.2.0",
      "model_name": "LayoutModel",
      "state": {
       "_model_module": "@jupyter-widgets/base",
       "_model_module_version": "1.2.0",
       "_model_name": "LayoutModel",
       "_view_count": null,
       "_view_module": "@jupyter-widgets/base",
       "_view_module_version": "1.2.0",
       "_view_name": "LayoutView",
       "align_content": null,
       "align_items": null,
       "align_self": null,
       "border": null,
       "bottom": null,
       "display": null,
       "flex": null,
       "flex_flow": null,
       "grid_area": null,
       "grid_auto_columns": null,
       "grid_auto_flow": null,
       "grid_auto_rows": null,
       "grid_column": null,
       "grid_gap": null,
       "grid_row": null,
       "grid_template_areas": null,
       "grid_template_columns": null,
       "grid_template_rows": null,
       "height": null,
       "justify_content": null,
       "justify_items": null,
       "left": null,
       "margin": null,
       "max_height": null,
       "max_width": null,
       "min_height": null,
       "min_width": null,
       "object_fit": null,
       "object_position": null,
       "order": null,
       "overflow": null,
       "overflow_x": null,
       "overflow_y": null,
       "padding": null,
       "right": null,
       "top": null,
       "visibility": null,
       "width": null
      }
     },
     "3ec0bb36ab284e02893752a75be8910d": {
      "model_module": "@jupyter-widgets/controls",
      "model_module_version": "1.5.0",
      "model_name": "ProgressStyleModel",
      "state": {
       "_model_module": "@jupyter-widgets/controls",
       "_model_module_version": "1.5.0",
       "_model_name": "ProgressStyleModel",
       "_view_count": null,
       "_view_module": "@jupyter-widgets/base",
       "_view_module_version": "1.2.0",
       "_view_name": "StyleView",
       "bar_color": null,
       "description_width": ""
      }
     },
     "5c490af3fa6842b5b05edf1d58829ed1": {
      "model_module": "@jupyter-widgets/base",
      "model_module_version": "1.2.0",
      "model_name": "LayoutModel",
      "state": {
       "_model_module": "@jupyter-widgets/base",
       "_model_module_version": "1.2.0",
       "_model_name": "LayoutModel",
       "_view_count": null,
       "_view_module": "@jupyter-widgets/base",
       "_view_module_version": "1.2.0",
       "_view_name": "LayoutView",
       "align_content": null,
       "align_items": null,
       "align_self": null,
       "border": null,
       "bottom": null,
       "display": null,
       "flex": null,
       "flex_flow": null,
       "grid_area": null,
       "grid_auto_columns": null,
       "grid_auto_flow": null,
       "grid_auto_rows": null,
       "grid_column": null,
       "grid_gap": null,
       "grid_row": null,
       "grid_template_areas": null,
       "grid_template_columns": null,
       "grid_template_rows": null,
       "height": null,
       "justify_content": null,
       "justify_items": null,
       "left": null,
       "margin": null,
       "max_height": null,
       "max_width": null,
       "min_height": null,
       "min_width": null,
       "object_fit": null,
       "object_position": null,
       "order": null,
       "overflow": null,
       "overflow_x": null,
       "overflow_y": null,
       "padding": null,
       "right": null,
       "top": null,
       "visibility": null,
       "width": null
      }
     },
     "6483500d97aa4af086d7f1ce9b24ca46": {
      "model_module": "@jupyter-widgets/controls",
      "model_module_version": "1.5.0",
      "model_name": "ProgressStyleModel",
      "state": {
       "_model_module": "@jupyter-widgets/controls",
       "_model_module_version": "1.5.0",
       "_model_name": "ProgressStyleModel",
       "_view_count": null,
       "_view_module": "@jupyter-widgets/base",
       "_view_module_version": "1.2.0",
       "_view_name": "StyleView",
       "bar_color": null,
       "description_width": ""
      }
     },
     "765780a36819435db1a514d6e7c6a97d": {
      "model_module": "@jupyter-widgets/controls",
      "model_module_version": "1.5.0",
      "model_name": "DescriptionStyleModel",
      "state": {
       "_model_module": "@jupyter-widgets/controls",
       "_model_module_version": "1.5.0",
       "_model_name": "DescriptionStyleModel",
       "_view_count": null,
       "_view_module": "@jupyter-widgets/base",
       "_view_module_version": "1.2.0",
       "_view_name": "StyleView",
       "description_width": ""
      }
     },
     "7d387b1997e9457f8a96b344f84a99cd": {
      "model_module": "@jupyter-widgets/controls",
      "model_module_version": "1.5.0",
      "model_name": "HBoxModel",
      "state": {
       "_dom_classes": [],
       "_model_module": "@jupyter-widgets/controls",
       "_model_module_version": "1.5.0",
       "_model_name": "HBoxModel",
       "_view_count": null,
       "_view_module": "@jupyter-widgets/controls",
       "_view_module_version": "1.5.0",
       "_view_name": "HBoxView",
       "box_style": "",
       "children": [
        "IPY_MODEL_2b983127b5e74f4985081ea2cfd751fe",
        "IPY_MODEL_a8d315ce686f4beea6aa16ac71952304",
        "IPY_MODEL_e76de0bfa227482d9d1fa0630104272b"
       ],
       "layout": "IPY_MODEL_b8b2252a2ac2421ca526c152969faef9"
      }
     },
     "7fbc1f386c954fac906fb9ae48374855": {
      "model_module": "@jupyter-widgets/base",
      "model_module_version": "1.2.0",
      "model_name": "LayoutModel",
      "state": {
       "_model_module": "@jupyter-widgets/base",
       "_model_module_version": "1.2.0",
       "_model_name": "LayoutModel",
       "_view_count": null,
       "_view_module": "@jupyter-widgets/base",
       "_view_module_version": "1.2.0",
       "_view_name": "LayoutView",
       "align_content": null,
       "align_items": null,
       "align_self": null,
       "border": null,
       "bottom": null,
       "display": null,
       "flex": null,
       "flex_flow": null,
       "grid_area": null,
       "grid_auto_columns": null,
       "grid_auto_flow": null,
       "grid_auto_rows": null,
       "grid_column": null,
       "grid_gap": null,
       "grid_row": null,
       "grid_template_areas": null,
       "grid_template_columns": null,
       "grid_template_rows": null,
       "height": null,
       "justify_content": null,
       "justify_items": null,
       "left": null,
       "margin": null,
       "max_height": null,
       "max_width": null,
       "min_height": null,
       "min_width": null,
       "object_fit": null,
       "object_position": null,
       "order": null,
       "overflow": null,
       "overflow_x": null,
       "overflow_y": null,
       "padding": null,
       "right": null,
       "top": null,
       "visibility": null,
       "width": null
      }
     },
     "a8d315ce686f4beea6aa16ac71952304": {
      "model_module": "@jupyter-widgets/controls",
      "model_module_version": "1.5.0",
      "model_name": "FloatProgressModel",
      "state": {
       "_dom_classes": [],
       "_model_module": "@jupyter-widgets/controls",
       "_model_module_version": "1.5.0",
       "_model_name": "FloatProgressModel",
       "_view_count": null,
       "_view_module": "@jupyter-widgets/controls",
       "_view_module_version": "1.5.0",
       "_view_name": "ProgressView",
       "bar_style": "success",
       "description": "",
       "description_tooltip": null,
       "layout": "IPY_MODEL_5c490af3fa6842b5b05edf1d58829ed1",
       "max": 6054.0,
       "min": 0.0,
       "orientation": "horizontal",
       "style": "IPY_MODEL_6483500d97aa4af086d7f1ce9b24ca46",
       "value": 6054.0
      }
     },
     "a94450b918b34ac89f3c76ee15961a0a": {
      "model_module": "@jupyter-widgets/base",
      "model_module_version": "1.2.0",
      "model_name": "LayoutModel",
      "state": {
       "_model_module": "@jupyter-widgets/base",
       "_model_module_version": "1.2.0",
       "_model_name": "LayoutModel",
       "_view_count": null,
       "_view_module": "@jupyter-widgets/base",
       "_view_module_version": "1.2.0",
       "_view_name": "LayoutView",
       "align_content": null,
       "align_items": null,
       "align_self": null,
       "border": null,
       "bottom": null,
       "display": null,
       "flex": null,
       "flex_flow": null,
       "grid_area": null,
       "grid_auto_columns": null,
       "grid_auto_flow": null,
       "grid_auto_rows": null,
       "grid_column": null,
       "grid_gap": null,
       "grid_row": null,
       "grid_template_areas": null,
       "grid_template_columns": null,
       "grid_template_rows": null,
       "height": null,
       "justify_content": null,
       "justify_items": null,
       "left": null,
       "margin": null,
       "max_height": null,
       "max_width": null,
       "min_height": null,
       "min_width": null,
       "object_fit": null,
       "object_position": null,
       "order": null,
       "overflow": null,
       "overflow_x": null,
       "overflow_y": null,
       "padding": null,
       "right": null,
       "top": null,
       "visibility": null,
       "width": null
      }
     },
     "b8b2252a2ac2421ca526c152969faef9": {
      "model_module": "@jupyter-widgets/base",
      "model_module_version": "1.2.0",
      "model_name": "LayoutModel",
      "state": {
       "_model_module": "@jupyter-widgets/base",
       "_model_module_version": "1.2.0",
       "_model_name": "LayoutModel",
       "_view_count": null,
       "_view_module": "@jupyter-widgets/base",
       "_view_module_version": "1.2.0",
       "_view_name": "LayoutView",
       "align_content": null,
       "align_items": null,
       "align_self": null,
       "border": null,
       "bottom": null,
       "display": null,
       "flex": null,
       "flex_flow": null,
       "grid_area": null,
       "grid_auto_columns": null,
       "grid_auto_flow": null,
       "grid_auto_rows": null,
       "grid_column": null,
       "grid_gap": null,
       "grid_row": null,
       "grid_template_areas": null,
       "grid_template_columns": null,
       "grid_template_rows": null,
       "height": null,
       "justify_content": null,
       "justify_items": null,
       "left": null,
       "margin": null,
       "max_height": null,
       "max_width": null,
       "min_height": null,
       "min_width": null,
       "object_fit": null,
       "object_position": null,
       "order": null,
       "overflow": null,
       "overflow_x": null,
       "overflow_y": null,
       "padding": null,
       "right": null,
       "top": null,
       "visibility": null,
       "width": null
      }
     },
     "cc9b3d0c44154811963de2c1e2a3aee5": {
      "model_module": "@jupyter-widgets/base",
      "model_module_version": "1.2.0",
      "model_name": "LayoutModel",
      "state": {
       "_model_module": "@jupyter-widgets/base",
       "_model_module_version": "1.2.0",
       "_model_name": "LayoutModel",
       "_view_count": null,
       "_view_module": "@jupyter-widgets/base",
       "_view_module_version": "1.2.0",
       "_view_name": "LayoutView",
       "align_content": null,
       "align_items": null,
       "align_self": null,
       "border": null,
       "bottom": null,
       "display": null,
       "flex": null,
       "flex_flow": null,
       "grid_area": null,
       "grid_auto_columns": null,
       "grid_auto_flow": null,
       "grid_auto_rows": null,
       "grid_column": null,
       "grid_gap": null,
       "grid_row": null,
       "grid_template_areas": null,
       "grid_template_columns": null,
       "grid_template_rows": null,
       "height": null,
       "justify_content": null,
       "justify_items": null,
       "left": null,
       "margin": null,
       "max_height": null,
       "max_width": null,
       "min_height": null,
       "min_width": null,
       "object_fit": null,
       "object_position": null,
       "order": null,
       "overflow": null,
       "overflow_x": null,
       "overflow_y": null,
       "padding": null,
       "right": null,
       "top": null,
       "visibility": null,
       "width": null
      }
     },
     "e18f6c283a9b4e55abc0390d1f3e7189": {
      "model_module": "@jupyter-widgets/controls",
      "model_module_version": "1.5.0",
      "model_name": "VBoxModel",
      "state": {
       "_dom_classes": [],
       "_model_module": "@jupyter-widgets/controls",
       "_model_module_version": "1.5.0",
       "_model_name": "VBoxModel",
       "_view_count": null,
       "_view_module": "@jupyter-widgets/controls",
       "_view_module_version": "1.5.0",
       "_view_name": "VBoxView",
       "box_style": "",
       "children": [
        "IPY_MODEL_ed67ba8f5ac04aefa48e8e94572b2146",
        "IPY_MODEL_e4c95f0d854b4c20a8769b5cf49f8082"
       ],
       "layout": "IPY_MODEL_06149995f2a4461e8d90a2a70722dc6f"
      }
     },
     "e4c95f0d854b4c20a8769b5cf49f8082": {
      "model_module": "@jupyter-widgets/controls",
      "model_module_version": "1.5.0",
      "model_name": "FloatProgressModel",
      "state": {
       "_dom_classes": [],
       "_model_module": "@jupyter-widgets/controls",
       "_model_module_version": "1.5.0",
       "_model_name": "FloatProgressModel",
       "_view_count": null,
       "_view_module": "@jupyter-widgets/controls",
       "_view_module_version": "1.5.0",
       "_view_name": "ProgressView",
       "bar_style": "",
       "description": "",
       "description_tooltip": null,
       "layout": "IPY_MODEL_7fbc1f386c954fac906fb9ae48374855",
       "max": 1.0,
       "min": 0.0,
       "orientation": "horizontal",
       "style": "IPY_MODEL_3ec0bb36ab284e02893752a75be8910d",
       "value": 0.0
      }
     },
     "e5454a7782cf4374b9e71051eba41bc7": {
      "model_module": "@jupyter-widgets/controls",
      "model_module_version": "1.5.0",
      "model_name": "DescriptionStyleModel",
      "state": {
       "_model_module": "@jupyter-widgets/controls",
       "_model_module_version": "1.5.0",
       "_model_name": "DescriptionStyleModel",
       "_view_count": null,
       "_view_module": "@jupyter-widgets/base",
       "_view_module_version": "1.2.0",
       "_view_name": "StyleView",
       "description_width": ""
      }
     },
     "e76de0bfa227482d9d1fa0630104272b": {
      "model_module": "@jupyter-widgets/controls",
      "model_module_version": "1.5.0",
      "model_name": "HTMLModel",
      "state": {
       "_dom_classes": [],
       "_model_module": "@jupyter-widgets/controls",
       "_model_module_version": "1.5.0",
       "_model_name": "HTMLModel",
       "_view_count": null,
       "_view_module": "@jupyter-widgets/controls",
       "_view_module_version": "1.5.0",
       "_view_name": "HTMLView",
       "description": "",
       "description_tooltip": null,
       "layout": "IPY_MODEL_a94450b918b34ac89f3c76ee15961a0a",
       "placeholder": "​",
       "style": "IPY_MODEL_765780a36819435db1a514d6e7c6a97d",
       "value": " 6054/6054 [00:39&lt;00:00, 155.22it/s]"
      }
     },
     "e78638efb48b421aa3c299dfa970b04c": {
      "model_module": "@jupyter-widgets/controls",
      "model_module_version": "1.5.0",
      "model_name": "DescriptionStyleModel",
      "state": {
       "_model_module": "@jupyter-widgets/controls",
       "_model_module_version": "1.5.0",
       "_model_name": "DescriptionStyleModel",
       "_view_count": null,
       "_view_module": "@jupyter-widgets/base",
       "_view_module_version": "1.2.0",
       "_view_name": "StyleView",
       "description_width": ""
      }
     },
     "ed67ba8f5ac04aefa48e8e94572b2146": {
      "model_module": "@jupyter-widgets/controls",
      "model_module_version": "1.5.0",
      "model_name": "LabelModel",
      "state": {
       "_dom_classes": [],
       "_model_module": "@jupyter-widgets/controls",
       "_model_module_version": "1.5.0",
       "_model_name": "LabelModel",
       "_view_count": null,
       "_view_module": "@jupyter-widgets/controls",
       "_view_module_version": "1.5.0",
       "_view_name": "LabelView",
       "description": "",
       "description_tooltip": null,
       "layout": "IPY_MODEL_3694b50e19bd4f969a463edaa3ab94c0",
       "placeholder": "​",
       "style": "IPY_MODEL_e78638efb48b421aa3c299dfa970b04c",
       "value": ""
      }
     }
    },
    "version_major": 2,
    "version_minor": 0
   }
  }
 },
 "nbformat": 4,
 "nbformat_minor": 5
}
