{
 "cells": [
  {
   "cell_type": "markdown",
   "metadata": {},
   "source": [
    "<img style=\"margin-left:auto; margin-right:0px\" src=\"./images/projet2-notebook-header.gif\">"
   ]
  },
  {
   "cell_type": "markdown",
   "metadata": {},
   "source": [
    "# 2 - Nettoyage des données\n",
    "\n",
    "---"
   ]
  },
  {
   "cell_type": "markdown",
   "metadata": {},
   "source": [
    "**Import des dépendances et des données**   \n",
    "Le [fichier CSV](https://static.openfoodfacts.org/data/en.openfoodfacts.org.products.csv) mise à disposition est d'une taille importante d'environ 3Go.  \n",
    "Le fichier utilise l'encodage Unicode UTF-8. Le caractère de séparation des champs est <tab> (tabulation).   \n",
    "Nous commençons donc par importer les librairies puis nous chargeons en mémoire les données."
   ]
  },
  {
   "cell_type": "code",
   "execution_count": 1,
   "metadata": {},
   "outputs": [
    {
     "name": "stderr",
     "output_type": "stream",
     "text": [
      "C:\\Users\\adrie\\anaconda3\\lib\\site-packages\\IPython\\core\\interactiveshell.py:3071: DtypeWarning: Columns (0) have mixed types.Specify dtype option on import or set low_memory=False.\n",
      "  has_raised = await self.run_ast_nodes(code_ast.body, cell_name,\n"
     ]
    }
   ],
   "source": [
    "import numpy as np\n",
    "import pandas as pd\n",
    "import seaborn as sns\n",
    "\n",
    "filenamePath = 'en.openfoodfacts.org.products.csv'\n",
    "usecols = ['code','nutriscore_grade','proteins_100g','carbohydrates_100g','fat_100g','salt_100g']\n",
    "\n",
    "dataframe = pd.read_csv(filenamePath, sep='\\t', usecols=usecols)"
   ]
  },
  {
   "cell_type": "markdown",
   "metadata": {},
   "source": [
    "Le chargement des données retourne un avertissement sur la présence de type différent dans la colonne 0.   \n",
    "Ce n'est pas un probleme, le code-barres est en réalité une chaine de caractéres, car certains sont trop longs pour être stockés en type float64 par le systéme."
   ]
  },
  {
   "cell_type": "markdown",
   "metadata": {},
   "source": [
    "**Un premier regard**   \n",
    "Je vais donc prendre connaissance du véritable contenu et de la qualité de mes données."
   ]
  },
  {
   "cell_type": "code",
   "execution_count": 2,
   "metadata": {
    "scrolled": true
   },
   "outputs": [
    {
     "name": "stdout",
     "output_type": "stream",
     "text": [
      "<class 'pandas.core.frame.DataFrame'>\n",
      "RangeIndex: 1486047 entries, 0 to 1486046\n",
      "Data columns (total 6 columns):\n",
      " #   Column              Non-Null Count    Dtype  \n",
      "---  ------              --------------    -----  \n",
      " 0   code                1486047 non-null  object \n",
      " 1   nutriscore_grade    591486 non-null   object \n",
      " 2   fat_100g            1186034 non-null  float64\n",
      " 3   carbohydrates_100g  1185427 non-null  float64\n",
      " 4   proteins_100g       1187175 non-null  float64\n",
      " 5   salt_100g           1163266 non-null  float64\n",
      "dtypes: float64(4), object(2)\n",
      "memory usage: 68.0+ MB\n"
     ]
    }
   ],
   "source": [
    "dataframe.info(verbose=True)"
   ]
  },
  {
   "cell_type": "code",
   "execution_count": 3,
   "metadata": {},
   "outputs": [
    {
     "data": {
      "text/html": [
       "<div>\n",
       "<style scoped>\n",
       "    .dataframe tbody tr th:only-of-type {\n",
       "        vertical-align: middle;\n",
       "    }\n",
       "\n",
       "    .dataframe tbody tr th {\n",
       "        vertical-align: top;\n",
       "    }\n",
       "\n",
       "    .dataframe thead th {\n",
       "        text-align: right;\n",
       "    }\n",
       "</style>\n",
       "<table border=\"1\" class=\"dataframe\">\n",
       "  <thead>\n",
       "    <tr style=\"text-align: right;\">\n",
       "      <th></th>\n",
       "      <th>code</th>\n",
       "      <th>nutriscore_grade</th>\n",
       "      <th>fat_100g</th>\n",
       "      <th>carbohydrates_100g</th>\n",
       "      <th>proteins_100g</th>\n",
       "      <th>salt_100g</th>\n",
       "    </tr>\n",
       "  </thead>\n",
       "  <tbody>\n",
       "    <tr>\n",
       "      <th>0</th>\n",
       "      <td>0000000000017</td>\n",
       "      <td>NaN</td>\n",
       "      <td>7.0</td>\n",
       "      <td>70.1</td>\n",
       "      <td>7.8</td>\n",
       "      <td>1.4</td>\n",
       "    </tr>\n",
       "    <tr>\n",
       "      <th>1</th>\n",
       "      <td>0000000000031</td>\n",
       "      <td>NaN</td>\n",
       "      <td>NaN</td>\n",
       "      <td>NaN</td>\n",
       "      <td>NaN</td>\n",
       "      <td>NaN</td>\n",
       "    </tr>\n",
       "    <tr>\n",
       "      <th>2</th>\n",
       "      <td>000000000003327986</td>\n",
       "      <td>NaN</td>\n",
       "      <td>NaN</td>\n",
       "      <td>NaN</td>\n",
       "      <td>NaN</td>\n",
       "      <td>NaN</td>\n",
       "    </tr>\n",
       "    <tr>\n",
       "      <th>3</th>\n",
       "      <td>0000000000100</td>\n",
       "      <td>d</td>\n",
       "      <td>8.2</td>\n",
       "      <td>29.0</td>\n",
       "      <td>5.1</td>\n",
       "      <td>4.6</td>\n",
       "    </tr>\n",
       "    <tr>\n",
       "      <th>4</th>\n",
       "      <td>00000000001111111111</td>\n",
       "      <td>NaN</td>\n",
       "      <td>NaN</td>\n",
       "      <td>NaN</td>\n",
       "      <td>NaN</td>\n",
       "      <td>NaN</td>\n",
       "    </tr>\n",
       "  </tbody>\n",
       "</table>\n",
       "</div>"
      ],
      "text/plain": [
       "                   code nutriscore_grade  fat_100g  carbohydrates_100g  \\\n",
       "0         0000000000017              NaN       7.0                70.1   \n",
       "1         0000000000031              NaN       NaN                 NaN   \n",
       "2    000000000003327986              NaN       NaN                 NaN   \n",
       "3         0000000000100                d       8.2                29.0   \n",
       "4  00000000001111111111              NaN       NaN                 NaN   \n",
       "\n",
       "   proteins_100g  salt_100g  \n",
       "0            7.8        1.4  \n",
       "1            NaN        NaN  \n",
       "2            NaN        NaN  \n",
       "3            5.1        4.6  \n",
       "4            NaN        NaN  "
      ]
     },
     "execution_count": 3,
     "metadata": {},
     "output_type": "execute_result"
    }
   ],
   "source": [
    "dataframe.head(5)"
   ]
  },
  {
   "cell_type": "markdown",
   "metadata": {},
   "source": [
    "Le premier regard nous indique la présence de valeurs manquantes.   \n",
    "Nous nous devons de répondre à un certains nombres de questions avant de nettoyer ce jeu de données.   \n",
    "Nous pouvons représenter notre jeu de données idéal."
   ]
  },
  {
   "cell_type": "markdown",
   "metadata": {},
   "source": [
    "<table style=\"margin:0px;\">\n",
    "    <thead>\n",
    "    <tr>\n",
    "        <td><b>nom des colonnes</b></td>\n",
    "        <td><b>nom des colonnes (source)</b></td>\n",
    "        <td><b>type des données</b></td>\n",
    "        <td><b>type variables</b></td>\n",
    "        <td><b>contraintes</b></td>\n",
    "    </tr>\n",
    "    </thead>\n",
    "    <tr>\n",
    "        <td>code</td>\n",
    "        <td>code\t</td>\n",
    "        <td>object</td>\n",
    "        <td>qualitative nominale</td>\n",
    "        <td>clé unique</td>\n",
    "    </tr>\n",
    "    <tr>\n",
    "        <td>nutriscore</td>\n",
    "        <td>nutriscore_grade\t</td>\n",
    "        <td>object</td>\n",
    "        <td>qualitative ordinale</td>\n",
    "        <td>['a','b','c','d,'e']</td>\n",
    "    </tr>\n",
    "    <tr>\n",
    "        <td>proteines</td>\n",
    "        <td>proteins_100g\t</td>\n",
    "        <td>float64</td>\n",
    "        <td>quantitative continue</td>\n",
    "        <td>0&lt;x&lt;100</td>\n",
    "    </tr>\n",
    "    <tr>\n",
    "        <td>glucides</td>\n",
    "        <td>carbohydrates_100g\t</td>\n",
    "        <td>float64</td>\n",
    "        <td>quantitative continue</td>\n",
    "        <td>0&lt;x&lt;100</td>\n",
    "    </tr>\n",
    "    <tr>\n",
    "        <td>lipides</td>\n",
    "        <td>fat_100g</td>\n",
    "        <td>float64</td>\n",
    "        <td>quantitative continue</td>\n",
    "        <td>0&lt;x&lt;100</td>\n",
    "    </tr>\n",
    "    <tr>\n",
    "        <td>sels</td>\n",
    "        <td>salt_100g</td>\n",
    "        <td>float64</td>\n",
    "        <td>quantitative numérique</td>\n",
    "        <td>0&lt;x&lt;100</td>\n",
    "    </tr>\n",
    "</table>"
   ]
  },
  {
   "cell_type": "markdown",
   "metadata": {},
   "source": [
    "**Transformation des noms de colonnes**"
   ]
  },
  {
   "cell_type": "code",
   "execution_count": 4,
   "metadata": {},
   "outputs": [],
   "source": [
    "dataframe = dataframe.rename(\n",
    "    columns={\"code\": \"code\",\n",
    "             \"nutriscore_grade\":\"nutriscore\",\n",
    "             \"proteins_100g\": \"proteines\",\n",
    "             \"carbohydrates_100g\": \"glucides\",\n",
    "             \"fat_100g\": \"lipides\",\n",
    "             \"salt_100g\":\"sels\"})"
   ]
  },
  {
   "cell_type": "markdown",
   "metadata": {},
   "source": [
    "**Suppression des doublons suivant la clé**   \n",
    "Ma première approche consiste à identifier et à retirer les produits qui seraient en double.  \n",
    "Vu que le code-barres est censé être unique, on va s'en servir comme identifiant."
   ]
  },
  {
   "cell_type": "code",
   "execution_count": 5,
   "metadata": {
    "scrolled": true
   },
   "outputs": [
    {
     "name": "stdout",
     "output_type": "stream",
     "text": [
      "On a supprimé 326 lignes soit 0.02%\n"
     ]
    }
   ],
   "source": [
    "dataframe2 = dataframe.drop_duplicates(subset='code')\n",
    "number_deleted_rows = dataframe.shape[0] - dataframe2.shape[0]\n",
    "print(\"On a supprimé {} lignes\".format(number_deleted_rows)+\" soit {:.2f}\".format(number_deleted_rows/dataframe.shape[0]*100)+'%')"
   ]
  },
  {
   "cell_type": "markdown",
   "metadata": {},
   "source": [
    "**Identification des valeurs manquantes**   "
   ]
  },
  {
   "cell_type": "code",
   "execution_count": 6,
   "metadata": {},
   "outputs": [
    {
     "data": {
      "text/plain": [
       "<matplotlib.axes._subplots.AxesSubplot at 0x2084e204760>"
      ]
     },
     "execution_count": 6,
     "metadata": {},
     "output_type": "execute_result"
    },
    {
     "data": {
      "image/png": "[encoded data removed]",
      "text/plain": [
       "<Figure size 432x288 with 1 Axes>"
      ]
     },
     "metadata": {
      "needs_background": "light"
     },
     "output_type": "display_data"
    }
   ],
   "source": [
    "sns.heatmap(dataframe2.isnull(), cbar=False)"
   ]
  },
  {
   "cell_type": "code",
   "execution_count": 7,
   "metadata": {},
   "outputs": [
    {
     "data": {
      "text/plain": [
       "code           0.000000\n",
       "nutriscore    60.195286\n",
       "lipides       20.189255\n",
       "glucides      20.230043\n",
       "proteines     20.112390\n",
       "sels          21.721642\n",
       "dtype: float64"
      ]
     },
     "execution_count": 7,
     "metadata": {},
     "output_type": "execute_result"
    }
   ],
   "source": [
    "percentageNanbyColumns = dataframe2.isnull().sum(axis = 0) / dataframe2.shape[0] * 100.00\n",
    "percentageNanbyColumns"
   ]
  },
  {
   "cell_type": "markdown",
   "metadata": {},
   "source": [
    "Le pourcentage de valeurs manquantes reste faible pour nos nutriments.   \n",
    "Le nutriscore étant la valeur TARGET, nous allons devoir supprimer les lignes n'ayant pas de valeur pour le Nutriscore."
   ]
  },
  {
   "cell_type": "code",
   "execution_count": 8,
   "metadata": {
    "scrolled": true
   },
   "outputs": [],
   "source": [
    "dataframe3 = dataframe2.dropna(subset=['nutriscore'], axis='index')"
   ]
  },
  {
   "cell_type": "code",
   "execution_count": 9,
   "metadata": {},
   "outputs": [
    {
     "data": {
      "text/plain": [
       "code          0.000000\n",
       "nutriscore    0.000000\n",
       "lipides       0.107759\n",
       "glucides      0.125663\n",
       "proteines     0.107826\n",
       "sels          0.080567\n",
       "dtype: float64"
      ]
     },
     "execution_count": 9,
     "metadata": {},
     "output_type": "execute_result"
    }
   ],
   "source": [
    "percentageNanbyColumns = dataframe3.isnull().sum(axis = 0) / dataframe2.shape[0] * 100.00\n",
    "percentageNanbyColumns"
   ]
  },
  {
   "cell_type": "markdown",
   "metadata": {},
   "source": [
    "Nos valeurs d'input manquantes sont presques inexistantes.\n",
    "Vu la taille importante du dataset nous décidons de ne pas garder les lignes qui ont une ou des valeurs de nutriments manquantes."
   ]
  },
  {
   "cell_type": "code",
   "execution_count": 10,
   "metadata": {},
   "outputs": [],
   "source": [
    "dataframe4 = dataframe3.dropna(axis='index')"
   ]
  },
  {
   "cell_type": "code",
   "execution_count": 11,
   "metadata": {},
   "outputs": [
    {
     "data": {
      "text/plain": [
       "<matplotlib.axes._subplots.AxesSubplot at 0x2085c677a90>"
      ]
     },
     "execution_count": 11,
     "metadata": {},
     "output_type": "execute_result"
    },
    {
     "data": {
      "image/png": "[encoded data removed]",
      "text/plain": [
       "<Figure size 432x288 with 1 Axes>"
      ]
     },
     "metadata": {
      "needs_background": "light"
     },
     "output_type": "display_data"
    }
   ],
   "source": [
    "sns.heatmap(dataframe4.isnull(), cbar=False)"
   ]
  },
  {
   "cell_type": "markdown",
   "metadata": {},
   "source": [
    "**Feature imputation**   \n",
    "Aucune"
   ]
  },
  {
   "cell_type": "markdown",
   "metadata": {},
   "source": [
    "**Vérification de l'intégrité et suppression des valeurs aberrantes**   \n",
    "Les nutriments doivent être compris entre 0 et 100 grammes pour 100 grammes."
   ]
  },
  {
   "cell_type": "code",
   "execution_count": 12,
   "metadata": {},
   "outputs": [
    {
     "data": {
      "text/html": [
       "<div>\n",
       "<style scoped>\n",
       "    .dataframe tbody tr th:only-of-type {\n",
       "        vertical-align: middle;\n",
       "    }\n",
       "\n",
       "    .dataframe tbody tr th {\n",
       "        vertical-align: top;\n",
       "    }\n",
       "\n",
       "    .dataframe thead th {\n",
       "        text-align: right;\n",
       "    }\n",
       "</style>\n",
       "<table border=\"1\" class=\"dataframe\">\n",
       "  <thead>\n",
       "    <tr style=\"text-align: right;\">\n",
       "      <th></th>\n",
       "      <th>lipides</th>\n",
       "      <th>glucides</th>\n",
       "      <th>proteines</th>\n",
       "      <th>sels</th>\n",
       "    </tr>\n",
       "  </thead>\n",
       "  <tbody>\n",
       "    <tr>\n",
       "      <th>count</th>\n",
       "      <td>589457.000000</td>\n",
       "      <td>589457.000000</td>\n",
       "      <td>589457.000000</td>\n",
       "      <td>589457.000000</td>\n",
       "    </tr>\n",
       "    <tr>\n",
       "      <th>mean</th>\n",
       "      <td>14.360888</td>\n",
       "      <td>28.826305</td>\n",
       "      <td>8.344836</td>\n",
       "      <td>1.503708</td>\n",
       "    </tr>\n",
       "    <tr>\n",
       "      <th>std</th>\n",
       "      <td>17.703883</td>\n",
       "      <td>27.563704</td>\n",
       "      <td>9.107605</td>\n",
       "      <td>132.587554</td>\n",
       "    </tr>\n",
       "    <tr>\n",
       "      <th>min</th>\n",
       "      <td>0.000000</td>\n",
       "      <td>0.000000</td>\n",
       "      <td>0.000000</td>\n",
       "      <td>0.000000</td>\n",
       "    </tr>\n",
       "    <tr>\n",
       "      <th>25%</th>\n",
       "      <td>1.060000</td>\n",
       "      <td>4.500000</td>\n",
       "      <td>1.900000</td>\n",
       "      <td>0.100000</td>\n",
       "    </tr>\n",
       "    <tr>\n",
       "      <th>50%</th>\n",
       "      <td>8.000000</td>\n",
       "      <td>17.100000</td>\n",
       "      <td>6.000000</td>\n",
       "      <td>0.600000</td>\n",
       "    </tr>\n",
       "    <tr>\n",
       "      <th>75%</th>\n",
       "      <td>22.810000</td>\n",
       "      <td>53.570000</td>\n",
       "      <td>12.000000</td>\n",
       "      <td>1.320000</td>\n",
       "    </tr>\n",
       "    <tr>\n",
       "      <th>max</th>\n",
       "      <td>1233.000000</td>\n",
       "      <td>1390.000000</td>\n",
       "      <td>2000.000000</td>\n",
       "      <td>99500.000000</td>\n",
       "    </tr>\n",
       "  </tbody>\n",
       "</table>\n",
       "</div>"
      ],
      "text/plain": [
       "             lipides       glucides      proteines           sels\n",
       "count  589457.000000  589457.000000  589457.000000  589457.000000\n",
       "mean       14.360888      28.826305       8.344836       1.503708\n",
       "std        17.703883      27.563704       9.107605     132.587554\n",
       "min         0.000000       0.000000       0.000000       0.000000\n",
       "25%         1.060000       4.500000       1.900000       0.100000\n",
       "50%         8.000000      17.100000       6.000000       0.600000\n",
       "75%        22.810000      53.570000      12.000000       1.320000\n",
       "max      1233.000000    1390.000000    2000.000000   99500.000000"
      ]
     },
     "execution_count": 12,
     "metadata": {},
     "output_type": "execute_result"
    }
   ],
   "source": [
    "dataframe4.describe()"
   ]
  },
  {
   "cell_type": "markdown",
   "metadata": {},
   "source": [
    "On peut voir que les 4 colonnes ont des valeurs abbérantes.\n",
    "Ce n'est pas un probleme d'unité, nous les supprimons."
   ]
  },
  {
   "cell_type": "code",
   "execution_count": 13,
   "metadata": {},
   "outputs": [],
   "source": [
    "dataframe5 = dataframe4.query('lipides < 100 and glucides < 100 and proteines < 100 and sels < 100')"
   ]
  },
  {
   "cell_type": "markdown",
   "metadata": {},
   "source": [
    "Nous vérifions qu'il y a bien que les 5 classes pour le Nutriscore."
   ]
  },
  {
   "cell_type": "code",
   "execution_count": 14,
   "metadata": {},
   "outputs": [
    {
     "data": {
      "text/plain": [
       "array(['d', 'b', 'a', 'c', 'e'], dtype=object)"
      ]
     },
     "execution_count": 14,
     "metadata": {},
     "output_type": "execute_result"
    }
   ],
   "source": [
    "dataframe5.nutriscore.unique()"
   ]
  },
  {
   "cell_type": "markdown",
   "metadata": {},
   "source": [
    "**Export pour analyse**"
   ]
  },
  {
   "cell_type": "code",
   "execution_count": 16,
   "metadata": {},
   "outputs": [],
   "source": [
    "dataframe5.to_csv(\"en.openfoodfacts.org.products-df5.csv\",index=False)"
   ]
  }
 ],
 "metadata": {
  "kernelspec": {
   "display_name": "Python 3",
   "language": "python",
   "name": "python3"
  },
  "language_info": {
   "codemirror_mode": {
    "name": "ipython",
    "version": 3
   },
   "file_extension": ".py",
   "mimetype": "text/x-python",
   "name": "python",
   "nbconvert_exporter": "python",
   "pygments_lexer": "ipython3",
   "version": "3.8.3"
  }
 },
 "nbformat": 4,
 "nbformat_minor": 4
}
