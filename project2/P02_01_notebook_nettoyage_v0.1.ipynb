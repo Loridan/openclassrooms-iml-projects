{
 "cells": [
  {
   "cell_type": "code",
   "execution_count": 1,
   "metadata": {},
   "outputs": [
    {
     "name": "stdout",
     "output_type": "stream",
     "text": [
      "<class 'pandas.core.frame.DataFrame'>\n",
      "RangeIndex: 1486047 entries, 0 to 1486046\n",
      "Columns: 182 entries, code to carnitine_100g\n",
      "dtypes: object(182)\n",
      "memory usage: 2.0+ GB\n"
     ]
    }
   ],
   "source": [
    "import numpy as np\n",
    "import pandas as pd\n",
    "\n",
    "# Veuillez telecharger la table dans le repertoire courant, attention size > 3Go\n",
    "# url = 'https://static.openfoodfacts.org/data/en.openfoodfacts.org.products.csv'\n",
    "\n",
    "filename = 'en.openfoodfacts.org.products.csv'\n",
    "\n",
    "# chargement des données en local\n",
    "data = pd.read_table(filename, sep='\\t', error_bad_lines=False, index_col=False, dtype='unicode')\n",
    "\n",
    "# info\n",
    "data.info()"
   ]
  },
  {
   "cell_type": "code",
   "execution_count": 2,
   "metadata": {},
   "outputs": [
    {
     "name": "stdout",
     "output_type": "stream",
     "text": [
      "                   code                                                url  \\\n",
      "0         0000000000017  http://world-en.openfoodfacts.org/product/0000...   \n",
      "1         0000000000031  http://world-en.openfoodfacts.org/product/0000...   \n",
      "2    000000000003327986  http://world-en.openfoodfacts.org/product/0000...   \n",
      "3         0000000000100  http://world-en.openfoodfacts.org/product/0000...   \n",
      "4  00000000001111111111  http://world-en.openfoodfacts.org/product/0000...   \n",
      "\n",
      "                      creator   created_t      created_datetime  \\\n",
      "0                     kiliweb  1529059080  2018-06-15T10:38:00Z   \n",
      "1                    isagoofy  1539464774  2018-10-13T21:06:14Z   \n",
      "2                     kiliweb  1574175736  2019-11-19T15:02:16Z   \n",
      "3                       del51  1444572561  2015-10-11T14:09:21Z   \n",
      "4  openfoodfacts-contributors  1560020173  2019-06-08T18:56:13Z   \n",
      "\n",
      "  last_modified_t last_modified_datetime                  product_name  \\\n",
      "0      1561463718   2019-06-25T11:55:18Z              Vitória crackers   \n",
      "1      1539464817   2018-10-13T21:06:57Z                         Cacao   \n",
      "2      1574175737   2019-11-19T15:02:17Z     Filetes de pollo empanado   \n",
      "3      1444659212   2015-10-12T14:13:32Z   moutarde au moût de raisin    \n",
      "4      1560020173   2019-06-08T18:56:13Z                       Sfiudwx   \n",
      "\n",
      "  generic_name quantity  ... carbon-footprint-from-meat-or-fish_100g  \\\n",
      "0          NaN      NaN  ...                                     NaN   \n",
      "1          NaN    130 g  ...                                     NaN   \n",
      "2          NaN      NaN  ...                                     NaN   \n",
      "3          NaN     100g  ...                                     NaN   \n",
      "4          NaN    dgesc  ...                                     NaN   \n",
      "\n",
      "  nutrition-score-fr_100g nutrition-score-uk_100g glycemic-index_100g  \\\n",
      "0                     NaN                     NaN                 NaN   \n",
      "1                     NaN                     NaN                 NaN   \n",
      "2                     NaN                     NaN                 NaN   \n",
      "3                      18                     NaN                 NaN   \n",
      "4                     NaN                     NaN                 NaN   \n",
      "\n",
      "  water-hardness_100g choline_100g phylloquinone_100g beta-glucan_100g  \\\n",
      "0                 NaN          NaN                NaN              NaN   \n",
      "1                 NaN          NaN                NaN              NaN   \n",
      "2                 NaN          NaN                NaN              NaN   \n",
      "3                 NaN          NaN                NaN              NaN   \n",
      "4                 NaN          NaN                NaN              NaN   \n",
      "\n",
      "  inositol_100g carnitine_100g  \n",
      "0           NaN            NaN  \n",
      "1           NaN            NaN  \n",
      "2           NaN            NaN  \n",
      "3           NaN            NaN  \n",
      "4           NaN            NaN  \n",
      "\n",
      "[5 rows x 182 columns]\n"
     ]
    }
   ],
   "source": [
    "# aperçu des premieres lignes\n",
    "print(data.head())"
   ]
  },
  {
   "cell_type": "code",
   "execution_count": null,
   "metadata": {},
   "outputs": [],
   "source": []
  }
 ],
 "metadata": {
  "kernelspec": {
   "display_name": "Python 3",
   "language": "python",
   "name": "python3"
  },
  "language_info": {
   "codemirror_mode": {
    "name": "ipython",
    "version": 3
   },
   "file_extension": ".py",
   "mimetype": "text/x-python",
   "name": "python",
   "nbconvert_exporter": "python",
   "pygments_lexer": "ipython3",
   "version": "3.8.3"
  }
 },
 "nbformat": 4,
 "nbformat_minor": 4
}
