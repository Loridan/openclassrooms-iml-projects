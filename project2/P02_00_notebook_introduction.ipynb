{
 "cells": [
  {
   "cell_type": "markdown",
   "metadata": {},
   "source": [
    "# 0 - Introduction\n",
    "\n",
    "---\n",
    "L'agence \"Santé publique France\" a lancé un appel à projets pour trouver des idées innovantes d’applications en lien avec l'alimentation.   \n",
    "Nous avons décidé de nous attaquer à l'obésité.   \n",
    "Nous voulons réaliser une application qui informe, pour n'importe quel produit, le consommateur du caractére Nutriscore.   \n",
    "La prédiction du Nutriscore doit être réalisée à partir de la liste des nutriments du produit.   \n",
    "Le Nutriscore est une classification des produits alimentaires, les classes sont nommées par ordre de qualité nutritionnelle de « A » à « E ».\n",
    "\n",
    "**Hypothèse**   \n",
    "Est-il possible de prédire le Nutriscore à partir des nutriments d'un produit ?\n",
    "\n",
    "**Démarche de résolution**   \n",
    "Nous allons devoir résoudre un problème de *Classification*. \n",
    "Et donc pour répondre à cette question, nous devons analyser notre jeu de données pour determiner si les nutriments agissent sur la classe du Nutriscore.\n",
    "\n",
    "Pour cela nous allons nous concentrer sur les nutriments essentiels :\n",
    "- proteines\n",
    "- lipides\n",
    "- glucides\n",
    "- sels\n",
    "   \n",
    "**Jeu de données**   \n",
    "[Open Food Facts](https://fr.openfoodfacts.org/).   \n",
    "Les champs sont séparés en quatre sections :\n",
    "\n",
    "- les informations générales sur la fiche du produit : nom, date de modification, etc\n",
    "- un ensemble de tags : catégorie du produit, localisation, origine, etc\n",
    "- les ingrédients composant les produits et leurs additifs éventuels\n",
    "- des informations nutritionnelles: quantité en grammes d’un nutriment pour 100 grammes du produit\n",
    "   \n",
    "**Librairies**\n",
    "- numpy permet de manipuler des tableaux de nombres uniquement ainsi que des fonctions mathématiques opérant sur ces tableaux   \n",
    "- pandas étend les possibilités de numpy en permettant de manipuler facilement des tableaux de données mixtes\n",
    "- seaborn permet de réaliser des graphiques et des statistiques sur des dataframes de pandas\n",
    "\n",
    "**Fonctions Helper**   \n",
    "Nous allons utilisé ces fonctions d'aides afin de réduire le temps de nettoyage et d'analyse :   "
   ]
  },
  {
   "cell_type": "markdown",
   "metadata": {},
   "source": [
    "# 1 - Collecte des données\n",
    "---\n",
    "\n",
    "**Quelle source de données existe-t-il ?**   \n",
    "Il est demandé expressément d'utiliser les données provenant d'[Open Food Facts](https://fr.openfoodfacts.org/).   \n",
    "Les champs sont séparés en quatre sections :\n",
    "\n",
    "- **les informations générales sur la fiche du produit** : nom, date de modification, etc\n",
    "- **un ensemble de tags** : catégorie du produit, localisation, origine, etc\n",
    "- **les ingrédients** composant les produits et leurs additifs éventuels\n",
    "- **des informations nutritionnelles** : quantité en grammes d’un nutriment pour 100 grammes du produit?\n",
    "\n",
    "**Quelle est la réglementation sur la protection de ces données ?**   \n",
    "Aucune, la source de données est publique\n",
    "\n",
    "**Ou sont stockées les données?**   \n",
    "Elles sont sur les serveurs distants publiques et sur notre ordinateur en sdd local\n",
    "\n",
    "**Quel est le type des données**   \n",
    "Structurée"
   ]
  }
 ],
 "metadata": {
  "celltoolbar": "Format de la Cellule Texte Brut",
  "kernelspec": {
   "display_name": "Python 3",
   "language": "python",
   "name": "python3"
  },
  "language_info": {
   "codemirror_mode": {
    "name": "ipython",
    "version": 3
   },
   "file_extension": ".py",
   "mimetype": "text/x-python",
   "name": "python",
   "nbconvert_exporter": "python",
   "pygments_lexer": "ipython3",
   "version": "3.8.3"
  }
 },
 "nbformat": 4,
 "nbformat_minor": 4
}
