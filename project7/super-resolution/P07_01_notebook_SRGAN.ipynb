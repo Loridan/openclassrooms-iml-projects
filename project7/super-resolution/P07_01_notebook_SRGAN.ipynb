{
 "cells": [
  {
   "cell_type": "markdown",
   "metadata": {},
   "source": [
    "# SRGAN"
   ]
  },
  {
   "cell_type": "markdown",
   "metadata": {},
   "source": [
    "Photo-Realistic Single Image Super-Resolution Using a Generative Adversarial Network\n",
    "[2017 CVPR] [SRGAN & SRResNet]: \n",
    "https://arxiv.org/pdf/1609.04802.pdf"
   ]
  },
  {
   "cell_type": "markdown",
   "metadata": {},
   "source": [
    "**Abstract**"
   ]
  },
  {
   "cell_type": "markdown",
   "metadata": {},
   "source": [
    "\n",
    "Despite the breakthroughs in accuracy and speed of single image super-resolution using faster and deeper convolutional neural networks, one central problem remains largely unsolved: how do we recover the finer texture details when we super-resolve at large upscaling factors? The behavior of optimization-based super-resolution methods is principally driven by the choice of the objective function. Recent work has largely focused on minimizing the mean squared reconstruction error. The resulting estimates have high peak signal-to-noise ratios, but they are often lacking high-frequency details and are perceptually unsatisfying in the sense that they fail to match the fidelity expected at the higher resolution. In this paper, we present SRGAN, a generative adversarial network (GAN) for image super-resolution (SR). To our knowledge, it is the first framework capable of inferring photo-realistic natural images for 4x upscaling factors. To achieve this, we propose a perceptual loss function which consists of an adversarial loss and a content loss. The adversarial loss pushes our solution to the natural image manifold using a discriminator network that is trained to differentiate between the super-resolved images and original photo-realistic images. In addition, we use a content loss motivated by perceptual similarity instead of similarity in pixel space. Our deep residual network is able to recover photo-realistic textures from heavily downsampled images on public benchmarks. An extensive mean-opinion-score (MOS) test shows hugely significant gains in perceptual quality using SRGAN. The MOS scores obtained with SRGAN are closer to those of the original high-resolution images than to those obtained with any state-of-the-art method."
   ]
  },
  {
   "cell_type": "markdown",
   "metadata": {},
   "source": [
    "**Librairies**"
   ]
  },
  {
   "cell_type": "code",
   "execution_count": 1,
   "metadata": {},
   "outputs": [],
   "source": [
    "import glob\n",
    "import shutil\n",
    "import random\n",
    "import cv2\n",
    "import os\n",
    "import numpy as np\n",
    "import matplotlib.pyplot as plt\n",
    "import tensorflow as tf\n",
    "\n",
    "from data import STFDOGS20580\n",
    "from model.srgan import generator, discriminator\n",
    "from train import SrganTrainer, SrganGeneratorTrainer"
   ]
  },
  {
   "cell_type": "markdown",
   "metadata": {},
   "source": [
    "**Paramètres GPU**"
   ]
  },
  {
   "cell_type": "code",
   "execution_count": 2,
   "metadata": {},
   "outputs": [
    {
     "name": "stdout",
     "output_type": "stream",
     "text": [
      "Nombre de GPU disponible :  1\n"
     ]
    }
   ],
   "source": [
    "gpus = tf.config.experimental.list_physical_devices('GPU')\n",
    "\n",
    "for gpu in gpus:\n",
    "    tf.config.experimental.set_memory_growth(gpu, True)\n",
    "\n",
    "print(\"Nombre de GPU disponible : \", len(gpus))"
   ]
  },
  {
   "cell_type": "markdown",
   "metadata": {},
   "source": [
    "**Paramètres divers**"
   ]
  },
  {
   "cell_type": "code",
   "execution_count": 3,
   "metadata": {},
   "outputs": [],
   "source": [
    "#Dossier sauvegarde des poids\n",
    "WEIGHTS_DIR = 'weights/srgan'\n",
    "N_IMAGES = 100"
   ]
  },
  {
   "cell_type": "markdown",
   "metadata": {},
   "source": [
    "**Fonctions diverses**"
   ]
  },
  {
   "cell_type": "code",
   "execution_count": 4,
   "metadata": {},
   "outputs": [],
   "source": [
    "weights_file = lambda filename: os.path.join(WEIGHTS_DIR, filename)"
   ]
  },
  {
   "cell_type": "markdown",
   "metadata": {},
   "source": [
    "**Téléchargement du dataset / Interpolation x4 / Séparation des données**\n",
    "  \n",
    "Par défaut, les images STFDOGS20580 sont stockées dans le dossier `.stfdogs20580` du répertoire racine du projet. Le dataset est téléchargé et préparé automatiquement."
   ]
  },
  {
   "cell_type": "markdown",
   "metadata": {},
   "source": [
    "STFDOGS20580 class"
   ]
  },
  {
   "cell_type": "code",
   "execution_count": 5,
   "metadata": {},
   "outputs": [],
   "source": [
    "stfdogs20580_train = STFDOGS20580(subset='train', n_images=N_IMAGES)\n",
    "stfdogs20580_valid = STFDOGS20580(subset='valid', n_images=N_IMAGES)"
   ]
  },
  {
   "cell_type": "code",
   "execution_count": 6,
   "metadata": {},
   "outputs": [],
   "source": [
    "stfdogs20580_train.remove_data(images_archive=False, images_preprocessed=True, cache=True)"
   ]
  },
  {
   "cell_type": "code",
   "execution_count": 7,
   "metadata": {},
   "outputs": [
    {
     "name": "stdout",
     "output_type": "stream",
     "text": [
      "\n",
      "Déplacement des données dans dossier HR & shuffle & formatage\n",
      "100/100 [==============================] - 1s 7ms/step\n",
      "\n",
      "Downsampling des données dans dossier LR\n",
      "100/100 [==============================] - 2s 16ms/step\n",
      "\n",
      "Séparation des données HR (train,valid): \n",
      "100/100 [==============================] - 0s 384us/step\n",
      "\n",
      "Séparation des données LR (train,valid): \n",
      "100/100 [==============================] - 0s 384us/step\n",
      "\n",
      "Création du cache : .stfdogs20580/caches\\STFDOGS20580_train_LR_bicubic.cache ...\n",
      "\n",
      "Création du cache : .stfdogs20580/caches\\STFDOGS20580_train_HR.cache ...\n",
      "\n",
      "Création du cache : .stfdogs20580/caches\\STFDOGS20580_valid_LR_bicubic.cache ...\n",
      "\n",
      "Création du cache : .stfdogs20580/caches\\STFDOGS20580_valid_HR.cache ...\n"
     ]
    }
   ],
   "source": [
    "train_ds = stfdogs20580_train.dataset(batch_size=16, random_transform=True)\n",
    "valid_ds = stfdogs20580_valid.dataset(batch_size=16, random_transform=True, repeat_count=1)"
   ]
  },
  {
   "cell_type": "markdown",
   "metadata": {},
   "source": [
    "**Modélisations**\n",
    "\n",
    "**modèles pré-entrainés**\n",
    "\n",
    "Nous allons pré-entrainé le génerateur avant sur la mse afin de fournir un générateir initialisé et améliorer la performance avec une méthode adverserial."
   ]
  },
  {
   "cell_type": "code",
   "execution_count": 8,
   "metadata": {},
   "outputs": [],
   "source": [
    "#Création du dossier pour les sauvegardes\n",
    "os.makedirs(WEIGHTS_DIR, exist_ok=True)"
   ]
  },
  {
   "cell_type": "markdown",
   "metadata": {},
   "source": [
    "**Generator pre-training**"
   ]
  },
  {
   "cell_type": "code",
   "execution_count": null,
   "metadata": {
    "scrolled": false
   },
   "outputs": [],
   "source": [
    "pre_trainer = SrganGeneratorTrainer(model=generator(), checkpoint_dir=f'.ckpt/pre_generator')\n",
    "pre_trainer.train(train_ds,\n",
    "                  valid_ds.take(10),\n",
    "                  steps=20000, \n",
    "                  evaluate_every=100, \n",
    "                  save_best_only=False)\n",
    "\n",
    "pre_trainer.model.save_weights(weights_file('pre_generator.h5'))"
   ]
  },
  {
   "cell_type": "markdown",
   "metadata": {},
   "source": [
    "**Generator fine-tuning (GAN)**"
   ]
  },
  {
   "cell_type": "code",
   "execution_count": null,
   "metadata": {
    "scrolled": true
   },
   "outputs": [],
   "source": [
    "gan_generator = generator()\n",
    "gan_generator.load_weights(weights_file('pre_generator.h5'))\n",
    "\n",
    "gan_trainer = SrganTrainer(generator=gan_generator, discriminator=discriminator())\n",
    "gan_trainer.train(train_ds,\n",
    "                  steps=5000)"
   ]
  },
  {
   "cell_type": "code",
   "execution_count": null,
   "metadata": {},
   "outputs": [],
   "source": [
    "gan_trainer.generator.save_weights(weights_file('gan_generator.h5'))\n",
    "gan_trainer.discriminator.save_weights(weights_file('gan_discriminator.h5'))"
   ]
  },
  {
   "cell_type": "markdown",
   "metadata": {},
   "source": [
    "**Evaluation**"
   ]
  },
  {
   "cell_type": "code",
   "execution_count": null,
   "metadata": {},
   "outputs": [],
   "source": [
    "pre_generator = generator()\n",
    "gan_generator = generator()\n",
    "\n",
    "pre_generator.load_weights(weights_file('pre_generator.h5'))\n",
    "gan_generator.load_weights(weights_file('gan_generator.h5'))"
   ]
  },
  {
   "cell_type": "code",
   "execution_count": null,
   "metadata": {},
   "outputs": [],
   "source": [
    "from model import resolve_single\n",
    "from utils import load_image\n",
    "\n",
    "def resolve_and_plot(lr_image_path):\n",
    "    lr = load_image(lr_image_path)\n",
    "    \n",
    "    pre_sr = resolve_single(pre_generator, lr)\n",
    "    gan_sr = resolve_single(gan_generator, lr)\n",
    "    \n",
    "    plt.figure(figsize=(20, 20))\n",
    "    \n",
    "    images = [lr, pre_sr, gan_sr]\n",
    "    titles = ['LR', 'SR (PRE)', 'SR (GAN)']\n",
    "    positions = [1, 3, 4]\n",
    "    \n",
    "    for i, (img, title, pos) in enumerate(zip(images, titles, positions)):\n",
    "        plt.subplot(2, 2, pos)\n",
    "        plt.imshow(img)\n",
    "        plt.title(title)\n",
    "        plt.xticks([])\n",
    "        plt.yticks([])"
   ]
  },
  {
   "cell_type": "code",
   "execution_count": null,
   "metadata": {},
   "outputs": [],
   "source": [
    "resolve_and_plot('demo/dog-crop.jpg')"
   ]
  },
  {
   "cell_type": "code",
   "execution_count": null,
   "metadata": {},
   "outputs": [],
   "source": []
  }
 ],
 "metadata": {
  "kernelspec": {
   "display_name": "Python 3",
   "language": "python",
   "name": "python3"
  },
  "language_info": {
   "codemirror_mode": {
    "name": "ipython",
    "version": 3
   },
   "file_extension": ".py",
   "mimetype": "text/x-python",
   "name": "python",
   "nbconvert_exporter": "python",
   "pygments_lexer": "ipython3",
   "version": "3.8.3"
  }
 },
 "nbformat": 4,
 "nbformat_minor": 2
}
