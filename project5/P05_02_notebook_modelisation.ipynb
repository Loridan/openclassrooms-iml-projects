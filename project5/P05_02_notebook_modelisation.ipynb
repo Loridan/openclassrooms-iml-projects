{
 "cells": [
  {
   "cell_type": "markdown",
   "id": "polish-request",
   "metadata": {},
   "source": [
    "# 2 - modéliser\n",
    "---"
   ]
  },
  {
   "cell_type": "markdown",
   "id": "latter-handbook",
   "metadata": {},
   "source": [
    "**Imports des données**"
   ]
  },
  {
   "cell_type": "code",
   "execution_count": 1,
   "id": "abstract-regard",
   "metadata": {},
   "outputs": [],
   "source": [
    "import pandas as pd\n",
    "import numpy as np\n",
    "import matplotlib.pyplot as plt\n",
    "import seaborn as sns\n",
    "import nltk\n",
    "\n",
    "posts_body_feature_names = np.load(\"data/posts_body_feature_names.npy\", allow_pickle=True)\n",
    "posts_body_tfidf = np.load(\"data/posts_body_tfidf.npy\" , allow_pickle=True, ).item() "
   ]
  },
  {
   "cell_type": "code",
   "execution_count": 2,
   "id": "intense-buddy",
   "metadata": {},
   "outputs": [
    {
     "data": {
      "text/plain": [
       "<11147x31546 sparse matrix of type '<class 'numpy.float64'>'\n",
       "\twith 452367 stored elements in Compressed Sparse Row format>"
      ]
     },
     "execution_count": 2,
     "metadata": {},
     "output_type": "execute_result"
    }
   ],
   "source": [
    "posts_body_tfidf"
   ]
  },
  {
   "cell_type": "code",
   "execution_count": 3,
   "id": "exact-interface",
   "metadata": {},
   "outputs": [
    {
     "data": {
      "text/plain": [
       "array(['aa', 'aaa', 'aaaa', ..., 'zz', 'zzz', 'zzzz'], dtype='<U130')"
      ]
     },
     "execution_count": 3,
     "metadata": {},
     "output_type": "execute_result"
    }
   ],
   "source": [
    "posts_body_feature_names"
   ]
  },
  {
   "cell_type": "markdown",
   "id": "brilliant-squad",
   "metadata": {},
   "source": [
    "**une approche non supervisée : LDA**"
   ]
  },
  {
   "cell_type": "code",
   "execution_count": 4,
   "id": "beneficial-accident",
   "metadata": {},
   "outputs": [],
   "source": [
    "from sklearn.decomposition import LatentDirichletAllocation\n",
    "\n",
    "lda = LatentDirichletAllocation(n_components=20,random_state=11).fit(posts_body_tfidf)"
   ]
  },
  {
   "cell_type": "code",
   "execution_count": 5,
   "id": "piano-language",
   "metadata": {},
   "outputs": [
    {
     "data": {
      "text/plain": [
       "'watin'"
      ]
     },
     "execution_count": 5,
     "metadata": {},
     "output_type": "execute_result"
    }
   ],
   "source": [
    "lda.components_[0].argsort()[::-1][:10]\n",
    "\n",
    "posts_body_feature_names[30338]"
   ]
  },
  {
   "cell_type": "code",
   "execution_count": 6,
   "id": "norwegian-andrews",
   "metadata": {},
   "outputs": [],
   "source": [
    "def display_topics(lda, feature_names, nb_tag):\n",
    "    for x, topic in enumerate(lda.components_):\n",
    "        print(\"--------------------------------------------\")\n",
    "        print(f\"Topic {x}:\")\n",
    "        print(\" \".join([feature_names[i] for i in topic.argsort()[::-1][:nb_tag]]))\n",
    "        print(\"--------------------------------------------\")"
   ]
  },
  {
   "cell_type": "code",
   "execution_count": 7,
   "id": "hourly-control",
   "metadata": {},
   "outputs": [
    {
     "name": "stdout",
     "output_type": "stream",
     "text": [
      "--------------------------------------------\n",
      "Topic 0:\n",
      "watin mutable topics programmable conjunction slick xff rowid paths uf\n",
      "--------------------------------------------\n",
      "--------------------------------------------\n",
      "Topic 1:\n",
      "file using way application like would server use net windows\n",
      "--------------------------------------------\n",
      "--------------------------------------------\n",
      "Topic 2:\n",
      "td pipes domains triggers branching swap idle fancy arrow graphs\n",
      "--------------------------------------------\n",
      "--------------------------------------------\n",
      "Topic 3:\n",
      "mime radio student ex locale observer num news notifications caching\n",
      "--------------------------------------------\n",
      "--------------------------------------------\n",
      "Topic 4:\n",
      "proc dosomething iterator declaring docx backslash prints lname sealed targetting\n",
      "--------------------------------------------\n",
      "--------------------------------------------\n",
      "Topic 5:\n",
      "xquery granted favorites covered ocx suppress selenium grails jumps jaxer\n",
      "--------------------------------------------\n",
      "--------------------------------------------\n",
      "Topic 6:\n",
      "clipboard flv multitasking scp goals ssms transitional gpg bitmapimage sftp\n",
      "--------------------------------------------\n",
      "--------------------------------------------\n",
      "Topic 7:\n",
      "maven javadoc datepicker foxpro plugin rounded groupid utc plugins ac\n",
      "--------------------------------------------\n",
      "--------------------------------------------\n",
      "Topic 8:\n",
      "cookies httponly uml midi ns co ankhsvn spam licenses grep\n",
      "--------------------------------------------\n",
      "--------------------------------------------\n",
      "Topic 9:\n",
      "class like use would code sql way using string table\n",
      "--------------------------------------------\n",
      "--------------------------------------------\n",
      "Topic 10:\n",
      "applet hover checkboxes guest webpage markdown appdomain registers bucket ctp\n",
      "--------------------------------------------\n",
      "--------------------------------------------\n",
      "Topic 11:\n",
      "gem crystal canvas qt msi reflection gems editions anchor installers\n",
      "--------------------------------------------\n",
      "--------------------------------------------\n",
      "Topic 12:\n",
      "addresses iso abstraction outlook sprint struggling rake enters outline ocr\n",
      "--------------------------------------------\n",
      "--------------------------------------------\n",
      "Topic 13:\n",
      "pivot compilation birthday boo setter sln ria applescript lat indent\n",
      "--------------------------------------------\n",
      "--------------------------------------------\n",
      "Topic 14:\n",
      "mm certificate dd signed yyyy threading sqlcommand sign servlets leak\n",
      "--------------------------------------------\n",
      "--------------------------------------------\n",
      "Topic 15:\n",
      "div html css width javascript ie height px font content\n",
      "--------------------------------------------\n",
      "--------------------------------------------\n",
      "Topic 16:\n",
      "const ca tsql listbox constant caveats el varbinary char str\n",
      "--------------------------------------------\n",
      "--------------------------------------------\n",
      "Topic 17:\n",
      "precision themes novell monodevelop hostname xfdl ppt partition child procedural\n",
      "--------------------------------------------\n",
      "--------------------------------------------\n",
      "Topic 18:\n",
      "vnc cruise historical scores ccnet usability scaling ship deployments amf\n",
      "--------------------------------------------\n",
      "--------------------------------------------\n",
      "Topic 19:\n",
      "phone speech clock mxml wix rxtx border cobol nant simulate\n",
      "--------------------------------------------\n"
     ]
    }
   ],
   "source": [
    "display_topics(lda, posts_body_feature_names, 10)"
   ]
  },
  {
   "cell_type": "code",
   "execution_count": null,
   "id": "moral-debut",
   "metadata": {},
   "outputs": [],
   "source": []
  }
 ],
 "metadata": {
  "kernelspec": {
   "display_name": "Python 3",
   "language": "python",
   "name": "python3"
  },
  "language_info": {
   "codemirror_mode": {
    "name": "ipython",
    "version": 3
   },
   "file_extension": ".py",
   "mimetype": "text/x-python",
   "name": "python",
   "nbconvert_exporter": "python",
   "pygments_lexer": "ipython3",
   "version": "3.8.3"
  }
 },
 "nbformat": 4,
 "nbformat_minor": 5
}
