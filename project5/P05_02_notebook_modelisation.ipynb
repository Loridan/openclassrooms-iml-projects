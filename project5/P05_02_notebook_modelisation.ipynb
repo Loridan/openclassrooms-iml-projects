{
 "cells": [
  {
   "cell_type": "markdown",
   "id": "shared-technique",
   "metadata": {},
   "source": [
    "# 2 - modéliser\n",
    "---"
   ]
  },
  {
   "cell_type": "markdown",
   "id": "greater-optimization",
   "metadata": {},
   "source": [
    "**Imports des données**"
   ]
  },
  {
   "cell_type": "code",
   "execution_count": 1,
   "id": "pursuant-liquid",
   "metadata": {},
   "outputs": [],
   "source": [
    "import pandas as pd\n",
    "import numpy as np\n",
    "import matplotlib.pyplot as plt\n",
    "import seaborn as sns\n",
    "import nltk\n",
    "\n",
    "posts_body_feature_names = np.load(\"data/posts_body_feature_names.npy\", allow_pickle=True)\n",
    "posts_body_tfidf = np.load(\"data/posts_body_tfidf.npy\" , allow_pickle=True, ).item() "
   ]
  },
  {
   "cell_type": "code",
   "execution_count": 2,
   "id": "intimate-optimization",
   "metadata": {},
   "outputs": [
    {
     "data": {
      "text/plain": [
       "<240399x319814 sparse matrix of type '<class 'numpy.float64'>'\n",
       "\twith 10720579 stored elements in Compressed Sparse Row format>"
      ]
     },
     "execution_count": 2,
     "metadata": {},
     "output_type": "execute_result"
    }
   ],
   "source": [
    "posts_body_tfidf"
   ]
  },
  {
   "cell_type": "code",
   "execution_count": 3,
   "id": "fifth-malpractice",
   "metadata": {},
   "outputs": [
    {
     "data": {
      "text/plain": [
       "array(['aa', 'aaa', 'aaaa', ..., 'zzzzzzzzz', 'zzzzzzzzzz',\n",
       "       'zzzzzzzzzzzzzzzzzzzzzzzzzzzzz'], dtype='<U257')"
      ]
     },
     "execution_count": 3,
     "metadata": {},
     "output_type": "execute_result"
    }
   ],
   "source": [
    "posts_body_feature_names"
   ]
  },
  {
   "cell_type": "markdown",
   "id": "blond-pacific",
   "metadata": {},
   "source": [
    "**une approche non supervisée : LDA**"
   ]
  },
  {
   "cell_type": "code",
   "execution_count": 4,
   "id": "smart-hamilton",
   "metadata": {},
   "outputs": [],
   "source": [
    "from sklearn.decomposition import LatentDirichletAllocation\n",
    "\n",
    "lda = LatentDirichletAllocation(n_components=5,random_state=11).fit(posts_body_tfidf)"
   ]
  },
  {
   "cell_type": "code",
   "execution_count": 5,
   "id": "disturbed-kentucky",
   "metadata": {},
   "outputs": [
    {
     "data": {
      "text/plain": [
       "'bufferedlogger'"
      ]
     },
     "execution_count": 5,
     "metadata": {},
     "output_type": "execute_result"
    }
   ],
   "source": [
    "lda.components_[0].argsort()[::-1][:10]\n",
    "\n",
    "posts_body_feature_names[30338]"
   ]
  },
  {
   "cell_type": "code",
   "execution_count": 6,
   "id": "early-origin",
   "metadata": {},
   "outputs": [],
   "source": [
    "def display_topics(lda, feature_names, nb_tag):\n",
    "    for x, topic in enumerate(lda.components_):\n",
    "        print(\"--------------------------------------------\")\n",
    "        print(f\"Topic {x}:\")\n",
    "        print(\" \".join([feature_names[i] for i in topic.argsort()[::-1][:nb_tag]]))\n",
    "        print(\"--------------------------------------------\")"
   ]
  },
  {
   "cell_type": "code",
   "execution_count": 7,
   "id": "wound-accordance",
   "metadata": {},
   "outputs": [
    {
     "name": "stdout",
     "output_type": "stream",
     "text": [
      "--------------------------------------------\n",
      "Topic 0:\n",
      "servicemodel binding endpoint contract behaviors basichttpbinding servicebehaviors servicehost nettcpbinding mex\n",
      "--------------------------------------------\n",
      "--------------------------------------------\n",
      "Topic 1:\n",
      "timezone soap xmlns utc envelope zone gmt org ns dst\n",
      "--------------------------------------------\n",
      "--------------------------------------------\n",
      "Topic 2:\n",
      "lon lat mycolumn hta myval buckets pagetracker maxrequestlength disp ftpwebrequest\n",
      "--------------------------------------------\n",
      "--------------------------------------------\n",
      "Topic 3:\n",
      "appender syslog layout log patternlayout rollingfileappender postsharp conversionpattern logger runbehavior\n",
      "--------------------------------------------\n",
      "--------------------------------------------\n",
      "Topic 4:\n",
      "would like use application using code way know one net\n",
      "--------------------------------------------\n",
      "--------------------------------------------\n",
      "Topic 5:\n",
      "page text html form user id want javascript like using\n",
      "--------------------------------------------\n",
      "--------------------------------------------\n",
      "Topic 6:\n",
      "file server files application web using windows net project directory\n",
      "--------------------------------------------\n",
      "--------------------------------------------\n",
      "Topic 7:\n",
      "table id sql query select column database date name data\n",
      "--------------------------------------------\n",
      "--------------------------------------------\n",
      "Topic 8:\n",
      "binding xaml view grid property listbox textblock self window listview\n",
      "--------------------------------------------\n",
      "--------------------------------------------\n",
      "Topic 9:\n",
      "image div px color width height background td font images\n",
      "--------------------------------------------\n",
      "--------------------------------------------\n",
      "Topic 10:\n",
      "methoda ingredient colordialog datapager tilelist erl sass ingredients somekey recipe\n",
      "--------------------------------------------\n",
      "--------------------------------------------\n",
      "Topic 11:\n",
      "string class int public object return foo function array value\n",
      "--------------------------------------------\n",
      "--------------------------------------------\n",
      "Topic 12:\n",
      "vxworks starteam sem parentclass httponly iinterface noscript uiactionsheet zipentry alertview\n",
      "--------------------------------------------\n",
      "--------------------------------------------\n",
      "Topic 13:\n",
      "shoes flashvars sunday rar dayofweek rebol coda webrequest gdiplus httpwebrequest\n",
      "--------------------------------------------\n",
      "--------------------------------------------\n",
      "Topic 14:\n",
      "xs xsd org java complextype aaa lorem lang bbb minoccurs\n",
      "--------------------------------------------\n",
      "--------------------------------------------\n",
      "Topic 15:\n",
      "startinfo animal processstartinfo jdialog mef supplier openfiledialog savefiledialog backgroundworker dog\n",
      "--------------------------------------------\n",
      "--------------------------------------------\n",
      "Topic 16:\n",
      "curl ch curlopt setopt itext llvm owl singular assemblyversion shark\n",
      "--------------------------------------------\n",
      "--------------------------------------------\n",
      "Topic 17:\n",
      "gems controller rb ruby gem lib video routes audio mp\n",
      "--------------------------------------------\n",
      "--------------------------------------------\n",
      "Topic 18:\n",
      "mx models tablea wx tableb charfield dataprovider self backspace foreignkey\n",
      "--------------------------------------------\n",
      "--------------------------------------------\n",
      "Topic 19:\n",
      "cfset cfif sitecore temptable crystaldecisions cola columna duedate cfquery cffunction\n",
      "--------------------------------------------\n"
     ]
    }
   ],
   "source": [
    "display_topics(lda, posts_body_feature_names, 10)"
   ]
  },
  {
   "cell_type": "code",
   "execution_count": null,
   "id": "mechanical-reason",
   "metadata": {},
   "outputs": [],
   "source": []
  }
 ],
 "metadata": {
  "kernelspec": {
   "display_name": "Python 3",
   "language": "python",
   "name": "python3"
  },
  "language_info": {
   "codemirror_mode": {
    "name": "ipython",
    "version": 3
   },
   "file_extension": ".py",
   "mimetype": "text/x-python",
   "name": "python",
   "nbconvert_exporter": "python",
   "pygments_lexer": "ipython3",
   "version": "3.8.3"
  }
 },
 "nbformat": 4,
 "nbformat_minor": 5
}
