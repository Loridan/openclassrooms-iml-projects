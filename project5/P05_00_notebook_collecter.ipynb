{
 "cells": [
  {
   "cell_type": "markdown",
   "metadata": {},
   "source": [
    "# 0 - collection des données\n"
   ]
  },
  {
   "cell_type": "markdown",
   "metadata": {},
   "source": [
    "Au lieu d'utiliser l'interface de stackoverflow, il est possible de récuperer directement dans un dataframe avec des requetes python sur l'api afin de dépasser la limite de 50 000 rows, puis d'exporter pour traitement et modélisation."
   ]
  },
  {
   "cell_type": "code",
   "execution_count": 1,
   "metadata": {},
   "outputs": [],
   "source": [
    "import requests\n",
    "import time\n",
    "import pandas as pd\n",
    "\n",
    "#resoudre captcha sur site avant et recup id sinon error 500 'https://data.stackexchange.com/stackoverflow/query/new'\n",
    "def run_query_stackoverflow(sql_query, id_captcha):\n",
    "\n",
    "    url = f'https://data.stackexchange.com/query/save/1/{id_captcha}'\n",
    "    data = {\"title\": \"P05\", \"description\": \"\", \"sql\" : sql_query, \"g-recaptcha-response\" : \"\"}\n",
    "\n",
    "    response = requests.post(url, data)\n",
    "    job_id = response.json().get('job_id')\n",
    "    \n",
    "    if(job_id is not None) :\n",
    "        url = f'https://data.stackexchange.com/query/job/{job_id}'\n",
    "        time.sleep(3)\n",
    "        response = requests.get(url)\n",
    "    \n",
    "    data = response.json().get('resultSets')[0].get('rows')\n",
    "    columns = [ col['name'] for col in response.json().get('resultSets')[0].get('columns')]\n",
    "    \n",
    "    df = pd.DataFrame(data , columns=columns)\n",
    "\n",
    "    return df"
   ]
  },
  {
   "cell_type": "code",
   "execution_count": 2,
   "metadata": {},
   "outputs": [],
   "source": [
    "periode = 300000\n",
    "max_id = 5*periode+1\n",
    "reqs = []\n",
    "for i,j in zip(range(1,max_id,periode),range(periode,max_id,periode)):\n",
    "    reqs.append(f\"SELECT Id,Body,Title,Tags FROM posts WHERE Id BETWEEN {i} AND {j} AND ParentId IS NULL\")"
   ]
  },
  {
   "cell_type": "code",
   "execution_count": 3,
   "metadata": {},
   "outputs": [
    {
     "name": "stdout",
     "output_type": "stream",
     "text": [
      "SELECT Id,Body,Title,Tags FROM posts WHERE Id BETWEEN 1 AND 300000 AND ParentId IS NULL\n",
      "SELECT Id,Body,Title,Tags FROM posts WHERE Id BETWEEN 300001 AND 600000 AND ParentId IS NULL\n",
      "SELECT Id,Body,Title,Tags FROM posts WHERE Id BETWEEN 600001 AND 900000 AND ParentId IS NULL\n",
      "SELECT Id,Body,Title,Tags FROM posts WHERE Id BETWEEN 900001 AND 1200000 AND ParentId IS NULL\n",
      "SELECT Id,Body,Title,Tags FROM posts WHERE Id BETWEEN 1200001 AND 1500000 AND ParentId IS NULL\n"
     ]
    }
   ],
   "source": [
    "for req in reqs:\n",
    "    print(req)"
   ]
  },
  {
   "cell_type": "code",
   "execution_count": 4,
   "metadata": {},
   "outputs": [],
   "source": [
    "id_captcha = 1391113\n",
    "responses = []\n",
    "for req in reqs:\n",
    "    responses.append(run_query_stackoverflow(req, id_captcha=id_captcha))"
   ]
  },
  {
   "cell_type": "code",
   "execution_count": 5,
   "metadata": {},
   "outputs": [
    {
     "data": {
      "text/plain": [
       "5"
      ]
     },
     "execution_count": 5,
     "metadata": {},
     "output_type": "execute_result"
    }
   ],
   "source": [
    "len(responses)"
   ]
  },
  {
   "cell_type": "code",
   "execution_count": 6,
   "metadata": {},
   "outputs": [],
   "source": [
    "df_posts = pd.concat(responses)"
   ]
  },
  {
   "cell_type": "code",
   "execution_count": 7,
   "metadata": {},
   "outputs": [
    {
     "data": {
      "text/plain": [
       "(240602, 4)"
      ]
     },
     "execution_count": 7,
     "metadata": {},
     "output_type": "execute_result"
    }
   ],
   "source": [
    "df_posts.shape"
   ]
  },
  {
   "cell_type": "code",
   "execution_count": 8,
   "metadata": {},
   "outputs": [],
   "source": [
    "df_posts.to_csv(\"data/df_posts.csv\", index=False)"
   ]
  }
 ],
 "metadata": {
  "kernelspec": {
   "display_name": "Python 3",
   "language": "python",
   "name": "python3"
  },
  "language_info": {
   "codemirror_mode": {
    "name": "ipython",
    "version": 3
   },
   "file_extension": ".py",
   "mimetype": "text/x-python",
   "name": "python",
   "nbconvert_exporter": "python",
   "pygments_lexer": "ipython3",
   "version": "3.8.3"
  }
 },
 "nbformat": 4,
 "nbformat_minor": 4
}
