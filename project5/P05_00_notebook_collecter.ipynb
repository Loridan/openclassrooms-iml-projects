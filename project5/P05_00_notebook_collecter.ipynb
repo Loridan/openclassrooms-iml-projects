{
 "cells": [
  {
   "cell_type": "markdown",
   "metadata": {},
   "source": [
    "# 0 - collection des données\n"
   ]
  },
  {
   "cell_type": "markdown",
   "metadata": {},
   "source": [
    "Au lieu d'utiliser l'interface de stackoverflow, il est possible de récuperer directement dans un dataframe avec des requetes python sur l'api afin de dépasser la limite de 50 000 rows, puis d'exporter pour traitement et modélisation."
   ]
  },
  {
   "cell_type": "code",
   "execution_count": 5,
   "metadata": {},
   "outputs": [],
   "source": [
    "import requests\n",
    "import time\n",
    "import pandas as pd\n",
    "\n",
    "#resoudre captcha sur site avant et recup id sinon error 500 'https://data.stackexchange.com/stackoverflow/query/new'\n",
    "def run_query_stackoverflow(sql_query, id_captcha):\n",
    "\n",
    "    url = f'https://data.stackexchange.com/query/save/1/{id_captcha}'\n",
    "    data = {\"title\": \"P05_posts\", \"description\": \"\", \"sql\" : sql_query, \"g-recaptcha-response\" : \"\"}\n",
    "\n",
    "    response = requests.post(url, data)\n",
    "    job_id = response.json().get('job_id')\n",
    "    \n",
    "    if(job_id is not None) :\n",
    "        url = f'https://data.stackexchange.com/query/job/{job_id}'\n",
    "        time.sleep(5)\n",
    "        response = requests.get(url)\n",
    "    \n",
    "    data = response.json().get('resultSets')[0].get('rows')\n",
    "    columns = [ col['name'] for col in response.json().get('resultSets')[0].get('columns')]\n",
    "    \n",
    "    df = pd.DataFrame(data , columns=columns)\n",
    "\n",
    "    return df"
   ]
  },
  {
   "cell_type": "code",
   "execution_count": 6,
   "metadata": {},
   "outputs": [],
   "source": [
    "periode = 300000\n",
    "max_id = 5*periode+1\n",
    "reqs = []\n",
    "for i,j in zip(range(1,max_id,periode),range(periode,max_id,periode)):\n",
    "    reqs.append(f\"SELECT Id,Body,Title,Tags FROM posts WHERE Id BETWEEN {i} AND {j} AND ParentId IS NULL\")"
   ]
  },
  {
   "cell_type": "code",
   "execution_count": 7,
   "metadata": {},
   "outputs": [
    {
     "name": "stdout",
     "output_type": "stream",
     "text": [
      "SELECT Id,Body,Title,Tags FROM posts WHERE Id BETWEEN 1 AND 300000 AND ParentId IS NULL\n",
      "SELECT Id,Body,Title,Tags FROM posts WHERE Id BETWEEN 300001 AND 600000 AND ParentId IS NULL\n",
      "SELECT Id,Body,Title,Tags FROM posts WHERE Id BETWEEN 600001 AND 900000 AND ParentId IS NULL\n",
      "SELECT Id,Body,Title,Tags FROM posts WHERE Id BETWEEN 900001 AND 1200000 AND ParentId IS NULL\n",
      "SELECT Id,Body,Title,Tags FROM posts WHERE Id BETWEEN 1200001 AND 1500000 AND ParentId IS NULL\n"
     ]
    }
   ],
   "source": [
    "for req in reqs:\n",
    "    print(req)"
   ]
  },
  {
   "cell_type": "code",
   "execution_count": 8,
   "metadata": {},
   "outputs": [],
   "source": [
    "id_captcha = 1393531\n",
    "responses = []\n",
    "for req in reqs:\n",
    "    responses.append(run_query_stackoverflow(req, id_captcha=id_captcha))"
   ]
  },
  {
   "cell_type": "code",
   "execution_count": 9,
   "metadata": {},
   "outputs": [],
   "source": [
    "df_posts = pd.concat(responses)"
   ]
  },
  {
   "cell_type": "code",
   "execution_count": 10,
   "metadata": {},
   "outputs": [
    {
     "data": {
      "text/plain": [
       "(240600, 4)"
      ]
     },
     "execution_count": 10,
     "metadata": {},
     "output_type": "execute_result"
    }
   ],
   "source": [
    "df_posts.shape"
   ]
  },
  {
   "cell_type": "code",
   "execution_count": 12,
   "metadata": {},
   "outputs": [],
   "source": [
    "df_posts.columns = ['id', 'body', 'title', 'tags']"
   ]
  },
  {
   "cell_type": "code",
   "execution_count": 13,
   "metadata": {},
   "outputs": [
    {
     "data": {
      "text/html": [
       "<div>\n",
       "<style scoped>\n",
       "    .dataframe tbody tr th:only-of-type {\n",
       "        vertical-align: middle;\n",
       "    }\n",
       "\n",
       "    .dataframe tbody tr th {\n",
       "        vertical-align: top;\n",
       "    }\n",
       "\n",
       "    .dataframe thead th {\n",
       "        text-align: right;\n",
       "    }\n",
       "</style>\n",
       "<table border=\"1\" class=\"dataframe\">\n",
       "  <thead>\n",
       "    <tr style=\"text-align: right;\">\n",
       "      <th></th>\n",
       "      <th>id</th>\n",
       "      <th>body</th>\n",
       "      <th>title</th>\n",
       "      <th>tags</th>\n",
       "    </tr>\n",
       "  </thead>\n",
       "  <tbody>\n",
       "    <tr>\n",
       "      <th>0</th>\n",
       "      <td>4</td>\n",
       "      <td>&lt;p&gt;I want to use a &lt;code&gt;Track-Bar&lt;/code&gt; to c...</td>\n",
       "      <td>How to convert a Decimal to a Double in C#?</td>\n",
       "      <td>&lt;c#&gt;&lt;floating-point&gt;&lt;type-conversion&gt;&lt;double&gt;&lt;...</td>\n",
       "    </tr>\n",
       "    <tr>\n",
       "      <th>1</th>\n",
       "      <td>6</td>\n",
       "      <td>&lt;p&gt;I have an absolutely positioned &lt;code&gt;div&lt;/...</td>\n",
       "      <td>Why did the width collapse in the percentage w...</td>\n",
       "      <td>&lt;html&gt;&lt;css&gt;&lt;internet-explorer-7&gt;</td>\n",
       "    </tr>\n",
       "    <tr>\n",
       "      <th>2</th>\n",
       "      <td>9</td>\n",
       "      <td>&lt;p&gt;Given a &lt;code&gt;DateTime&lt;/code&gt; representing ...</td>\n",
       "      <td>How do I calculate someone's age based on a Da...</td>\n",
       "      <td>&lt;c#&gt;&lt;.net&gt;&lt;datetime&gt;</td>\n",
       "    </tr>\n",
       "    <tr>\n",
       "      <th>3</th>\n",
       "      <td>11</td>\n",
       "      <td>&lt;p&gt;Given a specific &lt;code&gt;DateTime&lt;/code&gt; valu...</td>\n",
       "      <td>Calculate relative time in C#</td>\n",
       "      <td>&lt;c#&gt;&lt;datetime&gt;&lt;time&gt;&lt;datediff&gt;&lt;relative-time-s...</td>\n",
       "    </tr>\n",
       "    <tr>\n",
       "      <th>4</th>\n",
       "      <td>13</td>\n",
       "      <td>&lt;p&gt;Is there a standard way for a web server to...</td>\n",
       "      <td>Determine a user's timezone</td>\n",
       "      <td>&lt;html&gt;&lt;browser&gt;&lt;timezone&gt;&lt;user-agent&gt;&lt;timezone...</td>\n",
       "    </tr>\n",
       "    <tr>\n",
       "      <th>...</th>\n",
       "      <td>...</td>\n",
       "      <td>...</td>\n",
       "      <td>...</td>\n",
       "      <td>...</td>\n",
       "    </tr>\n",
       "    <tr>\n",
       "      <th>49995</th>\n",
       "      <td>1417809</td>\n",
       "      <td>&lt;p&gt;Is there a way to trace/log sql from the co...</td>\n",
       "      <td>Debugging/tracing embedded sql</td>\n",
       "      <td>&lt;c++&gt;&lt;sql&gt;&lt;oracle&gt;&lt;trace&gt;&lt;embedded-database&gt;</td>\n",
       "    </tr>\n",
       "    <tr>\n",
       "      <th>49996</th>\n",
       "      <td>1417818</td>\n",
       "      <td>&lt;p&gt;I would like to use replace the value of a ...</td>\n",
       "      <td>HTML Entities with jQuery</td>\n",
       "      <td>&lt;javascript&gt;&lt;jquery&gt;&lt;html&gt;&lt;html-entities&gt;</td>\n",
       "    </tr>\n",
       "    <tr>\n",
       "      <th>49997</th>\n",
       "      <td>1417819</td>\n",
       "      <td>&lt;p&gt;I got 3 &lt;code&gt;html.dropdownlists&lt;/code&gt; out...</td>\n",
       "      <td>SelectedValue not binding for some of the Html...</td>\n",
       "      <td>&lt;asp.net-mvc&gt;&lt;binding&gt;&lt;drop-down-menu&gt;&lt;html-he...</td>\n",
       "    </tr>\n",
       "    <tr>\n",
       "      <th>49998</th>\n",
       "      <td>1417821</td>\n",
       "      <td>&lt;p&gt;I have a 2d array grid made as int GRID[10]...</td>\n",
       "      <td>Insert and remove rows from an int array in c++?</td>\n",
       "      <td>&lt;visual-c++&gt;&lt;native&gt;</td>\n",
       "    </tr>\n",
       "    <tr>\n",
       "      <th>49999</th>\n",
       "      <td>1417825</td>\n",
       "      <td>&lt;p&gt;I have two django model classes:&lt;/p&gt;\\n\\n&lt;pr...</td>\n",
       "      <td>adding the same object twice to a ManyToManyField</td>\n",
       "      <td>&lt;python&gt;&lt;django&gt;&lt;django-models&gt;</td>\n",
       "    </tr>\n",
       "  </tbody>\n",
       "</table>\n",
       "<p>240600 rows × 4 columns</p>\n",
       "</div>"
      ],
      "text/plain": [
       "            id                                               body  \\\n",
       "0            4  <p>I want to use a <code>Track-Bar</code> to c...   \n",
       "1            6  <p>I have an absolutely positioned <code>div</...   \n",
       "2            9  <p>Given a <code>DateTime</code> representing ...   \n",
       "3           11  <p>Given a specific <code>DateTime</code> valu...   \n",
       "4           13  <p>Is there a standard way for a web server to...   \n",
       "...        ...                                                ...   \n",
       "49995  1417809  <p>Is there a way to trace/log sql from the co...   \n",
       "49996  1417818  <p>I would like to use replace the value of a ...   \n",
       "49997  1417819  <p>I got 3 <code>html.dropdownlists</code> out...   \n",
       "49998  1417821  <p>I have a 2d array grid made as int GRID[10]...   \n",
       "49999  1417825  <p>I have two django model classes:</p>\\n\\n<pr...   \n",
       "\n",
       "                                                   title  \\\n",
       "0            How to convert a Decimal to a Double in C#?   \n",
       "1      Why did the width collapse in the percentage w...   \n",
       "2      How do I calculate someone's age based on a Da...   \n",
       "3                          Calculate relative time in C#   \n",
       "4                            Determine a user's timezone   \n",
       "...                                                  ...   \n",
       "49995                     Debugging/tracing embedded sql   \n",
       "49996                          HTML Entities with jQuery   \n",
       "49997  SelectedValue not binding for some of the Html...   \n",
       "49998   Insert and remove rows from an int array in c++?   \n",
       "49999  adding the same object twice to a ManyToManyField   \n",
       "\n",
       "                                                    tags  \n",
       "0      <c#><floating-point><type-conversion><double><...  \n",
       "1                       <html><css><internet-explorer-7>  \n",
       "2                                   <c#><.net><datetime>  \n",
       "3      <c#><datetime><time><datediff><relative-time-s...  \n",
       "4      <html><browser><timezone><user-agent><timezone...  \n",
       "...                                                  ...  \n",
       "49995       <c++><sql><oracle><trace><embedded-database>  \n",
       "49996          <javascript><jquery><html><html-entities>  \n",
       "49997  <asp.net-mvc><binding><drop-down-menu><html-he...  \n",
       "49998                               <visual-c++><native>  \n",
       "49999                    <python><django><django-models>  \n",
       "\n",
       "[240600 rows x 4 columns]"
      ]
     },
     "execution_count": 13,
     "metadata": {},
     "output_type": "execute_result"
    }
   ],
   "source": [
    "df_posts"
   ]
  },
  {
   "cell_type": "code",
   "execution_count": 14,
   "metadata": {},
   "outputs": [],
   "source": [
    "df_posts.to_csv(\"data/df_posts.csv\", index=False)"
   ]
  },
  {
   "cell_type": "code",
   "execution_count": null,
   "metadata": {},
   "outputs": [],
   "source": []
  }
 ],
 "metadata": {
  "kernelspec": {
   "display_name": "Python 3",
   "language": "python",
   "name": "python3"
  },
  "language_info": {
   "codemirror_mode": {
    "name": "ipython",
    "version": 3
   },
   "file_extension": ".py",
   "mimetype": "text/x-python",
   "name": "python",
   "nbconvert_exporter": "python",
   "pygments_lexer": "ipython3",
   "version": "3.8.3"
  }
 },
 "nbformat": 4,
 "nbformat_minor": 4
}
