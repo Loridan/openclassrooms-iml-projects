{
 "cells": [
  {
   "cell_type": "markdown",
   "metadata": {},
   "source": [
    "# 1 - nettoyage et analyse exploratoire des données\n",
    "---"
   ]
  },
  {
   "cell_type": "markdown",
   "metadata": {},
   "source": [
    "**Imports des données**"
   ]
  },
  {
   "cell_type": "code",
   "execution_count": 1,
   "metadata": {},
   "outputs": [
    {
     "name": "stderr",
     "output_type": "stream",
     "text": [
      "[nltk_data] Downloading package stopwords to\n",
      "[nltk_data]     C:\\Users\\adrie\\AppData\\Roaming\\nltk_data...\n",
      "[nltk_data]   Package stopwords is already up-to-date!\n"
     ]
    }
   ],
   "source": [
    "import re\n",
    "import pandas as pd\n",
    "import numpy as np\n",
    "import matplotlib.pyplot as plt\n",
    "import seaborn as sns\n",
    "\n",
    "from bs4 import BeautifulSoup\n",
    "import nltk\n",
    "\n",
    "# Download text data sets, including stop words\n",
    "nltk.download('stopwords')\n",
    "\n",
    "# Download text data sets, including stop words\n",
    "df_posts = pd.read_csv('data/df_posts.csv')"
   ]
  },
  {
   "cell_type": "code",
   "execution_count": 2,
   "metadata": {},
   "outputs": [
    {
     "data": {
      "text/html": [
       "<div>\n",
       "<style scoped>\n",
       "    .dataframe tbody tr th:only-of-type {\n",
       "        vertical-align: middle;\n",
       "    }\n",
       "\n",
       "    .dataframe tbody tr th {\n",
       "        vertical-align: top;\n",
       "    }\n",
       "\n",
       "    .dataframe thead th {\n",
       "        text-align: right;\n",
       "    }\n",
       "</style>\n",
       "<table border=\"1\" class=\"dataframe\">\n",
       "  <thead>\n",
       "    <tr style=\"text-align: right;\">\n",
       "      <th></th>\n",
       "      <th>Id</th>\n",
       "      <th>Body</th>\n",
       "      <th>Title</th>\n",
       "      <th>Tags</th>\n",
       "    </tr>\n",
       "  </thead>\n",
       "  <tbody>\n",
       "    <tr>\n",
       "      <th>7977</th>\n",
       "      <td>70625</td>\n",
       "      <td>&lt;p&gt;How would you refactor these two classes to...</td>\n",
       "      <td>Refactoring two basic classes</td>\n",
       "      <td>&lt;cultureinfo&gt;&lt;regioninfo&gt;</td>\n",
       "    </tr>\n",
       "    <tr>\n",
       "      <th>639</th>\n",
       "      <td>6484</td>\n",
       "      <td>&lt;p&gt;&lt;a href=\"http://www.google.com/search?q=how...</td>\n",
       "      <td>How do you mock a Sealed class?</td>\n",
       "      <td>&lt;unit-testing&gt;&lt;language-agnostic&gt;&lt;tdd&gt;&lt;mocking&gt;</td>\n",
       "    </tr>\n",
       "    <tr>\n",
       "      <th>721</th>\n",
       "      <td>7477</td>\n",
       "      <td>&lt;p&gt;I'm currently working on an internal sales ...</td>\n",
       "      <td>How to autosize a textarea using Prototype?</td>\n",
       "      <td>&lt;javascript&gt;&lt;html&gt;&lt;css&gt;&lt;textarea&gt;&lt;prototypejs&gt;</td>\n",
       "    </tr>\n",
       "    <tr>\n",
       "      <th>2417</th>\n",
       "      <td>24954</td>\n",
       "      <td>&lt;p&gt;How to determine the applications associate...</td>\n",
       "      <td>Windows: List and Launch applications associat...</td>\n",
       "      <td>&lt;.net&gt;&lt;windows&gt;&lt;registry&gt;</td>\n",
       "    </tr>\n",
       "    <tr>\n",
       "      <th>1896</th>\n",
       "      <td>19442</td>\n",
       "      <td>&lt;p&gt;How can I create this file in a directory i...</td>\n",
       "      <td>how to allow files starting with period and no...</td>\n",
       "      <td>&lt;mercurial&gt;&lt;windows-server-2003&gt;&lt;hgignore&gt;</td>\n",
       "    </tr>\n",
       "    <tr>\n",
       "      <th>2203</th>\n",
       "      <td>22676</td>\n",
       "      <td>&lt;p&gt;I have a small utility that I use to downlo...</td>\n",
       "      <td>How to download a file over HTTP?</td>\n",
       "      <td>&lt;python&gt;&lt;http&gt;&lt;urllib&gt;</td>\n",
       "    </tr>\n",
       "    <tr>\n",
       "      <th>9126</th>\n",
       "      <td>81191</td>\n",
       "      <td>&lt;p&gt;While answering &lt;a href=\"https://stackoverf...</td>\n",
       "      <td>PythonWin's python interactive shell calling c...</td>\n",
       "      <td>&lt;python&gt;&lt;activestate&gt;</td>\n",
       "    </tr>\n",
       "    <tr>\n",
       "      <th>3645</th>\n",
       "      <td>35541</td>\n",
       "      <td>&lt;p&gt;Doug McCune had created something that was ...</td>\n",
       "      <td>Are there any good programs for actionscript/f...</td>\n",
       "      <td>&lt;apache-flex&gt;&lt;actionscript-3&gt;&lt;code-analysis&gt;</td>\n",
       "    </tr>\n",
       "    <tr>\n",
       "      <th>855</th>\n",
       "      <td>8761</td>\n",
       "      <td>&lt;p&gt;I'm updating some of our legacy C++ code to...</td>\n",
       "      <td>Find out which colours are in use when using t...</td>\n",
       "      <td>&lt;colors&gt;&lt;mfc-feature-pack&gt;</td>\n",
       "    </tr>\n",
       "    <tr>\n",
       "      <th>4488</th>\n",
       "      <td>42354</td>\n",
       "      <td>&lt;p&gt;ObjectPal is the programming language used ...</td>\n",
       "      <td>Does anyone still use ObjectPal?</td>\n",
       "      <td>&lt;paradox&gt;</td>\n",
       "    </tr>\n",
       "  </tbody>\n",
       "</table>\n",
       "</div>"
      ],
      "text/plain": [
       "         Id                                               Body  \\\n",
       "7977  70625  <p>How would you refactor these two classes to...   \n",
       "639    6484  <p><a href=\"http://www.google.com/search?q=how...   \n",
       "721    7477  <p>I'm currently working on an internal sales ...   \n",
       "2417  24954  <p>How to determine the applications associate...   \n",
       "1896  19442  <p>How can I create this file in a directory i...   \n",
       "2203  22676  <p>I have a small utility that I use to downlo...   \n",
       "9126  81191  <p>While answering <a href=\"https://stackoverf...   \n",
       "3645  35541  <p>Doug McCune had created something that was ...   \n",
       "855    8761  <p>I'm updating some of our legacy C++ code to...   \n",
       "4488  42354  <p>ObjectPal is the programming language used ...   \n",
       "\n",
       "                                                  Title  \\\n",
       "7977                      Refactoring two basic classes   \n",
       "639                     How do you mock a Sealed class?   \n",
       "721         How to autosize a textarea using Prototype?   \n",
       "2417  Windows: List and Launch applications associat...   \n",
       "1896  how to allow files starting with period and no...   \n",
       "2203                  How to download a file over HTTP?   \n",
       "9126  PythonWin's python interactive shell calling c...   \n",
       "3645  Are there any good programs for actionscript/f...   \n",
       "855   Find out which colours are in use when using t...   \n",
       "4488                   Does anyone still use ObjectPal?   \n",
       "\n",
       "                                                 Tags  \n",
       "7977                        <cultureinfo><regioninfo>  \n",
       "639   <unit-testing><language-agnostic><tdd><mocking>  \n",
       "721    <javascript><html><css><textarea><prototypejs>  \n",
       "2417                        <.net><windows><registry>  \n",
       "1896       <mercurial><windows-server-2003><hgignore>  \n",
       "2203                           <python><http><urllib>  \n",
       "9126                            <python><activestate>  \n",
       "3645     <apache-flex><actionscript-3><code-analysis>  \n",
       "855                        <colors><mfc-feature-pack>  \n",
       "4488                                        <paradox>  "
      ]
     },
     "execution_count": 2,
     "metadata": {},
     "output_type": "execute_result"
    }
   ],
   "source": [
    "df_posts.sample(10)"
   ]
  },
  {
   "cell_type": "markdown",
   "metadata": {},
   "source": [
    "**Informations sur les colonnes du dataframe**"
   ]
  },
  {
   "cell_type": "code",
   "execution_count": 3,
   "metadata": {
    "scrolled": true
   },
   "outputs": [],
   "source": [
    "def overview(dataframe):\n",
    "    df_overview = pd.DataFrame({})\n",
    "    df_overview['column'] = [col for col in dataframe.columns]\n",
    "    df_overview['qty_null_column'] = [dataframe[col].isna().sum() for col in dataframe.columns]\n",
    "    df_overview['percent_null'] = df_overview['qty_null_column'] / dataframe.shape[0] * 100.00\n",
    "    df_overview['dtype'] = [dtype for dtype in dataframe.dtypes]\n",
    "    df_overview['qty_category_unique'] = [len(dataframe[col].value_counts()) for col in dataframe.columns]\n",
    "\n",
    "    return df_overview"
   ]
  },
  {
   "cell_type": "code",
   "execution_count": 4,
   "metadata": {},
   "outputs": [
    {
     "data": {
      "text/html": [
       "<div>\n",
       "<style scoped>\n",
       "    .dataframe tbody tr th:only-of-type {\n",
       "        vertical-align: middle;\n",
       "    }\n",
       "\n",
       "    .dataframe tbody tr th {\n",
       "        vertical-align: top;\n",
       "    }\n",
       "\n",
       "    .dataframe thead th {\n",
       "        text-align: right;\n",
       "    }\n",
       "</style>\n",
       "<table border=\"1\" class=\"dataframe\">\n",
       "  <thead>\n",
       "    <tr style=\"text-align: right;\">\n",
       "      <th></th>\n",
       "      <th>column</th>\n",
       "      <th>qty_null_column</th>\n",
       "      <th>percent_null</th>\n",
       "      <th>dtype</th>\n",
       "      <th>qty_category_unique</th>\n",
       "    </tr>\n",
       "  </thead>\n",
       "  <tbody>\n",
       "    <tr>\n",
       "      <th>0</th>\n",
       "      <td>Id</td>\n",
       "      <td>0</td>\n",
       "      <td>0.0</td>\n",
       "      <td>int64</td>\n",
       "      <td>11149</td>\n",
       "    </tr>\n",
       "    <tr>\n",
       "      <th>1</th>\n",
       "      <td>Body</td>\n",
       "      <td>0</td>\n",
       "      <td>0.0</td>\n",
       "      <td>object</td>\n",
       "      <td>11148</td>\n",
       "    </tr>\n",
       "    <tr>\n",
       "      <th>2</th>\n",
       "      <td>Title</td>\n",
       "      <td>0</td>\n",
       "      <td>0.0</td>\n",
       "      <td>object</td>\n",
       "      <td>11148</td>\n",
       "    </tr>\n",
       "    <tr>\n",
       "      <th>3</th>\n",
       "      <td>Tags</td>\n",
       "      <td>0</td>\n",
       "      <td>0.0</td>\n",
       "      <td>object</td>\n",
       "      <td>9290</td>\n",
       "    </tr>\n",
       "  </tbody>\n",
       "</table>\n",
       "</div>"
      ],
      "text/plain": [
       "  column  qty_null_column  percent_null   dtype  qty_category_unique\n",
       "0     Id                0           0.0   int64                11149\n",
       "1   Body                0           0.0  object                11148\n",
       "2  Title                0           0.0  object                11148\n",
       "3   Tags                0           0.0  object                 9290"
      ]
     },
     "execution_count": 4,
     "metadata": {},
     "output_type": "execute_result"
    }
   ],
   "source": [
    "overview(df_posts)"
   ]
  },
  {
   "cell_type": "markdown",
   "metadata": {},
   "source": [
    "**Suppression des quelques duplicats**"
   ]
  },
  {
   "cell_type": "code",
   "execution_count": 5,
   "metadata": {},
   "outputs": [],
   "source": [
    "df_posts.drop_duplicates(subset=['Title'], inplace =True)\n",
    "df_posts.drop_duplicates(subset=['Body'], inplace =True)"
   ]
  },
  {
   "cell_type": "code",
   "execution_count": 6,
   "metadata": {},
   "outputs": [
    {
     "data": {
      "text/html": [
       "<div>\n",
       "<style scoped>\n",
       "    .dataframe tbody tr th:only-of-type {\n",
       "        vertical-align: middle;\n",
       "    }\n",
       "\n",
       "    .dataframe tbody tr th {\n",
       "        vertical-align: top;\n",
       "    }\n",
       "\n",
       "    .dataframe thead th {\n",
       "        text-align: right;\n",
       "    }\n",
       "</style>\n",
       "<table border=\"1\" class=\"dataframe\">\n",
       "  <thead>\n",
       "    <tr style=\"text-align: right;\">\n",
       "      <th></th>\n",
       "      <th>column</th>\n",
       "      <th>qty_null_column</th>\n",
       "      <th>percent_null</th>\n",
       "      <th>dtype</th>\n",
       "      <th>qty_category_unique</th>\n",
       "    </tr>\n",
       "  </thead>\n",
       "  <tbody>\n",
       "    <tr>\n",
       "      <th>0</th>\n",
       "      <td>Id</td>\n",
       "      <td>0</td>\n",
       "      <td>0.0</td>\n",
       "      <td>int64</td>\n",
       "      <td>11147</td>\n",
       "    </tr>\n",
       "    <tr>\n",
       "      <th>1</th>\n",
       "      <td>Body</td>\n",
       "      <td>0</td>\n",
       "      <td>0.0</td>\n",
       "      <td>object</td>\n",
       "      <td>11147</td>\n",
       "    </tr>\n",
       "    <tr>\n",
       "      <th>2</th>\n",
       "      <td>Title</td>\n",
       "      <td>0</td>\n",
       "      <td>0.0</td>\n",
       "      <td>object</td>\n",
       "      <td>11147</td>\n",
       "    </tr>\n",
       "    <tr>\n",
       "      <th>3</th>\n",
       "      <td>Tags</td>\n",
       "      <td>0</td>\n",
       "      <td>0.0</td>\n",
       "      <td>object</td>\n",
       "      <td>9288</td>\n",
       "    </tr>\n",
       "  </tbody>\n",
       "</table>\n",
       "</div>"
      ],
      "text/plain": [
       "  column  qty_null_column  percent_null   dtype  qty_category_unique\n",
       "0     Id                0           0.0   int64                11147\n",
       "1   Body                0           0.0  object                11147\n",
       "2  Title                0           0.0  object                11147\n",
       "3   Tags                0           0.0  object                 9288"
      ]
     },
     "execution_count": 6,
     "metadata": {},
     "output_type": "execute_result"
    }
   ],
   "source": [
    "overview(df_posts)"
   ]
  },
  {
   "cell_type": "markdown",
   "metadata": {},
   "source": [
    "**Fonction de nettoyage : html_remove/letters_only/lower_case/stopwords_remove**"
   ]
  },
  {
   "cell_type": "code",
   "execution_count": 7,
   "metadata": {},
   "outputs": [],
   "source": [
    "from nltk.corpus import stopwords\n",
    "\n",
    "def cleaning(text):\n",
    "\n",
    "    text = BeautifulSoup(text).get_text()\n",
    "    text = re.sub(\"[^a-zA-Z]\", \" \", text)\n",
    "    text = text.lower()\n",
    "    \n",
    "    words = text.split()\n",
    "    set_stopwords = set(stopwords.words(\"english\"))\n",
    "    meaningful_words = [w for w in words if not w in set_stopwords]   \n",
    "\n",
    "    return( \" \".join(meaningful_words))   "
   ]
  },
  {
   "cell_type": "markdown",
   "metadata": {},
   "source": [
    "**Body**"
   ]
  },
  {
   "cell_type": "code",
   "execution_count": 8,
   "metadata": {},
   "outputs": [],
   "source": [
    "df_posts['Body'] = df_posts['Body'].apply(lambda x: cleaning(x))"
   ]
  },
  {
   "cell_type": "code",
   "execution_count": 9,
   "metadata": {},
   "outputs": [
    {
     "data": {
      "text/plain": [
       "9479    xml schema part specifies instance datatype de...\n",
       "8292    tools websites use read javadocs currently use...\n",
       "925     asp net user control adding javascript window ...\n",
       "1856    developing j application large amount data sto...\n",
       "5317    n equal following function void foo char cvalu...\n",
       "Name: Body, dtype: object"
      ]
     },
     "execution_count": 9,
     "metadata": {},
     "output_type": "execute_result"
    }
   ],
   "source": [
    "df_posts['Body'].sample(5)"
   ]
  },
  {
   "cell_type": "markdown",
   "metadata": {},
   "source": [
    "**Title**"
   ]
  },
  {
   "cell_type": "code",
   "execution_count": 10,
   "metadata": {},
   "outputs": [],
   "source": [
    "df_posts['Title'] = df_posts['Title'].apply(lambda x: cleaning(x))"
   ]
  },
  {
   "cell_type": "code",
   "execution_count": 11,
   "metadata": {},
   "outputs": [
    {
     "data": {
      "text/plain": [
       "4871               sql file encoding visual studio\n",
       "4371              generating javascript stubs wsdl\n",
       "6571             show whole height referenced page\n",
       "2546    windows service increasing cpu consumption\n",
       "4874        ms sql fti searching n returns numbers\n",
       "Name: Title, dtype: object"
      ]
     },
     "execution_count": 11,
     "metadata": {},
     "output_type": "execute_result"
    }
   ],
   "source": [
    "df_posts['Title'].sample(5)"
   ]
  },
  {
   "cell_type": "markdown",
   "metadata": {},
   "source": [
    "**Tags**"
   ]
  },
  {
   "cell_type": "code",
   "execution_count": 12,
   "metadata": {},
   "outputs": [],
   "source": [
    "df_posts['Tags'] = df_posts['Tags'].apply(lambda x: x.replace('<',''))\n",
    "df_posts['Tags'] = df_posts['Tags'].apply(lambda x: x.replace('>',' '))\n",
    "df_posts['Tags'] = df_posts['Tags'].apply(lambda x: x.split())"
   ]
  },
  {
   "cell_type": "code",
   "execution_count": 13,
   "metadata": {},
   "outputs": [
    {
     "data": {
      "text/plain": [
       "4978         [iphone, xib, key-value-coding]\n",
       "9473                     [css, class, xhtml]\n",
       "2825    [open-source, software-distribution]\n",
       "6145             [c#, asp.net, asp.net-ajax]\n",
       "4038                [database, flash, adobe]\n",
       "Name: Tags, dtype: object"
      ]
     },
     "execution_count": 13,
     "metadata": {},
     "output_type": "execute_result"
    }
   ],
   "source": [
    "df_posts['Tags'].sample(5)"
   ]
  },
  {
   "cell_type": "code",
   "execution_count": 14,
   "metadata": {},
   "outputs": [],
   "source": [
    "tags = [tag for row in df_posts['Tags'].values for tag in row ]"
   ]
  },
  {
   "cell_type": "markdown",
   "metadata": {},
   "source": [
    "**Extraction de caractéristiques**"
   ]
  },
  {
   "cell_type": "code",
   "execution_count": 15,
   "metadata": {},
   "outputs": [],
   "source": [
    "from sklearn.feature_extraction.text import TfidfVectorizer\n",
    "\n",
    "tfidf = TfidfVectorizer()\n",
    "posts_body_tfidf = tfidf.fit_transform(df_posts['Body'])"
   ]
  },
  {
   "cell_type": "code",
   "execution_count": 21,
   "metadata": {},
   "outputs": [],
   "source": [
    "np.save(\"data/posts_body_feature_names.npy\", tfidf.get_feature_names(), allow_pickle=True)"
   ]
  },
  {
   "cell_type": "code",
   "execution_count": 17,
   "metadata": {},
   "outputs": [],
   "source": [
    "np.save(\"data/posts_body_tfidf.npy\", posts_body_tfidf, allow_pickle=True)"
   ]
  }
 ],
 "metadata": {
  "kernelspec": {
   "display_name": "Python 3",
   "language": "python",
   "name": "python3"
  },
  "language_info": {
   "codemirror_mode": {
    "name": "ipython",
    "version": 3
   },
   "file_extension": ".py",
   "mimetype": "text/x-python",
   "name": "python",
   "nbconvert_exporter": "python",
   "pygments_lexer": "ipython3",
   "version": "3.8.3"
  }
 },
 "nbformat": 4,
 "nbformat_minor": 4
}
