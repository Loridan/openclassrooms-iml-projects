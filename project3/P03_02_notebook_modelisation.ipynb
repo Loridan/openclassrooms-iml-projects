{
 "cells": [
  {
   "cell_type": "markdown",
   "metadata": {},
   "source": [
    "**Imports des données**"
   ]
  },
  {
   "cell_type": "code",
   "execution_count": 10,
   "metadata": {},
   "outputs": [],
   "source": [
    "import numpy as np\n",
    "import json\n",
    "import pprint\n",
    "import pandas as pd\n",
    "import matplotlib.pyplot as plt\n",
    "import seaborn as sns\n",
    "\n",
    "filename_path = 'data/df.csv'\n",
    "df = pd.read_csv(filename_path)"
   ]
  },
  {
   "cell_type": "markdown",
   "metadata": {},
   "source": [
    "**Parametres divers**"
   ]
  },
  {
   "cell_type": "code",
   "execution_count": 11,
   "metadata": {},
   "outputs": [],
   "source": [
    "pd.set_option('display.max_columns', 20)\n",
    "pd.set_option('display.max_colwidth', 100)"
   ]
  },
  {
   "cell_type": "markdown",
   "metadata": {},
   "source": [
    "**Fonctions utilisateurs**"
   ]
  },
  {
   "cell_type": "code",
   "execution_count": 12,
   "metadata": {},
   "outputs": [],
   "source": [
    "from sklearn.metrics import explained_variance_score\n",
    "from sklearn.metrics import max_error\n",
    "from sklearn.metrics import mean_absolute_error\n",
    "from sklearn.metrics import mean_squared_error\n",
    "from sklearn.metrics import mean_squared_log_error\n",
    "from sklearn.metrics import median_absolute_error\n",
    "from sklearn.metrics import r2_score\n",
    "from sklearn.metrics import mean_poisson_deviance\n",
    "from sklearn.metrics import mean_gamma_deviance\n",
    "from sklearn.metrics import mean_tweedie_deviance\n",
    "\n",
    "def get_errors(y_true,y_pred):    \n",
    "    errors = y_pred-y_true\n",
    "    errors_absolute = np.abs(errors)\n",
    "    errors_relative= errors_absolute/np.abs(y_true)\n",
    "    errors_normalized = errors/np.mean(y_true)\n",
    "\n",
    "    data = {'y_true' : y_true ,\n",
    "            'y_pred' : y_pred ,\n",
    "            'errors' : errors,\n",
    "            'errors_abs' : errors_absolute,\n",
    "            'errors_normalized' : errors_normalized,\n",
    "            'errors_relative' : errors_relative}\n",
    "    \n",
    "    return pd.DataFrame(data)\n",
    "\n",
    "def get_metrics(y_true, y_pred, index , decimals=3):\n",
    "    \n",
    "    \"\"\"\n",
    "    Calcul de toutes les métriques de Regression\n",
    "    \n",
    "\n",
    "            Parameters\n",
    "            ----------\n",
    "            \n",
    "            y_true : array-like\n",
    "                valeurs observées\n",
    "            y_pred : array-like\n",
    "                valeurs prédites\n",
    "            index : string\n",
    "                nom/valeur de l'index\n",
    "            decimals: number\n",
    "                valeur de précision d'arrondissement des metriques\n",
    "\n",
    "            Returns\n",
    "            ----------\n",
    "            \n",
    "            metrics : DataFrame\n",
    "                Renvoie les metriques de régression\n",
    "\n",
    "    \"\"\"  \n",
    "    dict_metrics = {}\n",
    "    \n",
    "    results = get_errors(y_true,y_pred)\n",
    "    df = results.describe(percentiles=[0.05, 0.25,0.50, 0.75, 0.95])\n",
    "    \n",
    "    dict_metrics[\"Min\"]=df.loc[\"min\",\"errors_relative\"]\n",
    "    dict_metrics[\"5%\"]=df.loc[\"5%\",\"errors_relative\"]\n",
    "    dict_metrics[\"25%\"]=df.loc[\"25%\",\"errors_relative\"]\n",
    "    dict_metrics[\"50%\"]=df.loc[\"50%\",\"errors_relative\"]\n",
    "    dict_metrics[\"75%\"]=df.loc[\"75%\",\"errors_relative\"]\n",
    "    dict_metrics[\"95%\"]=df.loc[\"95%\",\"errors_relative\"]\n",
    "    dict_metrics[\"Max\"]=df.loc[\"max\",\"errors_relative\"]    \n",
    "    \n",
    "    #dict_metrics['explained_variance_score']=explained_variance_score(y_true,y_pred)\n",
    "    #dict_metrics['max_error']=max_error(y_true,y_pred)\n",
    "    #dict_metrics['mean_absolute_error']=mean_absolute_error(y_true,y_pred)\n",
    "    #dict_metrics['normalized_mean_absolute_error']=mean_absolute_error(y_true,y_pred)/np.mean(y_true)\n",
    "    #dict_metrics['mean_squared_error']=mean_squared_error(y_true,y_pred)\n",
    "    dict_metrics['root_mean_squared_error']=mean_squared_error(y_true,y_pred,squared=False)\n",
    "    #dict_metrics['normalized_root_mean_squared_error']=mean_squared_error(y_true,y_pred,squared=False)/np.mean(y_true)\n",
    "    #dict_metrics['median_absolute_error']=median_absolute_error(y_true,y_pred)\n",
    "    #dict_metrics['normalized_median_absolute_error']=median_absolute_error(y_true,y_pred)/np.mean(y_true)\n",
    "    dict_metrics['r2_score']=r2_score(y_true,y_pred)\n",
    "    #dict_metrics['mean_squared_log_error']=mean_squared_log_error(y_true,y_pred)\n",
    "    #dict_metrics['mean_poisson_deviance']=mean_poisson_deviance(y_true,y_pred)\n",
    "    #dict_metrics['mean_gamma_deviance']=mean_gamma_deviance(y_true,y_pred)\n",
    "    #dict_metrics['mean_tweedie_deviance']=mean_tweedie_deviance(y_true,y_pred)\n",
    "    \n",
    "    metrics = pd.DataFrame(dict_metrics, index=[index])\n",
    "    \n",
    "    return metrics.round(decimals)"
   ]
  },
  {
   "cell_type": "code",
   "execution_count": 13,
   "metadata": {},
   "outputs": [],
   "source": [
    "from math import ceil,sqrt,floor\n",
    "\n",
    "def get_colors_from_listedcolormap(colormap, x):\n",
    "        \n",
    "    \"\"\"\n",
    "    Retourne un nombre x de couleurs avec un espacement homogene contenus dans une colormap\n",
    "    \n",
    "    \"\"\"\n",
    "    colors = []\n",
    "    for i in range(0,x):\n",
    "        if x <2:\n",
    "            y=1\n",
    "        else:\n",
    "            y=i/(x-1)\n",
    "        colors.append(COLORMAP.colors[floor((COLORMAP.N-1)*y)])\n",
    "    return colors\n",
    "\n",
    "#Mes couleurs\n",
    "COLORMAP = sns.color_palette(\"plasma\", as_cmap=True)\n",
    "COLORS = get_colors_from_listedcolormap(COLORMAP,5)\n",
    "COLOR_PRIMARY = COLORS[0]\n",
    "COLOR_SECONDARY = COLORS[1]\n",
    "COLOR_TERTIARY = COLORS[4]\n",
    "COLOR_QUATERNARY = COLORS[2]\n",
    "COLOR_QUINARY = COLORS[3]"
   ]
  },
  {
   "cell_type": "markdown",
   "metadata": {},
   "source": [
    "**Choix des prédicteurs**   "
   ]
  },
  {
   "cell_type": "code",
   "execution_count": 14,
   "metadata": {},
   "outputs": [],
   "source": [
    "all_columns = [\n",
    "    'BuildingType',\n",
    "    'PrimaryPropertyType',\n",
    "    'CouncilDistrictCode',\n",
    "    'Neighborhood',\n",
    "    'YearBuilt',\n",
    "    'NumberofBuildings',\n",
    "    'NumberofFloors',\n",
    "    'PropertyGFATotal',\n",
    "    'PropertyGFAParking',\n",
    "    'PropertyGFABuilding(s)',\n",
    "    'LargestPropertyUseType',\n",
    "    'LargestPropertyUseTypeGFA',\n",
    "    'SecondLargestPropertyUseTypeGFA',\n",
    "    'ThirdLargestPropertyUseTypeGFA',\n",
    "    'SiteEnergyUseWN(kBtu)',\n",
    "    'GHGEmissions(MetricTonsCO2e)',\n",
    "    'ENERGYSTARScore']"
   ]
  },
  {
   "cell_type": "code",
   "execution_count": 15,
   "metadata": {},
   "outputs": [],
   "source": [
    "predicators_columns = [\n",
    "    'CouncilDistrictCode',\n",
    "    'YearBuilt',\n",
    "    'NumberofBuildings',\n",
    "    'NumberofFloors',\n",
    "    'PropertyGFATotal',\n",
    "    'PropertyGFAParking',\n",
    "    'PropertyGFABuilding(s)',\n",
    "    'LargestPropertyUseTypeGFA',\n",
    "    'SecondLargestPropertyUseTypeGFA',\n",
    "    'ThirdLargestPropertyUseTypeGFA',\n",
    "    'PrimaryPropertyType',\n",
    "    'CouncilDistrictCode',\n",
    "    'Neighborhood']\n",
    "\n",
    "target_columns = [\n",
    "    'SiteEnergyUseWN(kBtu)','GHGEmissions(MetricTonsCO2e)']"
   ]
  },
  {
   "cell_type": "code",
   "execution_count": 16,
   "metadata": {},
   "outputs": [],
   "source": [
    "#only for test energyscore => drop to 4802\n",
    "df= df.dropna()"
   ]
  },
  {
   "cell_type": "code",
   "execution_count": 17,
   "metadata": {},
   "outputs": [],
   "source": [
    "X = df.loc[:, predicators_columns]\n",
    "y = df.loc[:, target_columns[0]]"
   ]
  },
  {
   "cell_type": "code",
   "execution_count": 18,
   "metadata": {},
   "outputs": [
    {
     "data": {
      "text/plain": [
       "(4802, 13)"
      ]
     },
     "execution_count": 18,
     "metadata": {},
     "output_type": "execute_result"
    }
   ],
   "source": [
    "X.shape"
   ]
  },
  {
   "cell_type": "markdown",
   "metadata": {},
   "source": [
    "**Pré-traitement**\n",
    "_______________________________"
   ]
  },
  {
   "cell_type": "markdown",
   "metadata": {},
   "source": [
    "**Détection des valeurs aberrantes ( Outlier Detection )**"
   ]
  },
  {
   "cell_type": "code",
   "execution_count": 19,
   "metadata": {},
   "outputs": [
    {
     "data": {
      "text/plain": [
       "\"from sklearn.neighbors import LocalOutlierFactor\\n\\nlocal_outlier_factor = LocalOutlierFactor(n_neighbors=20, contamination=0.01)\\n\\nlabels = local_outlier_factor.fit_predict(X.select_dtypes(include=[np.number]))\\n\\nprint(f'Nombre d'outliers : {np.count_nonzero(labels == -1)}')\\nprint(f'Nombre d'inliers : {np.count_nonzero(labels == 1)}')\\n\\nX = X[labels == 1]\\ny = y[labels == 1]\""
      ]
     },
     "execution_count": 19,
     "metadata": {},
     "output_type": "execute_result"
    }
   ],
   "source": [
    "#Ne pas utiliser dans le cadre de ce projet\n",
    "\"\"\"from sklearn.neighbors import LocalOutlierFactor\n",
    "\n",
    "local_outlier_factor = LocalOutlierFactor(n_neighbors=20, contamination=0.01)\n",
    "\n",
    "labels = local_outlier_factor.fit_predict(X.select_dtypes(include=[np.number]))\n",
    "\n",
    "print(f'Nombre d\\'outliers : {np.count_nonzero(labels == -1)}')\n",
    "print(f'Nombre d\\'inliers : {np.count_nonzero(labels == 1)}')\n",
    "\n",
    "X = X[labels == 1]\n",
    "y = y[labels == 1]\"\"\""
   ]
  },
  {
   "cell_type": "code",
   "execution_count": 20,
   "metadata": {},
   "outputs": [
    {
     "data": {
      "text/plain": [
       "(4802, 13)"
      ]
     },
     "execution_count": 20,
     "metadata": {},
     "output_type": "execute_result"
    }
   ],
   "source": [
    "X.shape"
   ]
  },
  {
   "cell_type": "markdown",
   "metadata": {},
   "source": [
    "**Transformation : encodage des catégories et mise à l'échelle des valeurs numériques**"
   ]
  },
  {
   "cell_type": "code",
   "execution_count": 21,
   "metadata": {},
   "outputs": [],
   "source": [
    "from sklearn.preprocessing import OneHotEncoder\n",
    "from sklearn.preprocessing import StandardScaler\n",
    "\n",
    "X_categorical = X.select_dtypes(exclude=[np.number]).reset_index(drop=True)\n",
    "X_numerical = X.select_dtypes(include=[np.number]).reset_index(drop=True)\n",
    "\n",
    "one_hot_encoder = OneHotEncoder(sparse=False)\n",
    "X_categorical = one_hot_encoder.fit_transform(X_categorical)\n",
    "X_categorical = pd.DataFrame(X_categorical, columns=one_hot_encoder.get_feature_names().ravel())\n",
    "\n",
    "columns= X_numerical.columns\n",
    "standard_scaler_X = StandardScaler().fit(X_numerical)\n",
    "X_numerical = standard_scaler_X.transform(X_numerical)\n",
    "X_numerical = pd.DataFrame(X_numerical, columns=columns)\n",
    "\n",
    "\n",
    "X = X_numerical.join(X_categorical)"
   ]
  },
  {
   "cell_type": "code",
   "execution_count": 22,
   "metadata": {},
   "outputs": [
    {
     "data": {
      "text/html": [
       "<div>\n",
       "<style scoped>\n",
       "    .dataframe tbody tr th:only-of-type {\n",
       "        vertical-align: middle;\n",
       "    }\n",
       "\n",
       "    .dataframe tbody tr th {\n",
       "        vertical-align: top;\n",
       "    }\n",
       "\n",
       "    .dataframe thead th {\n",
       "        text-align: right;\n",
       "    }\n",
       "</style>\n",
       "<table border=\"1\" class=\"dataframe\">\n",
       "  <thead>\n",
       "    <tr style=\"text-align: right;\">\n",
       "      <th></th>\n",
       "      <th>CouncilDistrictCode</th>\n",
       "      <th>YearBuilt</th>\n",
       "      <th>NumberofBuildings</th>\n",
       "      <th>NumberofFloors</th>\n",
       "      <th>PropertyGFATotal</th>\n",
       "      <th>PropertyGFAParking</th>\n",
       "      <th>PropertyGFABuilding(s)</th>\n",
       "      <th>LargestPropertyUseTypeGFA</th>\n",
       "      <th>SecondLargestPropertyUseTypeGFA</th>\n",
       "      <th>ThirdLargestPropertyUseTypeGFA</th>\n",
       "      <th>...</th>\n",
       "      <th>x1_Downtown</th>\n",
       "      <th>x1_East</th>\n",
       "      <th>x1_Greater duwamish</th>\n",
       "      <th>x1_Lake union</th>\n",
       "      <th>x1_Magnolia / queen anne</th>\n",
       "      <th>x1_North</th>\n",
       "      <th>x1_Northeast</th>\n",
       "      <th>x1_Northwest</th>\n",
       "      <th>x1_Southeast</th>\n",
       "      <th>x1_Southwest</th>\n",
       "    </tr>\n",
       "  </thead>\n",
       "  <tbody>\n",
       "    <tr>\n",
       "      <th>346</th>\n",
       "      <td>1.207991</td>\n",
       "      <td>-2.174396</td>\n",
       "      <td>-0.085294</td>\n",
       "      <td>0.160746</td>\n",
       "      <td>-0.254223</td>\n",
       "      <td>-0.292854</td>\n",
       "      <td>-0.216447</td>\n",
       "      <td>-0.273148</td>\n",
       "      <td>-0.084453</td>\n",
       "      <td>-0.136023</td>\n",
       "      <td>...</td>\n",
       "      <td>1.0</td>\n",
       "      <td>0.0</td>\n",
       "      <td>0.0</td>\n",
       "      <td>0.0</td>\n",
       "      <td>0.0</td>\n",
       "      <td>0.0</td>\n",
       "      <td>0.0</td>\n",
       "      <td>0.0</td>\n",
       "      <td>0.0</td>\n",
       "      <td>0.0</td>\n",
       "    </tr>\n",
       "    <tr>\n",
       "      <th>4142</th>\n",
       "      <td>1.207991</td>\n",
       "      <td>0.605418</td>\n",
       "      <td>-0.085294</td>\n",
       "      <td>-0.173628</td>\n",
       "      <td>-0.438836</td>\n",
       "      <td>-0.158447</td>\n",
       "      <td>-0.465886</td>\n",
       "      <td>-0.447963</td>\n",
       "      <td>-0.235984</td>\n",
       "      <td>-0.136023</td>\n",
       "      <td>...</td>\n",
       "      <td>0.0</td>\n",
       "      <td>0.0</td>\n",
       "      <td>0.0</td>\n",
       "      <td>0.0</td>\n",
       "      <td>1.0</td>\n",
       "      <td>0.0</td>\n",
       "      <td>0.0</td>\n",
       "      <td>0.0</td>\n",
       "      <td>0.0</td>\n",
       "      <td>0.0</td>\n",
       "    </tr>\n",
       "    <tr>\n",
       "      <th>3624</th>\n",
       "      <td>-1.661074</td>\n",
       "      <td>0.574184</td>\n",
       "      <td>-0.085294</td>\n",
       "      <td>-0.173628</td>\n",
       "      <td>-0.469599</td>\n",
       "      <td>-0.292854</td>\n",
       "      <td>-0.465769</td>\n",
       "      <td>-0.447840</td>\n",
       "      <td>-0.353397</td>\n",
       "      <td>-0.136023</td>\n",
       "      <td>...</td>\n",
       "      <td>0.0</td>\n",
       "      <td>0.0</td>\n",
       "      <td>0.0</td>\n",
       "      <td>0.0</td>\n",
       "      <td>0.0</td>\n",
       "      <td>0.0</td>\n",
       "      <td>0.0</td>\n",
       "      <td>0.0</td>\n",
       "      <td>0.0</td>\n",
       "      <td>1.0</td>\n",
       "    </tr>\n",
       "    <tr>\n",
       "      <th>1898</th>\n",
       "      <td>0.251636</td>\n",
       "      <td>0.074442</td>\n",
       "      <td>-0.085294</td>\n",
       "      <td>-0.675188</td>\n",
       "      <td>-0.438029</td>\n",
       "      <td>-0.292854</td>\n",
       "      <td>-0.429223</td>\n",
       "      <td>-0.445469</td>\n",
       "      <td>-0.353397</td>\n",
       "      <td>-0.136023</td>\n",
       "      <td>...</td>\n",
       "      <td>0.0</td>\n",
       "      <td>0.0</td>\n",
       "      <td>0.0</td>\n",
       "      <td>0.0</td>\n",
       "      <td>0.0</td>\n",
       "      <td>0.0</td>\n",
       "      <td>0.0</td>\n",
       "      <td>1.0</td>\n",
       "      <td>0.0</td>\n",
       "      <td>0.0</td>\n",
       "    </tr>\n",
       "    <tr>\n",
       "      <th>1293</th>\n",
       "      <td>1.207991</td>\n",
       "      <td>-0.362832</td>\n",
       "      <td>-0.085294</td>\n",
       "      <td>0.160746</td>\n",
       "      <td>-0.371966</td>\n",
       "      <td>-0.292854</td>\n",
       "      <td>-0.352748</td>\n",
       "      <td>-0.328849</td>\n",
       "      <td>-0.353397</td>\n",
       "      <td>-0.136023</td>\n",
       "      <td>...</td>\n",
       "      <td>0.0</td>\n",
       "      <td>0.0</td>\n",
       "      <td>0.0</td>\n",
       "      <td>0.0</td>\n",
       "      <td>1.0</td>\n",
       "      <td>0.0</td>\n",
       "      <td>0.0</td>\n",
       "      <td>0.0</td>\n",
       "      <td>0.0</td>\n",
       "      <td>0.0</td>\n",
       "    </tr>\n",
       "    <tr>\n",
       "      <th>3038</th>\n",
       "      <td>-0.226542</td>\n",
       "      <td>0.917757</td>\n",
       "      <td>-0.085294</td>\n",
       "      <td>-0.340815</td>\n",
       "      <td>0.356731</td>\n",
       "      <td>1.344014</td>\n",
       "      <td>0.055696</td>\n",
       "      <td>0.101174</td>\n",
       "      <td>-0.353397</td>\n",
       "      <td>-0.136023</td>\n",
       "      <td>...</td>\n",
       "      <td>0.0</td>\n",
       "      <td>0.0</td>\n",
       "      <td>0.0</td>\n",
       "      <td>0.0</td>\n",
       "      <td>0.0</td>\n",
       "      <td>0.0</td>\n",
       "      <td>1.0</td>\n",
       "      <td>0.0</td>\n",
       "      <td>0.0</td>\n",
       "      <td>0.0</td>\n",
       "    </tr>\n",
       "    <tr>\n",
       "      <th>3960</th>\n",
       "      <td>0.251636</td>\n",
       "      <td>-0.643937</td>\n",
       "      <td>-0.085294</td>\n",
       "      <td>-0.508002</td>\n",
       "      <td>-0.342120</td>\n",
       "      <td>-0.292854</td>\n",
       "      <td>-0.318198</td>\n",
       "      <td>-0.347000</td>\n",
       "      <td>-0.353397</td>\n",
       "      <td>-0.136023</td>\n",
       "      <td>...</td>\n",
       "      <td>0.0</td>\n",
       "      <td>0.0</td>\n",
       "      <td>0.0</td>\n",
       "      <td>0.0</td>\n",
       "      <td>0.0</td>\n",
       "      <td>0.0</td>\n",
       "      <td>1.0</td>\n",
       "      <td>0.0</td>\n",
       "      <td>0.0</td>\n",
       "      <td>0.0</td>\n",
       "    </tr>\n",
       "    <tr>\n",
       "      <th>4175</th>\n",
       "      <td>-0.704719</td>\n",
       "      <td>-1.737122</td>\n",
       "      <td>-0.085294</td>\n",
       "      <td>-0.173628</td>\n",
       "      <td>-0.495069</td>\n",
       "      <td>-0.292854</td>\n",
       "      <td>-0.495254</td>\n",
       "      <td>-0.478883</td>\n",
       "      <td>-0.353397</td>\n",
       "      <td>-0.136023</td>\n",
       "      <td>...</td>\n",
       "      <td>0.0</td>\n",
       "      <td>1.0</td>\n",
       "      <td>0.0</td>\n",
       "      <td>0.0</td>\n",
       "      <td>0.0</td>\n",
       "      <td>0.0</td>\n",
       "      <td>0.0</td>\n",
       "      <td>0.0</td>\n",
       "      <td>0.0</td>\n",
       "      <td>0.0</td>\n",
       "    </tr>\n",
       "    <tr>\n",
       "      <th>2721</th>\n",
       "      <td>-0.226542</td>\n",
       "      <td>1.136394</td>\n",
       "      <td>-0.085294</td>\n",
       "      <td>-0.340815</td>\n",
       "      <td>0.052725</td>\n",
       "      <td>0.951524</td>\n",
       "      <td>-0.191896</td>\n",
       "      <td>0.036332</td>\n",
       "      <td>0.122378</td>\n",
       "      <td>-0.136023</td>\n",
       "      <td>...</td>\n",
       "      <td>0.0</td>\n",
       "      <td>0.0</td>\n",
       "      <td>0.0</td>\n",
       "      <td>0.0</td>\n",
       "      <td>0.0</td>\n",
       "      <td>0.0</td>\n",
       "      <td>1.0</td>\n",
       "      <td>0.0</td>\n",
       "      <td>0.0</td>\n",
       "      <td>0.0</td>\n",
       "    </tr>\n",
       "    <tr>\n",
       "      <th>366</th>\n",
       "      <td>1.207991</td>\n",
       "      <td>-2.018227</td>\n",
       "      <td>-0.085294</td>\n",
       "      <td>0.160746</td>\n",
       "      <td>0.494194</td>\n",
       "      <td>-0.292854</td>\n",
       "      <td>0.649932</td>\n",
       "      <td>0.255056</td>\n",
       "      <td>0.153780</td>\n",
       "      <td>-0.080778</td>\n",
       "      <td>...</td>\n",
       "      <td>1.0</td>\n",
       "      <td>0.0</td>\n",
       "      <td>0.0</td>\n",
       "      <td>0.0</td>\n",
       "      <td>0.0</td>\n",
       "      <td>0.0</td>\n",
       "      <td>0.0</td>\n",
       "      <td>0.0</td>\n",
       "      <td>0.0</td>\n",
       "      <td>0.0</td>\n",
       "    </tr>\n",
       "  </tbody>\n",
       "</table>\n",
       "<p>10 rows × 49 columns</p>\n",
       "</div>"
      ],
      "text/plain": [
       "      CouncilDistrictCode  YearBuilt  NumberofBuildings  NumberofFloors  \\\n",
       "346              1.207991  -2.174396          -0.085294        0.160746   \n",
       "4142             1.207991   0.605418          -0.085294       -0.173628   \n",
       "3624            -1.661074   0.574184          -0.085294       -0.173628   \n",
       "1898             0.251636   0.074442          -0.085294       -0.675188   \n",
       "1293             1.207991  -0.362832          -0.085294        0.160746   \n",
       "3038            -0.226542   0.917757          -0.085294       -0.340815   \n",
       "3960             0.251636  -0.643937          -0.085294       -0.508002   \n",
       "4175            -0.704719  -1.737122          -0.085294       -0.173628   \n",
       "2721            -0.226542   1.136394          -0.085294       -0.340815   \n",
       "366              1.207991  -2.018227          -0.085294        0.160746   \n",
       "\n",
       "      PropertyGFATotal  PropertyGFAParking  PropertyGFABuilding(s)  \\\n",
       "346          -0.254223           -0.292854               -0.216447   \n",
       "4142         -0.438836           -0.158447               -0.465886   \n",
       "3624         -0.469599           -0.292854               -0.465769   \n",
       "1898         -0.438029           -0.292854               -0.429223   \n",
       "1293         -0.371966           -0.292854               -0.352748   \n",
       "3038          0.356731            1.344014                0.055696   \n",
       "3960         -0.342120           -0.292854               -0.318198   \n",
       "4175         -0.495069           -0.292854               -0.495254   \n",
       "2721          0.052725            0.951524               -0.191896   \n",
       "366           0.494194           -0.292854                0.649932   \n",
       "\n",
       "      LargestPropertyUseTypeGFA  SecondLargestPropertyUseTypeGFA  \\\n",
       "346                   -0.273148                        -0.084453   \n",
       "4142                  -0.447963                        -0.235984   \n",
       "3624                  -0.447840                        -0.353397   \n",
       "1898                  -0.445469                        -0.353397   \n",
       "1293                  -0.328849                        -0.353397   \n",
       "3038                   0.101174                        -0.353397   \n",
       "3960                  -0.347000                        -0.353397   \n",
       "4175                  -0.478883                        -0.353397   \n",
       "2721                   0.036332                         0.122378   \n",
       "366                    0.255056                         0.153780   \n",
       "\n",
       "      ThirdLargestPropertyUseTypeGFA  ...  x1_Downtown  x1_East  \\\n",
       "346                        -0.136023  ...          1.0      0.0   \n",
       "4142                       -0.136023  ...          0.0      0.0   \n",
       "3624                       -0.136023  ...          0.0      0.0   \n",
       "1898                       -0.136023  ...          0.0      0.0   \n",
       "1293                       -0.136023  ...          0.0      0.0   \n",
       "3038                       -0.136023  ...          0.0      0.0   \n",
       "3960                       -0.136023  ...          0.0      0.0   \n",
       "4175                       -0.136023  ...          0.0      1.0   \n",
       "2721                       -0.136023  ...          0.0      0.0   \n",
       "366                        -0.080778  ...          1.0      0.0   \n",
       "\n",
       "      x1_Greater duwamish  x1_Lake union  x1_Magnolia / queen anne  x1_North  \\\n",
       "346                   0.0            0.0                       0.0       0.0   \n",
       "4142                  0.0            0.0                       1.0       0.0   \n",
       "3624                  0.0            0.0                       0.0       0.0   \n",
       "1898                  0.0            0.0                       0.0       0.0   \n",
       "1293                  0.0            0.0                       1.0       0.0   \n",
       "3038                  0.0            0.0                       0.0       0.0   \n",
       "3960                  0.0            0.0                       0.0       0.0   \n",
       "4175                  0.0            0.0                       0.0       0.0   \n",
       "2721                  0.0            0.0                       0.0       0.0   \n",
       "366                   0.0            0.0                       0.0       0.0   \n",
       "\n",
       "      x1_Northeast  x1_Northwest  x1_Southeast  x1_Southwest  \n",
       "346            0.0           0.0           0.0           0.0  \n",
       "4142           0.0           0.0           0.0           0.0  \n",
       "3624           0.0           0.0           0.0           1.0  \n",
       "1898           0.0           1.0           0.0           0.0  \n",
       "1293           0.0           0.0           0.0           0.0  \n",
       "3038           1.0           0.0           0.0           0.0  \n",
       "3960           1.0           0.0           0.0           0.0  \n",
       "4175           0.0           0.0           0.0           0.0  \n",
       "2721           1.0           0.0           0.0           0.0  \n",
       "366            0.0           0.0           0.0           0.0  \n",
       "\n",
       "[10 rows x 49 columns]"
      ]
     },
     "execution_count": 22,
     "metadata": {},
     "output_type": "execute_result"
    }
   ],
   "source": [
    "X.sample(10)"
   ]
  },
  {
   "cell_type": "markdown",
   "metadata": {},
   "source": [
    "___\n",
    "### Séparation du jeu de données\n",
    "___"
   ]
  },
  {
   "cell_type": "code",
   "execution_count": 23,
   "metadata": {},
   "outputs": [],
   "source": [
    "from sklearn.model_selection import train_test_split\n",
    "random_state=99\n",
    "X_train, X_valtest, y_train, y_valtest = train_test_split(X, y, test_size=0.2, random_state=random_state)\n",
    "X_val, X_test, y_val, y_test = train_test_split(X_valtest, y_valtest, test_size=0.5, random_state=random_state)"
   ]
  },
  {
   "cell_type": "markdown",
   "metadata": {},
   "source": [
    "___\n",
    "### Modélisation et optimisation principale\n",
    "Mise en place de la validation croisée et d'une méthode d'optimisation à l'aide d'une grille paramétrable\n",
    "___\n"
   ]
  },
  {
   "cell_type": "code",
   "execution_count": 24,
   "metadata": {},
   "outputs": [],
   "source": [
    "scoring='neg_root_mean_squared_error'"
   ]
  },
  {
   "cell_type": "markdown",
   "metadata": {},
   "source": [
    "**0) régression baseline**"
   ]
  },
  {
   "cell_type": "code",
   "execution_count": 25,
   "metadata": {},
   "outputs": [],
   "source": [
    "from sklearn.dummy import DummyRegressor\n",
    "\n",
    "dummy_regression = DummyRegressor(strategy=\"mean\")\n",
    "dummy_regression.fit(X_train,y_train)\n",
    "\n",
    "y_pred_val = dummy_regression.predict(X_val)"
   ]
  },
  {
   "cell_type": "code",
   "execution_count": 26,
   "metadata": {
    "scrolled": true
   },
   "outputs": [],
   "source": [
    "regression_report = get_metrics(y_val, y_pred_val, 'dummy_regression_on_val')"
   ]
  },
  {
   "cell_type": "code",
   "execution_count": 27,
   "metadata": {},
   "outputs": [],
   "source": [
    "y_pred_train = dummy_regression.predict(X_train)\n",
    "regression_report = regression_report.append(get_metrics(y_train, y_pred_train, 'dummy_regression_on_train'))"
   ]
  },
  {
   "cell_type": "markdown",
   "metadata": {},
   "source": [
    "**1) régression linéaire multiple**"
   ]
  },
  {
   "cell_type": "code",
   "execution_count": 28,
   "metadata": {},
   "outputs": [
    {
     "data": {
      "text/plain": [
       "GridSearchCV(cv=KFold(n_splits=5, random_state=99, shuffle=True),\n",
       "             estimator=LinearRegression(), param_grid={},\n",
       "             scoring='neg_root_mean_squared_error')"
      ]
     },
     "execution_count": 28,
     "metadata": {},
     "output_type": "execute_result"
    }
   ],
   "source": [
    "from sklearn.linear_model import LinearRegression\n",
    "from sklearn.model_selection import GridSearchCV\n",
    "from sklearn.model_selection import KFold\n",
    "\n",
    "linear_regression = LinearRegression()\n",
    "\n",
    "hyperparameters = dict()\n",
    "\n",
    "gscv_linear_regression = GridSearchCV(linear_regression, hyperparameters, cv=KFold(5,shuffle=True, random_state=random_state), scoring=scoring)\n",
    "\n",
    "gscv_linear_regression.fit(X_train,y_train)"
   ]
  },
  {
   "cell_type": "code",
   "execution_count": 29,
   "metadata": {},
   "outputs": [],
   "source": [
    "y_pred_train = gscv_linear_regression.predict(X_train)\n",
    "regression_report = regression_report.append(get_metrics(y_train, y_pred_train, 'linear_regression_on_train'))"
   ]
  },
  {
   "cell_type": "code",
   "execution_count": 30,
   "metadata": {},
   "outputs": [],
   "source": [
    "y_pred_val = gscv_linear_regression.predict(X_val)\n",
    "regression_report = regression_report.append(get_metrics(y_val, y_pred_val, 'linear_regression_on_val'))"
   ]
  },
  {
   "cell_type": "markdown",
   "metadata": {},
   "source": [
    "**2) régression ridge**"
   ]
  },
  {
   "cell_type": "code",
   "execution_count": 31,
   "metadata": {},
   "outputs": [
    {
     "data": {
      "text/plain": [
       "GridSearchCV(cv=KFold(n_splits=5, random_state=99, shuffle=True),\n",
       "             estimator=Ridge(),\n",
       "             param_grid={'alpha': array([1.00000000e-02, 1.26185688e-02, 1.59228279e-02, 2.00923300e-02,\n",
       "       2.53536449e-02, 3.19926714e-02, 4.03701726e-02, 5.09413801e-02,\n",
       "       6.42807312e-02, 8.11130831e-02, 1.02353102e-01, 1.29154967e-01,\n",
       "       1.62975083e-01, 2.05651231e-01, 2.59502421e-01, 3.27454916e-01,\n",
       "       4....\n",
       "       4.75081016e+05, 5.99484250e+05, 7.56463328e+05, 9.54548457e+05,\n",
       "       1.20450354e+06, 1.51991108e+06, 1.91791026e+06, 2.42012826e+06,\n",
       "       3.05385551e+06, 3.85352859e+06, 4.86260158e+06, 6.13590727e+06,\n",
       "       7.74263683e+06, 9.77009957e+06, 1.23284674e+07, 1.55567614e+07,\n",
       "       1.96304065e+07, 2.47707636e+07, 3.12571585e+07, 3.94420606e+07,\n",
       "       4.97702356e+07, 6.28029144e+07, 7.92482898e+07, 1.00000000e+08])},\n",
       "             scoring='neg_root_mean_squared_error')"
      ]
     },
     "execution_count": 31,
     "metadata": {},
     "output_type": "execute_result"
    }
   ],
   "source": [
    "from sklearn.linear_model import Ridge\n",
    "from sklearn.model_selection import GridSearchCV\n",
    "\n",
    "ridge_regression = Ridge()\n",
    "\n",
    "n_alphas = 100\n",
    "alpha = np.logspace(-2, 8, n_alphas)\n",
    "\n",
    "hyperparameters = dict(alpha=alpha)\n",
    "\n",
    "gscv_ridge_regression = GridSearchCV(ridge_regression, hyperparameters, cv=KFold(5,shuffle=True, random_state=random_state), scoring=scoring)\n",
    "\n",
    "gscv_ridge_regression.fit(X_train,y_train)"
   ]
  },
  {
   "cell_type": "code",
   "execution_count": 32,
   "metadata": {},
   "outputs": [
    {
     "name": "stdout",
     "output_type": "stream",
     "text": [
      "coefficients:  [ 5.92272360e+04 -2.46702344e+05  4.68152037e+05 -4.74473022e+05\n",
      " -3.73965891e+06 -2.70835307e+06 -3.60915990e+06  1.41808221e+07\n",
      "  3.79378684e+06  4.28242907e+06  5.92272360e+04 -5.56424926e+06\n",
      " -6.00490010e+06 -6.71241880e+06  6.28298294e+07 -4.63077851e+05\n",
      " -5.85446968e+06 -6.76697754e+06 -5.70498300e+06  1.58094533e+06\n",
      " -6.41331708e+06 -5.92631587e+06 -6.62894032e+06 -1.88156358e+06\n",
      "  2.37849185e+07 -3.91444512e+06 -5.11465211e+06 -4.36276561e+06\n",
      " -4.32601256e+06 -2.48857430e+05 -3.17175030e+06 -4.49663185e+06\n",
      "  3.58137221e+06  3.35414308e+06 -6.68748044e+06 -4.88740006e+06\n",
      " -7.82272286e+05  3.40748020e+05  1.49419400e+05  1.64184179e+05\n",
      "  1.41782103e+06  2.49637487e+05  6.29222092e+04  1.00138307e+05\n",
      " -6.03396363e+05  7.63616276e+05 -1.09004393e+06 -9.67006750e+05\n",
      "  1.94232422e+05]\n",
      "alpha:  4.229242874389499\n",
      "score moyen sur cv:  -11231461.158312073\n"
     ]
    }
   ],
   "source": [
    "print('coefficients: ', gscv_ridge_regression.best_estimator_.coef_.flatten())\n",
    "print('alpha: ', gscv_ridge_regression.best_estimator_.get_params()['alpha'])\n",
    "print('score moyen sur cv: ', gscv_ridge_regression.best_score_)\n",
    "\n",
    "y_pred_val = gscv_ridge_regression.predict(X_val)\n",
    "regression_report = regression_report.append(get_metrics(y_val, y_pred_val, 'gscv_ridge_regression_on_val'))"
   ]
  },
  {
   "cell_type": "code",
   "execution_count": 33,
   "metadata": {},
   "outputs": [],
   "source": [
    "y_pred_train = gscv_ridge_regression.predict(X_train)\n",
    "regression_report = regression_report.append(get_metrics(y_train, y_pred_train, 'gscv_ridge_regression_on_train'))"
   ]
  },
  {
   "cell_type": "markdown",
   "metadata": {},
   "source": [
    "**3) régression lasso**"
   ]
  },
  {
   "cell_type": "code",
   "execution_count": 34,
   "metadata": {},
   "outputs": [
    {
     "name": "stderr",
     "output_type": "stream",
     "text": [
      "C:\\Users\\adrie\\anaconda3\\lib\\site-packages\\sklearn\\linear_model\\_coordinate_descent.py:529: ConvergenceWarning: Objective did not converge. You might want to increase the number of iterations. Duality gap: 1.5386703161529056e+16, tolerance: 100193543651837.31\n",
      "  model = cd_fast.enet_coordinate_descent(\n",
      "C:\\Users\\adrie\\anaconda3\\lib\\site-packages\\sklearn\\linear_model\\_coordinate_descent.py:529: ConvergenceWarning: Objective did not converge. You might want to increase the number of iterations. Duality gap: 1.036982018940672e+16, tolerance: 62604275744005.766\n",
      "  model = cd_fast.enet_coordinate_descent(\n",
      "C:\\Users\\adrie\\anaconda3\\lib\\site-packages\\sklearn\\linear_model\\_coordinate_descent.py:529: ConvergenceWarning: Objective did not converge. You might want to increase the number of iterations. Duality gap: 1.2570765808006912e+16, tolerance: 79529678805547.22\n",
      "  model = cd_fast.enet_coordinate_descent(\n",
      "C:\\Users\\adrie\\anaconda3\\lib\\site-packages\\sklearn\\linear_model\\_coordinate_descent.py:529: ConvergenceWarning: Objective did not converge. You might want to increase the number of iterations. Duality gap: 1.1519727040018976e+16, tolerance: 84811843270307.72\n",
      "  model = cd_fast.enet_coordinate_descent(\n",
      "C:\\Users\\adrie\\anaconda3\\lib\\site-packages\\sklearn\\linear_model\\_coordinate_descent.py:529: ConvergenceWarning: Objective did not converge. You might want to increase the number of iterations. Duality gap: 1.3080664298838432e+16, tolerance: 88939676027118.1\n",
      "  model = cd_fast.enet_coordinate_descent(\n",
      "C:\\Users\\adrie\\anaconda3\\lib\\site-packages\\sklearn\\linear_model\\_coordinate_descent.py:529: ConvergenceWarning: Objective did not converge. You might want to increase the number of iterations. Duality gap: 1.5386702636409696e+16, tolerance: 100193543651837.31\n",
      "  model = cd_fast.enet_coordinate_descent(\n",
      "C:\\Users\\adrie\\anaconda3\\lib\\site-packages\\sklearn\\linear_model\\_coordinate_descent.py:529: ConvergenceWarning: Objective did not converge. You might want to increase the number of iterations. Duality gap: 1.0369820389144912e+16, tolerance: 62604275744005.766\n",
      "  model = cd_fast.enet_coordinate_descent(\n",
      "C:\\Users\\adrie\\anaconda3\\lib\\site-packages\\sklearn\\linear_model\\_coordinate_descent.py:529: ConvergenceWarning: Objective did not converge. You might want to increase the number of iterations. Duality gap: 1.25707662639264e+16, tolerance: 79529678805547.22\n",
      "  model = cd_fast.enet_coordinate_descent(\n",
      "C:\\Users\\adrie\\anaconda3\\lib\\site-packages\\sklearn\\linear_model\\_coordinate_descent.py:529: ConvergenceWarning: Objective did not converge. You might want to increase the number of iterations. Duality gap: 1.1519726486086848e+16, tolerance: 84811843270307.72\n",
      "  model = cd_fast.enet_coordinate_descent(\n",
      "C:\\Users\\adrie\\anaconda3\\lib\\site-packages\\sklearn\\linear_model\\_coordinate_descent.py:529: ConvergenceWarning: Objective did not converge. You might want to increase the number of iterations. Duality gap: 1.3080662526770752e+16, tolerance: 88939676027118.1\n",
      "  model = cd_fast.enet_coordinate_descent(\n",
      "C:\\Users\\adrie\\anaconda3\\lib\\site-packages\\sklearn\\linear_model\\_coordinate_descent.py:529: ConvergenceWarning: Objective did not converge. You might want to increase the number of iterations. Duality gap: 1.53867061717456e+16, tolerance: 100193543651837.31\n",
      "  model = cd_fast.enet_coordinate_descent(\n",
      "C:\\Users\\adrie\\anaconda3\\lib\\site-packages\\sklearn\\linear_model\\_coordinate_descent.py:529: ConvergenceWarning: Objective did not converge. You might want to increase the number of iterations. Duality gap: 1.0369820037724e+16, tolerance: 62604275744005.766\n",
      "  model = cd_fast.enet_coordinate_descent(\n",
      "C:\\Users\\adrie\\anaconda3\\lib\\site-packages\\sklearn\\linear_model\\_coordinate_descent.py:529: ConvergenceWarning: Objective did not converge. You might want to increase the number of iterations. Duality gap: 1.2570767143659552e+16, tolerance: 79529678805547.22\n",
      "  model = cd_fast.enet_coordinate_descent(\n",
      "C:\\Users\\adrie\\anaconda3\\lib\\site-packages\\sklearn\\linear_model\\_coordinate_descent.py:529: ConvergenceWarning: Objective did not converge. You might want to increase the number of iterations. Duality gap: 1.1519723707641888e+16, tolerance: 84811843270307.72\n",
      "  model = cd_fast.enet_coordinate_descent(\n",
      "C:\\Users\\adrie\\anaconda3\\lib\\site-packages\\sklearn\\linear_model\\_coordinate_descent.py:529: ConvergenceWarning: Objective did not converge. You might want to increase the number of iterations. Duality gap: 1.308066433895808e+16, tolerance: 88939676027118.1\n",
      "  model = cd_fast.enet_coordinate_descent(\n",
      "C:\\Users\\adrie\\anaconda3\\lib\\site-packages\\sklearn\\linear_model\\_coordinate_descent.py:529: ConvergenceWarning: Objective did not converge. You might want to increase the number of iterations. Duality gap: 1.5386709715573344e+16, tolerance: 100193543651837.31\n",
      "  model = cd_fast.enet_coordinate_descent(\n",
      "C:\\Users\\adrie\\anaconda3\\lib\\site-packages\\sklearn\\linear_model\\_coordinate_descent.py:529: ConvergenceWarning: Objective did not converge. You might want to increase the number of iterations. Duality gap: 1.0369820655151536e+16, tolerance: 62604275744005.766\n",
      "  model = cd_fast.enet_coordinate_descent(\n",
      "C:\\Users\\adrie\\anaconda3\\lib\\site-packages\\sklearn\\linear_model\\_coordinate_descent.py:529: ConvergenceWarning: Objective did not converge. You might want to increase the number of iterations. Duality gap: 1.2570768265789792e+16, tolerance: 79529678805547.22\n",
      "  model = cd_fast.enet_coordinate_descent(\n",
      "C:\\Users\\adrie\\anaconda3\\lib\\site-packages\\sklearn\\linear_model\\_coordinate_descent.py:529: ConvergenceWarning: Objective did not converge. You might want to increase the number of iterations. Duality gap: 1.1519725826346464e+16, tolerance: 84811843270307.72\n",
      "  model = cd_fast.enet_coordinate_descent(\n",
      "C:\\Users\\adrie\\anaconda3\\lib\\site-packages\\sklearn\\linear_model\\_coordinate_descent.py:529: ConvergenceWarning: Objective did not converge. You might want to increase the number of iterations. Duality gap: 1.3080667417765408e+16, tolerance: 88939676027118.1\n",
      "  model = cd_fast.enet_coordinate_descent(\n",
      "C:\\Users\\adrie\\anaconda3\\lib\\site-packages\\sklearn\\linear_model\\_coordinate_descent.py:529: ConvergenceWarning: Objective did not converge. You might want to increase the number of iterations. Duality gap: 1.538670998467712e+16, tolerance: 100193543651837.31\n",
      "  model = cd_fast.enet_coordinate_descent(\n",
      "C:\\Users\\adrie\\anaconda3\\lib\\site-packages\\sklearn\\linear_model\\_coordinate_descent.py:529: ConvergenceWarning: Objective did not converge. You might want to increase the number of iterations. Duality gap: 1.0369821340712192e+16, tolerance: 62604275744005.766\n",
      "  model = cd_fast.enet_coordinate_descent(\n",
      "C:\\Users\\adrie\\anaconda3\\lib\\site-packages\\sklearn\\linear_model\\_coordinate_descent.py:529: ConvergenceWarning: Objective did not converge. You might want to increase the number of iterations. Duality gap: 1.2570769710586464e+16, tolerance: 79529678805547.22\n",
      "  model = cd_fast.enet_coordinate_descent(\n",
      "C:\\Users\\adrie\\anaconda3\\lib\\site-packages\\sklearn\\linear_model\\_coordinate_descent.py:529: ConvergenceWarning: Objective did not converge. You might want to increase the number of iterations. Duality gap: 1.1519727290573536e+16, tolerance: 84811843270307.72\n",
      "  model = cd_fast.enet_coordinate_descent(\n",
      "C:\\Users\\adrie\\anaconda3\\lib\\site-packages\\sklearn\\linear_model\\_coordinate_descent.py:529: ConvergenceWarning: Objective did not converge. You might want to increase the number of iterations. Duality gap: 1.3080665918695232e+16, tolerance: 88939676027118.1\n",
      "  model = cd_fast.enet_coordinate_descent(\n",
      "C:\\Users\\adrie\\anaconda3\\lib\\site-packages\\sklearn\\linear_model\\_coordinate_descent.py:529: ConvergenceWarning: Objective did not converge. You might want to increase the number of iterations. Duality gap: 1.5386711038258784e+16, tolerance: 100193543651837.31\n",
      "  model = cd_fast.enet_coordinate_descent(\n",
      "C:\\Users\\adrie\\anaconda3\\lib\\site-packages\\sklearn\\linear_model\\_coordinate_descent.py:529: ConvergenceWarning: Objective did not converge. You might want to increase the number of iterations. Duality gap: 1.0369823985582256e+16, tolerance: 62604275744005.766\n",
      "  model = cd_fast.enet_coordinate_descent(\n",
      "C:\\Users\\adrie\\anaconda3\\lib\\site-packages\\sklearn\\linear_model\\_coordinate_descent.py:529: ConvergenceWarning: Objective did not converge. You might want to increase the number of iterations. Duality gap: 1.2570771450853568e+16, tolerance: 79529678805547.22\n",
      "  model = cd_fast.enet_coordinate_descent(\n"
     ]
    },
    {
     "name": "stderr",
     "output_type": "stream",
     "text": [
      "C:\\Users\\adrie\\anaconda3\\lib\\site-packages\\sklearn\\linear_model\\_coordinate_descent.py:529: ConvergenceWarning: Objective did not converge. You might want to increase the number of iterations. Duality gap: 1.1519729982768512e+16, tolerance: 84811843270307.72\n",
      "  model = cd_fast.enet_coordinate_descent(\n",
      "C:\\Users\\adrie\\anaconda3\\lib\\site-packages\\sklearn\\linear_model\\_coordinate_descent.py:529: ConvergenceWarning: Objective did not converge. You might want to increase the number of iterations. Duality gap: 1.3080669845131744e+16, tolerance: 88939676027118.1\n",
      "  model = cd_fast.enet_coordinate_descent(\n",
      "C:\\Users\\adrie\\anaconda3\\lib\\site-packages\\sklearn\\linear_model\\_coordinate_descent.py:529: ConvergenceWarning: Objective did not converge. You might want to increase the number of iterations. Duality gap: 1.53867127808784e+16, tolerance: 100193543651837.31\n",
      "  model = cd_fast.enet_coordinate_descent(\n",
      "C:\\Users\\adrie\\anaconda3\\lib\\site-packages\\sklearn\\linear_model\\_coordinate_descent.py:529: ConvergenceWarning: Objective did not converge. You might want to increase the number of iterations. Duality gap: 1.0369825480376368e+16, tolerance: 62604275744005.766\n",
      "  model = cd_fast.enet_coordinate_descent(\n",
      "C:\\Users\\adrie\\anaconda3\\lib\\site-packages\\sklearn\\linear_model\\_coordinate_descent.py:529: ConvergenceWarning: Objective did not converge. You might want to increase the number of iterations. Duality gap: 1.257077362154816e+16, tolerance: 79529678805547.22\n",
      "  model = cd_fast.enet_coordinate_descent(\n",
      "C:\\Users\\adrie\\anaconda3\\lib\\site-packages\\sklearn\\linear_model\\_coordinate_descent.py:529: ConvergenceWarning: Objective did not converge. You might want to increase the number of iterations. Duality gap: 1.1519731002354592e+16, tolerance: 84811843270307.72\n",
      "  model = cd_fast.enet_coordinate_descent(\n",
      "C:\\Users\\adrie\\anaconda3\\lib\\site-packages\\sklearn\\linear_model\\_coordinate_descent.py:529: ConvergenceWarning: Objective did not converge. You might want to increase the number of iterations. Duality gap: 1.3080670596366464e+16, tolerance: 88939676027118.1\n",
      "  model = cd_fast.enet_coordinate_descent(\n",
      "C:\\Users\\adrie\\anaconda3\\lib\\site-packages\\sklearn\\linear_model\\_coordinate_descent.py:529: ConvergenceWarning: Objective did not converge. You might want to increase the number of iterations. Duality gap: 1.5386717685351776e+16, tolerance: 100193543651837.31\n",
      "  model = cd_fast.enet_coordinate_descent(\n",
      "C:\\Users\\adrie\\anaconda3\\lib\\site-packages\\sklearn\\linear_model\\_coordinate_descent.py:529: ConvergenceWarning: Objective did not converge. You might want to increase the number of iterations. Duality gap: 1.0369828045885216e+16, tolerance: 62604275744005.766\n",
      "  model = cd_fast.enet_coordinate_descent(\n",
      "C:\\Users\\adrie\\anaconda3\\lib\\site-packages\\sklearn\\linear_model\\_coordinate_descent.py:529: ConvergenceWarning: Objective did not converge. You might want to increase the number of iterations. Duality gap: 1.2570776380482112e+16, tolerance: 79529678805547.22\n",
      "  model = cd_fast.enet_coordinate_descent(\n",
      "C:\\Users\\adrie\\anaconda3\\lib\\site-packages\\sklearn\\linear_model\\_coordinate_descent.py:529: ConvergenceWarning: Objective did not converge. You might want to increase the number of iterations. Duality gap: 1.1519733306098368e+16, tolerance: 84811843270307.72\n",
      "  model = cd_fast.enet_coordinate_descent(\n",
      "C:\\Users\\adrie\\anaconda3\\lib\\site-packages\\sklearn\\linear_model\\_coordinate_descent.py:529: ConvergenceWarning: Objective did not converge. You might want to increase the number of iterations. Duality gap: 1.3080675059468896e+16, tolerance: 88939676027118.1\n",
      "  model = cd_fast.enet_coordinate_descent(\n",
      "C:\\Users\\adrie\\anaconda3\\lib\\site-packages\\sklearn\\linear_model\\_coordinate_descent.py:529: ConvergenceWarning: Objective did not converge. You might want to increase the number of iterations. Duality gap: 1.5386720374434016e+16, tolerance: 100193543651837.31\n",
      "  model = cd_fast.enet_coordinate_descent(\n",
      "C:\\Users\\adrie\\anaconda3\\lib\\site-packages\\sklearn\\linear_model\\_coordinate_descent.py:529: ConvergenceWarning: Objective did not converge. You might want to increase the number of iterations. Duality gap: 1.036983135343704e+16, tolerance: 62604275744005.766\n",
      "  model = cd_fast.enet_coordinate_descent(\n",
      "C:\\Users\\adrie\\anaconda3\\lib\\site-packages\\sklearn\\linear_model\\_coordinate_descent.py:529: ConvergenceWarning: Objective did not converge. You might want to increase the number of iterations. Duality gap: 1.257077988114416e+16, tolerance: 79529678805547.22\n",
      "  model = cd_fast.enet_coordinate_descent(\n",
      "C:\\Users\\adrie\\anaconda3\\lib\\site-packages\\sklearn\\linear_model\\_coordinate_descent.py:529: ConvergenceWarning: Objective did not converge. You might want to increase the number of iterations. Duality gap: 1.151973708326176e+16, tolerance: 84811843270307.72\n",
      "  model = cd_fast.enet_coordinate_descent(\n",
      "C:\\Users\\adrie\\anaconda3\\lib\\site-packages\\sklearn\\linear_model\\_coordinate_descent.py:529: ConvergenceWarning: Objective did not converge. You might want to increase the number of iterations. Duality gap: 1.308067827345456e+16, tolerance: 88939676027118.1\n",
      "  model = cd_fast.enet_coordinate_descent(\n",
      "C:\\Users\\adrie\\anaconda3\\lib\\site-packages\\sklearn\\linear_model\\_coordinate_descent.py:529: ConvergenceWarning: Objective did not converge. You might want to increase the number of iterations. Duality gap: 1.5386725473458368e+16, tolerance: 100193543651837.31\n",
      "  model = cd_fast.enet_coordinate_descent(\n",
      "C:\\Users\\adrie\\anaconda3\\lib\\site-packages\\sklearn\\linear_model\\_coordinate_descent.py:529: ConvergenceWarning: Objective did not converge. You might want to increase the number of iterations. Duality gap: 1.0369835667249376e+16, tolerance: 62604275744005.766\n",
      "  model = cd_fast.enet_coordinate_descent(\n",
      "C:\\Users\\adrie\\anaconda3\\lib\\site-packages\\sklearn\\linear_model\\_coordinate_descent.py:529: ConvergenceWarning: Objective did not converge. You might want to increase the number of iterations. Duality gap: 1.2570784275398624e+16, tolerance: 79529678805547.22\n",
      "  model = cd_fast.enet_coordinate_descent(\n",
      "C:\\Users\\adrie\\anaconda3\\lib\\site-packages\\sklearn\\linear_model\\_coordinate_descent.py:529: ConvergenceWarning: Objective did not converge. You might want to increase the number of iterations. Duality gap: 1.1519741757062624e+16, tolerance: 84811843270307.72\n",
      "  model = cd_fast.enet_coordinate_descent(\n",
      "C:\\Users\\adrie\\anaconda3\\lib\\site-packages\\sklearn\\linear_model\\_coordinate_descent.py:529: ConvergenceWarning: Objective did not converge. You might want to increase the number of iterations. Duality gap: 1.3080682042462528e+16, tolerance: 88939676027118.1\n",
      "  model = cd_fast.enet_coordinate_descent(\n",
      "C:\\Users\\adrie\\anaconda3\\lib\\site-packages\\sklearn\\linear_model\\_coordinate_descent.py:529: ConvergenceWarning: Objective did not converge. You might want to increase the number of iterations. Duality gap: 1.538673181586688e+16, tolerance: 100193543651837.31\n",
      "  model = cd_fast.enet_coordinate_descent(\n",
      "C:\\Users\\adrie\\anaconda3\\lib\\site-packages\\sklearn\\linear_model\\_coordinate_descent.py:529: ConvergenceWarning: Objective did not converge. You might want to increase the number of iterations. Duality gap: 1.0369840637579264e+16, tolerance: 62604275744005.766\n",
      "  model = cd_fast.enet_coordinate_descent(\n",
      "C:\\Users\\adrie\\anaconda3\\lib\\site-packages\\sklearn\\linear_model\\_coordinate_descent.py:529: ConvergenceWarning: Objective did not converge. You might want to increase the number of iterations. Duality gap: 1.257078985852432e+16, tolerance: 79529678805547.22\n",
      "  model = cd_fast.enet_coordinate_descent(\n",
      "C:\\Users\\adrie\\anaconda3\\lib\\site-packages\\sklearn\\linear_model\\_coordinate_descent.py:529: ConvergenceWarning: Objective did not converge. You might want to increase the number of iterations. Duality gap: 1.1519746955123648e+16, tolerance: 84811843270307.72\n",
      "  model = cd_fast.enet_coordinate_descent(\n",
      "C:\\Users\\adrie\\anaconda3\\lib\\site-packages\\sklearn\\linear_model\\_coordinate_descent.py:529: ConvergenceWarning: Objective did not converge. You might want to increase the number of iterations. Duality gap: 1.3080688807054528e+16, tolerance: 88939676027118.1\n",
      "  model = cd_fast.enet_coordinate_descent(\n",
      "C:\\Users\\adrie\\anaconda3\\lib\\site-packages\\sklearn\\linear_model\\_coordinate_descent.py:529: ConvergenceWarning: Objective did not converge. You might want to increase the number of iterations. Duality gap: 1.5386739302622976e+16, tolerance: 100193543651837.31\n",
      "  model = cd_fast.enet_coordinate_descent(\n"
     ]
    },
    {
     "name": "stderr",
     "output_type": "stream",
     "text": [
      "C:\\Users\\adrie\\anaconda3\\lib\\site-packages\\sklearn\\linear_model\\_coordinate_descent.py:529: ConvergenceWarning: Objective did not converge. You might want to increase the number of iterations. Duality gap: 1.0369846982675072e+16, tolerance: 62604275744005.766\n",
      "  model = cd_fast.enet_coordinate_descent(\n",
      "C:\\Users\\adrie\\anaconda3\\lib\\site-packages\\sklearn\\linear_model\\_coordinate_descent.py:529: ConvergenceWarning: Objective did not converge. You might want to increase the number of iterations. Duality gap: 1.2570796878822656e+16, tolerance: 79529678805547.22\n",
      "  model = cd_fast.enet_coordinate_descent(\n",
      "C:\\Users\\adrie\\anaconda3\\lib\\site-packages\\sklearn\\linear_model\\_coordinate_descent.py:529: ConvergenceWarning: Objective did not converge. You might want to increase the number of iterations. Duality gap: 1.1519753600275712e+16, tolerance: 84811843270307.72\n",
      "  model = cd_fast.enet_coordinate_descent(\n",
      "C:\\Users\\adrie\\anaconda3\\lib\\site-packages\\sklearn\\linear_model\\_coordinate_descent.py:529: ConvergenceWarning: Objective did not converge. You might want to increase the number of iterations. Duality gap: 1.3080696682572896e+16, tolerance: 88939676027118.1\n",
      "  model = cd_fast.enet_coordinate_descent(\n",
      "C:\\Users\\adrie\\anaconda3\\lib\\site-packages\\sklearn\\linear_model\\_coordinate_descent.py:529: ConvergenceWarning: Objective did not converge. You might want to increase the number of iterations. Duality gap: 1.5386749712073664e+16, tolerance: 100193543651837.31\n",
      "  model = cd_fast.enet_coordinate_descent(\n",
      "C:\\Users\\adrie\\anaconda3\\lib\\site-packages\\sklearn\\linear_model\\_coordinate_descent.py:529: ConvergenceWarning: Objective did not converge. You might want to increase the number of iterations. Duality gap: 1.0369855225372496e+16, tolerance: 62604275744005.766\n",
      "  model = cd_fast.enet_coordinate_descent(\n",
      "C:\\Users\\adrie\\anaconda3\\lib\\site-packages\\sklearn\\linear_model\\_coordinate_descent.py:529: ConvergenceWarning: Objective did not converge. You might want to increase the number of iterations. Duality gap: 1.2570805722116256e+16, tolerance: 79529678805547.22\n",
      "  model = cd_fast.enet_coordinate_descent(\n",
      "C:\\Users\\adrie\\anaconda3\\lib\\site-packages\\sklearn\\linear_model\\_coordinate_descent.py:529: ConvergenceWarning: Objective did not converge. You might want to increase the number of iterations. Duality gap: 1.1519761639390336e+16, tolerance: 84811843270307.72\n",
      "  model = cd_fast.enet_coordinate_descent(\n",
      "C:\\Users\\adrie\\anaconda3\\lib\\site-packages\\sklearn\\linear_model\\_coordinate_descent.py:529: ConvergenceWarning: Objective did not converge. You might want to increase the number of iterations. Duality gap: 1.3080706361146976e+16, tolerance: 88939676027118.1\n",
      "  model = cd_fast.enet_coordinate_descent(\n",
      "C:\\Users\\adrie\\anaconda3\\lib\\site-packages\\sklearn\\linear_model\\_coordinate_descent.py:529: ConvergenceWarning: Objective did not converge. You might want to increase the number of iterations. Duality gap: 1.5386761933754048e+16, tolerance: 100193543651837.31\n",
      "  model = cd_fast.enet_coordinate_descent(\n",
      "C:\\Users\\adrie\\anaconda3\\lib\\site-packages\\sklearn\\linear_model\\_coordinate_descent.py:529: ConvergenceWarning: Objective did not converge. You might want to increase the number of iterations. Duality gap: 1.036986552413056e+16, tolerance: 62604275744005.766\n",
      "  model = cd_fast.enet_coordinate_descent(\n",
      "C:\\Users\\adrie\\anaconda3\\lib\\site-packages\\sklearn\\linear_model\\_coordinate_descent.py:529: ConvergenceWarning: Objective did not converge. You might want to increase the number of iterations. Duality gap: 5864934879754176.0, tolerance: 79529678805547.22\n",
      "  model = cd_fast.enet_coordinate_descent(\n",
      "C:\\Users\\adrie\\anaconda3\\lib\\site-packages\\sklearn\\linear_model\\_coordinate_descent.py:529: ConvergenceWarning: Objective did not converge. You might want to increase the number of iterations. Duality gap: 1.1519772547219904e+16, tolerance: 84811843270307.72\n",
      "  model = cd_fast.enet_coordinate_descent(\n",
      "C:\\Users\\adrie\\anaconda3\\lib\\site-packages\\sklearn\\linear_model\\_coordinate_descent.py:529: ConvergenceWarning: Objective did not converge. You might want to increase the number of iterations. Duality gap: 1.3080718342328064e+16, tolerance: 88939676027118.1\n",
      "  model = cd_fast.enet_coordinate_descent(\n",
      "C:\\Users\\adrie\\anaconda3\\lib\\site-packages\\sklearn\\linear_model\\_coordinate_descent.py:529: ConvergenceWarning: Objective did not converge. You might want to increase the number of iterations. Duality gap: 1.5386777883219136e+16, tolerance: 100193543651837.31\n",
      "  model = cd_fast.enet_coordinate_descent(\n",
      "C:\\Users\\adrie\\anaconda3\\lib\\site-packages\\sklearn\\linear_model\\_coordinate_descent.py:529: ConvergenceWarning: Objective did not converge. You might want to increase the number of iterations. Duality gap: 1.0369878547401328e+16, tolerance: 62604275744005.766\n",
      "  model = cd_fast.enet_coordinate_descent(\n",
      "C:\\Users\\adrie\\anaconda3\\lib\\site-packages\\sklearn\\linear_model\\_coordinate_descent.py:529: ConvergenceWarning: Objective did not converge. You might want to increase the number of iterations. Duality gap: 5864945687607008.0, tolerance: 79529678805547.22\n",
      "  model = cd_fast.enet_coordinate_descent(\n",
      "C:\\Users\\adrie\\anaconda3\\lib\\site-packages\\sklearn\\linear_model\\_coordinate_descent.py:529: ConvergenceWarning: Objective did not converge. You might want to increase the number of iterations. Duality gap: 1.1519785840124064e+16, tolerance: 84811843270307.72\n",
      "  model = cd_fast.enet_coordinate_descent(\n",
      "C:\\Users\\adrie\\anaconda3\\lib\\site-packages\\sklearn\\linear_model\\_coordinate_descent.py:529: ConvergenceWarning: Objective did not converge. You might want to increase the number of iterations. Duality gap: 1.3080733813368416e+16, tolerance: 88939676027118.1\n",
      "  model = cd_fast.enet_coordinate_descent(\n",
      "C:\\Users\\adrie\\anaconda3\\lib\\site-packages\\sklearn\\linear_model\\_coordinate_descent.py:529: ConvergenceWarning: Objective did not converge. You might want to increase the number of iterations. Duality gap: 1.5386797917516192e+16, tolerance: 100193543651837.31\n",
      "  model = cd_fast.enet_coordinate_descent(\n",
      "C:\\Users\\adrie\\anaconda3\\lib\\site-packages\\sklearn\\linear_model\\_coordinate_descent.py:529: ConvergenceWarning: Objective did not converge. You might want to increase the number of iterations. Duality gap: 1.0369894781834304e+16, tolerance: 62604275744005.766\n",
      "  model = cd_fast.enet_coordinate_descent(\n",
      "C:\\Users\\adrie\\anaconda3\\lib\\site-packages\\sklearn\\linear_model\\_coordinate_descent.py:529: ConvergenceWarning: Objective did not converge. You might want to increase the number of iterations. Duality gap: 5864959302644992.0, tolerance: 79529678805547.22\n",
      "  model = cd_fast.enet_coordinate_descent(\n",
      "C:\\Users\\adrie\\anaconda3\\lib\\site-packages\\sklearn\\linear_model\\_coordinate_descent.py:529: ConvergenceWarning: Objective did not converge. You might want to increase the number of iterations. Duality gap: 1.1519802657417408e+16, tolerance: 84811843270307.72\n",
      "  model = cd_fast.enet_coordinate_descent(\n",
      "C:\\Users\\adrie\\anaconda3\\lib\\site-packages\\sklearn\\linear_model\\_coordinate_descent.py:529: ConvergenceWarning: Objective did not converge. You might want to increase the number of iterations. Duality gap: 1.3080753327666656e+16, tolerance: 88939676027118.1\n",
      "  model = cd_fast.enet_coordinate_descent(\n",
      "C:\\Users\\adrie\\anaconda3\\lib\\site-packages\\sklearn\\linear_model\\_coordinate_descent.py:529: ConvergenceWarning: Objective did not converge. You might want to increase the number of iterations. Duality gap: 1.5386822902679136e+16, tolerance: 100193543651837.31\n",
      "  model = cd_fast.enet_coordinate_descent(\n",
      "C:\\Users\\adrie\\anaconda3\\lib\\site-packages\\sklearn\\linear_model\\_coordinate_descent.py:529: ConvergenceWarning: Objective did not converge. You might want to increase the number of iterations. Duality gap: 1.0369915421301168e+16, tolerance: 62604275744005.766\n",
      "  model = cd_fast.enet_coordinate_descent(\n",
      "C:\\Users\\adrie\\anaconda3\\lib\\site-packages\\sklearn\\linear_model\\_coordinate_descent.py:529: ConvergenceWarning: Objective did not converge. You might want to increase the number of iterations. Duality gap: 5864976463830048.0, tolerance: 79529678805547.22\n",
      "  model = cd_fast.enet_coordinate_descent(\n",
      "C:\\Users\\adrie\\anaconda3\\lib\\site-packages\\sklearn\\linear_model\\_coordinate_descent.py:529: ConvergenceWarning: Objective did not converge. You might want to increase the number of iterations. Duality gap: 1.1519824120416128e+16, tolerance: 84811843270307.72\n",
      "  model = cd_fast.enet_coordinate_descent(\n"
     ]
    },
    {
     "name": "stderr",
     "output_type": "stream",
     "text": [
      "C:\\Users\\adrie\\anaconda3\\lib\\site-packages\\sklearn\\linear_model\\_coordinate_descent.py:529: ConvergenceWarning: Objective did not converge. You might want to increase the number of iterations. Duality gap: 1.3080777926891616e+16, tolerance: 88939676027118.1\n",
      "  model = cd_fast.enet_coordinate_descent(\n",
      "C:\\Users\\adrie\\anaconda3\\lib\\site-packages\\sklearn\\linear_model\\_coordinate_descent.py:529: ConvergenceWarning: Objective did not converge. You might want to increase the number of iterations. Duality gap: 1.5386854648858976e+16, tolerance: 100193543651837.31\n",
      "  model = cd_fast.enet_coordinate_descent(\n",
      "C:\\Users\\adrie\\anaconda3\\lib\\site-packages\\sklearn\\linear_model\\_coordinate_descent.py:529: ConvergenceWarning: Objective did not converge. You might want to increase the number of iterations. Duality gap: 1.0369941426067104e+16, tolerance: 62604275744005.766\n",
      "  model = cd_fast.enet_coordinate_descent(\n",
      "C:\\Users\\adrie\\anaconda3\\lib\\site-packages\\sklearn\\linear_model\\_coordinate_descent.py:529: ConvergenceWarning: Objective did not converge. You might want to increase the number of iterations. Duality gap: 5864998078765856.0, tolerance: 79529678805547.22\n",
      "  model = cd_fast.enet_coordinate_descent(\n",
      "C:\\Users\\adrie\\anaconda3\\lib\\site-packages\\sklearn\\linear_model\\_coordinate_descent.py:529: ConvergenceWarning: Objective did not converge. You might want to increase the number of iterations. Duality gap: 1.151985111049072e+16, tolerance: 84811843270307.72\n",
      "  model = cd_fast.enet_coordinate_descent(\n",
      "C:\\Users\\adrie\\anaconda3\\lib\\site-packages\\sklearn\\linear_model\\_coordinate_descent.py:529: ConvergenceWarning: Objective did not converge. You might want to increase the number of iterations. Duality gap: 1.3080809027761344e+16, tolerance: 88939676027118.1\n",
      "  model = cd_fast.enet_coordinate_descent(\n",
      "C:\\Users\\adrie\\anaconda3\\lib\\site-packages\\sklearn\\linear_model\\_coordinate_descent.py:529: ConvergenceWarning: Objective did not converge. You might want to increase the number of iterations. Duality gap: 1.538689456379792e+16, tolerance: 100193543651837.31\n",
      "  model = cd_fast.enet_coordinate_descent(\n",
      "C:\\Users\\adrie\\anaconda3\\lib\\site-packages\\sklearn\\linear_model\\_coordinate_descent.py:529: ConvergenceWarning: Objective did not converge. You might want to increase the number of iterations. Duality gap: 1.0369974218140352e+16, tolerance: 62604275744005.766\n",
      "  model = cd_fast.enet_coordinate_descent(\n",
      "C:\\Users\\adrie\\anaconda3\\lib\\site-packages\\sklearn\\linear_model\\_coordinate_descent.py:529: ConvergenceWarning: Objective did not converge. You might want to increase the number of iterations. Duality gap: 5865025280964384.0, tolerance: 79529678805547.22\n",
      "  model = cd_fast.enet_coordinate_descent(\n",
      "C:\\Users\\adrie\\anaconda3\\lib\\site-packages\\sklearn\\linear_model\\_coordinate_descent.py:529: ConvergenceWarning: Objective did not converge. You might want to increase the number of iterations. Duality gap: 1.1519884889363616e+16, tolerance: 84811843270307.72\n",
      "  model = cd_fast.enet_coordinate_descent(\n",
      "C:\\Users\\adrie\\anaconda3\\lib\\site-packages\\sklearn\\linear_model\\_coordinate_descent.py:529: ConvergenceWarning: Objective did not converge. You might want to increase the number of iterations. Duality gap: 1.3080847867408992e+16, tolerance: 88939676027118.1\n",
      "  model = cd_fast.enet_coordinate_descent(\n",
      "C:\\Users\\adrie\\anaconda3\\lib\\site-packages\\sklearn\\linear_model\\_coordinate_descent.py:529: ConvergenceWarning: Objective did not converge. You might want to increase the number of iterations. Duality gap: 1.5386944875983808e+16, tolerance: 100193543651837.31\n",
      "  model = cd_fast.enet_coordinate_descent(\n",
      "C:\\Users\\adrie\\anaconda3\\lib\\site-packages\\sklearn\\linear_model\\_coordinate_descent.py:529: ConvergenceWarning: Objective did not converge. You might want to increase the number of iterations. Duality gap: 1.0370015514656832e+16, tolerance: 62604275744005.766\n",
      "  model = cd_fast.enet_coordinate_descent(\n",
      "C:\\Users\\adrie\\anaconda3\\lib\\site-packages\\sklearn\\linear_model\\_coordinate_descent.py:529: ConvergenceWarning: Objective did not converge. You might want to increase the number of iterations. Duality gap: 4823403532873632.0, tolerance: 79529678805547.22\n",
      "  model = cd_fast.enet_coordinate_descent(\n",
      "C:\\Users\\adrie\\anaconda3\\lib\\site-packages\\sklearn\\linear_model\\_coordinate_descent.py:529: ConvergenceWarning: Objective did not converge. You might want to increase the number of iterations. Duality gap: 1.1519927712575584e+16, tolerance: 84811843270307.72\n",
      "  model = cd_fast.enet_coordinate_descent(\n",
      "C:\\Users\\adrie\\anaconda3\\lib\\site-packages\\sklearn\\linear_model\\_coordinate_descent.py:529: ConvergenceWarning: Objective did not converge. You might want to increase the number of iterations. Duality gap: 1.3080897036882368e+16, tolerance: 88939676027118.1\n",
      "  model = cd_fast.enet_coordinate_descent(\n",
      "C:\\Users\\adrie\\anaconda3\\lib\\site-packages\\sklearn\\linear_model\\_coordinate_descent.py:529: ConvergenceWarning: Objective did not converge. You might want to increase the number of iterations. Duality gap: 1.5387008182099904e+16, tolerance: 100193543651837.31\n",
      "  model = cd_fast.enet_coordinate_descent(\n",
      "C:\\Users\\adrie\\anaconda3\\lib\\site-packages\\sklearn\\linear_model\\_coordinate_descent.py:529: ConvergenceWarning: Objective did not converge. You might want to increase the number of iterations. Duality gap: 1.0370067552137568e+16, tolerance: 62604275744005.766\n",
      "  model = cd_fast.enet_coordinate_descent(\n",
      "C:\\Users\\adrie\\anaconda3\\lib\\site-packages\\sklearn\\linear_model\\_coordinate_descent.py:529: ConvergenceWarning: Objective did not converge. You might want to increase the number of iterations. Duality gap: 4823443875210080.0, tolerance: 79529678805547.22\n",
      "  model = cd_fast.enet_coordinate_descent(\n",
      "C:\\Users\\adrie\\anaconda3\\lib\\site-packages\\sklearn\\linear_model\\_coordinate_descent.py:529: ConvergenceWarning: Objective did not converge. You might want to increase the number of iterations. Duality gap: 1.1519981523958688e+16, tolerance: 84811843270307.72\n",
      "  model = cd_fast.enet_coordinate_descent(\n",
      "C:\\Users\\adrie\\anaconda3\\lib\\site-packages\\sklearn\\linear_model\\_coordinate_descent.py:529: ConvergenceWarning: Objective did not converge. You might want to increase the number of iterations. Duality gap: 1.3080958835407456e+16, tolerance: 88939676027118.1\n",
      "  model = cd_fast.enet_coordinate_descent(\n",
      "C:\\Users\\adrie\\anaconda3\\lib\\site-packages\\sklearn\\linear_model\\_coordinate_descent.py:529: ConvergenceWarning: Objective did not converge. You might want to increase the number of iterations. Duality gap: 1.5387087943313824e+16, tolerance: 100193543651837.31\n",
      "  model = cd_fast.enet_coordinate_descent(\n",
      "C:\\Users\\adrie\\anaconda3\\lib\\site-packages\\sklearn\\linear_model\\_coordinate_descent.py:529: ConvergenceWarning: Objective did not converge. You might want to increase the number of iterations. Duality gap: 1.0370133109720016e+16, tolerance: 62604275744005.766\n",
      "  model = cd_fast.enet_coordinate_descent(\n",
      "C:\\Users\\adrie\\anaconda3\\lib\\site-packages\\sklearn\\linear_model\\_coordinate_descent.py:529: ConvergenceWarning: Objective did not converge. You might want to increase the number of iterations. Duality gap: 4823493996777056.0, tolerance: 79529678805547.22\n",
      "  model = cd_fast.enet_coordinate_descent(\n",
      "C:\\Users\\adrie\\anaconda3\\lib\\site-packages\\sklearn\\linear_model\\_coordinate_descent.py:529: ConvergenceWarning: Objective did not converge. You might want to increase the number of iterations. Duality gap: 1.1520049326216192e+16, tolerance: 84811843270307.72\n",
      "  model = cd_fast.enet_coordinate_descent(\n",
      "C:\\Users\\adrie\\anaconda3\\lib\\site-packages\\sklearn\\linear_model\\_coordinate_descent.py:529: ConvergenceWarning: Objective did not converge. You might want to increase the number of iterations. Duality gap: 1.308103650081872e+16, tolerance: 88939676027118.1\n",
      "  model = cd_fast.enet_coordinate_descent(\n",
      "C:\\Users\\adrie\\anaconda3\\lib\\site-packages\\sklearn\\linear_model\\_coordinate_descent.py:529: ConvergenceWarning: Objective did not converge. You might want to increase the number of iterations. Duality gap: 1.5387188259001056e+16, tolerance: 100193543651837.31\n",
      "  model = cd_fast.enet_coordinate_descent(\n",
      "C:\\Users\\adrie\\anaconda3\\lib\\site-packages\\sklearn\\linear_model\\_coordinate_descent.py:529: ConvergenceWarning: Objective did not converge. You might want to increase the number of iterations. Duality gap: 1.037021428581456e+16, tolerance: 62604275744005.766\n",
      "  model = cd_fast.enet_coordinate_descent(\n"
     ]
    },
    {
     "name": "stderr",
     "output_type": "stream",
     "text": [
      "C:\\Users\\adrie\\anaconda3\\lib\\site-packages\\sklearn\\linear_model\\_coordinate_descent.py:529: ConvergenceWarning: Objective did not converge. You might want to increase the number of iterations. Duality gap: 4823557545574816.0, tolerance: 79529678805547.22\n",
      "  model = cd_fast.enet_coordinate_descent(\n",
      "C:\\Users\\adrie\\anaconda3\\lib\\site-packages\\sklearn\\linear_model\\_coordinate_descent.py:529: ConvergenceWarning: Objective did not converge. You might want to increase the number of iterations. Duality gap: 1.1520136270386304e+16, tolerance: 84811843270307.72\n",
      "  model = cd_fast.enet_coordinate_descent(\n",
      "C:\\Users\\adrie\\anaconda3\\lib\\site-packages\\sklearn\\linear_model\\_coordinate_descent.py:529: ConvergenceWarning: Objective did not converge. You might want to increase the number of iterations. Duality gap: 1.3081134115442016e+16, tolerance: 88939676027118.1\n",
      "  model = cd_fast.enet_coordinate_descent(\n",
      "C:\\Users\\adrie\\anaconda3\\lib\\site-packages\\sklearn\\linear_model\\_coordinate_descent.py:529: ConvergenceWarning: Objective did not converge. You might want to increase the number of iterations. Duality gap: 1.5387314244908864e+16, tolerance: 100193543651837.31\n",
      "  model = cd_fast.enet_coordinate_descent(\n",
      "C:\\Users\\adrie\\anaconda3\\lib\\site-packages\\sklearn\\linear_model\\_coordinate_descent.py:529: ConvergenceWarning: Objective did not converge. You might want to increase the number of iterations. Duality gap: 1.037031832172032e+16, tolerance: 62604275744005.766\n",
      "  model = cd_fast.enet_coordinate_descent(\n",
      "C:\\Users\\adrie\\anaconda3\\lib\\site-packages\\sklearn\\linear_model\\_coordinate_descent.py:529: ConvergenceWarning: Objective did not converge. You might want to increase the number of iterations. Duality gap: 4823637246437696.0, tolerance: 79529678805547.22\n",
      "  model = cd_fast.enet_coordinate_descent(\n",
      "C:\\Users\\adrie\\anaconda3\\lib\\site-packages\\sklearn\\linear_model\\_coordinate_descent.py:529: ConvergenceWarning: Objective did not converge. You might want to increase the number of iterations. Duality gap: 1.1520244138322784e+16, tolerance: 84811843270307.72\n",
      "  model = cd_fast.enet_coordinate_descent(\n",
      "C:\\Users\\adrie\\anaconda3\\lib\\site-packages\\sklearn\\linear_model\\_coordinate_descent.py:529: ConvergenceWarning: Objective did not converge. You might want to increase the number of iterations. Duality gap: 1.3081262849699552e+16, tolerance: 88939676027118.1\n",
      "  model = cd_fast.enet_coordinate_descent(\n",
      "C:\\Users\\adrie\\anaconda3\\lib\\site-packages\\sklearn\\linear_model\\_coordinate_descent.py:529: ConvergenceWarning: Objective did not converge. You might want to increase the number of iterations. Duality gap: 1.538746976699904e+16, tolerance: 100193543651837.31\n",
      "  model = cd_fast.enet_coordinate_descent(\n",
      "C:\\Users\\adrie\\anaconda3\\lib\\site-packages\\sklearn\\linear_model\\_coordinate_descent.py:529: ConvergenceWarning: Objective did not converge. You might want to increase the number of iterations. Duality gap: 1.0370449473139152e+16, tolerance: 62604275744005.766\n",
      "  model = cd_fast.enet_coordinate_descent(\n",
      "C:\\Users\\adrie\\anaconda3\\lib\\site-packages\\sklearn\\linear_model\\_coordinate_descent.py:529: ConvergenceWarning: Objective did not converge. You might want to increase the number of iterations. Duality gap: 4823737053393440.0, tolerance: 79529678805547.22\n",
      "  model = cd_fast.enet_coordinate_descent(\n",
      "C:\\Users\\adrie\\anaconda3\\lib\\site-packages\\sklearn\\linear_model\\_coordinate_descent.py:529: ConvergenceWarning: Objective did not converge. You might want to increase the number of iterations. Duality gap: 1.15203798202432e+16, tolerance: 84811843270307.72\n",
      "  model = cd_fast.enet_coordinate_descent(\n",
      "C:\\Users\\adrie\\anaconda3\\lib\\site-packages\\sklearn\\linear_model\\_coordinate_descent.py:529: ConvergenceWarning: Objective did not converge. You might want to increase the number of iterations. Duality gap: 1.308141948864624e+16, tolerance: 88939676027118.1\n",
      "  model = cd_fast.enet_coordinate_descent(\n",
      "C:\\Users\\adrie\\anaconda3\\lib\\site-packages\\sklearn\\linear_model\\_coordinate_descent.py:529: ConvergenceWarning: Objective did not converge. You might want to increase the number of iterations. Duality gap: 1.5387668825500864e+16, tolerance: 100193543651837.31\n",
      "  model = cd_fast.enet_coordinate_descent(\n",
      "C:\\Users\\adrie\\anaconda3\\lib\\site-packages\\sklearn\\linear_model\\_coordinate_descent.py:529: ConvergenceWarning: Objective did not converge. You might want to increase the number of iterations. Duality gap: 1.0370614716767376e+16, tolerance: 62604275744005.766\n",
      "  model = cd_fast.enet_coordinate_descent(\n",
      "C:\\Users\\adrie\\anaconda3\\lib\\site-packages\\sklearn\\linear_model\\_coordinate_descent.py:529: ConvergenceWarning: Objective did not converge. You might want to increase the number of iterations. Duality gap: 4823861763470048.0, tolerance: 79529678805547.22\n",
      "  model = cd_fast.enet_coordinate_descent(\n",
      "C:\\Users\\adrie\\anaconda3\\lib\\site-packages\\sklearn\\linear_model\\_coordinate_descent.py:529: ConvergenceWarning: Objective did not converge. You might want to increase the number of iterations. Duality gap: 1.1520550248802752e+16, tolerance: 84811843270307.72\n",
      "  model = cd_fast.enet_coordinate_descent(\n",
      "C:\\Users\\adrie\\anaconda3\\lib\\site-packages\\sklearn\\linear_model\\_coordinate_descent.py:529: ConvergenceWarning: Objective did not converge. You might want to increase the number of iterations. Duality gap: 1.3081624611968096e+16, tolerance: 88939676027118.1\n",
      "  model = cd_fast.enet_coordinate_descent(\n",
      "C:\\Users\\adrie\\anaconda3\\lib\\site-packages\\sklearn\\linear_model\\_coordinate_descent.py:529: ConvergenceWarning: Objective did not converge. You might want to increase the number of iterations. Duality gap: 1.5387929898557024e+16, tolerance: 100193543651837.31\n",
      "  model = cd_fast.enet_coordinate_descent(\n",
      "C:\\Users\\adrie\\anaconda3\\lib\\site-packages\\sklearn\\linear_model\\_coordinate_descent.py:529: ConvergenceWarning: Objective did not converge. You might want to increase the number of iterations. Duality gap: 1.0370822852364464e+16, tolerance: 62604275744005.766\n",
      "  model = cd_fast.enet_coordinate_descent(\n",
      "C:\\Users\\adrie\\anaconda3\\lib\\site-packages\\sklearn\\linear_model\\_coordinate_descent.py:529: ConvergenceWarning: Objective did not converge. You might want to increase the number of iterations. Duality gap: 1470012693723552.0, tolerance: 79529678805547.22\n",
      "  model = cd_fast.enet_coordinate_descent(\n",
      "C:\\Users\\adrie\\anaconda3\\lib\\site-packages\\sklearn\\linear_model\\_coordinate_descent.py:529: ConvergenceWarning: Objective did not converge. You might want to increase the number of iterations. Duality gap: 1.1520764068786976e+16, tolerance: 84811843270307.72\n",
      "  model = cd_fast.enet_coordinate_descent(\n",
      "C:\\Users\\adrie\\anaconda3\\lib\\site-packages\\sklearn\\linear_model\\_coordinate_descent.py:529: ConvergenceWarning: Objective did not converge. You might want to increase the number of iterations. Duality gap: 1.308187633506688e+16, tolerance: 88939676027118.1\n",
      "  model = cd_fast.enet_coordinate_descent(\n",
      "C:\\Users\\adrie\\anaconda3\\lib\\site-packages\\sklearn\\linear_model\\_coordinate_descent.py:529: ConvergenceWarning: Objective did not converge. You might want to increase the number of iterations. Duality gap: 1.5388249770699008e+16, tolerance: 100193543651837.31\n",
      "  model = cd_fast.enet_coordinate_descent(\n",
      "C:\\Users\\adrie\\anaconda3\\lib\\site-packages\\sklearn\\linear_model\\_coordinate_descent.py:529: ConvergenceWarning: Objective did not converge. You might want to increase the number of iterations. Duality gap: 1.03711126234836e+16, tolerance: 62604275744005.766\n",
      "  model = cd_fast.enet_coordinate_descent(\n",
      "C:\\Users\\adrie\\anaconda3\\lib\\site-packages\\sklearn\\linear_model\\_coordinate_descent.py:529: ConvergenceWarning: Objective did not converge. You might want to increase the number of iterations. Duality gap: 1470156759855776.0, tolerance: 79529678805547.22\n",
      "  model = cd_fast.enet_coordinate_descent(\n",
      "C:\\Users\\adrie\\anaconda3\\lib\\site-packages\\sklearn\\linear_model\\_coordinate_descent.py:529: ConvergenceWarning: Objective did not converge. You might want to increase the number of iterations. Duality gap: 1.1595636523018656e+16, tolerance: 84811843270307.72\n",
      "  model = cd_fast.enet_coordinate_descent(\n",
      "C:\\Users\\adrie\\anaconda3\\lib\\site-packages\\sklearn\\linear_model\\_coordinate_descent.py:529: ConvergenceWarning: Objective did not converge. You might want to increase the number of iterations. Duality gap: 1.308220223854704e+16, tolerance: 88939676027118.1\n",
      "  model = cd_fast.enet_coordinate_descent(\n"
     ]
    },
    {
     "name": "stderr",
     "output_type": "stream",
     "text": [
      "C:\\Users\\adrie\\anaconda3\\lib\\site-packages\\sklearn\\linear_model\\_coordinate_descent.py:529: ConvergenceWarning: Objective did not converge. You might want to increase the number of iterations. Duality gap: 1.5388652381217248e+16, tolerance: 100193543651837.31\n",
      "  model = cd_fast.enet_coordinate_descent(\n",
      "C:\\Users\\adrie\\anaconda3\\lib\\site-packages\\sklearn\\linear_model\\_coordinate_descent.py:529: ConvergenceWarning: Objective did not converge. You might want to increase the number of iterations. Duality gap: 1.03714169459976e+16, tolerance: 62604275744005.766\n",
      "  model = cd_fast.enet_coordinate_descent(\n",
      "C:\\Users\\adrie\\anaconda3\\lib\\site-packages\\sklearn\\linear_model\\_coordinate_descent.py:529: ConvergenceWarning: Objective did not converge. You might want to increase the number of iterations. Duality gap: 1470336737575360.0, tolerance: 79529678805547.22\n",
      "  model = cd_fast.enet_coordinate_descent(\n",
      "C:\\Users\\adrie\\anaconda3\\lib\\site-packages\\sklearn\\linear_model\\_coordinate_descent.py:529: ConvergenceWarning: Objective did not converge. You might want to increase the number of iterations. Duality gap: 1.1521395448412832e+16, tolerance: 84811843270307.72\n",
      "  model = cd_fast.enet_coordinate_descent(\n",
      "C:\\Users\\adrie\\anaconda3\\lib\\site-packages\\sklearn\\linear_model\\_coordinate_descent.py:529: ConvergenceWarning: Objective did not converge. You might want to increase the number of iterations. Duality gap: 1.3082604147179168e+16, tolerance: 88939676027118.1\n",
      "  model = cd_fast.enet_coordinate_descent(\n",
      "C:\\Users\\adrie\\anaconda3\\lib\\site-packages\\sklearn\\linear_model\\_coordinate_descent.py:529: ConvergenceWarning: Objective did not converge. You might want to increase the number of iterations. Duality gap: 1.5389158809742944e+16, tolerance: 100193543651837.31\n",
      "  model = cd_fast.enet_coordinate_descent(\n",
      "C:\\Users\\adrie\\anaconda3\\lib\\site-packages\\sklearn\\linear_model\\_coordinate_descent.py:529: ConvergenceWarning: Objective did not converge. You might want to increase the number of iterations. Duality gap: 1.0371832510988752e+16, tolerance: 62604275744005.766\n",
      "  model = cd_fast.enet_coordinate_descent(\n",
      "C:\\Users\\adrie\\anaconda3\\lib\\site-packages\\sklearn\\linear_model\\_coordinate_descent.py:529: ConvergenceWarning: Objective did not converge. You might want to increase the number of iterations. Duality gap: 1470560954820544.0, tolerance: 79529678805547.22\n",
      "  model = cd_fast.enet_coordinate_descent(\n",
      "C:\\Users\\adrie\\anaconda3\\lib\\site-packages\\sklearn\\linear_model\\_coordinate_descent.py:529: ConvergenceWarning: Objective did not converge. You might want to increase the number of iterations. Duality gap: 1.1521829467201024e+16, tolerance: 84811843270307.72\n",
      "  model = cd_fast.enet_coordinate_descent(\n",
      "C:\\Users\\adrie\\anaconda3\\lib\\site-packages\\sklearn\\linear_model\\_coordinate_descent.py:529: ConvergenceWarning: Objective did not converge. You might want to increase the number of iterations. Duality gap: 1.3083110252599232e+16, tolerance: 88939676027118.1\n",
      "  model = cd_fast.enet_coordinate_descent(\n",
      "C:\\Users\\adrie\\anaconda3\\lib\\site-packages\\sklearn\\linear_model\\_coordinate_descent.py:529: ConvergenceWarning: Objective did not converge. You might want to increase the number of iterations. Duality gap: 1.5389795261093664e+16, tolerance: 100193543651837.31\n",
      "  model = cd_fast.enet_coordinate_descent(\n",
      "C:\\Users\\adrie\\anaconda3\\lib\\site-packages\\sklearn\\linear_model\\_coordinate_descent.py:529: ConvergenceWarning: Objective did not converge. You might want to increase the number of iterations. Duality gap: 1.0372357390439584e+16, tolerance: 62604275744005.766\n",
      "  model = cd_fast.enet_coordinate_descent(\n",
      "C:\\Users\\adrie\\anaconda3\\lib\\site-packages\\sklearn\\linear_model\\_coordinate_descent.py:529: ConvergenceWarning: Objective did not converge. You might want to increase the number of iterations. Duality gap: 1.152237451838832e+16, tolerance: 84811843270307.72\n",
      "  model = cd_fast.enet_coordinate_descent(\n",
      "C:\\Users\\adrie\\anaconda3\\lib\\site-packages\\sklearn\\linear_model\\_coordinate_descent.py:529: ConvergenceWarning: Objective did not converge. You might want to increase the number of iterations. Duality gap: 1.3083747011297408e+16, tolerance: 88939676027118.1\n",
      "  model = cd_fast.enet_coordinate_descent(\n",
      "C:\\Users\\adrie\\anaconda3\\lib\\site-packages\\sklearn\\linear_model\\_coordinate_descent.py:529: ConvergenceWarning: Objective did not converge. You might want to increase the number of iterations. Duality gap: 1.5390594255771616e+16, tolerance: 100193543651837.31\n",
      "  model = cd_fast.enet_coordinate_descent(\n",
      "C:\\Users\\adrie\\anaconda3\\lib\\site-packages\\sklearn\\linear_model\\_coordinate_descent.py:529: ConvergenceWarning: Objective did not converge. You might want to increase the number of iterations. Duality gap: 1.0373017846272288e+16, tolerance: 62604275744005.766\n",
      "  model = cd_fast.enet_coordinate_descent(\n",
      "C:\\Users\\adrie\\anaconda3\\lib\\site-packages\\sklearn\\linear_model\\_coordinate_descent.py:529: ConvergenceWarning: Objective did not converge. You might want to increase the number of iterations. Duality gap: 1.1523058131385632e+16, tolerance: 84811843270307.72\n",
      "  model = cd_fast.enet_coordinate_descent(\n",
      "C:\\Users\\adrie\\anaconda3\\lib\\site-packages\\sklearn\\linear_model\\_coordinate_descent.py:529: ConvergenceWarning: Objective did not converge. You might want to increase the number of iterations. Duality gap: 1.3084547510986464e+16, tolerance: 88939676027118.1\n",
      "  model = cd_fast.enet_coordinate_descent(\n",
      "C:\\Users\\adrie\\anaconda3\\lib\\site-packages\\sklearn\\linear_model\\_coordinate_descent.py:529: ConvergenceWarning: Objective did not converge. You might want to increase the number of iterations. Duality gap: 1.5391595916266176e+16, tolerance: 100193543651837.31\n",
      "  model = cd_fast.enet_coordinate_descent(\n",
      "C:\\Users\\adrie\\anaconda3\\lib\\site-packages\\sklearn\\linear_model\\_coordinate_descent.py:529: ConvergenceWarning: Objective did not converge. You might want to increase the number of iterations. Duality gap: 1.0373848270323152e+16, tolerance: 62604275744005.766\n",
      "  model = cd_fast.enet_coordinate_descent(\n",
      "C:\\Users\\adrie\\anaconda3\\lib\\site-packages\\sklearn\\linear_model\\_coordinate_descent.py:529: ConvergenceWarning: Objective did not converge. You might want to increase the number of iterations. Duality gap: 1.1523953893178912e+16, tolerance: 84811843270307.72\n",
      "  model = cd_fast.enet_coordinate_descent(\n",
      "C:\\Users\\adrie\\anaconda3\\lib\\site-packages\\sklearn\\linear_model\\_coordinate_descent.py:529: ConvergenceWarning: Objective did not converge. You might want to increase the number of iterations. Duality gap: 1.3085552846591616e+16, tolerance: 88939676027118.1\n",
      "  model = cd_fast.enet_coordinate_descent(\n",
      "C:\\Users\\adrie\\anaconda3\\lib\\site-packages\\sklearn\\linear_model\\_coordinate_descent.py:529: ConvergenceWarning: Objective did not converge. You might want to increase the number of iterations. Duality gap: 1.5392849434496192e+16, tolerance: 100193543651837.31\n",
      "  model = cd_fast.enet_coordinate_descent(\n",
      "C:\\Users\\adrie\\anaconda3\\lib\\site-packages\\sklearn\\linear_model\\_coordinate_descent.py:529: ConvergenceWarning: Objective did not converge. You might want to increase the number of iterations. Duality gap: 1.0374891401512816e+16, tolerance: 62604275744005.766\n",
      "  model = cd_fast.enet_coordinate_descent(\n",
      "C:\\Users\\adrie\\anaconda3\\lib\\site-packages\\sklearn\\linear_model\\_coordinate_descent.py:529: ConvergenceWarning: Objective did not converge. You might want to increase the number of iterations. Duality gap: 1.1525041122897984e+16, tolerance: 84811843270307.72\n",
      "  model = cd_fast.enet_coordinate_descent(\n",
      "C:\\Users\\adrie\\anaconda3\\lib\\site-packages\\sklearn\\linear_model\\_coordinate_descent.py:529: ConvergenceWarning: Objective did not converge. You might want to increase the number of iterations. Duality gap: 1.3086813828793792e+16, tolerance: 88939676027118.1\n",
      "  model = cd_fast.enet_coordinate_descent(\n",
      "C:\\Users\\adrie\\anaconda3\\lib\\site-packages\\sklearn\\linear_model\\_coordinate_descent.py:529: ConvergenceWarning: Objective did not converge. You might want to increase the number of iterations. Duality gap: 1.5690394138039488e+16, tolerance: 100193543651837.31\n",
      "  model = cd_fast.enet_coordinate_descent(\n",
      "C:\\Users\\adrie\\anaconda3\\lib\\site-packages\\sklearn\\linear_model\\_coordinate_descent.py:529: ConvergenceWarning: Objective did not converge. You might want to increase the number of iterations. Duality gap: 1.0376200130887824e+16, tolerance: 62604275744005.766\n",
      "  model = cd_fast.enet_coordinate_descent(\n"
     ]
    },
    {
     "name": "stderr",
     "output_type": "stream",
     "text": [
      "C:\\Users\\adrie\\anaconda3\\lib\\site-packages\\sklearn\\linear_model\\_coordinate_descent.py:529: ConvergenceWarning: Objective did not converge. You might want to increase the number of iterations. Duality gap: 1.1526400523454976e+16, tolerance: 84811843270307.72\n",
      "  model = cd_fast.enet_coordinate_descent(\n",
      "C:\\Users\\adrie\\anaconda3\\lib\\site-packages\\sklearn\\linear_model\\_coordinate_descent.py:529: ConvergenceWarning: Objective did not converge. You might want to increase the number of iterations. Duality gap: 1.3088392900677984e+16, tolerance: 88939676027118.1\n",
      "  model = cd_fast.enet_coordinate_descent(\n",
      "C:\\Users\\adrie\\anaconda3\\lib\\site-packages\\sklearn\\linear_model\\_coordinate_descent.py:529: ConvergenceWarning: Objective did not converge. You might want to increase the number of iterations. Duality gap: 1.5396466108396864e+16, tolerance: 100193543651837.31\n",
      "  model = cd_fast.enet_coordinate_descent(\n",
      "C:\\Users\\adrie\\anaconda3\\lib\\site-packages\\sklearn\\linear_model\\_coordinate_descent.py:529: ConvergenceWarning: Objective did not converge. You might want to increase the number of iterations. Duality gap: 1.0377839535458816e+16, tolerance: 62604275744005.766\n",
      "  model = cd_fast.enet_coordinate_descent(\n",
      "C:\\Users\\adrie\\anaconda3\\lib\\site-packages\\sklearn\\linear_model\\_coordinate_descent.py:529: ConvergenceWarning: Objective did not converge. You might want to increase the number of iterations. Duality gap: 1.152809594759504e+16, tolerance: 84811843270307.72\n",
      "  model = cd_fast.enet_coordinate_descent(\n",
      "C:\\Users\\adrie\\anaconda3\\lib\\site-packages\\sklearn\\linear_model\\_coordinate_descent.py:529: ConvergenceWarning: Objective did not converge. You might want to increase the number of iterations. Duality gap: 1.30903661809448e+16, tolerance: 88939676027118.1\n",
      "  model = cd_fast.enet_coordinate_descent(\n",
      "C:\\Users\\adrie\\anaconda3\\lib\\site-packages\\sklearn\\linear_model\\_coordinate_descent.py:529: ConvergenceWarning: Objective did not converge. You might want to increase the number of iterations. Duality gap: 1.5398933437000928e+16, tolerance: 100193543651837.31\n",
      "  model = cd_fast.enet_coordinate_descent(\n",
      "C:\\Users\\adrie\\anaconda3\\lib\\site-packages\\sklearn\\linear_model\\_coordinate_descent.py:529: ConvergenceWarning: Objective did not converge. You might want to increase the number of iterations. Duality gap: 1.0379889081614368e+16, tolerance: 62604275744005.766\n",
      "  model = cd_fast.enet_coordinate_descent(\n",
      "C:\\Users\\adrie\\anaconda3\\lib\\site-packages\\sklearn\\linear_model\\_coordinate_descent.py:529: ConvergenceWarning: Objective did not converge. You might want to increase the number of iterations. Duality gap: 1.1530203572919264e+16, tolerance: 84811843270307.72\n",
      "  model = cd_fast.enet_coordinate_descent(\n",
      "C:\\Users\\adrie\\anaconda3\\lib\\site-packages\\sklearn\\linear_model\\_coordinate_descent.py:529: ConvergenceWarning: Objective did not converge. You might want to increase the number of iterations. Duality gap: 1.3090990583917216e+16, tolerance: 88939676027118.1\n",
      "  model = cd_fast.enet_coordinate_descent(\n",
      "C:\\Users\\adrie\\anaconda3\\lib\\site-packages\\sklearn\\linear_model\\_coordinate_descent.py:529: ConvergenceWarning: Objective did not converge. You might want to increase the number of iterations. Duality gap: 1.5402002118659616e+16, tolerance: 100193543651837.31\n",
      "  model = cd_fast.enet_coordinate_descent(\n",
      "C:\\Users\\adrie\\anaconda3\\lib\\site-packages\\sklearn\\linear_model\\_coordinate_descent.py:529: ConvergenceWarning: Objective did not converge. You might want to increase the number of iterations. Duality gap: 1.0382444827565408e+16, tolerance: 62604275744005.766\n",
      "  model = cd_fast.enet_coordinate_descent(\n",
      "C:\\Users\\adrie\\anaconda3\\lib\\site-packages\\sklearn\\linear_model\\_coordinate_descent.py:529: ConvergenceWarning: Objective did not converge. You might want to increase the number of iterations. Duality gap: 1.0385621266954944e+16, tolerance: 62604275744005.766\n",
      "  model = cd_fast.enet_coordinate_descent(\n",
      "C:\\Users\\adrie\\anaconda3\\lib\\site-packages\\sklearn\\linear_model\\_coordinate_descent.py:529: ConvergenceWarning: Objective did not converge. You might want to increase the number of iterations. Duality gap: 2525460116320288.0, tolerance: 62604275744005.766\n",
      "  model = cd_fast.enet_coordinate_descent(\n",
      "C:\\Users\\adrie\\anaconda3\\lib\\site-packages\\sklearn\\linear_model\\_coordinate_descent.py:529: ConvergenceWarning: Objective did not converge. You might want to increase the number of iterations. Duality gap: 2527925139273984.0, tolerance: 62604275744005.766\n",
      "  model = cd_fast.enet_coordinate_descent(\n",
      "C:\\Users\\adrie\\anaconda3\\lib\\site-packages\\sklearn\\linear_model\\_coordinate_descent.py:529: ConvergenceWarning: Objective did not converge. You might want to increase the number of iterations. Duality gap: 2531023848825728.0, tolerance: 62604275744005.766\n",
      "  model = cd_fast.enet_coordinate_descent(\n",
      "C:\\Users\\adrie\\anaconda3\\lib\\site-packages\\sklearn\\linear_model\\_coordinate_descent.py:529: ConvergenceWarning: Objective did not converge. You might want to increase the number of iterations. Duality gap: 2534915160110016.0, tolerance: 62604275744005.766\n",
      "  model = cd_fast.enet_coordinate_descent(\n",
      "C:\\Users\\adrie\\anaconda3\\lib\\site-packages\\sklearn\\linear_model\\_coordinate_descent.py:529: ConvergenceWarning: Objective did not converge. You might want to increase the number of iterations. Duality gap: 2539795476335040.0, tolerance: 62604275744005.766\n",
      "  model = cd_fast.enet_coordinate_descent(\n",
      "C:\\Users\\adrie\\anaconda3\\lib\\site-packages\\sklearn\\linear_model\\_coordinate_descent.py:529: ConvergenceWarning: Objective did not converge. You might want to increase the number of iterations. Duality gap: 2545907194823104.0, tolerance: 62604275744005.766\n",
      "  model = cd_fast.enet_coordinate_descent(\n",
      "C:\\Users\\adrie\\anaconda3\\lib\\site-packages\\sklearn\\linear_model\\_coordinate_descent.py:529: ConvergenceWarning: Objective did not converge. You might want to increase the number of iterations. Duality gap: 2553546577360672.0, tolerance: 62604275744005.766\n",
      "  model = cd_fast.enet_coordinate_descent(\n",
      "C:\\Users\\adrie\\anaconda3\\lib\\site-packages\\sklearn\\linear_model\\_coordinate_descent.py:529: ConvergenceWarning: Objective did not converge. You might want to increase the number of iterations. Duality gap: 2563071316874784.0, tolerance: 62604275744005.766\n",
      "  model = cd_fast.enet_coordinate_descent(\n"
     ]
    },
    {
     "data": {
      "text/plain": [
       "GridSearchCV(cv=KFold(n_splits=5, random_state=99, shuffle=True),\n",
       "             estimator=Lasso(),\n",
       "             param_grid={'alpha': array([1.00000000e-02, 1.26185688e-02, 1.59228279e-02, 2.00923300e-02,\n",
       "       2.53536449e-02, 3.19926714e-02, 4.03701726e-02, 5.09413801e-02,\n",
       "       6.42807312e-02, 8.11130831e-02, 1.02353102e-01, 1.29154967e-01,\n",
       "       1.62975083e-01, 2.05651231e-01, 2.59502421e-01, 3.27454916e-01,\n",
       "       4....\n",
       "       1.20450354e+06, 1.51991108e+06, 1.91791026e+06, 2.42012826e+06,\n",
       "       3.05385551e+06, 3.85352859e+06, 4.86260158e+06, 6.13590727e+06,\n",
       "       7.74263683e+06, 9.77009957e+06, 1.23284674e+07, 1.55567614e+07,\n",
       "       1.96304065e+07, 2.47707636e+07, 3.12571585e+07, 3.94420606e+07,\n",
       "       4.97702356e+07, 6.28029144e+07, 7.92482898e+07, 1.00000000e+08]),\n",
       "                         'max_iter': [10000]},\n",
       "             scoring='neg_root_mean_squared_error')"
      ]
     },
     "execution_count": 34,
     "metadata": {},
     "output_type": "execute_result"
    }
   ],
   "source": [
    "from sklearn.linear_model import Lasso\n",
    "from sklearn.model_selection import GridSearchCV\n",
    "\n",
    "lasso_regression = Lasso()\n",
    "\n",
    "n_alphas = 100\n",
    "alpha = np.logspace(-2, 8, n_alphas)\n",
    "max_iter = [10000]\n",
    "\n",
    "hyperparameters = dict(alpha=alpha, max_iter=max_iter)\n",
    "\n",
    "gscv_lasso_regression = GridSearchCV(lasso_regression, hyperparameters, cv=KFold(5,shuffle=True, random_state=random_state), scoring=scoring)\n",
    "\n",
    "gscv_lasso_regression.fit(X_train,y_train)"
   ]
  },
  {
   "cell_type": "code",
   "execution_count": 35,
   "metadata": {},
   "outputs": [
    {
     "name": "stdout",
     "output_type": "stream",
     "text": [
      "coefficients:  [ 0.00000000e+00 -3.16099310e+05  3.47131491e+05 -3.97170363e+05\n",
      " -6.74092148e+06 -1.62143613e+06 -0.00000000e+00  1.28398309e+07\n",
      "  3.54220912e+06  4.20237422e+06  0.00000000e+00 -0.00000000e+00\n",
      " -0.00000000e+00 -5.50819963e+04  7.74355219e+07  3.11330375e+06\n",
      " -0.00000000e+00 -5.45505646e+05 -5.46553203e+05  3.56371646e+06\n",
      " -9.29111319e+05 -0.00000000e+00 -2.12911495e+05  0.00000000e+00\n",
      "  2.43094358e+07 -0.00000000e+00 -0.00000000e+00 -0.00000000e+00\n",
      "  0.00000000e+00  0.00000000e+00  0.00000000e+00  5.65684859e+04\n",
      "  2.35562956e+06  1.97652203e+06 -2.90270854e+05 -0.00000000e+00\n",
      " -0.00000000e+00  0.00000000e+00 -0.00000000e+00  0.00000000e+00\n",
      "  8.77186324e+05 -0.00000000e+00 -0.00000000e+00  0.00000000e+00\n",
      " -0.00000000e+00  2.88358122e+05 -6.78777322e+04 -0.00000000e+00\n",
      " -0.00000000e+00]\n",
      "alpha:  46415.88833612782\n",
      "score moyen sur cv:  -11261429.802614028\n"
     ]
    }
   ],
   "source": [
    "print('coefficients: ', gscv_lasso_regression.best_estimator_.coef_.flatten())\n",
    "print('alpha: ', gscv_lasso_regression.best_estimator_.get_params()['alpha'])\n",
    "print('score moyen sur cv: ', gscv_lasso_regression.best_score_)\n",
    "\n",
    "y_pred_val = gscv_lasso_regression.predict(X_val)\n",
    "regression_report = regression_report.append(get_metrics(y_val, y_pred_val, 'gscv_lasso_regression_on_val'))"
   ]
  },
  {
   "cell_type": "code",
   "execution_count": 36,
   "metadata": {},
   "outputs": [],
   "source": [
    "y_pred_train = gscv_lasso_regression.predict(X_train)\n",
    "regression_report = regression_report.append(get_metrics(y_train, y_pred_train, 'gscv_lasso_regression_on_train'))"
   ]
  },
  {
   "cell_type": "code",
   "execution_count": 37,
   "metadata": {},
   "outputs": [
    {
     "name": "stderr",
     "output_type": "stream",
     "text": [
      "C:\\Users\\adrie\\anaconda3\\lib\\site-packages\\sklearn\\linear_model\\_coordinate_descent.py:529: ConvergenceWarning: Objective did not converge. You might want to increase the number of iterations. Duality gap: 1.2454464722318054e+17, tolerance: 113680447456556.53\n",
      "  model = cd_fast.enet_coordinate_descent(\n",
      "C:\\Users\\adrie\\anaconda3\\lib\\site-packages\\sklearn\\linear_model\\_coordinate_descent.py:529: ConvergenceWarning: Objective did not converge. You might want to increase the number of iterations. Duality gap: 1.2454464856534902e+17, tolerance: 113680447456556.53\n",
      "  model = cd_fast.enet_coordinate_descent(\n",
      "C:\\Users\\adrie\\anaconda3\\lib\\site-packages\\sklearn\\linear_model\\_coordinate_descent.py:529: ConvergenceWarning: Objective did not converge. You might want to increase the number of iterations. Duality gap: 1.2454465010287331e+17, tolerance: 113680447456556.53\n",
      "  model = cd_fast.enet_coordinate_descent(\n",
      "C:\\Users\\adrie\\anaconda3\\lib\\site-packages\\sklearn\\linear_model\\_coordinate_descent.py:529: ConvergenceWarning: Objective did not converge. You might want to increase the number of iterations. Duality gap: 1.24544651984485e+17, tolerance: 113680447456556.53\n",
      "  model = cd_fast.enet_coordinate_descent(\n",
      "C:\\Users\\adrie\\anaconda3\\lib\\site-packages\\sklearn\\linear_model\\_coordinate_descent.py:529: ConvergenceWarning: Objective did not converge. You might want to increase the number of iterations. Duality gap: 1.2454465383577091e+17, tolerance: 113680447456556.53\n",
      "  model = cd_fast.enet_coordinate_descent(\n",
      "C:\\Users\\adrie\\anaconda3\\lib\\site-packages\\sklearn\\linear_model\\_coordinate_descent.py:529: ConvergenceWarning: Objective did not converge. You might want to increase the number of iterations. Duality gap: 1.2454465598508162e+17, tolerance: 113680447456556.53\n",
      "  model = cd_fast.enet_coordinate_descent(\n",
      "C:\\Users\\adrie\\anaconda3\\lib\\site-packages\\sklearn\\linear_model\\_coordinate_descent.py:529: ConvergenceWarning: Objective did not converge. You might want to increase the number of iterations. Duality gap: 1.2454465852018e+17, tolerance: 113680447456556.53\n",
      "  model = cd_fast.enet_coordinate_descent(\n",
      "C:\\Users\\adrie\\anaconda3\\lib\\site-packages\\sklearn\\linear_model\\_coordinate_descent.py:529: ConvergenceWarning: Objective did not converge. You might want to increase the number of iterations. Duality gap: 1.2454466127675408e+17, tolerance: 113680447456556.53\n",
      "  model = cd_fast.enet_coordinate_descent(\n",
      "C:\\Users\\adrie\\anaconda3\\lib\\site-packages\\sklearn\\linear_model\\_coordinate_descent.py:529: ConvergenceWarning: Objective did not converge. You might want to increase the number of iterations. Duality gap: 1.2454466440379437e+17, tolerance: 113680447456556.53\n",
      "  model = cd_fast.enet_coordinate_descent(\n",
      "C:\\Users\\adrie\\anaconda3\\lib\\site-packages\\sklearn\\linear_model\\_coordinate_descent.py:529: ConvergenceWarning: Objective did not converge. You might want to increase the number of iterations. Duality gap: 1.2454466787224323e+17, tolerance: 113680447456556.53\n",
      "  model = cd_fast.enet_coordinate_descent(\n",
      "C:\\Users\\adrie\\anaconda3\\lib\\site-packages\\sklearn\\linear_model\\_coordinate_descent.py:529: ConvergenceWarning: Objective did not converge. You might want to increase the number of iterations. Duality gap: 1.2454467182529528e+17, tolerance: 113680447456556.53\n",
      "  model = cd_fast.enet_coordinate_descent(\n",
      "C:\\Users\\adrie\\anaconda3\\lib\\site-packages\\sklearn\\linear_model\\_coordinate_descent.py:529: ConvergenceWarning: Objective did not converge. You might want to increase the number of iterations. Duality gap: 1.2454467621887885e+17, tolerance: 113680447456556.53\n",
      "  model = cd_fast.enet_coordinate_descent(\n",
      "C:\\Users\\adrie\\anaconda3\\lib\\site-packages\\sklearn\\linear_model\\_coordinate_descent.py:529: ConvergenceWarning: Objective did not converge. You might want to increase the number of iterations. Duality gap: 1.2454468113218402e+17, tolerance: 113680447456556.53\n",
      "  model = cd_fast.enet_coordinate_descent(\n",
      "C:\\Users\\adrie\\anaconda3\\lib\\site-packages\\sklearn\\linear_model\\_coordinate_descent.py:529: ConvergenceWarning: Objective did not converge. You might want to increase the number of iterations. Duality gap: 1.2454468670262011e+17, tolerance: 113680447456556.53\n",
      "  model = cd_fast.enet_coordinate_descent(\n",
      "C:\\Users\\adrie\\anaconda3\\lib\\site-packages\\sklearn\\linear_model\\_coordinate_descent.py:529: ConvergenceWarning: Objective did not converge. You might want to increase the number of iterations. Duality gap: 1.2454469292301472e+17, tolerance: 113680447456556.53\n",
      "  model = cd_fast.enet_coordinate_descent(\n",
      "C:\\Users\\adrie\\anaconda3\\lib\\site-packages\\sklearn\\linear_model\\_coordinate_descent.py:529: ConvergenceWarning: Objective did not converge. You might want to increase the number of iterations. Duality gap: 1.2454469993464589e+17, tolerance: 113680447456556.53\n",
      "  model = cd_fast.enet_coordinate_descent(\n",
      "C:\\Users\\adrie\\anaconda3\\lib\\site-packages\\sklearn\\linear_model\\_coordinate_descent.py:529: ConvergenceWarning: Objective did not converge. You might want to increase the number of iterations. Duality gap: 1.2454470777607683e+17, tolerance: 113680447456556.53\n",
      "  model = cd_fast.enet_coordinate_descent(\n",
      "C:\\Users\\adrie\\anaconda3\\lib\\site-packages\\sklearn\\linear_model\\_coordinate_descent.py:529: ConvergenceWarning: Objective did not converge. You might want to increase the number of iterations. Duality gap: 1.2454471658903792e+17, tolerance: 113680447456556.53\n",
      "  model = cd_fast.enet_coordinate_descent(\n",
      "C:\\Users\\adrie\\anaconda3\\lib\\site-packages\\sklearn\\linear_model\\_coordinate_descent.py:529: ConvergenceWarning: Objective did not converge. You might want to increase the number of iterations. Duality gap: 1.2454472649716848e+17, tolerance: 113680447456556.53\n",
      "  model = cd_fast.enet_coordinate_descent(\n",
      "C:\\Users\\adrie\\anaconda3\\lib\\site-packages\\sklearn\\linear_model\\_coordinate_descent.py:529: ConvergenceWarning: Objective did not converge. You might want to increase the number of iterations. Duality gap: 1.2454473760031288e+17, tolerance: 113680447456556.53\n",
      "  model = cd_fast.enet_coordinate_descent(\n",
      "C:\\Users\\adrie\\anaconda3\\lib\\site-packages\\sklearn\\linear_model\\_coordinate_descent.py:529: ConvergenceWarning: Objective did not converge. You might want to increase the number of iterations. Duality gap: 1.2454475007021168e+17, tolerance: 113680447456556.53\n",
      "  model = cd_fast.enet_coordinate_descent(\n",
      "C:\\Users\\adrie\\anaconda3\\lib\\site-packages\\sklearn\\linear_model\\_coordinate_descent.py:529: ConvergenceWarning: Objective did not converge. You might want to increase the number of iterations. Duality gap: 1.2454476407030349e+17, tolerance: 113680447456556.53\n",
      "  model = cd_fast.enet_coordinate_descent(\n",
      "C:\\Users\\adrie\\anaconda3\\lib\\site-packages\\sklearn\\linear_model\\_coordinate_descent.py:529: ConvergenceWarning: Objective did not converge. You might want to increase the number of iterations. Duality gap: 1.2454477979227677e+17, tolerance: 113680447456556.53\n",
      "  model = cd_fast.enet_coordinate_descent(\n",
      "C:\\Users\\adrie\\anaconda3\\lib\\site-packages\\sklearn\\linear_model\\_coordinate_descent.py:529: ConvergenceWarning: Objective did not converge. You might want to increase the number of iterations. Duality gap: 1.2454479743258098e+17, tolerance: 113680447456556.53\n",
      "  model = cd_fast.enet_coordinate_descent(\n",
      "C:\\Users\\adrie\\anaconda3\\lib\\site-packages\\sklearn\\linear_model\\_coordinate_descent.py:529: ConvergenceWarning: Objective did not converge. You might want to increase the number of iterations. Duality gap: 1.2454481724380256e+17, tolerance: 113680447456556.53\n",
      "  model = cd_fast.enet_coordinate_descent(\n",
      "C:\\Users\\adrie\\anaconda3\\lib\\site-packages\\sklearn\\linear_model\\_coordinate_descent.py:529: ConvergenceWarning: Objective did not converge. You might want to increase the number of iterations. Duality gap: 1.2454483948059941e+17, tolerance: 113680447456556.53\n",
      "  model = cd_fast.enet_coordinate_descent(\n",
      "C:\\Users\\adrie\\anaconda3\\lib\\site-packages\\sklearn\\linear_model\\_coordinate_descent.py:529: ConvergenceWarning: Objective did not converge. You might want to increase the number of iterations. Duality gap: 1.2454486443720026e+17, tolerance: 113680447456556.53\n",
      "  model = cd_fast.enet_coordinate_descent(\n",
      "C:\\Users\\adrie\\anaconda3\\lib\\site-packages\\sklearn\\linear_model\\_coordinate_descent.py:529: ConvergenceWarning: Objective did not converge. You might want to increase the number of iterations. Duality gap: 1.2454489245259306e+17, tolerance: 113680447456556.53\n",
      "  model = cd_fast.enet_coordinate_descent(\n"
     ]
    },
    {
     "name": "stderr",
     "output_type": "stream",
     "text": [
      "C:\\Users\\adrie\\anaconda3\\lib\\site-packages\\sklearn\\linear_model\\_coordinate_descent.py:529: ConvergenceWarning: Objective did not converge. You might want to increase the number of iterations. Duality gap: 1.2454492389983622e+17, tolerance: 113680447456556.53\n",
      "  model = cd_fast.enet_coordinate_descent(\n",
      "C:\\Users\\adrie\\anaconda3\\lib\\site-packages\\sklearn\\linear_model\\_coordinate_descent.py:529: ConvergenceWarning: Objective did not converge. You might want to increase the number of iterations. Duality gap: 1.2454495920503254e+17, tolerance: 113680447456556.53\n",
      "  model = cd_fast.enet_coordinate_descent(\n",
      "C:\\Users\\adrie\\anaconda3\\lib\\site-packages\\sklearn\\linear_model\\_coordinate_descent.py:529: ConvergenceWarning: Objective did not converge. You might want to increase the number of iterations. Duality gap: 1.245449988276488e+17, tolerance: 113680447456556.53\n",
      "  model = cd_fast.enet_coordinate_descent(\n",
      "C:\\Users\\adrie\\anaconda3\\lib\\site-packages\\sklearn\\linear_model\\_coordinate_descent.py:529: ConvergenceWarning: Objective did not converge. You might want to increase the number of iterations. Duality gap: 1.2454504330286326e+17, tolerance: 113680447456556.53\n",
      "  model = cd_fast.enet_coordinate_descent(\n",
      "C:\\Users\\adrie\\anaconda3\\lib\\site-packages\\sklearn\\linear_model\\_coordinate_descent.py:529: ConvergenceWarning: Objective did not converge. You might want to increase the number of iterations. Duality gap: 1.2454509322451618e+17, tolerance: 113680447456556.53\n",
      "  model = cd_fast.enet_coordinate_descent(\n",
      "C:\\Users\\adrie\\anaconda3\\lib\\site-packages\\sklearn\\linear_model\\_coordinate_descent.py:529: ConvergenceWarning: Objective did not converge. You might want to increase the number of iterations. Duality gap: 1.2454514925724728e+17, tolerance: 113680447456556.53\n",
      "  model = cd_fast.enet_coordinate_descent(\n",
      "C:\\Users\\adrie\\anaconda3\\lib\\site-packages\\sklearn\\linear_model\\_coordinate_descent.py:529: ConvergenceWarning: Objective did not converge. You might want to increase the number of iterations. Duality gap: 1.2454521214108038e+17, tolerance: 113680447456556.53\n",
      "  model = cd_fast.enet_coordinate_descent(\n",
      "C:\\Users\\adrie\\anaconda3\\lib\\site-packages\\sklearn\\linear_model\\_coordinate_descent.py:529: ConvergenceWarning: Objective did not converge. You might want to increase the number of iterations. Duality gap: 1.2454528271697797e+17, tolerance: 113680447456556.53\n",
      "  model = cd_fast.enet_coordinate_descent(\n",
      "C:\\Users\\adrie\\anaconda3\\lib\\site-packages\\sklearn\\linear_model\\_coordinate_descent.py:529: ConvergenceWarning: Objective did not converge. You might want to increase the number of iterations. Duality gap: 1.2454536192251107e+17, tolerance: 113680447456556.53\n",
      "  model = cd_fast.enet_coordinate_descent(\n",
      "C:\\Users\\adrie\\anaconda3\\lib\\site-packages\\sklearn\\linear_model\\_coordinate_descent.py:529: ConvergenceWarning: Objective did not converge. You might want to increase the number of iterations. Duality gap: 1.24545450806803e+17, tolerance: 113680447456556.53\n",
      "  model = cd_fast.enet_coordinate_descent(\n",
      "C:\\Users\\adrie\\anaconda3\\lib\\site-packages\\sklearn\\linear_model\\_coordinate_descent.py:529: ConvergenceWarning: Objective did not converge. You might want to increase the number of iterations. Duality gap: 1.2454555055047987e+17, tolerance: 113680447456556.53\n",
      "  model = cd_fast.enet_coordinate_descent(\n",
      "C:\\Users\\adrie\\anaconda3\\lib\\site-packages\\sklearn\\linear_model\\_coordinate_descent.py:529: ConvergenceWarning: Objective did not converge. You might want to increase the number of iterations. Duality gap: 1.2454566247148842e+17, tolerance: 113680447456556.53\n",
      "  model = cd_fast.enet_coordinate_descent(\n",
      "C:\\Users\\adrie\\anaconda3\\lib\\site-packages\\sklearn\\linear_model\\_coordinate_descent.py:529: ConvergenceWarning: Objective did not converge. You might want to increase the number of iterations. Duality gap: 1.2454578805208294e+17, tolerance: 113680447456556.53\n",
      "  model = cd_fast.enet_coordinate_descent(\n",
      "C:\\Users\\adrie\\anaconda3\\lib\\site-packages\\sklearn\\linear_model\\_coordinate_descent.py:529: ConvergenceWarning: Objective did not converge. You might want to increase the number of iterations. Duality gap: 1.2454592894393582e+17, tolerance: 113680447456556.53\n",
      "  model = cd_fast.enet_coordinate_descent(\n",
      "C:\\Users\\adrie\\anaconda3\\lib\\site-packages\\sklearn\\linear_model\\_coordinate_descent.py:529: ConvergenceWarning: Objective did not converge. You might want to increase the number of iterations. Duality gap: 1.2454608700338635e+17, tolerance: 113680447456556.53\n",
      "  model = cd_fast.enet_coordinate_descent(\n",
      "C:\\Users\\adrie\\anaconda3\\lib\\site-packages\\sklearn\\linear_model\\_coordinate_descent.py:529: ConvergenceWarning: Objective did not converge. You might want to increase the number of iterations. Duality gap: 1.2454626430790093e+17, tolerance: 113680447456556.53\n",
      "  model = cd_fast.enet_coordinate_descent(\n",
      "C:\\Users\\adrie\\anaconda3\\lib\\site-packages\\sklearn\\linear_model\\_coordinate_descent.py:529: ConvergenceWarning: Objective did not converge. You might want to increase the number of iterations. Duality gap: 1.2395127296641797e+17, tolerance: 113680447456556.53\n",
      "  model = cd_fast.enet_coordinate_descent(\n",
      "C:\\Users\\adrie\\anaconda3\\lib\\site-packages\\sklearn\\linear_model\\_coordinate_descent.py:529: ConvergenceWarning: Objective did not converge. You might want to increase the number of iterations. Duality gap: 1.2172340497373512e+17, tolerance: 113680447456556.53\n",
      "  model = cd_fast.enet_coordinate_descent(\n",
      "C:\\Users\\adrie\\anaconda3\\lib\\site-packages\\sklearn\\linear_model\\_coordinate_descent.py:529: ConvergenceWarning: Objective did not converge. You might want to increase the number of iterations. Duality gap: 1.217236528490672e+17, tolerance: 113680447456556.53\n",
      "  model = cd_fast.enet_coordinate_descent(\n",
      "C:\\Users\\adrie\\anaconda3\\lib\\site-packages\\sklearn\\linear_model\\_coordinate_descent.py:529: ConvergenceWarning: Objective did not converge. You might want to increase the number of iterations. Duality gap: 1.2172393090653418e+17, tolerance: 113680447456556.53\n",
      "  model = cd_fast.enet_coordinate_descent(\n",
      "C:\\Users\\adrie\\anaconda3\\lib\\site-packages\\sklearn\\linear_model\\_coordinate_descent.py:529: ConvergenceWarning: Objective did not converge. You might want to increase the number of iterations. Duality gap: 1.2172424267552368e+17, tolerance: 113680447456556.53\n",
      "  model = cd_fast.enet_coordinate_descent(\n",
      "C:\\Users\\adrie\\anaconda3\\lib\\site-packages\\sklearn\\linear_model\\_coordinate_descent.py:529: ConvergenceWarning: Objective did not converge. You might want to increase the number of iterations. Duality gap: 1.2172459218879461e+17, tolerance: 113680447456556.53\n",
      "  model = cd_fast.enet_coordinate_descent(\n",
      "C:\\Users\\adrie\\anaconda3\\lib\\site-packages\\sklearn\\linear_model\\_coordinate_descent.py:529: ConvergenceWarning: Objective did not converge. You might want to increase the number of iterations. Duality gap: 1.2172498394542314e+17, tolerance: 113680447456556.53\n",
      "  model = cd_fast.enet_coordinate_descent(\n",
      "C:\\Users\\adrie\\anaconda3\\lib\\site-packages\\sklearn\\linear_model\\_coordinate_descent.py:529: ConvergenceWarning: Objective did not converge. You might want to increase the number of iterations. Duality gap: 1.18408647882588e+17, tolerance: 113680447456556.53\n",
      "  model = cd_fast.enet_coordinate_descent(\n",
      "C:\\Users\\adrie\\anaconda3\\lib\\site-packages\\sklearn\\linear_model\\_coordinate_descent.py:529: ConvergenceWarning: Objective did not converge. You might want to increase the number of iterations. Duality gap: 1.1840912992440466e+17, tolerance: 113680447456556.53\n",
      "  model = cd_fast.enet_coordinate_descent(\n",
      "C:\\Users\\adrie\\anaconda3\\lib\\site-packages\\sklearn\\linear_model\\_coordinate_descent.py:529: ConvergenceWarning: Objective did not converge. You might want to increase the number of iterations. Duality gap: 1.1840967557199702e+17, tolerance: 113680447456556.53\n",
      "  model = cd_fast.enet_coordinate_descent(\n",
      "C:\\Users\\adrie\\anaconda3\\lib\\site-packages\\sklearn\\linear_model\\_coordinate_descent.py:529: ConvergenceWarning: Objective did not converge. You might want to increase the number of iterations. Duality gap: 1.184102867979067e+17, tolerance: 113680447456556.53\n",
      "  model = cd_fast.enet_coordinate_descent(\n",
      "C:\\Users\\adrie\\anaconda3\\lib\\site-packages\\sklearn\\linear_model\\_coordinate_descent.py:529: ConvergenceWarning: Objective did not converge. You might want to increase the number of iterations. Duality gap: 1.1446032726935298e+17, tolerance: 113680447456556.53\n",
      "  model = cd_fast.enet_coordinate_descent(\n"
     ]
    },
    {
     "name": "stderr",
     "output_type": "stream",
     "text": [
      "C:\\Users\\adrie\\anaconda3\\lib\\site-packages\\sklearn\\linear_model\\_coordinate_descent.py:529: ConvergenceWarning: Objective did not converge. You might want to increase the number of iterations. Duality gap: 1.1446092844441258e+17, tolerance: 113680447456556.53\n",
      "  model = cd_fast.enet_coordinate_descent(\n",
      "C:\\Users\\adrie\\anaconda3\\lib\\site-packages\\sklearn\\linear_model\\_coordinate_descent.py:529: ConvergenceWarning: Objective did not converge. You might want to increase the number of iterations. Duality gap: 1.1446177628467178e+17, tolerance: 113680447456556.53\n",
      "  model = cd_fast.enet_coordinate_descent(\n",
      "C:\\Users\\adrie\\anaconda3\\lib\\site-packages\\sklearn\\linear_model\\_coordinate_descent.py:529: ConvergenceWarning: Objective did not converge. You might want to increase the number of iterations. Duality gap: 1.0967983956745771e+17, tolerance: 113680447456556.53\n",
      "  model = cd_fast.enet_coordinate_descent(\n",
      "C:\\Users\\adrie\\anaconda3\\lib\\site-packages\\sklearn\\linear_model\\_coordinate_descent.py:529: ConvergenceWarning: Objective did not converge. You might want to increase the number of iterations. Duality gap: 1.096802857905353e+17, tolerance: 113680447456556.53\n",
      "  model = cd_fast.enet_coordinate_descent(\n",
      "C:\\Users\\adrie\\anaconda3\\lib\\site-packages\\sklearn\\linear_model\\_coordinate_descent.py:529: ConvergenceWarning: Objective did not converge. You might want to increase the number of iterations. Duality gap: 1.096814564459218e+17, tolerance: 113680447456556.53\n",
      "  model = cd_fast.enet_coordinate_descent(\n",
      "C:\\Users\\adrie\\anaconda3\\lib\\site-packages\\sklearn\\linear_model\\_coordinate_descent.py:529: ConvergenceWarning: Objective did not converge. You might want to increase the number of iterations. Duality gap: 1.0968276588816992e+17, tolerance: 113680447456556.53\n",
      "  model = cd_fast.enet_coordinate_descent(\n",
      "C:\\Users\\adrie\\anaconda3\\lib\\site-packages\\sklearn\\linear_model\\_coordinate_descent.py:529: ConvergenceWarning: Objective did not converge. You might want to increase the number of iterations. Duality gap: 1.0968422988331613e+17, tolerance: 113680447456556.53\n",
      "  model = cd_fast.enet_coordinate_descent(\n",
      "C:\\Users\\adrie\\anaconda3\\lib\\site-packages\\sklearn\\linear_model\\_coordinate_descent.py:529: ConvergenceWarning: Objective did not converge. You might want to increase the number of iterations. Duality gap: 1.0968586582359558e+17, tolerance: 113680447456556.53\n",
      "  model = cd_fast.enet_coordinate_descent(\n",
      "C:\\Users\\adrie\\anaconda3\\lib\\site-packages\\sklearn\\linear_model\\_coordinate_descent.py:529: ConvergenceWarning: Objective did not converge. You might want to increase the number of iterations. Duality gap: 1.0968769284264822e+17, tolerance: 113680447456556.53\n",
      "  model = cd_fast.enet_coordinate_descent(\n",
      "C:\\Users\\adrie\\anaconda3\\lib\\site-packages\\sklearn\\linear_model\\_coordinate_descent.py:529: ConvergenceWarning: Objective did not converge. You might want to increase the number of iterations. Duality gap: 1.0968973182042688e+17, tolerance: 113680447456556.53\n",
      "  model = cd_fast.enet_coordinate_descent(\n",
      "C:\\Users\\adrie\\anaconda3\\lib\\site-packages\\sklearn\\linear_model\\_coordinate_descent.py:529: ConvergenceWarning: Objective did not converge. You might want to increase the number of iterations. Duality gap: 1.0969200559908309e+17, tolerance: 113680447456556.53\n",
      "  model = cd_fast.enet_coordinate_descent(\n",
      "C:\\Users\\adrie\\anaconda3\\lib\\site-packages\\sklearn\\linear_model\\_coordinate_descent.py:529: ConvergenceWarning: Objective did not converge. You might want to increase the number of iterations. Duality gap: 1.0969453899801749e+17, tolerance: 113680447456556.53\n",
      "  model = cd_fast.enet_coordinate_descent(\n",
      "C:\\Users\\adrie\\anaconda3\\lib\\site-packages\\sklearn\\linear_model\\_coordinate_descent.py:529: ConvergenceWarning: Objective did not converge. You might want to increase the number of iterations. Duality gap: 1.0969735885955523e+17, tolerance: 113680447456556.53\n",
      "  model = cd_fast.enet_coordinate_descent(\n",
      "C:\\Users\\adrie\\anaconda3\\lib\\site-packages\\sklearn\\linear_model\\_coordinate_descent.py:529: ConvergenceWarning: Objective did not converge. You might want to increase the number of iterations. Duality gap: 1.0970049392139598e+17, tolerance: 113680447456556.53\n",
      "  model = cd_fast.enet_coordinate_descent(\n",
      "C:\\Users\\adrie\\anaconda3\\lib\\site-packages\\sklearn\\linear_model\\_coordinate_descent.py:529: ConvergenceWarning: Objective did not converge. You might want to increase the number of iterations. Duality gap: 1.0970397505184954e+17, tolerance: 113680447456556.53\n",
      "  model = cd_fast.enet_coordinate_descent(\n",
      "C:\\Users\\adrie\\anaconda3\\lib\\site-packages\\sklearn\\linear_model\\_coordinate_descent.py:529: ConvergenceWarning: Objective did not converge. You might want to increase the number of iterations. Duality gap: 1.0380151216427133e+17, tolerance: 113680447456556.53\n",
      "  model = cd_fast.enet_coordinate_descent(\n",
      "C:\\Users\\adrie\\anaconda3\\lib\\site-packages\\sklearn\\linear_model\\_coordinate_descent.py:529: ConvergenceWarning: Objective did not converge. You might want to increase the number of iterations. Duality gap: 1.038057409680974e+17, tolerance: 113680447456556.53\n",
      "  model = cd_fast.enet_coordinate_descent(\n",
      "C:\\Users\\adrie\\anaconda3\\lib\\site-packages\\sklearn\\linear_model\\_coordinate_descent.py:529: ConvergenceWarning: Objective did not converge. You might want to increase the number of iterations. Duality gap: 9.634405491145307e+16, tolerance: 113680447456556.53\n",
      "  model = cd_fast.enet_coordinate_descent(\n",
      "C:\\Users\\adrie\\anaconda3\\lib\\site-packages\\sklearn\\linear_model\\_coordinate_descent.py:529: ConvergenceWarning: Objective did not converge. You might want to increase the number of iterations. Duality gap: 9.634919264999466e+16, tolerance: 113680447456556.53\n",
      "  model = cd_fast.enet_coordinate_descent(\n",
      "C:\\Users\\adrie\\anaconda3\\lib\\site-packages\\sklearn\\linear_model\\_coordinate_descent.py:529: ConvergenceWarning: Objective did not converge. You might want to increase the number of iterations. Duality gap: 9.63548316708334e+16, tolerance: 113680447456556.53\n",
      "  model = cd_fast.enet_coordinate_descent(\n",
      "C:\\Users\\adrie\\anaconda3\\lib\\site-packages\\sklearn\\linear_model\\_coordinate_descent.py:529: ConvergenceWarning: Objective did not converge. You might want to increase the number of iterations. Duality gap: 8.664774995775122e+16, tolerance: 113680447456556.53\n",
      "  model = cd_fast.enet_coordinate_descent(\n",
      "C:\\Users\\adrie\\anaconda3\\lib\\site-packages\\sklearn\\linear_model\\_coordinate_descent.py:529: ConvergenceWarning: Objective did not converge. You might want to increase the number of iterations. Duality gap: 8.665373865875427e+16, tolerance: 113680447456556.53\n",
      "  model = cd_fast.enet_coordinate_descent(\n",
      "C:\\Users\\adrie\\anaconda3\\lib\\site-packages\\sklearn\\linear_model\\_coordinate_descent.py:529: ConvergenceWarning: Objective did not converge. You might want to increase the number of iterations. Duality gap: 7.357548621499333e+16, tolerance: 113680447456556.53\n",
      "  model = cd_fast.enet_coordinate_descent(\n",
      "C:\\Users\\adrie\\anaconda3\\lib\\site-packages\\sklearn\\linear_model\\_coordinate_descent.py:529: ConvergenceWarning: Objective did not converge. You might want to increase the number of iterations. Duality gap: 7.358330221128358e+16, tolerance: 113680447456556.53\n",
      "  model = cd_fast.enet_coordinate_descent(\n",
      "C:\\Users\\adrie\\anaconda3\\lib\\site-packages\\sklearn\\linear_model\\_coordinate_descent.py:529: ConvergenceWarning: Objective did not converge. You might want to increase the number of iterations. Duality gap: 7.35918788935167e+16, tolerance: 113680447456556.53\n",
      "  model = cd_fast.enet_coordinate_descent(\n",
      "C:\\Users\\adrie\\anaconda3\\lib\\site-packages\\sklearn\\linear_model\\_coordinate_descent.py:529: ConvergenceWarning: Objective did not converge. You might want to increase the number of iterations. Duality gap: 7.360132243458677e+16, tolerance: 113680447456556.53\n",
      "  model = cd_fast.enet_coordinate_descent(\n",
      "C:\\Users\\adrie\\anaconda3\\lib\\site-packages\\sklearn\\linear_model\\_coordinate_descent.py:529: ConvergenceWarning: Objective did not converge. You might want to increase the number of iterations. Duality gap: 7.361169270680122e+16, tolerance: 113680447456556.53\n",
      "  model = cd_fast.enet_coordinate_descent(\n",
      "C:\\Users\\adrie\\anaconda3\\lib\\site-packages\\sklearn\\linear_model\\_coordinate_descent.py:529: ConvergenceWarning: Objective did not converge. You might want to increase the number of iterations. Duality gap: 7.362304312360696e+16, tolerance: 113680447456556.53\n",
      "  model = cd_fast.enet_coordinate_descent(\n"
     ]
    },
    {
     "name": "stderr",
     "output_type": "stream",
     "text": [
      "C:\\Users\\adrie\\anaconda3\\lib\\site-packages\\sklearn\\linear_model\\_coordinate_descent.py:529: ConvergenceWarning: Objective did not converge. You might want to increase the number of iterations. Duality gap: 7.363542353202202e+16, tolerance: 113680447456556.53\n",
      "  model = cd_fast.enet_coordinate_descent(\n",
      "C:\\Users\\adrie\\anaconda3\\lib\\site-packages\\sklearn\\linear_model\\_coordinate_descent.py:529: ConvergenceWarning: Objective did not converge. You might want to increase the number of iterations. Duality gap: 7.364885627239485e+16, tolerance: 113680447456556.53\n",
      "  model = cd_fast.enet_coordinate_descent(\n",
      "C:\\Users\\adrie\\anaconda3\\lib\\site-packages\\sklearn\\linear_model\\_coordinate_descent.py:529: ConvergenceWarning: Objective did not converge. You might want to increase the number of iterations. Duality gap: 5.532684866651731e+16, tolerance: 113680447456556.53\n",
      "  model = cd_fast.enet_coordinate_descent(\n",
      "C:\\Users\\adrie\\anaconda3\\lib\\site-packages\\sklearn\\linear_model\\_coordinate_descent.py:529: ConvergenceWarning: Objective did not converge. You might want to increase the number of iterations. Duality gap: 3.344290851728464e+16, tolerance: 113680447456556.53\n",
      "  model = cd_fast.enet_coordinate_descent(\n",
      "C:\\Users\\adrie\\anaconda3\\lib\\site-packages\\sklearn\\linear_model\\_coordinate_descent.py:529: ConvergenceWarning: Objective did not converge. You might want to increase the number of iterations. Duality gap: 1.7552109169844896e+16, tolerance: 113680447456556.53\n",
      "  model = cd_fast.enet_coordinate_descent(\n",
      "C:\\Users\\adrie\\anaconda3\\lib\\site-packages\\sklearn\\linear_model\\_coordinate_descent.py:529: ConvergenceWarning: Objective did not converge. You might want to increase the number of iterations. Duality gap: 1.7564466673074592e+16, tolerance: 113680447456556.53\n",
      "  model = cd_fast.enet_coordinate_descent(\n",
      "C:\\Users\\adrie\\anaconda3\\lib\\site-packages\\sklearn\\linear_model\\_coordinate_descent.py:529: ConvergenceWarning: Objective did not converge. You might want to increase the number of iterations. Duality gap: 1.7578192115238464e+16, tolerance: 113680447456556.53\n",
      "  model = cd_fast.enet_coordinate_descent(\n",
      "C:\\Users\\adrie\\anaconda3\\lib\\site-packages\\sklearn\\linear_model\\_coordinate_descent.py:529: ConvergenceWarning: Objective did not converge. You might want to increase the number of iterations. Duality gap: 1.6626121469595712e+16, tolerance: 113680447456556.53\n",
      "  model = cd_fast.enet_coordinate_descent(\n",
      "C:\\Users\\adrie\\anaconda3\\lib\\site-packages\\sklearn\\linear_model\\_coordinate_descent.py:529: ConvergenceWarning: Objective did not converge. You might want to increase the number of iterations. Duality gap: 1.7195526349172096e+16, tolerance: 113680447456556.53\n",
      "  model = cd_fast.enet_coordinate_descent(\n",
      "C:\\Users\\adrie\\anaconda3\\lib\\site-packages\\sklearn\\linear_model\\_coordinate_descent.py:529: ConvergenceWarning: Objective did not converge. You might want to increase the number of iterations. Duality gap: 1.743568206038e+16, tolerance: 113680447456556.53\n",
      "  model = cd_fast.enet_coordinate_descent(\n",
      "C:\\Users\\adrie\\anaconda3\\lib\\site-packages\\sklearn\\linear_model\\_coordinate_descent.py:529: ConvergenceWarning: Objective did not converge. You might want to increase the number of iterations. Duality gap: 1.7551152361277216e+16, tolerance: 113680447456556.53\n",
      "  model = cd_fast.enet_coordinate_descent(\n"
     ]
    },
    {
     "data": {
      "image/png": "[encoded data removed]",
      "text/plain": [
       "<Figure size 720x360 with 1 Axes>"
      ]
     },
     "metadata": {
      "needs_background": "light"
     },
     "output_type": "display_data"
    }
   ],
   "source": [
    "# modelisation sans gridsearch() pour voir l'effet sur les coeff\n",
    "\n",
    "n_alphas = 200\n",
    "alphas = np.logspace(-2, 8, n_alphas)\n",
    "lasso_regression = Lasso(fit_intercept=False)\n",
    "\n",
    "coefs = []\n",
    "errors = []\n",
    "for a in alphas:\n",
    "    lasso_regression.set_params(alpha=a)\n",
    "    lasso_regression.fit(X_train, y_train)\n",
    "    coefs.append(lasso_regression.coef_.flatten())\n",
    "    errors.append(np.mean((lasso_regression.predict(X_val) - y_val) ** 2))\n",
    "    \n",
    "# Affiche le chemin de régularisation\n",
    "alpha_min = alphas[np.argmin(errors)]\n",
    "fig, ax = plt.subplots(figsize=(10,5))\n",
    "ax.plot(alphas, coefs)\n",
    "\n",
    "plt.axvline(x=alpha_min,linewidth=2, color='r')\n",
    "plt.xscale('log')\n",
    "plt.xlabel('alpha')\n",
    "plt.ylabel('coefficients')\n",
    "plt.title('Lasso - chemin de régularisation')\n",
    "plt.axis('tight')\n",
    "plt.show()"
   ]
  },
  {
   "cell_type": "code",
   "execution_count": 38,
   "metadata": {},
   "outputs": [
    {
     "data": {
      "image/png": "[encoded data removed]",
      "text/plain": [
       "<Figure size 720x360 with 1 Axes>"
      ]
     },
     "metadata": {
      "needs_background": "light"
     },
     "output_type": "display_data"
    }
   ],
   "source": [
    "# Affiche la courbe d'erreurs en fonction de la régularisation\n",
    "fig, ax = plt.subplots(figsize=(10,5))\n",
    "ax.plot(alphas, errors)\n",
    "\n",
    "plt.axvline(x=alpha_min,linewidth=2, color='r')\n",
    "plt.xscale('log')\n",
    "plt.xlabel('alpha')\n",
    "plt.ylabel('errors')\n",
    "plt.title('Erreurs en fonction de alpha')\n",
    "plt.axis('tight')\n",
    "plt.show()"
   ]
  },
  {
   "cell_type": "markdown",
   "metadata": {},
   "source": [
    "**4) régression elasticnet**"
   ]
  },
  {
   "cell_type": "code",
   "execution_count": 39,
   "metadata": {},
   "outputs": [
    {
     "data": {
      "text/plain": [
       "GridSearchCV(cv=KFold(n_splits=5, random_state=99, shuffle=True),\n",
       "             estimator=ElasticNet(),\n",
       "             param_grid={'alpha': array([1.00000000e-02, 1.26185688e-02, 1.59228279e-02, 2.00923300e-02,\n",
       "       2.53536449e-02, 3.19926714e-02, 4.03701726e-02, 5.09413801e-02,\n",
       "       6.42807312e-02, 8.11130831e-02, 1.02353102e-01, 1.29154967e-01,\n",
       "       1.62975083e-01, 2.05651231e-01, 2.59502421e-01, 3.27454916e-...\n",
       "       3.05385551e+06, 3.85352859e+06, 4.86260158e+06, 6.13590727e+06,\n",
       "       7.74263683e+06, 9.77009957e+06, 1.23284674e+07, 1.55567614e+07,\n",
       "       1.96304065e+07, 2.47707636e+07, 3.12571585e+07, 3.94420606e+07,\n",
       "       4.97702356e+07, 6.28029144e+07, 7.92482898e+07, 1.00000000e+08]),\n",
       "                         'l1_ratio': array([0.1, 0.2, 0.3, 0.4, 0.5, 0.6, 0.7, 0.8, 0.9]),\n",
       "                         'max_iter': [10000]},\n",
       "             scoring='neg_root_mean_squared_error')"
      ]
     },
     "execution_count": 39,
     "metadata": {},
     "output_type": "execute_result"
    }
   ],
   "source": [
    "from sklearn.linear_model import ElasticNet\n",
    "from sklearn.model_selection import GridSearchCV\n",
    "\n",
    "elasticnet_regression = ElasticNet()\n",
    "\n",
    "n_alphas = 100\n",
    "alpha = np.logspace(-2, 8, n_alphas)\n",
    "l1_ratio = np.arange(0.1,1,0.1)\n",
    "max_iter = [10000]\n",
    "\n",
    "\n",
    "hyperparameters = dict(alpha=alpha, l1_ratio=l1_ratio , max_iter=max_iter)\n",
    "\n",
    "gscv_elasticnet_regression = GridSearchCV(elasticnet_regression, hyperparameters, cv=KFold(5,shuffle=True, random_state=random_state), scoring=scoring)\n",
    "\n",
    "gscv_elasticnet_regression.fit(X_train,y_train)"
   ]
  },
  {
   "cell_type": "code",
   "execution_count": 40,
   "metadata": {},
   "outputs": [
    {
     "name": "stdout",
     "output_type": "stream",
     "text": [
      "coefficients:  [ 5.63906760e+04 -2.48854720e+05  4.87654280e+05 -5.09016609e+05\n",
      " -3.73955657e+06 -2.73971600e+06 -3.60069893e+06  1.42513748e+07\n",
      "  3.81749198e+06  4.25799423e+06  5.63898094e+04 -5.36266242e+06\n",
      " -5.78714743e+06 -6.58975697e+06  6.05433337e+07 -3.71194507e+05\n",
      " -5.76749466e+06 -6.70271578e+06 -5.60398230e+06  1.64805601e+06\n",
      " -6.31468078e+06 -5.72493840e+06 -6.49207638e+06 -1.68464021e+06\n",
      "  2.31748522e+07 -3.65019191e+06 -4.93371311e+06 -4.13156243e+06\n",
      " -4.23151988e+06 -2.08432292e+05 -3.07528692e+06 -4.37915252e+06\n",
      "  3.59335681e+06  3.36208951e+06 -6.55282124e+06 -4.75758315e+06\n",
      " -7.54234664e+05  3.45551157e+05  1.12912260e+05  1.67185704e+05\n",
      "  1.43015184e+06  1.99842807e+05  6.52814276e+04  1.12935220e+05\n",
      " -6.10034243e+05  7.81021830e+05 -1.07121155e+06 -9.86544508e+05\n",
      "  2.07097719e+05]\n",
      "alpha:  0.012618568830660204\n",
      "l1_ratio:  0.9\n",
      "max_iter:  10000\n",
      "tol:  0.0001\n",
      "score moyen RMSE sur cv:  11231300.87120566\n"
     ]
    }
   ],
   "source": [
    "print('coefficients: ', gscv_elasticnet_regression.best_estimator_.coef_.flatten())\n",
    "print('alpha: ', gscv_elasticnet_regression.best_estimator_.get_params()['alpha'])\n",
    "print('l1_ratio: ', gscv_elasticnet_regression.best_estimator_.get_params()['l1_ratio'])\n",
    "print('max_iter: ', gscv_elasticnet_regression.best_estimator_.get_params()['max_iter'])\n",
    "print('tol: ', gscv_elasticnet_regression.best_estimator_.get_params()['tol'])\n",
    "print('score moyen RMSE sur cv: ', -gscv_elasticnet_regression.best_score_)\n",
    "\n",
    "y_pred_val = gscv_elasticnet_regression.predict(X_val)\n",
    "regression_report = regression_report.append(get_metrics(y_val, y_pred_val, 'gscv_elasticnet_regression_on_val'))"
   ]
  },
  {
   "cell_type": "code",
   "execution_count": 41,
   "metadata": {},
   "outputs": [],
   "source": [
    "y_pred_train = gscv_elasticnet_regression.predict(X_train)\n",
    "regression_report = regression_report.append(get_metrics(y_train, y_pred_train, 'gscv_elasticnet_regression_on_train'))"
   ]
  },
  {
   "cell_type": "markdown",
   "metadata": {},
   "source": [
    "**5) support vector regression**"
   ]
  },
  {
   "cell_type": "code",
   "execution_count": 42,
   "metadata": {},
   "outputs": [
    {
     "data": {
      "text/plain": [
       "GridSearchCV(cv=KFold(n_splits=5, random_state=99, shuffle=True),\n",
       "             estimator=SVR(),\n",
       "             param_grid={'C': array([1.00000000e-03, 1.77827941e-02, 3.16227766e-01, 5.62341325e+00,\n",
       "       1.00000000e+02]),\n",
       "                         'epsilon': array([1.e-03, 1.e-02, 1.e-01, 1.e+00, 1.e+01]),\n",
       "                         'gamma': array([1.00000000e-08, 3.72759372e-06, 1.38949549e-03, 5.17947468e-01,\n",
       "       1.93069773e+02, 7.19685673e+04, 2.68269580e+07, 1.00000000e+10])},\n",
       "             scoring='neg_root_mean_squared_error')"
      ]
     },
     "execution_count": 42,
     "metadata": {},
     "output_type": "execute_result"
    }
   ],
   "source": [
    "from sklearn.svm import SVR\n",
    "\n",
    "svr = SVR()\n",
    "\n",
    "\n",
    "n_gammas = 8\n",
    "gamma = np.logspace(-8, 10, n_gammas)\n",
    "\n",
    "n_epsilons = 5\n",
    "epsilon = np.logspace(-3, 1, n_epsilons)\n",
    "\n",
    "n_C = 5\n",
    "C = np.logspace(-3, 2, n_C)\n",
    "\n",
    "\n",
    "hyperparameters = dict(gamma=gamma, epsilon=epsilon , C=C)\n",
    "\n",
    "gscv_svr = GridSearchCV(svr, hyperparameters, cv=KFold(5,shuffle=True, random_state=random_state), scoring=scoring)\n",
    "\n",
    "gscv_svr.fit(X_train,y_train)"
   ]
  },
  {
   "cell_type": "code",
   "execution_count": 43,
   "metadata": {},
   "outputs": [],
   "source": [
    "y_pred_val = gscv_svr.predict(X_val)\n",
    "regression_report = regression_report.append(get_metrics(y_val, y_pred_val, 'gscv_svr_on_val'))"
   ]
  },
  {
   "cell_type": "code",
   "execution_count": 44,
   "metadata": {},
   "outputs": [],
   "source": [
    "y_pred_train = gscv_svr.predict(X_train)\n",
    "regression_report = regression_report.append(get_metrics(y_train, y_pred_train, 'gscv_svr_on_train'))"
   ]
  },
  {
   "cell_type": "markdown",
   "metadata": {},
   "source": [
    "**6) random forest regressor**"
   ]
  },
  {
   "cell_type": "code",
   "execution_count": 45,
   "metadata": {},
   "outputs": [
    {
     "data": {
      "text/plain": [
       "GridSearchCV(cv=KFold(n_splits=5, random_state=99, shuffle=True),\n",
       "             estimator=RandomForestRegressor(),\n",
       "             param_grid={'max_depth': [None], 'max_features': ['auto', 'sqrt'],\n",
       "                         'min_samples_leaf': [1, 3, 5, 10],\n",
       "                         'n_estimators': [100, 200, 300]},\n",
       "             scoring='neg_root_mean_squared_error')"
      ]
     },
     "execution_count": 45,
     "metadata": {},
     "output_type": "execute_result"
    }
   ],
   "source": [
    "from sklearn.ensemble import RandomForestRegressor\n",
    "from sklearn.model_selection import GridSearchCV\n",
    "\n",
    "rfr = RandomForestRegressor()\n",
    "\n",
    "n_estimators = [100,200,300]\n",
    "#max_depth = [5,15,30,45]\n",
    "max_depth = [None]\n",
    "min_samples_leaf = [1,3,5,10]\n",
    "max_features = ['auto', 'sqrt']\n",
    "\n",
    "hyperparameters = dict(n_estimators=n_estimators, min_samples_leaf=min_samples_leaf , max_features=max_features , max_depth=max_depth)\n",
    "\n",
    "gscv_rfr = GridSearchCV(rfr, hyperparameters, cv=KFold(5,shuffle=True, random_state=random_state), scoring=scoring)\n",
    "\n",
    "gscv_rfr.fit(X_train,y_train)"
   ]
  },
  {
   "cell_type": "code",
   "execution_count": 46,
   "metadata": {},
   "outputs": [
    {
     "name": "stdout",
     "output_type": "stream",
     "text": [
      "score moyen RMSE sur cv:  6531795.249432868\n",
      "cv_results_:  {'mean_fit_time': array([1.8597085 , 3.67548962, 5.55958409, 1.46005244, 2.9108232 ,\n",
      "       4.36447387, 1.30132074, 2.58980918, 3.89430757, 1.06665211,\n",
      "       2.12400618, 3.19318552, 0.47691941, 0.96456742, 1.44947095,\n",
      "       0.32836084, 0.67145362, 1.00742555, 0.30202928, 0.6046804 ,\n",
      "       0.88064218, 0.26156306, 0.52631707, 0.79513741]), 'std_fit_time': array([0.03230839, 0.07999674, 0.11201218, 0.03503924, 0.05386461,\n",
      "       0.0781324 , 0.02042142, 0.04798979, 0.0741596 , 0.02924931,\n",
      "       0.06166331, 0.08072589, 0.00576116, 0.00741626, 0.02112883,\n",
      "       0.00135174, 0.01158827, 0.01437178, 0.0073194 , 0.0150266 ,\n",
      "       0.00601373, 0.00314827, 0.00776018, 0.02449438]), 'mean_score_time': array([0.0187057 , 0.03553004, 0.05193009, 0.01441288, 0.02742419,\n",
      "       0.03960376, 0.0131546 , 0.02441549, 0.03603215, 0.01111088,\n",
      "       0.0209548 , 0.03091125, 0.01763725, 0.03442717, 0.05104036,\n",
      "       0.01319933, 0.02500939, 0.0372961 , 0.01213288, 0.02252088,\n",
      "       0.03303452, 0.01100802, 0.01992397, 0.0293757 ]), 'std_score_time': array([6.01938661e-04, 6.16704069e-04, 6.39839736e-04, 4.96602745e-04,\n",
      "       4.94701342e-04, 3.84198011e-04, 1.96797148e-04, 4.89631083e-04,\n",
      "       6.60277455e-04, 2.11941034e-04, 8.44874166e-04, 4.70483903e-04,\n",
      "       5.06830146e-04, 5.48250975e-04, 1.54742646e-03, 4.02345378e-04,\n",
      "       2.53666612e-06, 1.35796777e-03, 1.90985039e-04, 4.51949358e-04,\n",
      "       1.51349601e-04, 3.22673524e-04, 1.93626033e-04, 3.66277136e-04]), 'param_max_depth': masked_array(data=[None, None, None, None, None, None, None, None, None,\n",
      "                   None, None, None, None, None, None, None, None, None,\n",
      "                   None, None, None, None, None, None],\n",
      "             mask=[False, False, False, False, False, False, False, False,\n",
      "                   False, False, False, False, False, False, False, False,\n",
      "                   False, False, False, False, False, False, False, False],\n",
      "       fill_value='?',\n",
      "            dtype=object), 'param_max_features': masked_array(data=['auto', 'auto', 'auto', 'auto', 'auto', 'auto', 'auto',\n",
      "                   'auto', 'auto', 'auto', 'auto', 'auto', 'sqrt', 'sqrt',\n",
      "                   'sqrt', 'sqrt', 'sqrt', 'sqrt', 'sqrt', 'sqrt', 'sqrt',\n",
      "                   'sqrt', 'sqrt', 'sqrt'],\n",
      "             mask=[False, False, False, False, False, False, False, False,\n",
      "                   False, False, False, False, False, False, False, False,\n",
      "                   False, False, False, False, False, False, False, False],\n",
      "       fill_value='?',\n",
      "            dtype=object), 'param_min_samples_leaf': masked_array(data=[1, 1, 1, 3, 3, 3, 5, 5, 5, 10, 10, 10, 1, 1, 1, 3, 3,\n",
      "                   3, 5, 5, 5, 10, 10, 10],\n",
      "             mask=[False, False, False, False, False, False, False, False,\n",
      "                   False, False, False, False, False, False, False, False,\n",
      "                   False, False, False, False, False, False, False, False],\n",
      "       fill_value='?',\n",
      "            dtype=object), 'param_n_estimators': masked_array(data=[100, 200, 300, 100, 200, 300, 100, 200, 300, 100, 200,\n",
      "                   300, 100, 200, 300, 100, 200, 300, 100, 200, 300, 100,\n",
      "                   200, 300],\n",
      "             mask=[False, False, False, False, False, False, False, False,\n",
      "                   False, False, False, False, False, False, False, False,\n",
      "                   False, False, False, False, False, False, False, False],\n",
      "       fill_value='?',\n",
      "            dtype=object), 'params': [{'max_depth': None, 'max_features': 'auto', 'min_samples_leaf': 1, 'n_estimators': 100}, {'max_depth': None, 'max_features': 'auto', 'min_samples_leaf': 1, 'n_estimators': 200}, {'max_depth': None, 'max_features': 'auto', 'min_samples_leaf': 1, 'n_estimators': 300}, {'max_depth': None, 'max_features': 'auto', 'min_samples_leaf': 3, 'n_estimators': 100}, {'max_depth': None, 'max_features': 'auto', 'min_samples_leaf': 3, 'n_estimators': 200}, {'max_depth': None, 'max_features': 'auto', 'min_samples_leaf': 3, 'n_estimators': 300}, {'max_depth': None, 'max_features': 'auto', 'min_samples_leaf': 5, 'n_estimators': 100}, {'max_depth': None, 'max_features': 'auto', 'min_samples_leaf': 5, 'n_estimators': 200}, {'max_depth': None, 'max_features': 'auto', 'min_samples_leaf': 5, 'n_estimators': 300}, {'max_depth': None, 'max_features': 'auto', 'min_samples_leaf': 10, 'n_estimators': 100}, {'max_depth': None, 'max_features': 'auto', 'min_samples_leaf': 10, 'n_estimators': 200}, {'max_depth': None, 'max_features': 'auto', 'min_samples_leaf': 10, 'n_estimators': 300}, {'max_depth': None, 'max_features': 'sqrt', 'min_samples_leaf': 1, 'n_estimators': 100}, {'max_depth': None, 'max_features': 'sqrt', 'min_samples_leaf': 1, 'n_estimators': 200}, {'max_depth': None, 'max_features': 'sqrt', 'min_samples_leaf': 1, 'n_estimators': 300}, {'max_depth': None, 'max_features': 'sqrt', 'min_samples_leaf': 3, 'n_estimators': 100}, {'max_depth': None, 'max_features': 'sqrt', 'min_samples_leaf': 3, 'n_estimators': 200}, {'max_depth': None, 'max_features': 'sqrt', 'min_samples_leaf': 3, 'n_estimators': 300}, {'max_depth': None, 'max_features': 'sqrt', 'min_samples_leaf': 5, 'n_estimators': 100}, {'max_depth': None, 'max_features': 'sqrt', 'min_samples_leaf': 5, 'n_estimators': 200}, {'max_depth': None, 'max_features': 'sqrt', 'min_samples_leaf': 5, 'n_estimators': 300}, {'max_depth': None, 'max_features': 'sqrt', 'min_samples_leaf': 10, 'n_estimators': 100}, {'max_depth': None, 'max_features': 'sqrt', 'min_samples_leaf': 10, 'n_estimators': 200}, {'max_depth': None, 'max_features': 'sqrt', 'min_samples_leaf': 10, 'n_estimators': 300}], 'split0_test_score': array([-3037283.70302916, -3253167.6092503 , -2961527.23950074,\n",
      "       -3619767.97692815, -3622798.13531035, -3580160.20990758,\n",
      "       -4228123.35318387, -3930770.2737791 , -4026887.5506316 ,\n",
      "       -5403815.01553264, -5515230.94190123, -5646043.49652262,\n",
      "       -2825622.32919194, -2859489.44331287, -2688341.46546065,\n",
      "       -3598756.35751094, -3468545.65302811, -3600112.89971748,\n",
      "       -4073162.44622405, -3796486.18128269, -3793669.97360225,\n",
      "       -4521876.33824106, -4486018.64947672, -4588549.03685275]), 'split1_test_score': array([-14243470.14511502, -13974861.66392296, -13626956.35872698,\n",
      "       -15626860.90014595, -15617340.1870538 , -15542189.69209961,\n",
      "       -16210325.83091764, -16325606.59712011, -16302298.04676677,\n",
      "       -16825955.13556776, -17095653.02193053, -17182741.2508489 ,\n",
      "       -15226939.82714858, -14579558.15864787, -14497751.17865421,\n",
      "       -16221992.25258086, -16029766.96500841, -16268219.73440125,\n",
      "       -17065810.19106981, -17083214.88721254, -17396876.8741198 ,\n",
      "       -18425361.57958007, -18364471.85220787, -18476202.74824791]), 'split2_test_score': array([ -6345320.11528483,  -6738213.86978185,  -6378462.66350718,\n",
      "        -7875635.98201004,  -7754197.51201117,  -7443579.92453458,\n",
      "        -9406103.27195666,  -9571932.63602959,  -9493349.4685284 ,\n",
      "       -12023876.66915184, -11842552.45280377, -11926622.969366  ,\n",
      "        -7384318.07989491,  -7545676.60491177,  -7246316.46778793,\n",
      "        -8854303.2892013 ,  -8843947.47617363,  -9261701.9095534 ,\n",
      "       -10484802.40440956, -10245087.59635672, -10398501.81277415,\n",
      "       -12143314.64842319, -11999004.4015493 , -12137514.31312226]), 'split3_test_score': array([ -5819800.32570122,  -6071552.13498163,  -5662464.03983908,\n",
      "        -8523213.64235527,  -8447398.84061187,  -8553568.16752938,\n",
      "        -9353786.75615428,  -9326807.32084327,  -9404660.25696792,\n",
      "       -10434887.44883736, -10372572.20200176, -10336122.32919302,\n",
      "        -4830555.32215469,  -5292711.5010034 ,  -5011188.23672599,\n",
      "        -9524970.55426282,  -9202854.13679237,  -9224307.48210006,\n",
      "       -10490256.21878153, -10384991.4533282 , -10328094.7601718 ,\n",
      "       -11097133.38145865, -11220894.6202346 , -11196643.3171168 ]), 'split4_test_score': array([ -4536549.50623043,  -4288347.73077882,  -4029565.94559036,\n",
      "        -7391242.89629021,  -7329897.63370861,  -7174582.77563606,\n",
      "        -8038261.69536514,  -7907506.39957453,  -7883681.02374289,\n",
      "       -10024799.44034791,  -9586730.51903664,  -9752637.03861354,\n",
      "        -4623137.56344938,  -4490608.65506592,  -4706118.12810814,\n",
      "        -8215880.38341941,  -8355609.48906539,  -8342420.13439281,\n",
      "        -9182448.9284763 ,  -8952967.06763607,  -8937948.67953425,\n",
      "       -10242625.92150453, -10344006.33535306, -10210743.50597209]), 'mean_test_score': array([ -6796484.75907213,  -6865228.60174311,  -6531795.24943287,\n",
      "        -8607344.27954592,  -8554326.46173916,  -8458816.15394144,\n",
      "        -9447320.18151552,  -9412524.64546932,  -9422175.26932752,\n",
      "       -10942666.7418875 , -10882547.82753479, -10968833.41690881,\n",
      "        -6978114.6243679 ,  -6953608.87258837,  -6829943.09534738,\n",
      "        -9283180.56739506,  -9180144.74401358,  -9339352.432033  ,\n",
      "       -10259296.03779225, -10092549.43716324, -10171018.42004045,\n",
      "       -11286062.3738415 , -11282879.17176431, -11321930.58426236]), 'std_test_score': array([3894969.91734007, 3765109.21465757, 3745090.75864586,\n",
      "       3903098.98753459, 3907863.874948  , 3915722.21734048,\n",
      "       3872315.95042031, 4003452.79351353, 3970328.85504806,\n",
      "       3675902.49789785, 3748908.99392379, 3734743.92383628,\n",
      "       4372853.49969062, 4101034.2784433 , 4097316.52122731,\n",
      "       4045770.9772206 , 4008318.63635036, 4048733.41807894,\n",
      "       4143927.58515218, 4240689.90038951, 4346964.14204738,\n",
      "       4440341.00334142, 4421412.1609155 , 4437063.16611391]), 'rank_test_score': array([ 2,  4,  1,  9,  8,  7, 15, 13, 14, 20, 19, 21,  6,  5,  3, 11, 10,\n",
      "       12, 18, 16, 17, 23, 22, 24])}\n",
      "best_params_:  {'max_depth': None, 'max_features': 'auto', 'min_samples_leaf': 1, 'n_estimators': 300}\n"
     ]
    }
   ],
   "source": [
    "print('score moyen RMSE sur cv: ', -gscv_rfr.best_score_)\n",
    "print('cv_results_: ', gscv_rfr.cv_results_)\n",
    "print('best_params_: ', gscv_rfr.best_params_)"
   ]
  },
  {
   "cell_type": "code",
   "execution_count": 47,
   "metadata": {},
   "outputs": [
    {
     "data": {
      "text/plain": [
       "(480, 49)"
      ]
     },
     "execution_count": 47,
     "metadata": {},
     "output_type": "execute_result"
    }
   ],
   "source": [
    "X_val.shape"
   ]
  },
  {
   "cell_type": "code",
   "execution_count": 48,
   "metadata": {},
   "outputs": [],
   "source": [
    "y_pred_val = gscv_rfr.predict(X_val)\n",
    "regression_report = regression_report.append(get_metrics(y_val, y_pred_val, 'gscv_rfr_on_val'))"
   ]
  },
  {
   "cell_type": "code",
   "execution_count": 49,
   "metadata": {},
   "outputs": [],
   "source": [
    "y_pred_train = gscv_rfr.predict(X_train)\n",
    "regression_report = regression_report.append(get_metrics(y_train, y_pred_train, 'gscv_rfr_on_train'))"
   ]
  },
  {
   "cell_type": "code",
   "execution_count": 50,
   "metadata": {},
   "outputs": [
    {
     "data": {
      "image/png": "[encoded data removed]",
      "text/plain": [
       "<Figure size 720x720 with 1 Axes>"
      ]
     },
     "metadata": {
      "needs_background": "light"
     },
     "output_type": "display_data"
    }
   ],
   "source": [
    "fig, ax = plt.subplots(figsize=(10,10))\n",
    "\n",
    "ax.scatter(y_val, y_pred_val)\n",
    "ax.plot(y_val, y_val, 'r')\n",
    "plt.xlabel('y_val')\n",
    "plt.ylabel('y_pred_val')\n",
    "plt.title('Difference entre valeurs prédites et observées sur val')\n",
    "\n",
    "plt.show()"
   ]
  },
  {
   "cell_type": "markdown",
   "metadata": {},
   "source": [
    "___\n",
    "### Evaluation / Comparaison des modèles\n",
    "___"
   ]
  },
  {
   "cell_type": "markdown",
   "metadata": {},
   "source": [
    "**Rapport de regression**"
   ]
  },
  {
   "cell_type": "code",
   "execution_count": 51,
   "metadata": {},
   "outputs": [
    {
     "data": {
      "text/plain": [
       "<AxesSubplot:title={'center':'Train - Rapport de regression'}>"
      ]
     },
     "execution_count": 51,
     "metadata": {},
     "output_type": "execute_result"
    },
    {
     "data": {
      "image/png": "[encoded data removed]",
      "text/plain": [
       "<Figure size 1440x360 with 1 Axes>"
      ]
     },
     "metadata": {
      "needs_background": "light"
     },
     "output_type": "display_data"
    }
   ],
   "source": [
    "rr = regression_report[regression_report.index.str.contains('train$')].sort_values(by=['r2_score'], ascending=False)\n",
    "fig, ax = plt.subplots(figsize=(20,5))\n",
    "plt.title('Train - Rapport de regression')\n",
    "sns.heatmap(rr,vmin=regression_report.max().Max,vmax=regression_report.max().Max, annot=True, cbar=None,linewidths=.5)"
   ]
  },
  {
   "cell_type": "code",
   "execution_count": 52,
   "metadata": {},
   "outputs": [
    {
     "data": {
      "text/plain": [
       "<AxesSubplot:title={'center':'Val - Rapport de regression'}>"
      ]
     },
     "execution_count": 52,
     "metadata": {},
     "output_type": "execute_result"
    },
    {
     "data": {
      "image/png": "[encoded data removed]",
      "text/plain": [
       "<Figure size 1440x360 with 1 Axes>"
      ]
     },
     "metadata": {
      "needs_background": "light"
     },
     "output_type": "display_data"
    }
   ],
   "source": [
    "rr = regression_report[regression_report.index.str.contains('val$')].sort_values(by=['r2_score'], ascending=False)\n",
    "fig, ax = plt.subplots(figsize=(20,5))\n",
    "plt.title('Val - Rapport de regression')\n",
    "sns.heatmap(rr,vmin=regression_report.max().Max,vmax=regression_report.max().Max, annot=True, cbar=None,linewidths=.5)"
   ]
  },
  {
   "cell_type": "markdown",
   "metadata": {},
   "source": [
    "**Analyse des erreurs**"
   ]
  },
  {
   "cell_type": "code",
   "execution_count": null,
   "metadata": {},
   "outputs": [],
   "source": [
    "df_errors_val = get_errors(y_val,y_pred_val)"
   ]
  },
  {
   "cell_type": "code",
   "execution_count": null,
   "metadata": {},
   "outputs": [],
   "source": [
    "fig, ax = plt.subplots(figsize=(10,10))\n",
    "ax.set_xlim([-5,5 ])\n",
    "ax.hist(df_errors_val['errors_normalized'], bins=500, density=True)\n",
    "\n",
    "plt.title('Histogramme erreurs normalisées')\n",
    "plt.show()"
   ]
  },
  {
   "cell_type": "code",
   "execution_count": null,
   "metadata": {},
   "outputs": [],
   "source": [
    "fig, ax = plt.subplots(figsize=(10,10))\n",
    "\n",
    "ax.scatter(y_val, df_errors_val['errors'])\n",
    "plt.xlabel('y_val')\n",
    "plt.ylabel('errors')\n",
    "plt.title('Erreurs')\n",
    "\n",
    "plt.show()"
   ]
  },
  {
   "cell_type": "code",
   "execution_count": null,
   "metadata": {},
   "outputs": [],
   "source": [
    "fig, ax = plt.subplots(figsize=(10,10))\n",
    "\n",
    "ax.scatter(y_val, df_errors_val['errors_relative'])\n",
    "plt.xlabel('y_val')\n",
    "plt.ylabel('errors_relative')\n",
    "plt.title('Erreurs relatives')\n",
    "\n",
    "plt.show()"
   ]
  },
  {
   "cell_type": "markdown",
   "metadata": {},
   "source": [
    "**Contraintes**"
   ]
  },
  {
   "cell_type": "markdown",
   "metadata": {},
   "source": [
    "Temps d'execution : Inconnu   \n",
    "Capacité de stockage : Inconnu"
   ]
  },
  {
   "cell_type": "markdown",
   "metadata": {},
   "source": [
    "### Optimisation secondaire du meilleur modèle"
   ]
  },
  {
   "cell_type": "markdown",
   "metadata": {},
   "source": [
    "Correlation et importance des variables dans les forets aléatoires\n",
    "\n",
    ">Des simulations numériques confirment\n",
    "d’une part les résultats theoriques et indiquent d’autre part que l’algorithme RFE tend a\n",
    "selectionner un faible nombre de variables avec une bonne erreur de prédiction.\n",
    "\n",
    "B.Gregorutti, B.Michel, P Saint-Pierre *Correlation et importance des variables dans les forets aléatoires* @Univ. Pierre et Marie Curie [source](http://papersjds14.sfds.asso.fr/submission_48.pdf)"
   ]
  },
  {
   "cell_type": "markdown",
   "metadata": {},
   "source": [
    "**selection Recursive feature elimination**"
   ]
  },
  {
   "cell_type": "code",
   "execution_count": null,
   "metadata": {},
   "outputs": [],
   "source": [
    "from sklearn.feature_selection import RFE\n",
    "from sklearn.model_selection import cross_val_score\n",
    "\n",
    "n_features_max = X_train.shape[1]          \n",
    "high_score=0\n",
    "\n",
    "best_n=0           \n",
    "score_list =[]\n",
    "for n in range(1,n_features_max):\n",
    "    best_estimator = gscv_rfr.best_estimator_\n",
    "    rfe = RFE(best_estimator, n_features_to_select = n)\n",
    "    X_train_rfe = rfe.fit_transform(X_train,y_train)\n",
    "    X_test_rfe = rfe.transform(X_test)\n",
    "    scores = cross_val_score(best_estimator, X_train_rfe, y_train, cv=5,scoring='r2')\n",
    "    score = np.mean(scores)\n",
    "    score_list.append(score)\n",
    "    if(score>high_score):\n",
    "        high_score = score\n",
    "        best_n = n\n",
    "        \n",
    "print(f\"Optimum number of features: {best_n}\")\n",
    "print(f\"Score with {best_n} features: {high_score}\")"
   ]
  },
  {
   "cell_type": "code",
   "execution_count": null,
   "metadata": {},
   "outputs": [],
   "source": [
    "best_rfe = RFE(best_estimator, n_features_to_select = best_n)\n",
    "X_train_rfe = best_rfe.fit_transform(X_train,y_train)\n",
    "X_val_rfe = best_rfe.transform(X_val)\n",
    "X_test_rfe = best_rfe.transform(X_test)\n",
    "best_estimator.fit(X_train_rfe,y_train)"
   ]
  },
  {
   "cell_type": "code",
   "execution_count": null,
   "metadata": {},
   "outputs": [],
   "source": [
    "X_val_rfe.shape"
   ]
  },
  {
   "cell_type": "code",
   "execution_count": null,
   "metadata": {},
   "outputs": [],
   "source": [
    "y_pred_val = best_estimator.predict(X_val_rfe)\n",
    "regression_report = regression_report.append(get_metrics(y_val, y_pred_val, 'best_estimator_rfe_on_val'))"
   ]
  },
  {
   "cell_type": "code",
   "execution_count": null,
   "metadata": {},
   "outputs": [],
   "source": [
    "y_pred_train = best_estimator.predict(X_train_rfe)\n",
    "regression_report = regression_report.append(get_metrics(y_train, y_pred_train, 'best_estimator_rfe_on_train'))"
   ]
  },
  {
   "cell_type": "code",
   "execution_count": null,
   "metadata": {},
   "outputs": [],
   "source": [
    "rr = regression_report[regression_report.index.str.contains('val$')].sort_values(by=['r2_score'], ascending=False)\n",
    "\n",
    "fig, ax = plt.subplots(figsize=(20,5))\n",
    "plt.title('Val - Rapport de regression avec RFE')\n",
    "sns.heatmap(rr,vmin=regression_report.max().Max,vmax=regression_report.max().Max, annot=True, cbar=None,linewidths=.5)"
   ]
  },
  {
   "cell_type": "code",
   "execution_count": null,
   "metadata": {},
   "outputs": [],
   "source": [
    "regression_report[regression_report.index.str.contains('train$')].sort_values(by=['r2_score'], ascending=False)"
   ]
  },
  {
   "cell_type": "code",
   "execution_count": null,
   "metadata": {},
   "outputs": [],
   "source": [
    "rr = regression_report[regression_report.index.str.contains('train$')].sort_values(by=['r2_score'], ascending=False)\n",
    "\n",
    "fig, ax = plt.subplots(figsize=(20,5))\n",
    "plt.title('Train - Rapport de regression avec RFE')\n",
    "sns.heatmap(rr,vmin=regression_report.max().Max,vmax=regression_report.max().Max, annot=True, cbar=None,linewidths=.5)"
   ]
  },
  {
   "cell_type": "code",
   "execution_count": null,
   "metadata": {},
   "outputs": [],
   "source": []
  }
 ],
 "metadata": {
  "kernelspec": {
   "display_name": "Python 3",
   "language": "python",
   "name": "python3"
  },
  "language_info": {
   "codemirror_mode": {
    "name": "ipython",
    "version": 3
   },
   "file_extension": ".py",
   "mimetype": "text/x-python",
   "name": "python",
   "nbconvert_exporter": "python",
   "pygments_lexer": "ipython3",
   "version": "3.8.3"
  }
 },
 "nbformat": 4,
 "nbformat_minor": 4
}
