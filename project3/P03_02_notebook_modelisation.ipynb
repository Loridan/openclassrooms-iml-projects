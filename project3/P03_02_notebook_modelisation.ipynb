{
 "cells": [
  {
   "cell_type": "markdown",
   "metadata": {},
   "source": [
    "**Imports des données**"
   ]
  },
  {
   "cell_type": "code",
   "execution_count": 32,
   "metadata": {},
   "outputs": [],
   "source": [
    "import numpy as np\n",
    "import json\n",
    "import pprint\n",
    "import pandas as pd\n",
    "import matplotlib.pyplot as plt\n",
    "import seaborn as sns\n",
    "\n",
    "filename_path = 'data/df.csv'\n",
    "df = pd.read_csv(filename_path)"
   ]
  },
  {
   "cell_type": "markdown",
   "metadata": {},
   "source": [
    "**Parametres divers**"
   ]
  },
  {
   "cell_type": "code",
   "execution_count": 33,
   "metadata": {},
   "outputs": [],
   "source": [
    "pd.set_option('display.max_columns', 20)\n",
    "pd.set_option('display.max_colwidth', 100)"
   ]
  },
  {
   "cell_type": "markdown",
   "metadata": {},
   "source": [
    "**Choix des prédicteurs**   "
   ]
  },
  {
   "cell_type": "code",
   "execution_count": 34,
   "metadata": {},
   "outputs": [],
   "source": [
    "all_columns = [\n",
    "    'DataYear',\n",
    "    'BuildingType',\n",
    "    'PrimaryPropertyType',\n",
    "    'CouncilDistrictCode',\n",
    "    'Neighborhood',\n",
    "    'YearBuilt',\n",
    "    'NumberofBuildings',\n",
    "    'NumberofFloors',\n",
    "    'PropertyGFATotal',\n",
    "    'PropertyGFAParking',\n",
    "    'PropertyGFABuilding(s)',\n",
    "    'LargestPropertyUseType',\n",
    "    'LargestPropertyUseTypeGFA',\n",
    "    'SecondLargestPropertyUseTypeGFA',\n",
    "    'ThirdLargestPropertyUseTypeGFA',\n",
    "    'SiteEnergyUseWN(kBtu)',\n",
    "    'GHGEmissions(MetricTonsCO2e)',\n",
    "    'ENERGYSTARScore']"
   ]
  },
  {
   "cell_type": "code",
   "execution_count": 35,
   "metadata": {},
   "outputs": [],
   "source": [
    "\"\"\"predicators_columns = [\n",
    "    'DataYear',\n",
    "    'BuildingType',\n",
    "    'PrimaryPropertyType',\n",
    "    'CouncilDistrictCode',\n",
    "    'Neighborhood',\n",
    "    'YearBuilt',\n",
    "    'NumberofBuildings',\n",
    "    'NumberofFloors',\n",
    "    'PropertyGFATotal',\n",
    "    'PropertyGFAParking',\n",
    "    'PropertyGFABuilding(s)',\n",
    "    'LargestPropertyUseType',\n",
    "    'LargestPropertyUseTypeGFA',\n",
    "    'SecondLargestPropertyUseTypeGFA',\n",
    "    'ThirdLargestPropertyUseTypeGFA']\"\"\"\n",
    "\n",
    "predicators_columns = [\n",
    "    'NumberofBuildings',\n",
    "    'PropertyGFATotal',\n",
    "    'GHGEmissions(MetricTonsCO2e)']\n",
    "\n",
    "target_columns = [\n",
    "    'SiteEnergyUseWN(kBtu)','GHGEmissions(MetricTonsCO2e)']\n",
    "\n",
    "X = df.loc[:, predicators_columns]\n",
    "y = df.loc[:, target_columns[0]]"
   ]
  },
  {
   "cell_type": "markdown",
   "metadata": {},
   "source": [
    "**Separation du jeux de données pour l'entrainement puis l'évaluation**"
   ]
  },
  {
   "cell_type": "code",
   "execution_count": 36,
   "metadata": {},
   "outputs": [],
   "source": [
    "from sklearn.model_selection import train_test_split\n",
    "\n",
    "X_train, X_test, y_train, y_test = train_test_split(X, y, test_size=0.2)"
   ]
  },
  {
   "cell_type": "markdown",
   "metadata": {},
   "source": [
    "**Preprocessing**"
   ]
  },
  {
   "cell_type": "markdown",
   "metadata": {},
   "source": [
    "*Détection des valeurs aberrantes ( Outlier Detection )*"
   ]
  },
  {
   "cell_type": "code",
   "execution_count": 37,
   "metadata": {},
   "outputs": [
    {
     "name": "stdout",
     "output_type": "stream",
     "text": [
      "Nombre d'outliers : 254\n",
      "Nombre d'inliers : 4814\n"
     ]
    }
   ],
   "source": [
    "from sklearn.neighbors import LocalOutlierFactor\n",
    "\n",
    "local_outlier_factor = LocalOutlierFactor(n_neighbors=20, contamination=0.05)\n",
    "\n",
    "labels = local_outlier_factor.fit_predict(X_train)\n",
    "\n",
    "X_scores = local_outlier_factor.negative_outlier_factor_\n",
    "\n",
    "print(f'Nombre d\\'outliers : {np.count_nonzero(labels == -1)}')\n",
    "print(f'Nombre d\\'inliers : {np.count_nonzero(labels == 1)}')\n",
    "\n",
    "X_train = X_train[labels == 1]\n",
    "y_train = y_train[labels == 1]"
   ]
  },
  {
   "cell_type": "markdown",
   "metadata": {},
   "source": [
    "*Mise à l'échelle ( Feature scaling )*"
   ]
  },
  {
   "cell_type": "code",
   "execution_count": 38,
   "metadata": {},
   "outputs": [],
   "source": [
    "from sklearn import preprocessing\n",
    "from sklearn.preprocessing import StandardScaler\n",
    "\n",
    "standard_scaler_X = StandardScaler().fit(X_train)\n",
    "\n",
    "X_train = standard_scaler_X.transform(X_train)\n",
    "X_test = standard_scaler_X.transform(X_test)\n",
    "\n",
    "y_train = y_train.to_numpy()\n",
    "y_test = y_test.to_numpy()"
   ]
  },
  {
   "cell_type": "markdown",
   "metadata": {},
   "source": [
    "### Modélisations sans validation croisée"
   ]
  },
  {
   "cell_type": "markdown",
   "metadata": {},
   "source": [
    "**0) Régression Baseline**"
   ]
  },
  {
   "cell_type": "code",
   "execution_count": 39,
   "metadata": {},
   "outputs": [
    {
     "data": {
      "text/plain": [
       "DummyRegressor()"
      ]
     },
     "execution_count": 39,
     "metadata": {},
     "output_type": "execute_result"
    }
   ],
   "source": [
    "from sklearn.dummy import DummyRegressor\n",
    "\n",
    "dummy_regression = DummyRegressor(strategy=\"mean\")\n",
    "dummy_regression.fit(X_train,y_train)"
   ]
  },
  {
   "cell_type": "code",
   "execution_count": 40,
   "metadata": {},
   "outputs": [
    {
     "name": "stdout",
     "output_type": "stream",
     "text": [
      "score mse:  164454651327194.53\n",
      "score r2:  -5.789862244753863e-06\n"
     ]
    }
   ],
   "source": [
    "print('score mse: ', np.mean((dummy_regression.predict(X_test) - y_test) ** 2))\n",
    "print('score r2: ', dummy_regression.score(X_test, y_test))"
   ]
  },
  {
   "cell_type": "markdown",
   "metadata": {},
   "source": [
    "**1) Régression Linéaire**"
   ]
  },
  {
   "cell_type": "code",
   "execution_count": 41,
   "metadata": {},
   "outputs": [
    {
     "data": {
      "text/plain": [
       "LinearRegression()"
      ]
     },
     "execution_count": 41,
     "metadata": {},
     "output_type": "execute_result"
    }
   ],
   "source": [
    "from sklearn.linear_model import LinearRegression\n",
    "\n",
    "linear_regression = LinearRegression()\n",
    "linear_regression.fit(X_train,y_train)"
   ]
  },
  {
   "cell_type": "code",
   "execution_count": 42,
   "metadata": {},
   "outputs": [
    {
     "name": "stdout",
     "output_type": "stream",
     "text": [
      "score mse:  13643555452734.049\n",
      "score r2:  0.9170371021012009\n"
     ]
    }
   ],
   "source": [
    "print('score mse: ', np.mean((linear_regression.predict(X_test) - y_test) ** 2))\n",
    "print('score r2: ', linear_regression.score(X_test, y_test))"
   ]
  },
  {
   "cell_type": "markdown",
   "metadata": {},
   "source": [
    "**2) Régression Ridge**"
   ]
  },
  {
   "cell_type": "code",
   "execution_count": 43,
   "metadata": {},
   "outputs": [],
   "source": [
    "from sklearn.linear_model import Ridge\n",
    "\n",
    "ridge_regression = Ridge()\n",
    "\n",
    "n_alphas = 200\n",
    "alphas = np.logspace(-5, 5, n_alphas)\n",
    "coefs = []\n",
    "errors = []\n",
    "for a in alphas:\n",
    "    ridge_regression.set_params(alpha=a)\n",
    "    ridge_regression.fit(X_train, y_train)\n",
    "    coefs.append(ridge_regression.coef_.flatten())\n",
    "    errors.append(np.mean((ridge_regression.predict(X_test) - y_test) ** 2))"
   ]
  },
  {
   "cell_type": "code",
   "execution_count": 44,
   "metadata": {},
   "outputs": [
    {
     "name": "stdout",
     "output_type": "stream",
     "text": [
      "score mse:  11791430579552.785\n",
      "score r2:  0.9282993898004657\n"
     ]
    }
   ],
   "source": [
    "alpha_min = alphas[np.argmin(errors)]\n",
    "ridge_regression.set_params(alpha=alpha_min)\n",
    "ridge_regression.fit(X_train, y_train)\n",
    "\n",
    "print('score mse: ', np.mean((ridge_regression.predict(X_test) - y_test) ** 2))\n",
    "print('score r2: ', ridge_regression.score(X_test, y_test))"
   ]
  },
  {
   "cell_type": "code",
   "execution_count": 45,
   "metadata": {},
   "outputs": [
    {
     "data": {
      "image/png": "[encoded data removed]",
      "text/plain": [
       "<Figure size 720x360 with 1 Axes>"
      ]
     },
     "metadata": {
      "needs_background": "light"
     },
     "output_type": "display_data"
    }
   ],
   "source": [
    "# Affiche le chemin de régularisation\n",
    "fig, ax = plt.subplots(figsize=(10,5))\n",
    "ax.plot(alphas, coefs)\n",
    "\n",
    "plt.axvline(x=alpha_min,linewidth=2, color='r')\n",
    "plt.xscale('log')\n",
    "plt.xlabel('alpha')\n",
    "plt.ylabel('coefficients')\n",
    "plt.title('Ridge - chemin de régularisation')\n",
    "plt.axis('tight')\n",
    "plt.show()"
   ]
  },
  {
   "cell_type": "code",
   "execution_count": 46,
   "metadata": {},
   "outputs": [
    {
     "data": {
      "image/png": "[encoded data removed]",
      "text/plain": [
       "<Figure size 720x360 with 1 Axes>"
      ]
     },
     "metadata": {
      "needs_background": "light"
     },
     "output_type": "display_data"
    }
   ],
   "source": [
    "# Affiche la courbe d'erreurs en fonction de la régularisation\n",
    "fig, ax = plt.subplots(figsize=(10,5))\n",
    "ax.plot(alphas, errors)\n",
    "\n",
    "plt.axvline(x=alpha_min,linewidth=2, color='r')\n",
    "plt.xscale('log')\n",
    "plt.xlabel('alpha')\n",
    "plt.ylabel('errors')\n",
    "plt.title('Erreurs en fonction de alpha')\n",
    "plt.axis('tight')\n",
    "plt.show()"
   ]
  },
  {
   "cell_type": "markdown",
   "metadata": {},
   "source": [
    "**3) Régression Lasso**"
   ]
  },
  {
   "cell_type": "code",
   "execution_count": 47,
   "metadata": {},
   "outputs": [],
   "source": [
    "from sklearn.linear_model import Lasso\n",
    "\n",
    "n_alphas = 300\n",
    "alphas = np.logspace(-5, 10, n_alphas)\n",
    "lasso_regression = Lasso(fit_intercept=False)\n",
    "\n",
    "coefs = []\n",
    "errors = []\n",
    "for a in alphas:\n",
    "    lasso_regression.set_params(alpha=a)\n",
    "    lasso_regression.fit(X_train, y_train)\n",
    "    coefs.append(lasso_regression.coef_.flatten())\n",
    "    errors.append(np.mean((lasso_regression.predict(X_test) - y_test) ** 2))"
   ]
  },
  {
   "cell_type": "code",
   "execution_count": 48,
   "metadata": {},
   "outputs": [
    {
     "name": "stdout",
     "output_type": "stream",
     "text": [
      "score mse:  36275010800668.47\n",
      "score r2:  0.7794211319945477\n"
     ]
    }
   ],
   "source": [
    "alpha_min = alphas[np.argmin(errors)]\n",
    "lasso_regression.set_params(alpha=alpha_min)\n",
    "lasso_regression.fit(X_train, y_train)\n",
    "\n",
    "print('score mse: ', np.mean((lasso_regression.predict(X_test) - y_test) ** 2))\n",
    "print('score r2: ', lasso_regression.score(X_test, y_test))"
   ]
  },
  {
   "cell_type": "code",
   "execution_count": 49,
   "metadata": {},
   "outputs": [
    {
     "data": {
      "image/png": "[encoded data removed]",
      "text/plain": [
       "<Figure size 720x360 with 1 Axes>"
      ]
     },
     "metadata": {
      "needs_background": "light"
     },
     "output_type": "display_data"
    }
   ],
   "source": [
    "# Affiche le chemin de régularisation\n",
    "fig, ax = plt.subplots(figsize=(10,5))\n",
    "ax.plot(alphas, coefs)\n",
    "plt.axvline(x=alpha_min,linewidth=2, color='r')\n",
    "\n",
    "plt.xscale('log')\n",
    "plt.xlabel('alpha')\n",
    "plt.ylabel('coefficients')\n",
    "plt.title('Lasso - chemin de régularisation')\n",
    "plt.axis('tight')\n",
    "plt.show()"
   ]
  },
  {
   "cell_type": "code",
   "execution_count": 50,
   "metadata": {},
   "outputs": [
    {
     "data": {
      "image/png": "[encoded data removed]",
      "text/plain": [
       "<Figure size 720x360 with 1 Axes>"
      ]
     },
     "metadata": {
      "needs_background": "light"
     },
     "output_type": "display_data"
    }
   ],
   "source": [
    "# Affiche la courbe d'erreurs en fonction de la régularisation\n",
    "fig, ax = plt.subplots(figsize=(10,5))\n",
    "ax.plot(alphas, errors)\n",
    "\n",
    "plt.axvline(x=alpha_min,linewidth=2, color='r')\n",
    "plt.xscale('log')\n",
    "plt.xlabel('alpha')\n",
    "plt.ylabel('errors')\n",
    "plt.title('Erreurs en fonction de alpha')\n",
    "plt.axis('tight')\n",
    "plt.show()"
   ]
  },
  {
   "cell_type": "markdown",
   "metadata": {},
   "source": [
    "**4) Elastic Net**"
   ]
  },
  {
   "cell_type": "code",
   "execution_count": 51,
   "metadata": {},
   "outputs": [],
   "source": [
    "from sklearn.linear_model import ElasticNet\n",
    "\n",
    "n_alphas = 300\n",
    "alphas = np.logspace(-5, 10, n_alphas)\n",
    "elasticnet_regression = ElasticNet(l1_ratio=0.5 , max_iter=10000, fit_intercept=False)\n",
    "\n",
    "coefs = []\n",
    "errors = []\n",
    "for a in alphas:\n",
    "    elasticnet_regression.set_params(alpha=a)\n",
    "    elasticnet_regression.fit(X_train, y_train)\n",
    "    coefs.append(elasticnet_regression.coef_.flatten())\n",
    "    errors.append(np.mean((elasticnet_regression.predict(X_test) - y_test) ** 2))"
   ]
  },
  {
   "cell_type": "code",
   "execution_count": 52,
   "metadata": {},
   "outputs": [
    {
     "name": "stdout",
     "output_type": "stream",
     "text": [
      "score mse:  35737510682457.57\n",
      "score r2:  0.7826895298533174\n"
     ]
    }
   ],
   "source": [
    "alpha_min = alphas[np.argmin(errors)]\n",
    "elasticnet_regression.set_params(alpha=alpha_min)\n",
    "elasticnet_regression.fit(X_train, y_train)\n",
    "\n",
    "print('score mse: ', np.mean((elasticnet_regression.predict(X_test) - y_test) ** 2))\n",
    "print('score r2: ', elasticnet_regression.score(X_test, y_test))"
   ]
  },
  {
   "cell_type": "code",
   "execution_count": 53,
   "metadata": {},
   "outputs": [
    {
     "data": {
      "image/png": "[encoded data removed]",
      "text/plain": [
       "<Figure size 720x360 with 1 Axes>"
      ]
     },
     "metadata": {
      "needs_background": "light"
     },
     "output_type": "display_data"
    }
   ],
   "source": [
    "fig, ax = plt.subplots(figsize=(10,5))\n",
    "ax.plot(alphas, coefs)\n",
    "\n",
    "plt.axvline(x=alpha_min,linewidth=2, color='r')\n",
    "plt.xscale('log')\n",
    "plt.xlabel('alpha')\n",
    "plt.ylabel('coefficients')\n",
    "plt.title('ElasticNet - chemin de régularisation')\n",
    "plt.axis('tight')\n",
    "plt.show()"
   ]
  },
  {
   "cell_type": "code",
   "execution_count": 54,
   "metadata": {},
   "outputs": [
    {
     "data": {
      "image/png": "[encoded data removed]",
      "text/plain": [
       "<Figure size 720x360 with 1 Axes>"
      ]
     },
     "metadata": {
      "needs_background": "light"
     },
     "output_type": "display_data"
    }
   ],
   "source": [
    "fig, ax = plt.subplots(figsize=(10,5))\n",
    "ax.plot(alphas, errors)\n",
    "\n",
    "plt.axvline(x=alpha_min,linewidth=2, color='r')\n",
    "plt.xscale('log')\n",
    "plt.xlabel('alpha')\n",
    "plt.ylabel('errors')\n",
    "plt.title('Erreurs en fonction de alpha')\n",
    "plt.axis('tight')\n",
    "plt.show()"
   ]
  },
  {
   "cell_type": "markdown",
   "metadata": {},
   "source": [
    "### Modélisations avec validation croisée\n",
    "Mise en place de la validation croisée et d'une méthode d'optimisation à l'aide d'une grille paramétrable"
   ]
  },
  {
   "cell_type": "markdown",
   "metadata": {},
   "source": [
    "**5) GridSearchCV - Régression Linéaire**"
   ]
  },
  {
   "cell_type": "code",
   "execution_count": 55,
   "metadata": {},
   "outputs": [
    {
     "data": {
      "text/plain": [
       "GridSearchCV(cv=5, estimator=LinearRegression(), param_grid={}, scoring='r2')"
      ]
     },
     "execution_count": 55,
     "metadata": {},
     "output_type": "execute_result"
    }
   ],
   "source": [
    "from sklearn.linear_model import LinearRegression\n",
    "from sklearn.model_selection import GridSearchCV\n",
    "\n",
    "# Création du modele linéaire\n",
    "linear_regression = LinearRegression()\n",
    "\n",
    "# Création du dictionnaire d'hyperparamètres\n",
    "hyperparameters = dict()\n",
    "\n",
    "# Création d'une recherche par grille paramétrable utilisant une validation croisée de 5 plis (K-Fold) et nos hyperparametres\n",
    "gscv_linear_regression = GridSearchCV(linear_regression, hyperparameters, cv=5, scoring='r2')\n",
    "\n",
    "# Entrainement\n",
    "gscv_linear_regression.fit(X_train,y_train)"
   ]
  },
  {
   "cell_type": "code",
   "execution_count": 56,
   "metadata": {},
   "outputs": [
    {
     "name": "stdout",
     "output_type": "stream",
     "text": [
      "coefficients:  [  396544.30092679  3356200.23902302 11760543.50776735]\n",
      "score moyen sur cv:  0.8423280254322607\n",
      "score mse:  13643555452734.049\n",
      "score r2:  0.9170371021012009\n"
     ]
    }
   ],
   "source": [
    "print('coefficients: ', gscv_linear_regression.best_estimator_.coef_.flatten())\n",
    "print('score moyen sur cv: ', gscv_linear_regression.best_score_)\n",
    "print('score mse: ', np.mean((gscv_linear_regression.predict(X_test) - y_test) ** 2))\n",
    "print('score r2: ', gscv_linear_regression.score(X_test, y_test))"
   ]
  },
  {
   "cell_type": "markdown",
   "metadata": {},
   "source": [
    "**6) GridSearchCV - Ridge**"
   ]
  },
  {
   "cell_type": "code",
   "execution_count": 57,
   "metadata": {},
   "outputs": [
    {
     "data": {
      "text/plain": [
       "GridSearchCV(cv=5, estimator=Ridge(),\n",
       "             param_grid={'alpha': array([1.00000000e-05, 1.12245057e-05, 1.25989528e-05, 1.41417017e-05,\n",
       "       1.58733611e-05, 1.78170632e-05, 1.99987727e-05, 2.24476338e-05,\n",
       "       2.51963593e-05, 2.82816678e-05, 3.17447741e-05, 3.56319397e-05,\n",
       "       3.99950910e-05, 4.48925126e-05, 5.03896263e-05, 5.65598646e-05,\n",
       "       6.34856522e-05, 7.12595063e-05, 7.99852734e-05, 8....\n",
       "       7.01703829e+08, 7.87627861e+08, 8.84073340e+08, 9.92328623e+08,\n",
       "       1.11383983e+09, 1.25023015e+09, 1.40332154e+09, 1.57515906e+09,\n",
       "       1.76803818e+09, 1.98453546e+09, 2.22754295e+09, 2.50030685e+09,\n",
       "       2.80647085e+09, 3.15012480e+09, 3.53585937e+09, 3.96882735e+09,\n",
       "       4.45481252e+09, 5.00030684e+09, 5.61259726e+09, 6.29986298e+09,\n",
       "       7.07128478e+09, 7.93716762e+09, 8.90907830e+09, 1.00000000e+10])},\n",
       "             scoring='r2')"
      ]
     },
     "execution_count": 57,
     "metadata": {},
     "output_type": "execute_result"
    }
   ],
   "source": [
    "from sklearn.linear_model import Ridge\n",
    "from sklearn.model_selection import GridSearchCV\n",
    "\n",
    "# Création du modele Ridge\n",
    "ridge_regression = Ridge()\n",
    "\n",
    "# Création de l'espace des hyperparamètres alphas de régularisation\n",
    "n_alphas = 300\n",
    "alpha = np.logspace(-5, 10, n_alphas)\n",
    "\n",
    "# Création du dictionnaire d'hyperparamètres\n",
    "hyperparameters = dict(alpha=alpha)\n",
    "\n",
    "# Création d'une recherche par grille paramétrable utilisant une validation croisée de 5 plis (K-Fold) et nos hyperparametres\n",
    "gscv_ridge_regression = GridSearchCV(ridge_regression, hyperparameters, cv=5, scoring='r2')\n",
    "\n",
    "# Entrainement\n",
    "gscv_ridge_regression.fit(X_train,y_train)"
   ]
  },
  {
   "cell_type": "code",
   "execution_count": 58,
   "metadata": {},
   "outputs": [
    {
     "name": "stdout",
     "output_type": "stream",
     "text": [
      "coefficients:  [  409204.70978615  3379756.54385092 11589112.53649455]\n",
      "alpha:  66.48787838417263\n",
      "score moyen sur cv:  0.8425835844007425\n",
      "score mse:  13230738602115.87\n",
      "score r2:  0.9195473335688992\n"
     ]
    }
   ],
   "source": [
    "print('coefficients: ', gscv_ridge_regression.best_estimator_.coef_.flatten())\n",
    "print('alpha: ', gscv_ridge_regression.best_estimator_.get_params()['alpha'])\n",
    "print('score moyen sur cv: ', gscv_ridge_regression.best_score_)\n",
    "print('score mse: ', np.mean((gscv_ridge_regression.predict(X_test) - y_test) ** 2))\n",
    "print('score r2: ', gscv_ridge_regression.score(X_test, y_test))"
   ]
  },
  {
   "cell_type": "markdown",
   "metadata": {},
   "source": [
    "**7) GridSearchCV - Lasso**"
   ]
  },
  {
   "cell_type": "code",
   "execution_count": 59,
   "metadata": {},
   "outputs": [
    {
     "data": {
      "text/plain": [
       "GridSearchCV(cv=5, estimator=Lasso(),\n",
       "             param_grid={'alpha': array([1.00000000e-05, 1.12245057e-05, 1.25989528e-05, 1.41417017e-05,\n",
       "       1.58733611e-05, 1.78170632e-05, 1.99987727e-05, 2.24476338e-05,\n",
       "       2.51963593e-05, 2.82816678e-05, 3.17447741e-05, 3.56319397e-05,\n",
       "       3.99950910e-05, 4.48925126e-05, 5.03896263e-05, 5.65598646e-05,\n",
       "       6.34856522e-05, 7.12595063e-05, 7.99852734e-05, 8....\n",
       "       7.01703829e+08, 7.87627861e+08, 8.84073340e+08, 9.92328623e+08,\n",
       "       1.11383983e+09, 1.25023015e+09, 1.40332154e+09, 1.57515906e+09,\n",
       "       1.76803818e+09, 1.98453546e+09, 2.22754295e+09, 2.50030685e+09,\n",
       "       2.80647085e+09, 3.15012480e+09, 3.53585937e+09, 3.96882735e+09,\n",
       "       4.45481252e+09, 5.00030684e+09, 5.61259726e+09, 6.29986298e+09,\n",
       "       7.07128478e+09, 7.93716762e+09, 8.90907830e+09, 1.00000000e+10])},\n",
       "             scoring='r2')"
      ]
     },
     "execution_count": 59,
     "metadata": {},
     "output_type": "execute_result"
    }
   ],
   "source": [
    "from sklearn.linear_model import Lasso\n",
    "from sklearn.model_selection import GridSearchCV\n",
    "\n",
    "# Création du modele Lasso\n",
    "lasso_regression = Lasso()\n",
    "\n",
    "# Création de l'espace des hyperparamètres alphas de régularisation\n",
    "n_alphas = 300\n",
    "alpha = np.logspace(-5, 10, n_alphas)\n",
    "\n",
    "# Création du dictionnaire d'hyperparamètres\n",
    "hyperparameters = dict(alpha=alpha)\n",
    "\n",
    "# Création d'une recherche par grille paramétrable utilisant une validation croisée de 5 plis (K-Fold) et nos hyperparametres\n",
    "gscv_lasso_regression = GridSearchCV(lasso_regression, hyperparameters, cv=5, scoring='r2')\n",
    "\n",
    "# Entrainement\n",
    "gscv_lasso_regression.fit(X_train,y_train)"
   ]
  },
  {
   "cell_type": "code",
   "execution_count": 60,
   "metadata": {},
   "outputs": [
    {
     "name": "stdout",
     "output_type": "stream",
     "text": [
      "coefficients:  [  338269.07769637  3312158.35386768 11717955.65748312]\n",
      "alpha:  68041.81968927094\n",
      "score moyen sur cv:  0.8423837188105171\n",
      "score mse:  13440337193672.219\n",
      "score r2:  0.9182728192671643\n"
     ]
    }
   ],
   "source": [
    "print('coefficients: ', gscv_lasso_regression.best_estimator_.coef_.flatten())\n",
    "print('alpha: ', gscv_lasso_regression.best_estimator_.get_params()['alpha'])\n",
    "print('score r2 moyen sur cv: ', gscv_lasso_regression.best_score_)\n",
    "print('score mse: ', np.mean((gscv_lasso_regression.predict(X_test) - y_test) ** 2))\n",
    "print('score r2: ', gscv_lasso_regression.score(X_test, y_test))"
   ]
  },
  {
   "cell_type": "markdown",
   "metadata": {},
   "source": [
    "**8) GridSearchCV - ElasticNet**"
   ]
  },
  {
   "cell_type": "code",
   "execution_count": 61,
   "metadata": {},
   "outputs": [
    {
     "name": "stderr",
     "output_type": "stream",
     "text": [
      "C:\\Users\\adrie\\anaconda3\\lib\\site-packages\\sklearn\\linear_model\\_coordinate_descent.py:529: ConvergenceWarning: Objective did not converge. You might want to increase the number of iterations. Duality gap: 221021102912.0, tolerance: 74142923475.2211\n",
      "  model = cd_fast.enet_coordinate_descent(\n",
      "C:\\Users\\adrie\\anaconda3\\lib\\site-packages\\sklearn\\linear_model\\_coordinate_descent.py:529: ConvergenceWarning: Objective did not converge. You might want to increase the number of iterations. Duality gap: 4405753148976.0, tolerance: 92503874600.41438\n",
      "  model = cd_fast.enet_coordinate_descent(\n",
      "C:\\Users\\adrie\\anaconda3\\lib\\site-packages\\sklearn\\linear_model\\_coordinate_descent.py:529: ConvergenceWarning: Objective did not converge. You might want to increase the number of iterations. Duality gap: 1020805176080.0, tolerance: 71205781340.02573\n",
      "  model = cd_fast.enet_coordinate_descent(\n",
      "C:\\Users\\adrie\\anaconda3\\lib\\site-packages\\sklearn\\linear_model\\_coordinate_descent.py:529: ConvergenceWarning: Objective did not converge. You might want to increase the number of iterations. Duality gap: 92672881120.0, tolerance: 87324808420.43596\n",
      "  model = cd_fast.enet_coordinate_descent(\n",
      "C:\\Users\\adrie\\anaconda3\\lib\\site-packages\\sklearn\\linear_model\\_coordinate_descent.py:529: ConvergenceWarning: Objective did not converge. You might want to increase the number of iterations. Duality gap: 474389579936.0, tolerance: 87324808420.43596\n",
      "  model = cd_fast.enet_coordinate_descent(\n",
      "C:\\Users\\adrie\\anaconda3\\lib\\site-packages\\sklearn\\linear_model\\_coordinate_descent.py:529: ConvergenceWarning: Objective did not converge. You might want to increase the number of iterations. Duality gap: 540949668336.0, tolerance: 74142923475.2211\n",
      "  model = cd_fast.enet_coordinate_descent(\n",
      "C:\\Users\\adrie\\anaconda3\\lib\\site-packages\\sklearn\\linear_model\\_coordinate_descent.py:529: ConvergenceWarning: Objective did not converge. You might want to increase the number of iterations. Duality gap: 180169071040.0, tolerance: 74142923475.2211\n",
      "  model = cd_fast.enet_coordinate_descent(\n",
      "C:\\Users\\adrie\\anaconda3\\lib\\site-packages\\sklearn\\linear_model\\_coordinate_descent.py:529: ConvergenceWarning: Objective did not converge. You might want to increase the number of iterations. Duality gap: 750420557888.0, tolerance: 92503874600.41438\n",
      "  model = cd_fast.enet_coordinate_descent(\n",
      "C:\\Users\\adrie\\anaconda3\\lib\\site-packages\\sklearn\\linear_model\\_coordinate_descent.py:529: ConvergenceWarning: Objective did not converge. You might want to increase the number of iterations. Duality gap: 471095068000.0, tolerance: 92503874600.41438\n",
      "  model = cd_fast.enet_coordinate_descent(\n",
      "C:\\Users\\adrie\\anaconda3\\lib\\site-packages\\sklearn\\linear_model\\_coordinate_descent.py:529: ConvergenceWarning: Objective did not converge. You might want to increase the number of iterations. Duality gap: 230500745712.0, tolerance: 74142923475.2211\n",
      "  model = cd_fast.enet_coordinate_descent(\n"
     ]
    },
    {
     "data": {
      "text/plain": [
       "GridSearchCV(cv=5, estimator=ElasticNet(),\n",
       "             param_grid={'alpha': array([1.00000000e-05, 1.41747416e-05, 2.00923300e-05, 2.84803587e-05,\n",
       "       4.03701726e-05, 5.72236766e-05, 8.11130831e-05, 1.14975700e-04,\n",
       "       1.62975083e-04, 2.31012970e-04, 3.27454916e-04, 4.64158883e-04,\n",
       "       6.57933225e-04, 9.32603347e-04, 1.32194115e-03, 1.87381742e-03,\n",
       "       2.65608778e-03, 3.76493581e-03, 5.33669923e-...\n",
       "       5.33669923e+07, 7.56463328e+07, 1.07226722e+08, 1.51991108e+08,\n",
       "       2.15443469e+08, 3.05385551e+08, 4.32876128e+08, 6.13590727e+08,\n",
       "       8.69749003e+08, 1.23284674e+09, 1.74752840e+09, 2.47707636e+09,\n",
       "       3.51119173e+09, 4.97702356e+09, 7.05480231e+09, 1.00000000e+10]),\n",
       "                         'l1_ratio': array([0.1, 0.2, 0.3, 0.4, 0.5, 0.6, 0.7, 0.8, 0.9]),\n",
       "                         'max_iter': [1000000],\n",
       "                         'tol': array([1.e-07, 1.e-05])},\n",
       "             scoring='r2')"
      ]
     },
     "execution_count": 61,
     "metadata": {},
     "output_type": "execute_result"
    }
   ],
   "source": [
    "from sklearn.linear_model import ElasticNet\n",
    "from sklearn.model_selection import GridSearchCV\n",
    "\n",
    "# Création du modele ElasticNet\n",
    "elasticnet_regression = ElasticNet()\n",
    "\n",
    "# Création de l'espace des hyperparamétres : alphas de régularisation\n",
    "n_alphas = 100\n",
    "alpha = np.logspace(-5, 10, n_alphas)\n",
    "\n",
    "# Création de l'espace des hyperparamètres : ratio entre (x)l1 (1-x)l2\n",
    "l1_ratio = np.arange(0.1,1,0.1)\n",
    "                 \n",
    " # Création de l'espace des hyperparamètres : max_iter\n",
    "max_iter = [1000000]\n",
    "\n",
    " # Création de l'espace des hyperparamètres : tol\n",
    "tol = np.logspace(-7,-5, 2)\n",
    "\n",
    "# Création du dictionnaire d'hyperparamètres\n",
    "hyperparameters = dict(alpha=alpha, l1_ratio=l1_ratio , max_iter=max_iter , tol=tol)\n",
    "\n",
    "# Création d'une recherche par grille paramétrable utilisant une validation croisée de 5 plis (K-Fold) et nos hyperparametres\n",
    "gscv_elasticnet_regression = GridSearchCV(elasticnet_regression, hyperparameters, cv=5, scoring='r2')\n",
    "\n",
    "# Entrainement\n",
    "gscv_elasticnet_regression.fit(X_train,y_train)"
   ]
  },
  {
   "cell_type": "code",
   "execution_count": 62,
   "metadata": {},
   "outputs": [
    {
     "name": "stdout",
     "output_type": "stream",
     "text": [
      "coefficients:  [  412438.21584175  3385499.32508356 11544638.31194391]\n",
      "alpha:  0.1747528400007683\n",
      "l1_ratio:  0.9\n",
      "max_iter:  1000000\n",
      "tol:  1e-05\n",
      "score moyen sur cv:  0.8425836036375897\n",
      "score mse:  13131814938963.979\n",
      "score r2:  0.9201488625320993\n"
     ]
    }
   ],
   "source": [
    "print('coefficients: ', gscv_elasticnet_regression.best_estimator_.coef_.flatten())\n",
    "print('alpha: ', gscv_elasticnet_regression.best_estimator_.get_params()['alpha'])\n",
    "print('l1_ratio: ', gscv_elasticnet_regression.best_estimator_.get_params()['l1_ratio'])\n",
    "print('max_iter: ', gscv_elasticnet_regression.best_estimator_.get_params()['max_iter'])\n",
    "print('tol: ', gscv_elasticnet_regression.best_estimator_.get_params()['tol'])\n",
    "print('score moyen sur cv: ', gscv_elasticnet_regression.best_score_)\n",
    "print('score mse: ', np.mean((gscv_elasticnet_regression.predict(X_test) - y_test) ** 2))\n",
    "print('score r2: ', gscv_elasticnet_regression.score(X_test, y_test))"
   ]
  },
  {
   "cell_type": "code",
   "execution_count": null,
   "metadata": {},
   "outputs": [],
   "source": []
  }
 ],
 "metadata": {
  "kernelspec": {
   "display_name": "Python 3",
   "language": "python",
   "name": "python3"
  },
  "language_info": {
   "codemirror_mode": {
    "name": "ipython",
    "version": 3
   },
   "file_extension": ".py",
   "mimetype": "text/x-python",
   "name": "python",
   "nbconvert_exporter": "python",
   "pygments_lexer": "ipython3",
   "version": "3.8.3"
  }
 },
 "nbformat": 4,
 "nbformat_minor": 4
}
