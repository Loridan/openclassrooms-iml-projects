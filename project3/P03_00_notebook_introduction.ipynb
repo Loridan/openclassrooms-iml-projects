{
 "cells": [
  {
   "cell_type": "markdown",
   "metadata": {},
   "source": [
    "# 0 - Introduction\n",
    "---"
   ]
  },
  {
   "cell_type": "markdown",
   "metadata": {},
   "source": [
    "**Présentation de la problématique**   \n",
    "La ville de Seattle à pour objectif de réduire ses émissions de carbone.\n",
    "\n",
    "Nous allons nous intéresser aux consommations d'énergie et aux émissions de CO2 des bâtiments non destinés à l’habitation.\n",
    "\n",
    "Afin d'anticiper les besoins en consommation électrique de bâtiments, nous voulons étudier la possibilité qu'une application prédise la consommation totale d’énergie et des bâtiments les émissions de CO2 n'ayant pas été mesurés.\n",
    "\n",
    "Nous allons nous interesser également à un label et à son intêret pour notre application."
   ]
  },
  {
   "cell_type": "markdown",
   "metadata": {},
   "source": [
    "**Information métier sur l'ENERGYSTAR® SCORE**   \n",
    "ENERGYSTAR® est un label du gouvernement des USA qui valorise l’efficacité énergétique. Le gouvernement fournit des informations simples, crédibles et impartiales sur lesquels les consommateurs et les entreprises comptent pour prendre des décisions éclairées.\n",
    "\n",
    "L'ENERGYSTAR® SCORE d'un batiment est un score entre 0 et 100 qui est calculé à partir des divers caractéristiques du batiment et de ceux du même secteur d'activité au niveau national.\n",
    "\n",
    "Il indique si la consommation d'énergie du batiment est en moyenne par rapport aux autres batiments plus ou moins importante. Le score de 50 étant la moyenne.\n",
    "\n",
    "L'ENERGYSTAR® CERTIFICATION peut être ainsi demandé afin de recevoir une plaque valorisant le batiment.\n",
    "\n",
    "[Comment est calculé l'energie score de 1 à 100 ?](https://www.energystar.gov/buildings/facility-owners-and-managers/existing-buildings/use-portfolio-manager/understand-metrics/how-1-100) \n",
    "\n",
    "[Quelles sont les differentes catégories de batiments utilisés par l'energie score ?](https://energystar-mesa.force.com/PortfolioManager/s/article/What-source-data-CBECS-was-used-to-create-the-ENERGY-STAR-scores-1600088525387) (liste  non exhaustive)\n",
    "\n",
    "\n",
    "- Bank/financial institutions\n",
    "- Courthouses\n",
    "- Data centers\n",
    "- Hospitals (acute care and children’s)\n",
    "- Hotels\n",
    "- House of worship\n",
    "- K-12 schools\n",
    "- Medical offices\n",
    "- Municipal wastewater treatment plants\n",
    "- Offices\n",
    "- Residence halls/dormitories\n",
    "- Retail stores\n",
    "- Senior care facilities\n",
    "- Supermarkets\n",
    "- Warehouses"
   ]
  },
  {
   "cell_type": "markdown",
   "metadata": {},
   "source": [
    "**Hypothèse principale**   \n",
    "Est-il possible de prédire la consommation totale d'énergie d'un batiment à partir de ses caractéristiques ?"
   ]
  },
  {
   "cell_type": "markdown",
   "metadata": {},
   "source": [
    "**Hypothèses secondaires**   \n",
    "Est-il possible de prédire les émisssions de CO2 d'un batiment à partir de ses caractéristiques ?"
   ]
  },
  {
   "cell_type": "markdown",
   "metadata": {},
   "source": [
    "**Démarche de résolution**   \n",
    "Nous allons devoir résoudre des problèmes de Régression.   \n",
    "1) Nous allons analyser notre jeu de données pour determiner si certaines caractéristiques agissent sur la consommation totale du batiment et sur les émissions de C02.   \n",
    "2) Nous allons comparer divers algorithmes de régression afin de selectionner celui le plus performant.   \n",
    "3) Nous allons étudier la possiblité et réaliser si besoin un algorithme d'émissions de CO2 à partir de notre prédiction de la consommation totale."
   ]
  },
  {
   "cell_type": "markdown",
   "metadata": {},
   "source": [
    "**Jeu de données**   \n",
    "Nous allons travailler sur les caractéristiques des batiments non habités de la Ville de Seattle"
   ]
  },
  {
   "cell_type": "markdown",
   "metadata": {},
   "source": [
    "**Librairies**"
   ]
  },
  {
   "cell_type": "markdown",
   "metadata": {},
   "source": [
    "**Fonctions Helper**"
   ]
  },
  {
   "cell_type": "markdown",
   "metadata": {},
   "source": [
    "# 01 - Collecte des données\n",
    "***\n",
    "\n",
    "**Quelle source de données existe-t-il ?**  \n",
    "Il est demandé expressément d'utiliser les données provenant de [Kaggle](https://www.kaggle.com/city-of-seattle/sea-building-energy-benchmarking).   \n",
    "Il est possible de retrouver la source sur data.seattle.gov [2015](https://data.seattle.gov/dataset/2015-Building-Energy-Benchmarking/h7rm-fz6m) [2016](https://data.seattle.gov/dataset/2016-Building-Energy-Benchmarking/2bpz-gwpy)\n",
    "\n",
    "**Quelle est la réglementation sur la protection de ces données ?**   \n",
    "Aucune, le dataset est publique d'apres Kaggle.   \n",
    "Faible, d'après la [source officielle data.seattle.gov](https://data.seattle.gov/stories/s/Data-Policy/6ukr-wvup/)\n",
    "\n",
    "**Ou sont stockées les données ?**   \n",
    "Elles sont sur les serveurs distants publiques et sur notre ordinateur en sdd local\n",
    "\n",
    "**Quel est le type des données ?**   \n",
    "Structurée\n",
    "\n",
    "**Quelles sont les informations descriptives à disposition?**   \n",
    "Seattle’s Building Energy Benchmarking and Reporting Program (SMC 22.920) requires owners of non-residential and multifamily buildings (20,000 square feet or larger) to track energy performance and annually report to the City of Seattle. Buildings account for 33% of Seattle's core emissions. The benchmarking policy supports Seattle's goals to reduce energy use and greenhouse gas emissions from existing buildings. In 2013, the City of Seattle adopted a Climate Action Plan to achieve zero net greenhouse gas (GHG) emissions by 2050. Annual benchmarking, reporting and disclosing of building performance are foundational elements of creating more market value for energy efficiency.\n",
    "Per Ordinance (125000), starting with 2015 energy use performance reporting, the City of Seattle will make the data for all building 20,000 SF and larger available annually. This update to the benchmarking mandate was passed by Seattle City Council on February 29, 2016."
   ]
  },
  {
   "cell_type": "code",
   "execution_count": null,
   "metadata": {},
   "outputs": [],
   "source": []
  }
 ],
 "metadata": {
  "kernelspec": {
   "display_name": "Python 3",
   "language": "python",
   "name": "python3"
  },
  "language_info": {
   "codemirror_mode": {
    "name": "ipython",
    "version": 3
   },
   "file_extension": ".py",
   "mimetype": "text/x-python",
   "name": "python",
   "nbconvert_exporter": "python",
   "pygments_lexer": "ipython3",
   "version": "3.8.3"
  }
 },
 "nbformat": 4,
 "nbformat_minor": 4
}
